{
 "cells": [
  {
   "cell_type": "code",
   "execution_count": 23,
   "id": "90452ac6",
   "metadata": {},
   "outputs": [],
   "source": [
    "import pandas as pd\n",
    "import numpy as np\n",
    "import matplotlib.pyplot as plt"
   ]
  },
  {
   "cell_type": "code",
   "execution_count": 24,
   "id": "5d5d45b4",
   "metadata": {},
   "outputs": [
    {
     "name": "stderr",
     "output_type": "stream",
     "text": [
      "/var/folders/wg/8_pdnpf51ys7nljv71s3c5jw0000gn/T/ipykernel_10992/2536031708.py:1: DtypeWarning: Columns (36,37,39,43) have mixed types. Specify dtype option on import or set low_memory=False.\n",
      "  df_newyork_flights = pd.read_csv('/Users/rezanaiman/Desktop/Fall 2024/Stat captson/ICR project/final_merged_2024.csv')\n"
     ]
    }
   ],
   "source": [
    "df_newyork_flights = pd.read_csv('/Users/rezanaiman/Desktop/Fall 2024/Stat captson/ICR project/final_merged_2024.csv')"
   ]
  },
  {
   "cell_type": "code",
   "execution_count": 25,
   "id": "8f11b404",
   "metadata": {},
   "outputs": [
    {
     "data": {
      "text/html": [
       "<div>\n",
       "<style scoped>\n",
       "    .dataframe tbody tr th:only-of-type {\n",
       "        vertical-align: middle;\n",
       "    }\n",
       "\n",
       "    .dataframe tbody tr th {\n",
       "        vertical-align: top;\n",
       "    }\n",
       "\n",
       "    .dataframe thead th {\n",
       "        text-align: right;\n",
       "    }\n",
       "</style>\n",
       "<table border=\"1\" class=\"dataframe\">\n",
       "  <thead>\n",
       "    <tr style=\"text-align: right;\">\n",
       "      <th></th>\n",
       "      <th>YEAR</th>\n",
       "      <th>QUARTER</th>\n",
       "      <th>MONTH</th>\n",
       "      <th>DAY_OF_MONTH</th>\n",
       "      <th>DAY_OF_WEEK</th>\n",
       "      <th>FL_DATE</th>\n",
       "      <th>OP_UNIQUE_CARRIER</th>\n",
       "      <th>OP_CARRIER_AIRLINE_ID</th>\n",
       "      <th>TAIL_NUM</th>\n",
       "      <th>OP_CARRIER_FL_NUM</th>\n",
       "      <th>...</th>\n",
       "      <th>skyl3</th>\n",
       "      <th>skyl4</th>\n",
       "      <th>wxcodes</th>\n",
       "      <th>peak_wind_gust</th>\n",
       "      <th>peak_wind_drct</th>\n",
       "      <th>peak_wind_time</th>\n",
       "      <th>feel</th>\n",
       "      <th>metar</th>\n",
       "      <th>snowdepth</th>\n",
       "      <th>rounded_valid</th>\n",
       "    </tr>\n",
       "  </thead>\n",
       "  <tbody>\n",
       "    <tr>\n",
       "      <th>0</th>\n",
       "      <td>2024</td>\n",
       "      <td>1</td>\n",
       "      <td>1</td>\n",
       "      <td>1</td>\n",
       "      <td>1</td>\n",
       "      <td>1/1/2024 12:00:00 AM</td>\n",
       "      <td>9E</td>\n",
       "      <td>20363</td>\n",
       "      <td>N133EV</td>\n",
       "      <td>5284</td>\n",
       "      <td>...</td>\n",
       "      <td>13000.00</td>\n",
       "      <td>M</td>\n",
       "      <td>M</td>\n",
       "      <td>M</td>\n",
       "      <td>M</td>\n",
       "      <td>M</td>\n",
       "      <td>43.55</td>\n",
       "      <td>KLGA 011751Z 30003KT 10SM FEW030 BKN070 BKN130...</td>\n",
       "      <td>M</td>\n",
       "      <td>2024-01-01 18:00:00</td>\n",
       "    </tr>\n",
       "    <tr>\n",
       "      <th>1</th>\n",
       "      <td>2024</td>\n",
       "      <td>1</td>\n",
       "      <td>1</td>\n",
       "      <td>1</td>\n",
       "      <td>1</td>\n",
       "      <td>1/1/2024 12:00:00 AM</td>\n",
       "      <td>9E</td>\n",
       "      <td>20363</td>\n",
       "      <td>N133EV</td>\n",
       "      <td>5341</td>\n",
       "      <td>...</td>\n",
       "      <td>NaN</td>\n",
       "      <td>NaN</td>\n",
       "      <td>NaN</td>\n",
       "      <td>NaN</td>\n",
       "      <td>NaN</td>\n",
       "      <td>NaN</td>\n",
       "      <td>NaN</td>\n",
       "      <td>NaN</td>\n",
       "      <td>NaN</td>\n",
       "      <td>NaN</td>\n",
       "    </tr>\n",
       "    <tr>\n",
       "      <th>2</th>\n",
       "      <td>2024</td>\n",
       "      <td>1</td>\n",
       "      <td>1</td>\n",
       "      <td>1</td>\n",
       "      <td>1</td>\n",
       "      <td>1/1/2024 12:00:00 AM</td>\n",
       "      <td>9E</td>\n",
       "      <td>20363</td>\n",
       "      <td>N133EV</td>\n",
       "      <td>5390</td>\n",
       "      <td>...</td>\n",
       "      <td>NaN</td>\n",
       "      <td>NaN</td>\n",
       "      <td>NaN</td>\n",
       "      <td>NaN</td>\n",
       "      <td>NaN</td>\n",
       "      <td>NaN</td>\n",
       "      <td>NaN</td>\n",
       "      <td>NaN</td>\n",
       "      <td>NaN</td>\n",
       "      <td>NaN</td>\n",
       "    </tr>\n",
       "    <tr>\n",
       "      <th>3</th>\n",
       "      <td>2024</td>\n",
       "      <td>1</td>\n",
       "      <td>1</td>\n",
       "      <td>1</td>\n",
       "      <td>1</td>\n",
       "      <td>1/1/2024 12:00:00 AM</td>\n",
       "      <td>9E</td>\n",
       "      <td>20363</td>\n",
       "      <td>N133EV</td>\n",
       "      <td>5390</td>\n",
       "      <td>...</td>\n",
       "      <td>M</td>\n",
       "      <td>M</td>\n",
       "      <td>M</td>\n",
       "      <td>M</td>\n",
       "      <td>M</td>\n",
       "      <td>M</td>\n",
       "      <td>36.97</td>\n",
       "      <td>KLGA 011051Z 29007KT 10SM BKN035 OVC060 06/M01...</td>\n",
       "      <td>M</td>\n",
       "      <td>2024-01-01 11:00:00</td>\n",
       "    </tr>\n",
       "    <tr>\n",
       "      <th>4</th>\n",
       "      <td>2024</td>\n",
       "      <td>1</td>\n",
       "      <td>1</td>\n",
       "      <td>1</td>\n",
       "      <td>1</td>\n",
       "      <td>1/1/2024 12:00:00 AM</td>\n",
       "      <td>9E</td>\n",
       "      <td>20363</td>\n",
       "      <td>N133EV</td>\n",
       "      <td>5390</td>\n",
       "      <td>...</td>\n",
       "      <td>M</td>\n",
       "      <td>M</td>\n",
       "      <td>-RA</td>\n",
       "      <td>M</td>\n",
       "      <td>M</td>\n",
       "      <td>M</td>\n",
       "      <td>38.27</td>\n",
       "      <td>KLGA 011113Z 29005KT 10SM -RA OVC029 06/M01 A3...</td>\n",
       "      <td>M</td>\n",
       "      <td>2024-01-01 11:00:00</td>\n",
       "    </tr>\n",
       "  </tbody>\n",
       "</table>\n",
       "<p>5 rows × 61 columns</p>\n",
       "</div>"
      ],
      "text/plain": [
       "   YEAR  QUARTER  MONTH  DAY_OF_MONTH  DAY_OF_WEEK               FL_DATE  \\\n",
       "0  2024        1      1             1            1  1/1/2024 12:00:00 AM   \n",
       "1  2024        1      1             1            1  1/1/2024 12:00:00 AM   \n",
       "2  2024        1      1             1            1  1/1/2024 12:00:00 AM   \n",
       "3  2024        1      1             1            1  1/1/2024 12:00:00 AM   \n",
       "4  2024        1      1             1            1  1/1/2024 12:00:00 AM   \n",
       "\n",
       "  OP_UNIQUE_CARRIER  OP_CARRIER_AIRLINE_ID TAIL_NUM  OP_CARRIER_FL_NUM  ...  \\\n",
       "0                9E                  20363   N133EV               5284  ...   \n",
       "1                9E                  20363   N133EV               5341  ...   \n",
       "2                9E                  20363   N133EV               5390  ...   \n",
       "3                9E                  20363   N133EV               5390  ...   \n",
       "4                9E                  20363   N133EV               5390  ...   \n",
       "\n",
       "      skyl3  skyl4 wxcodes peak_wind_gust  peak_wind_drct  peak_wind_time  \\\n",
       "0  13000.00      M       M              M               M               M   \n",
       "1       NaN    NaN     NaN            NaN             NaN             NaN   \n",
       "2       NaN    NaN     NaN            NaN             NaN             NaN   \n",
       "3         M      M       M              M               M               M   \n",
       "4         M      M     -RA              M               M               M   \n",
       "\n",
       "    feel                                              metar  snowdepth  \\\n",
       "0  43.55  KLGA 011751Z 30003KT 10SM FEW030 BKN070 BKN130...          M   \n",
       "1    NaN                                                NaN        NaN   \n",
       "2    NaN                                                NaN        NaN   \n",
       "3  36.97  KLGA 011051Z 29007KT 10SM BKN035 OVC060 06/M01...          M   \n",
       "4  38.27  KLGA 011113Z 29005KT 10SM -RA OVC029 06/M01 A3...          M   \n",
       "\n",
       "         rounded_valid  \n",
       "0  2024-01-01 18:00:00  \n",
       "1                  NaN  \n",
       "2                  NaN  \n",
       "3  2024-01-01 11:00:00  \n",
       "4  2024-01-01 11:00:00  \n",
       "\n",
       "[5 rows x 61 columns]"
      ]
     },
     "execution_count": 25,
     "metadata": {},
     "output_type": "execute_result"
    }
   ],
   "source": [
    "df_newyork_flights.head()"
   ]
  },
  {
   "cell_type": "code",
   "execution_count": 26,
   "id": "4ee8f3be",
   "metadata": {},
   "outputs": [
    {
     "name": "stdout",
     "output_type": "stream",
     "text": [
      "<class 'pandas.core.frame.DataFrame'>\n",
      "RangeIndex: 63773 entries, 0 to 63772\n",
      "Data columns (total 61 columns):\n",
      " #   Column                 Non-Null Count  Dtype  \n",
      "---  ------                 --------------  -----  \n",
      " 0   YEAR                   63773 non-null  int64  \n",
      " 1   QUARTER                63773 non-null  int64  \n",
      " 2   MONTH                  63773 non-null  int64  \n",
      " 3   DAY_OF_MONTH           63773 non-null  int64  \n",
      " 4   DAY_OF_WEEK            63773 non-null  int64  \n",
      " 5   FL_DATE                63773 non-null  object \n",
      " 6   OP_UNIQUE_CARRIER      63773 non-null  object \n",
      " 7   OP_CARRIER_AIRLINE_ID  63773 non-null  int64  \n",
      " 8   TAIL_NUM               63576 non-null  object \n",
      " 9   OP_CARRIER_FL_NUM      63773 non-null  int64  \n",
      " 10  ORIGIN_AIRPORT_ID      63773 non-null  int64  \n",
      " 11  ORIGIN_CITY_MARKET_ID  63773 non-null  int64  \n",
      " 12  ORIGIN                 63773 non-null  object \n",
      " 13  ORIGIN_STATE_ABR       63773 non-null  object \n",
      " 14  DEST_AIRPORT_ID        63773 non-null  int64  \n",
      " 15  DEST_CITY_MARKET_ID    63773 non-null  int64  \n",
      " 16  DEST                   63773 non-null  object \n",
      " 17  DEST_STATE_ABR         63773 non-null  object \n",
      " 18  CRS_DEP_TIME           63773 non-null  int64  \n",
      " 19  DEP_TIME               60741 non-null  float64\n",
      " 20  DEP_DELAY              60739 non-null  float64\n",
      " 21  DEP_DELAY_NEW          60739 non-null  float64\n",
      " 22  DEP_TIME_BLK           63773 non-null  object \n",
      " 23  CRS_ARR_TIME           63773 non-null  int64  \n",
      " 24  ARR_DELAY              60463 non-null  float64\n",
      " 25  ARR_DELAY_NEW          60463 non-null  float64\n",
      " 26  ARR_TIME_BLK           63773 non-null  object \n",
      " 27  CANCELLED              63773 non-null  float64\n",
      " 28  CRS_ELAPSED_TIME       63773 non-null  float64\n",
      " 29  DISTANCE               63773 non-null  float64\n",
      " 30  WEATHER_DELAY          14914 non-null  float64\n",
      " 31  departure_datetime     63773 non-null  object \n",
      " 32  rounded_departure      63773 non-null  object \n",
      " 33  station                36947 non-null  object \n",
      " 34  valid                  36947 non-null  object \n",
      " 35  tmpf                   36947 non-null  float64\n",
      " 36  dwpf                   36947 non-null  object \n",
      " 37  relh                   36947 non-null  object \n",
      " 38  drct                   36947 non-null  object \n",
      " 39  sknt                   36947 non-null  object \n",
      " 40  p01i                   36947 non-null  object \n",
      " 41  alti                   36947 non-null  float64\n",
      " 42  mslp                   36947 non-null  object \n",
      " 43  vsby                   36947 non-null  object \n",
      " 44  gust                   36947 non-null  object \n",
      " 45  skyc1                  36947 non-null  object \n",
      " 46  skyc2                  36947 non-null  object \n",
      " 47  skyc3                  36947 non-null  object \n",
      " 48  skyc4                  36947 non-null  object \n",
      " 49  skyl1                  36947 non-null  object \n",
      " 50  skyl2                  36947 non-null  object \n",
      " 51  skyl3                  36947 non-null  object \n",
      " 52  skyl4                  36947 non-null  object \n",
      " 53  wxcodes                36947 non-null  object \n",
      " 54  peak_wind_gust         36947 non-null  object \n",
      " 55  peak_wind_drct         36947 non-null  object \n",
      " 56  peak_wind_time         36947 non-null  object \n",
      " 57  feel                   36947 non-null  object \n",
      " 58  metar                  36947 non-null  object \n",
      " 59  snowdepth              36947 non-null  object \n",
      " 60  rounded_valid          36947 non-null  object \n",
      "dtypes: float64(11), int64(13), object(37)\n",
      "memory usage: 29.7+ MB\n"
     ]
    }
   ],
   "source": [
    "df_newyork_flights.info()"
   ]
  },
  {
   "cell_type": "code",
   "execution_count": 27,
   "id": "6eb31e02",
   "metadata": {},
   "outputs": [
    {
     "name": "stdout",
     "output_type": "stream",
     "text": [
      "<class 'pandas.core.series.Series'>\n",
      "Index: 61 entries, YEAR to rounded_valid\n",
      "Series name: 39648\n",
      "Non-Null Count  Dtype \n",
      "--------------  ----- \n",
      "33 non-null     object\n",
      "dtypes: object(1)\n",
      "memory usage: 3.0+ KB\n"
     ]
    }
   ],
   "source": [
    "df_newyork_flights.iloc[39648].info() #looking at the 39648 observation"
   ]
  },
  {
   "cell_type": "code",
   "execution_count": 28,
   "id": "5fbb89c2",
   "metadata": {},
   "outputs": [
    {
     "name": "stdout",
     "output_type": "stream",
     "text": [
      "<class 'pandas.core.series.Series'>\n",
      "Index: 61 entries, YEAR to rounded_valid\n",
      "Series name: 39647\n",
      "Non-Null Count  Dtype \n",
      "--------------  ----- \n",
      "33 non-null     object\n",
      "dtypes: object(1)\n",
      "memory usage: 3.0+ KB\n"
     ]
    }
   ],
   "source": [
    "df_newyork_flights.iloc[39647].info()#looking at the 39647 observation"
   ]
  },
  {
   "cell_type": "code",
   "execution_count": 29,
   "id": "1cc84c9b",
   "metadata": {},
   "outputs": [
    {
     "data": {
      "text/plain": [
       "YEAR              2024\n",
       "QUARTER              1\n",
       "MONTH                1\n",
       "DAY_OF_MONTH        21\n",
       "DAY_OF_WEEK          7\n",
       "                  ... \n",
       "peak_wind_time     NaN\n",
       "feel               NaN\n",
       "metar              NaN\n",
       "snowdepth          NaN\n",
       "rounded_valid      NaN\n",
       "Name: 39645, Length: 61, dtype: object"
      ]
     },
     "execution_count": 29,
     "metadata": {},
     "output_type": "execute_result"
    }
   ],
   "source": [
    "df_newyork_flights.iloc[39645]#looking at the 39645 observation"
   ]
  },
  {
   "cell_type": "markdown",
   "id": "fcf18d7d",
   "metadata": {},
   "source": [
    "There are a lot of missing or na values, so we will have to remove those observations that contains na or missing values."
   ]
  },
  {
   "cell_type": "code",
   "execution_count": 30,
   "id": "372032f8",
   "metadata": {},
   "outputs": [],
   "source": [
    "df_newyork_flights = df_newyork_flights.dropna() #dropping na values"
   ]
  },
  {
   "cell_type": "code",
   "execution_count": 31,
   "id": "c443f845",
   "metadata": {
    "scrolled": true
   },
   "outputs": [
    {
     "name": "stdout",
     "output_type": "stream",
     "text": [
      "<class 'pandas.core.frame.DataFrame'>\n",
      "Int64Index: 8862 entries, 90 to 63757\n",
      "Data columns (total 61 columns):\n",
      " #   Column                 Non-Null Count  Dtype  \n",
      "---  ------                 --------------  -----  \n",
      " 0   YEAR                   8862 non-null   int64  \n",
      " 1   QUARTER                8862 non-null   int64  \n",
      " 2   MONTH                  8862 non-null   int64  \n",
      " 3   DAY_OF_MONTH           8862 non-null   int64  \n",
      " 4   DAY_OF_WEEK            8862 non-null   int64  \n",
      " 5   FL_DATE                8862 non-null   object \n",
      " 6   OP_UNIQUE_CARRIER      8862 non-null   object \n",
      " 7   OP_CARRIER_AIRLINE_ID  8862 non-null   int64  \n",
      " 8   TAIL_NUM               8862 non-null   object \n",
      " 9   OP_CARRIER_FL_NUM      8862 non-null   int64  \n",
      " 10  ORIGIN_AIRPORT_ID      8862 non-null   int64  \n",
      " 11  ORIGIN_CITY_MARKET_ID  8862 non-null   int64  \n",
      " 12  ORIGIN                 8862 non-null   object \n",
      " 13  ORIGIN_STATE_ABR       8862 non-null   object \n",
      " 14  DEST_AIRPORT_ID        8862 non-null   int64  \n",
      " 15  DEST_CITY_MARKET_ID    8862 non-null   int64  \n",
      " 16  DEST                   8862 non-null   object \n",
      " 17  DEST_STATE_ABR         8862 non-null   object \n",
      " 18  CRS_DEP_TIME           8862 non-null   int64  \n",
      " 19  DEP_TIME               8862 non-null   float64\n",
      " 20  DEP_DELAY              8862 non-null   float64\n",
      " 21  DEP_DELAY_NEW          8862 non-null   float64\n",
      " 22  DEP_TIME_BLK           8862 non-null   object \n",
      " 23  CRS_ARR_TIME           8862 non-null   int64  \n",
      " 24  ARR_DELAY              8862 non-null   float64\n",
      " 25  ARR_DELAY_NEW          8862 non-null   float64\n",
      " 26  ARR_TIME_BLK           8862 non-null   object \n",
      " 27  CANCELLED              8862 non-null   float64\n",
      " 28  CRS_ELAPSED_TIME       8862 non-null   float64\n",
      " 29  DISTANCE               8862 non-null   float64\n",
      " 30  WEATHER_DELAY          8862 non-null   float64\n",
      " 31  departure_datetime     8862 non-null   object \n",
      " 32  rounded_departure      8862 non-null   object \n",
      " 33  station                8862 non-null   object \n",
      " 34  valid                  8862 non-null   object \n",
      " 35  tmpf                   8862 non-null   float64\n",
      " 36  dwpf                   8862 non-null   object \n",
      " 37  relh                   8862 non-null   object \n",
      " 38  drct                   8862 non-null   object \n",
      " 39  sknt                   8862 non-null   object \n",
      " 40  p01i                   8862 non-null   object \n",
      " 41  alti                   8862 non-null   float64\n",
      " 42  mslp                   8862 non-null   object \n",
      " 43  vsby                   8862 non-null   object \n",
      " 44  gust                   8862 non-null   object \n",
      " 45  skyc1                  8862 non-null   object \n",
      " 46  skyc2                  8862 non-null   object \n",
      " 47  skyc3                  8862 non-null   object \n",
      " 48  skyc4                  8862 non-null   object \n",
      " 49  skyl1                  8862 non-null   object \n",
      " 50  skyl2                  8862 non-null   object \n",
      " 51  skyl3                  8862 non-null   object \n",
      " 52  skyl4                  8862 non-null   object \n",
      " 53  wxcodes                8862 non-null   object \n",
      " 54  peak_wind_gust         8862 non-null   object \n",
      " 55  peak_wind_drct         8862 non-null   object \n",
      " 56  peak_wind_time         8862 non-null   object \n",
      " 57  feel                   8862 non-null   object \n",
      " 58  metar                  8862 non-null   object \n",
      " 59  snowdepth              8862 non-null   object \n",
      " 60  rounded_valid          8862 non-null   object \n",
      "dtypes: float64(11), int64(13), object(37)\n",
      "memory usage: 4.2+ MB\n"
     ]
    }
   ],
   "source": [
    "df_newyork_flights.info()\n"
   ]
  },
  {
   "cell_type": "code",
   "execution_count": 32,
   "id": "65689785",
   "metadata": {},
   "outputs": [
    {
     "data": {
      "text/plain": [
       "(8862, 61)"
      ]
     },
     "execution_count": 32,
     "metadata": {},
     "output_type": "execute_result"
    }
   ],
   "source": [
    "df_newyork_flights.shape"
   ]
  },
  {
   "cell_type": "markdown",
   "id": "747828f2",
   "metadata": {},
   "source": [
    "After dropping the na values, now we are left 8862 observations."
   ]
  },
  {
   "cell_type": "code",
   "execution_count": null,
   "id": "4f10f69e",
   "metadata": {},
   "outputs": [],
   "source": []
  }
 ],
 "metadata": {
  "kernelspec": {
   "display_name": "Python 3 (ipykernel)",
   "language": "python",
   "name": "python3"
  },
  "language_info": {
   "codemirror_mode": {
    "name": "ipython",
    "version": 3
   },
   "file_extension": ".py",
   "mimetype": "text/x-python",
   "name": "python",
   "nbconvert_exporter": "python",
   "pygments_lexer": "ipython3",
   "version": "3.9.13"
  }
 },
 "nbformat": 4,
 "nbformat_minor": 5
}
