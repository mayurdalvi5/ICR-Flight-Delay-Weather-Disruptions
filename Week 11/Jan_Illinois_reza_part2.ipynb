{
 "cells": [
  {
   "cell_type": "markdown",
   "id": "cc1dca73",
   "metadata": {},
   "source": [
    "In my other notebook the decision tree did not perform well due to imbalanced data set. I will use the SMOTE technique to address this issue and see if it improves the perfromance. \n",
    "\n",
    "https://www.youtube.com/watch?v=GR-OW5asKlk&t=392s&ab_channel=EmmaDing"
   ]
  },
  {
   "cell_type": "code",
   "execution_count": 1,
   "id": "b5f40a41",
   "metadata": {},
   "outputs": [],
   "source": [
    "import pandas as pd\n",
    "import numpy as np\n",
    "import matplotlib.pyplot as plt\n",
    "import seaborn as sns"
   ]
  },
  {
   "cell_type": "code",
   "execution_count": 2,
   "id": "4b324c65",
   "metadata": {},
   "outputs": [],
   "source": [
    "df = pd.read_csv(\"C:/Users/rezan/OneDrive/Documents/Fall 2024/Capstone/Illinois_10_years_data.csv\")"
   ]
  },
  {
   "cell_type": "code",
   "execution_count": 3,
   "id": "fe9a392c",
   "metadata": {},
   "outputs": [],
   "source": [
    "df.dropna(inplace= True)"
   ]
  },
  {
   "cell_type": "code",
   "execution_count": 4,
   "id": "74785ed0",
   "metadata": {},
   "outputs": [],
   "source": [
    "int_columns = [\n",
    "    'Year', \n",
    "    'Quarter', \n",
    "    'Month', \n",
    "    'Day_of_Month', \n",
    "    'Day_of_Week', \n",
    "    'Scheduled_Departure_Time', \n",
    "    'Scheduled_Departure_Time_Minutes',\n",
    "    'Target'\n",
    "]\n",
    "\n",
    "for col in int_columns:\n",
    "    df[col] = df[col].astype(np.int32)\n",
    "\n",
    "# Convert continuous numeric features to float32\n",
    "float_columns = [\n",
    "    'Departure_Delay_Minutes',\n",
    "    'Taxi_Out_Time_Minutes',\n",
    "    'Flight_Distance_Miles',\n",
    "    'Air_Temperature_Fahrenheit',\n",
    "    'Dew_Point_Temperature_Fahrenheit',\n",
    "    'Relative_Humidity_Percent',\n",
    "    'Wind_Direction_Degrees',\n",
    "    'Wind_Speed_Knots',\n",
    "    'Hourly_Precipitation_Inches',\n",
    "    'Pressure_Altimeter_Inches',\n",
    "    'Sea_Level_Pressure_Millibar',\n",
    "    'Visibility_Miles',\n",
    "    'Sky_Level_1_Altitude_Feet',\n",
    "    'Apparent_Temperature_Fahrenheit',\n",
    "    \n",
    "]\n",
    "\n",
    "for col in float_columns:\n",
    "    df[col] = df[col].astype(np.float32)\n",
    "\n",
    "# Convert categorical features to 'category' dtype\n",
    "categorical_columns = [\n",
    "    'Operating_Carrier_Code',\n",
    "    'Tail_Number',\n",
    "    'Origin_Airport_ID',\n",
    "    'Origin_Airport_Code',\n",
    "    'Origin_State_Name',\n",
    "    'Destination_Airport_Code',\n",
    "    'Destination_State_Name',\n",
    "    'Sky_Cover_Level_1'\n",
    "]\n",
    "\n",
    "for col in categorical_columns:\n",
    "    df[col] = df[col].astype('category')"
   ]
  },
  {
   "cell_type": "code",
   "execution_count": 5,
   "id": "23fe2322",
   "metadata": {},
   "outputs": [],
   "source": [
    "df = df.drop([ 'Origin_State_Name','Departure_Datetime','Departure_Delay_Minutes'], axis=1)"
   ]
  },
  {
   "cell_type": "code",
   "execution_count": 6,
   "id": "d14480c2",
   "metadata": {},
   "outputs": [
    {
     "data": {
      "text/html": [
       "<div>\n",
       "<style scoped>\n",
       "    .dataframe tbody tr th:only-of-type {\n",
       "        vertical-align: middle;\n",
       "    }\n",
       "\n",
       "    .dataframe tbody tr th {\n",
       "        vertical-align: top;\n",
       "    }\n",
       "\n",
       "    .dataframe thead th {\n",
       "        text-align: right;\n",
       "    }\n",
       "</style>\n",
       "<table border=\"1\" class=\"dataframe\">\n",
       "  <thead>\n",
       "    <tr style=\"text-align: right;\">\n",
       "      <th></th>\n",
       "      <th>Year</th>\n",
       "      <th>Quarter</th>\n",
       "      <th>Month</th>\n",
       "      <th>Day_of_Month</th>\n",
       "      <th>Day_of_Week</th>\n",
       "      <th>Operating_Carrier_Code</th>\n",
       "      <th>Tail_Number</th>\n",
       "      <th>Origin_Airport_ID</th>\n",
       "      <th>Origin_Airport_Code</th>\n",
       "      <th>Destination_Airport_Code</th>\n",
       "      <th>...</th>\n",
       "      <th>Wind_Direction_Degrees</th>\n",
       "      <th>Wind_Speed_Knots</th>\n",
       "      <th>Hourly_Precipitation_Inches</th>\n",
       "      <th>Pressure_Altimeter_Inches</th>\n",
       "      <th>Sea_Level_Pressure_Millibar</th>\n",
       "      <th>Visibility_Miles</th>\n",
       "      <th>Sky_Cover_Level_1</th>\n",
       "      <th>Sky_Level_1_Altitude_Feet</th>\n",
       "      <th>Apparent_Temperature_Fahrenheit</th>\n",
       "      <th>Target</th>\n",
       "    </tr>\n",
       "  </thead>\n",
       "  <tbody>\n",
       "    <tr>\n",
       "      <th>0</th>\n",
       "      <td>2014</td>\n",
       "      <td>2</td>\n",
       "      <td>4</td>\n",
       "      <td>1</td>\n",
       "      <td>2</td>\n",
       "      <td>AA</td>\n",
       "      <td>N359AA</td>\n",
       "      <td>13930.0</td>\n",
       "      <td>ORD</td>\n",
       "      <td>DFW</td>\n",
       "      <td>...</td>\n",
       "      <td>260.0</td>\n",
       "      <td>15.0</td>\n",
       "      <td>0.0</td>\n",
       "      <td>30.0</td>\n",
       "      <td>1014.200012</td>\n",
       "      <td>10.0</td>\n",
       "      <td>SCT</td>\n",
       "      <td>22000.0</td>\n",
       "      <td>40.279999</td>\n",
       "      <td>0</td>\n",
       "    </tr>\n",
       "    <tr>\n",
       "      <th>1</th>\n",
       "      <td>2014</td>\n",
       "      <td>2</td>\n",
       "      <td>4</td>\n",
       "      <td>1</td>\n",
       "      <td>2</td>\n",
       "      <td>AA</td>\n",
       "      <td>N3ADAA</td>\n",
       "      <td>13930.0</td>\n",
       "      <td>ORD</td>\n",
       "      <td>LAS</td>\n",
       "      <td>...</td>\n",
       "      <td>260.0</td>\n",
       "      <td>24.0</td>\n",
       "      <td>0.0</td>\n",
       "      <td>30.0</td>\n",
       "      <td>1008.900024</td>\n",
       "      <td>10.0</td>\n",
       "      <td>SCT</td>\n",
       "      <td>2800.0</td>\n",
       "      <td>20.440001</td>\n",
       "      <td>0</td>\n",
       "    </tr>\n",
       "    <tr>\n",
       "      <th>2</th>\n",
       "      <td>2014</td>\n",
       "      <td>2</td>\n",
       "      <td>4</td>\n",
       "      <td>1</td>\n",
       "      <td>2</td>\n",
       "      <td>AA</td>\n",
       "      <td>N3AKAA</td>\n",
       "      <td>13930.0</td>\n",
       "      <td>ORD</td>\n",
       "      <td>MIA</td>\n",
       "      <td>...</td>\n",
       "      <td>220.0</td>\n",
       "      <td>15.0</td>\n",
       "      <td>0.0</td>\n",
       "      <td>30.0</td>\n",
       "      <td>1004.200012</td>\n",
       "      <td>10.0</td>\n",
       "      <td>SCT</td>\n",
       "      <td>4300.0</td>\n",
       "      <td>55.040001</td>\n",
       "      <td>0</td>\n",
       "    </tr>\n",
       "    <tr>\n",
       "      <th>3</th>\n",
       "      <td>2014</td>\n",
       "      <td>2</td>\n",
       "      <td>4</td>\n",
       "      <td>1</td>\n",
       "      <td>2</td>\n",
       "      <td>AA</td>\n",
       "      <td>N3AKAA</td>\n",
       "      <td>13930.0</td>\n",
       "      <td>ORD</td>\n",
       "      <td>SEA</td>\n",
       "      <td>...</td>\n",
       "      <td>250.0</td>\n",
       "      <td>20.0</td>\n",
       "      <td>0.0</td>\n",
       "      <td>30.0</td>\n",
       "      <td>1011.500000</td>\n",
       "      <td>10.0</td>\n",
       "      <td>OVC</td>\n",
       "      <td>2600.0</td>\n",
       "      <td>21.740000</td>\n",
       "      <td>0</td>\n",
       "    </tr>\n",
       "    <tr>\n",
       "      <th>4</th>\n",
       "      <td>2014</td>\n",
       "      <td>2</td>\n",
       "      <td>4</td>\n",
       "      <td>1</td>\n",
       "      <td>2</td>\n",
       "      <td>AA</td>\n",
       "      <td>N3ANAA</td>\n",
       "      <td>13930.0</td>\n",
       "      <td>ORD</td>\n",
       "      <td>LAX</td>\n",
       "      <td>...</td>\n",
       "      <td>220.0</td>\n",
       "      <td>15.0</td>\n",
       "      <td>0.0</td>\n",
       "      <td>30.0</td>\n",
       "      <td>1004.200012</td>\n",
       "      <td>10.0</td>\n",
       "      <td>CLR</td>\n",
       "      <td>4700.0</td>\n",
       "      <td>55.259998</td>\n",
       "      <td>0</td>\n",
       "    </tr>\n",
       "  </tbody>\n",
       "</table>\n",
       "<p>5 rows × 28 columns</p>\n",
       "</div>"
      ],
      "text/plain": [
       "   Year  Quarter  Month  Day_of_Month  Day_of_Week Operating_Carrier_Code  \\\n",
       "0  2014        2      4             1            2                     AA   \n",
       "1  2014        2      4             1            2                     AA   \n",
       "2  2014        2      4             1            2                     AA   \n",
       "3  2014        2      4             1            2                     AA   \n",
       "4  2014        2      4             1            2                     AA   \n",
       "\n",
       "  Tail_Number Origin_Airport_ID Origin_Airport_Code Destination_Airport_Code  \\\n",
       "0      N359AA           13930.0                 ORD                      DFW   \n",
       "1      N3ADAA           13930.0                 ORD                      LAS   \n",
       "2      N3AKAA           13930.0                 ORD                      MIA   \n",
       "3      N3AKAA           13930.0                 ORD                      SEA   \n",
       "4      N3ANAA           13930.0                 ORD                      LAX   \n",
       "\n",
       "   ... Wind_Direction_Degrees  Wind_Speed_Knots  Hourly_Precipitation_Inches  \\\n",
       "0  ...                  260.0              15.0                          0.0   \n",
       "1  ...                  260.0              24.0                          0.0   \n",
       "2  ...                  220.0              15.0                          0.0   \n",
       "3  ...                  250.0              20.0                          0.0   \n",
       "4  ...                  220.0              15.0                          0.0   \n",
       "\n",
       "   Pressure_Altimeter_Inches  Sea_Level_Pressure_Millibar  Visibility_Miles  \\\n",
       "0                       30.0                  1014.200012              10.0   \n",
       "1                       30.0                  1008.900024              10.0   \n",
       "2                       30.0                  1004.200012              10.0   \n",
       "3                       30.0                  1011.500000              10.0   \n",
       "4                       30.0                  1004.200012              10.0   \n",
       "\n",
       "   Sky_Cover_Level_1  Sky_Level_1_Altitude_Feet  \\\n",
       "0                SCT                    22000.0   \n",
       "1                SCT                     2800.0   \n",
       "2                SCT                     4300.0   \n",
       "3                OVC                     2600.0   \n",
       "4                CLR                     4700.0   \n",
       "\n",
       "   Apparent_Temperature_Fahrenheit  Target  \n",
       "0                        40.279999       0  \n",
       "1                        20.440001       0  \n",
       "2                        55.040001       0  \n",
       "3                        21.740000       0  \n",
       "4                        55.259998       0  \n",
       "\n",
       "[5 rows x 28 columns]"
      ]
     },
     "execution_count": 6,
     "metadata": {},
     "output_type": "execute_result"
    }
   ],
   "source": [
    "df_without_categorical = df\n",
    "df_without_categorical.head()"
   ]
  },
  {
   "cell_type": "code",
   "execution_count": 7,
   "id": "c021d2c5",
   "metadata": {},
   "outputs": [],
   "source": [
    "df_without_categorical = df_without_categorical.drop(columns=df_without_categorical.select_dtypes(include=['category']).columns)"
   ]
  },
  {
   "cell_type": "code",
   "execution_count": 8,
   "id": "cba2eaf5",
   "metadata": {},
   "outputs": [
    {
     "name": "stdout",
     "output_type": "stream",
     "text": [
      "<class 'pandas.core.frame.DataFrame'>\n",
      "RangeIndex: 2969937 entries, 0 to 2969936\n",
      "Data columns (total 21 columns):\n",
      " #   Column                            Dtype  \n",
      "---  ------                            -----  \n",
      " 0   Year                              int32  \n",
      " 1   Quarter                           int32  \n",
      " 2   Month                             int32  \n",
      " 3   Day_of_Month                      int32  \n",
      " 4   Day_of_Week                       int32  \n",
      " 5   Scheduled_Departure_Time          int32  \n",
      " 6   Taxi_Out_Time_Minutes             float32\n",
      " 7   Flight_Distance_Miles             float32\n",
      " 8   Scheduled_Departure_Time_Minutes  int32  \n",
      " 9   Air_Temperature_Fahrenheit        float32\n",
      " 10  Dew_Point_Temperature_Fahrenheit  float32\n",
      " 11  Relative_Humidity_Percent         float32\n",
      " 12  Wind_Direction_Degrees            float32\n",
      " 13  Wind_Speed_Knots                  float32\n",
      " 14  Hourly_Precipitation_Inches       float32\n",
      " 15  Pressure_Altimeter_Inches         float32\n",
      " 16  Sea_Level_Pressure_Millibar       float32\n",
      " 17  Visibility_Miles                  float32\n",
      " 18  Sky_Level_1_Altitude_Feet         float32\n",
      " 19  Apparent_Temperature_Fahrenheit   float32\n",
      " 20  Target                            int32  \n",
      "dtypes: float32(13), int32(8)\n",
      "memory usage: 237.9 MB\n"
     ]
    }
   ],
   "source": [
    "df_without_categorical.info()"
   ]
  },
  {
   "cell_type": "code",
   "execution_count": 9,
   "id": "968c35f6",
   "metadata": {},
   "outputs": [],
   "source": [
    "df1= df_without_categorical[df_without_categorical['Month'] == 1]"
   ]
  },
  {
   "cell_type": "code",
   "execution_count": 10,
   "id": "950ddadb",
   "metadata": {},
   "outputs": [
    {
     "name": "stderr",
     "output_type": "stream",
     "text": [
      "C:\\Users\\rezan\\AppData\\Local\\Temp\\ipykernel_4284\\3451627549.py:6: SettingWithCopyWarning: \n",
      "A value is trying to be set on a copy of a slice from a DataFrame.\n",
      "Try using .loc[row_indexer,col_indexer] = value instead\n",
      "\n",
      "See the caveats in the documentation: https://pandas.pydata.org/pandas-docs/stable/user_guide/indexing.html#returning-a-view-versus-a-copy\n",
      "  df1['Year'] = df1['Year'].astype(int)\n"
     ]
    }
   ],
   "source": [
    "train_years = [2014, 2015, 2016, 2017, 2018, 2019]\n",
    "val_years = [2020, 2021, 2022]\n",
    "test_years = [2023, 2024]\n",
    "\n",
    "# Ensure the 'Year' column is of integer type\n",
    "df1['Year'] = df1['Year'].astype(int)\n",
    "\n",
    "# Create the training set\n",
    "train_df = df1[df1['Year'].isin(train_years)].reset_index(drop=True)\n",
    "\n",
    "# Create the validation set\n",
    "val_df = df1[df1['Year'].isin(val_years)].reset_index(drop=True)\n",
    "\n",
    "# Create the test set\n",
    "test_df = df1[df1['Year'].isin(test_years)].reset_index(drop=True)\n"
   ]
  },
  {
   "cell_type": "code",
   "execution_count": 11,
   "id": "4a39f038",
   "metadata": {},
   "outputs": [
    {
     "data": {
      "text/plain": [
       "2018    32116\n",
       "2019    30290\n",
       "2015    30099\n",
       "2017    25477\n",
       "2016    25412\n",
       "2014    15129\n",
       "Name: Year, dtype: int64"
      ]
     },
     "execution_count": 11,
     "metadata": {},
     "output_type": "execute_result"
    }
   ],
   "source": [
    "train_df['Year'].value_counts()"
   ]
  },
  {
   "cell_type": "code",
   "execution_count": 12,
   "id": "a33db88b",
   "metadata": {},
   "outputs": [
    {
     "data": {
      "text/html": [
       "<div>\n",
       "<style scoped>\n",
       "    .dataframe tbody tr th:only-of-type {\n",
       "        vertical-align: middle;\n",
       "    }\n",
       "\n",
       "    .dataframe tbody tr th {\n",
       "        vertical-align: top;\n",
       "    }\n",
       "\n",
       "    .dataframe thead th {\n",
       "        text-align: right;\n",
       "    }\n",
       "</style>\n",
       "<table border=\"1\" class=\"dataframe\">\n",
       "  <thead>\n",
       "    <tr style=\"text-align: right;\">\n",
       "      <th></th>\n",
       "      <th>Year</th>\n",
       "      <th>Quarter</th>\n",
       "      <th>Month</th>\n",
       "      <th>Day_of_Month</th>\n",
       "      <th>Day_of_Week</th>\n",
       "      <th>Scheduled_Departure_Time</th>\n",
       "      <th>Taxi_Out_Time_Minutes</th>\n",
       "      <th>Flight_Distance_Miles</th>\n",
       "      <th>Scheduled_Departure_Time_Minutes</th>\n",
       "      <th>Air_Temperature_Fahrenheit</th>\n",
       "      <th>...</th>\n",
       "      <th>Relative_Humidity_Percent</th>\n",
       "      <th>Wind_Direction_Degrees</th>\n",
       "      <th>Wind_Speed_Knots</th>\n",
       "      <th>Hourly_Precipitation_Inches</th>\n",
       "      <th>Pressure_Altimeter_Inches</th>\n",
       "      <th>Sea_Level_Pressure_Millibar</th>\n",
       "      <th>Visibility_Miles</th>\n",
       "      <th>Sky_Level_1_Altitude_Feet</th>\n",
       "      <th>Apparent_Temperature_Fahrenheit</th>\n",
       "      <th>Target</th>\n",
       "    </tr>\n",
       "  </thead>\n",
       "  <tbody>\n",
       "    <tr>\n",
       "      <th>0</th>\n",
       "      <td>2014</td>\n",
       "      <td>1</td>\n",
       "      <td>1</td>\n",
       "      <td>1</td>\n",
       "      <td>3</td>\n",
       "      <td>1715</td>\n",
       "      <td>28.0</td>\n",
       "      <td>1197.0</td>\n",
       "      <td>1035</td>\n",
       "      <td>21.00</td>\n",
       "      <td>...</td>\n",
       "      <td>77.449997</td>\n",
       "      <td>60.0</td>\n",
       "      <td>14.0</td>\n",
       "      <td>0.020000</td>\n",
       "      <td>30.0</td>\n",
       "      <td>1025.099976</td>\n",
       "      <td>0.625</td>\n",
       "      <td>1200.0</td>\n",
       "      <td>7.26</td>\n",
       "      <td>1</td>\n",
       "    </tr>\n",
       "    <tr>\n",
       "      <th>1</th>\n",
       "      <td>2014</td>\n",
       "      <td>1</td>\n",
       "      <td>1</td>\n",
       "      <td>1</td>\n",
       "      <td>3</td>\n",
       "      <td>1100</td>\n",
       "      <td>22.0</td>\n",
       "      <td>4243.0</td>\n",
       "      <td>660</td>\n",
       "      <td>14.25</td>\n",
       "      <td>...</td>\n",
       "      <td>79.980003</td>\n",
       "      <td>350.0</td>\n",
       "      <td>7.0</td>\n",
       "      <td>0.000000</td>\n",
       "      <td>30.0</td>\n",
       "      <td>1025.099976</td>\n",
       "      <td>7.750</td>\n",
       "      <td>1300.0</td>\n",
       "      <td>3.17</td>\n",
       "      <td>1</td>\n",
       "    </tr>\n",
       "    <tr>\n",
       "      <th>2</th>\n",
       "      <td>2014</td>\n",
       "      <td>1</td>\n",
       "      <td>1</td>\n",
       "      <td>1</td>\n",
       "      <td>3</td>\n",
       "      <td>1520</td>\n",
       "      <td>24.0</td>\n",
       "      <td>867.0</td>\n",
       "      <td>920</td>\n",
       "      <td>21.00</td>\n",
       "      <td>...</td>\n",
       "      <td>77.449997</td>\n",
       "      <td>70.0</td>\n",
       "      <td>12.0</td>\n",
       "      <td>0.026667</td>\n",
       "      <td>30.0</td>\n",
       "      <td>1025.699951</td>\n",
       "      <td>0.750</td>\n",
       "      <td>1300.0</td>\n",
       "      <td>8.03</td>\n",
       "      <td>1</td>\n",
       "    </tr>\n",
       "    <tr>\n",
       "      <th>3</th>\n",
       "      <td>2014</td>\n",
       "      <td>1</td>\n",
       "      <td>1</td>\n",
       "      <td>1</td>\n",
       "      <td>3</td>\n",
       "      <td>1900</td>\n",
       "      <td>19.0</td>\n",
       "      <td>1182.0</td>\n",
       "      <td>1140</td>\n",
       "      <td>21.00</td>\n",
       "      <td>...</td>\n",
       "      <td>77.449997</td>\n",
       "      <td>50.0</td>\n",
       "      <td>11.0</td>\n",
       "      <td>0.027500</td>\n",
       "      <td>30.0</td>\n",
       "      <td>1024.099976</td>\n",
       "      <td>0.750</td>\n",
       "      <td>1400.0</td>\n",
       "      <td>8.45</td>\n",
       "      <td>1</td>\n",
       "    </tr>\n",
       "    <tr>\n",
       "      <th>4</th>\n",
       "      <td>2014</td>\n",
       "      <td>1</td>\n",
       "      <td>1</td>\n",
       "      <td>1</td>\n",
       "      <td>3</td>\n",
       "      <td>905</td>\n",
       "      <td>24.0</td>\n",
       "      <td>1197.0</td>\n",
       "      <td>545</td>\n",
       "      <td>12.50</td>\n",
       "      <td>...</td>\n",
       "      <td>79.830002</td>\n",
       "      <td>270.0</td>\n",
       "      <td>8.0</td>\n",
       "      <td>0.001250</td>\n",
       "      <td>30.0</td>\n",
       "      <td>1025.500000</td>\n",
       "      <td>6.000</td>\n",
       "      <td>1200.0</td>\n",
       "      <td>0.34</td>\n",
       "      <td>1</td>\n",
       "    </tr>\n",
       "  </tbody>\n",
       "</table>\n",
       "<p>5 rows × 21 columns</p>\n",
       "</div>"
      ],
      "text/plain": [
       "   Year  Quarter  Month  Day_of_Month  Day_of_Week  Scheduled_Departure_Time  \\\n",
       "0  2014        1      1             1            3                      1715   \n",
       "1  2014        1      1             1            3                      1100   \n",
       "2  2014        1      1             1            3                      1520   \n",
       "3  2014        1      1             1            3                      1900   \n",
       "4  2014        1      1             1            3                       905   \n",
       "\n",
       "   Taxi_Out_Time_Minutes  Flight_Distance_Miles  \\\n",
       "0                   28.0                 1197.0   \n",
       "1                   22.0                 4243.0   \n",
       "2                   24.0                  867.0   \n",
       "3                   19.0                 1182.0   \n",
       "4                   24.0                 1197.0   \n",
       "\n",
       "   Scheduled_Departure_Time_Minutes  Air_Temperature_Fahrenheit  ...  \\\n",
       "0                              1035                       21.00  ...   \n",
       "1                               660                       14.25  ...   \n",
       "2                               920                       21.00  ...   \n",
       "3                              1140                       21.00  ...   \n",
       "4                               545                       12.50  ...   \n",
       "\n",
       "   Relative_Humidity_Percent  Wind_Direction_Degrees  Wind_Speed_Knots  \\\n",
       "0                  77.449997                    60.0              14.0   \n",
       "1                  79.980003                   350.0               7.0   \n",
       "2                  77.449997                    70.0              12.0   \n",
       "3                  77.449997                    50.0              11.0   \n",
       "4                  79.830002                   270.0               8.0   \n",
       "\n",
       "   Hourly_Precipitation_Inches  Pressure_Altimeter_Inches  \\\n",
       "0                     0.020000                       30.0   \n",
       "1                     0.000000                       30.0   \n",
       "2                     0.026667                       30.0   \n",
       "3                     0.027500                       30.0   \n",
       "4                     0.001250                       30.0   \n",
       "\n",
       "   Sea_Level_Pressure_Millibar  Visibility_Miles  Sky_Level_1_Altitude_Feet  \\\n",
       "0                  1025.099976             0.625                     1200.0   \n",
       "1                  1025.099976             7.750                     1300.0   \n",
       "2                  1025.699951             0.750                     1300.0   \n",
       "3                  1024.099976             0.750                     1400.0   \n",
       "4                  1025.500000             6.000                     1200.0   \n",
       "\n",
       "   Apparent_Temperature_Fahrenheit  Target  \n",
       "0                             7.26       1  \n",
       "1                             3.17       1  \n",
       "2                             8.03       1  \n",
       "3                             8.45       1  \n",
       "4                             0.34       1  \n",
       "\n",
       "[5 rows x 21 columns]"
      ]
     },
     "execution_count": 12,
     "metadata": {},
     "output_type": "execute_result"
    }
   ],
   "source": [
    "train_df.head()"
   ]
  },
  {
   "cell_type": "code",
   "execution_count": 13,
   "id": "039ceeef",
   "metadata": {},
   "outputs": [
    {
     "data": {
      "text/html": [
       "<div>\n",
       "<style scoped>\n",
       "    .dataframe tbody tr th:only-of-type {\n",
       "        vertical-align: middle;\n",
       "    }\n",
       "\n",
       "    .dataframe tbody tr th {\n",
       "        vertical-align: top;\n",
       "    }\n",
       "\n",
       "    .dataframe thead th {\n",
       "        text-align: right;\n",
       "    }\n",
       "</style>\n",
       "<table border=\"1\" class=\"dataframe\">\n",
       "  <thead>\n",
       "    <tr style=\"text-align: right;\">\n",
       "      <th></th>\n",
       "      <th>Year</th>\n",
       "      <th>Quarter</th>\n",
       "      <th>Month</th>\n",
       "      <th>Day_of_Month</th>\n",
       "      <th>Day_of_Week</th>\n",
       "      <th>Scheduled_Departure_Time</th>\n",
       "      <th>Taxi_Out_Time_Minutes</th>\n",
       "      <th>Flight_Distance_Miles</th>\n",
       "      <th>Scheduled_Departure_Time_Minutes</th>\n",
       "      <th>Air_Temperature_Fahrenheit</th>\n",
       "      <th>Dew_Point_Temperature_Fahrenheit</th>\n",
       "      <th>Relative_Humidity_Percent</th>\n",
       "      <th>Wind_Direction_Degrees</th>\n",
       "      <th>Wind_Speed_Knots</th>\n",
       "      <th>Hourly_Precipitation_Inches</th>\n",
       "      <th>Pressure_Altimeter_Inches</th>\n",
       "      <th>Sea_Level_Pressure_Millibar</th>\n",
       "      <th>Visibility_Miles</th>\n",
       "      <th>Sky_Level_1_Altitude_Feet</th>\n",
       "      <th>Apparent_Temperature_Fahrenheit</th>\n",
       "    </tr>\n",
       "  </thead>\n",
       "  <tbody>\n",
       "    <tr>\n",
       "      <th>0</th>\n",
       "      <td>2014</td>\n",
       "      <td>1</td>\n",
       "      <td>1</td>\n",
       "      <td>1</td>\n",
       "      <td>3</td>\n",
       "      <td>1715</td>\n",
       "      <td>28.0</td>\n",
       "      <td>1197.0</td>\n",
       "      <td>1035</td>\n",
       "      <td>21.00</td>\n",
       "      <td>15.00</td>\n",
       "      <td>77.449997</td>\n",
       "      <td>60.0</td>\n",
       "      <td>14.0</td>\n",
       "      <td>0.020000</td>\n",
       "      <td>30.0</td>\n",
       "      <td>1025.099976</td>\n",
       "      <td>0.625</td>\n",
       "      <td>1200.0</td>\n",
       "      <td>7.26</td>\n",
       "    </tr>\n",
       "    <tr>\n",
       "      <th>1</th>\n",
       "      <td>2014</td>\n",
       "      <td>1</td>\n",
       "      <td>1</td>\n",
       "      <td>1</td>\n",
       "      <td>3</td>\n",
       "      <td>1100</td>\n",
       "      <td>22.0</td>\n",
       "      <td>4243.0</td>\n",
       "      <td>660</td>\n",
       "      <td>14.25</td>\n",
       "      <td>9.25</td>\n",
       "      <td>79.980003</td>\n",
       "      <td>350.0</td>\n",
       "      <td>7.0</td>\n",
       "      <td>0.000000</td>\n",
       "      <td>30.0</td>\n",
       "      <td>1025.099976</td>\n",
       "      <td>7.750</td>\n",
       "      <td>1300.0</td>\n",
       "      <td>3.17</td>\n",
       "    </tr>\n",
       "    <tr>\n",
       "      <th>2</th>\n",
       "      <td>2014</td>\n",
       "      <td>1</td>\n",
       "      <td>1</td>\n",
       "      <td>1</td>\n",
       "      <td>3</td>\n",
       "      <td>1520</td>\n",
       "      <td>24.0</td>\n",
       "      <td>867.0</td>\n",
       "      <td>920</td>\n",
       "      <td>21.00</td>\n",
       "      <td>15.00</td>\n",
       "      <td>77.449997</td>\n",
       "      <td>70.0</td>\n",
       "      <td>12.0</td>\n",
       "      <td>0.026667</td>\n",
       "      <td>30.0</td>\n",
       "      <td>1025.699951</td>\n",
       "      <td>0.750</td>\n",
       "      <td>1300.0</td>\n",
       "      <td>8.03</td>\n",
       "    </tr>\n",
       "    <tr>\n",
       "      <th>3</th>\n",
       "      <td>2014</td>\n",
       "      <td>1</td>\n",
       "      <td>1</td>\n",
       "      <td>1</td>\n",
       "      <td>3</td>\n",
       "      <td>1900</td>\n",
       "      <td>19.0</td>\n",
       "      <td>1182.0</td>\n",
       "      <td>1140</td>\n",
       "      <td>21.00</td>\n",
       "      <td>15.00</td>\n",
       "      <td>77.449997</td>\n",
       "      <td>50.0</td>\n",
       "      <td>11.0</td>\n",
       "      <td>0.027500</td>\n",
       "      <td>30.0</td>\n",
       "      <td>1024.099976</td>\n",
       "      <td>0.750</td>\n",
       "      <td>1400.0</td>\n",
       "      <td>8.45</td>\n",
       "    </tr>\n",
       "    <tr>\n",
       "      <th>4</th>\n",
       "      <td>2014</td>\n",
       "      <td>1</td>\n",
       "      <td>1</td>\n",
       "      <td>1</td>\n",
       "      <td>3</td>\n",
       "      <td>905</td>\n",
       "      <td>24.0</td>\n",
       "      <td>1197.0</td>\n",
       "      <td>545</td>\n",
       "      <td>12.50</td>\n",
       "      <td>7.50</td>\n",
       "      <td>79.830002</td>\n",
       "      <td>270.0</td>\n",
       "      <td>8.0</td>\n",
       "      <td>0.001250</td>\n",
       "      <td>30.0</td>\n",
       "      <td>1025.500000</td>\n",
       "      <td>6.000</td>\n",
       "      <td>1200.0</td>\n",
       "      <td>0.34</td>\n",
       "    </tr>\n",
       "  </tbody>\n",
       "</table>\n",
       "</div>"
      ],
      "text/plain": [
       "   Year  Quarter  Month  Day_of_Month  Day_of_Week  Scheduled_Departure_Time  \\\n",
       "0  2014        1      1             1            3                      1715   \n",
       "1  2014        1      1             1            3                      1100   \n",
       "2  2014        1      1             1            3                      1520   \n",
       "3  2014        1      1             1            3                      1900   \n",
       "4  2014        1      1             1            3                       905   \n",
       "\n",
       "   Taxi_Out_Time_Minutes  Flight_Distance_Miles  \\\n",
       "0                   28.0                 1197.0   \n",
       "1                   22.0                 4243.0   \n",
       "2                   24.0                  867.0   \n",
       "3                   19.0                 1182.0   \n",
       "4                   24.0                 1197.0   \n",
       "\n",
       "   Scheduled_Departure_Time_Minutes  Air_Temperature_Fahrenheit  \\\n",
       "0                              1035                       21.00   \n",
       "1                               660                       14.25   \n",
       "2                               920                       21.00   \n",
       "3                              1140                       21.00   \n",
       "4                               545                       12.50   \n",
       "\n",
       "   Dew_Point_Temperature_Fahrenheit  Relative_Humidity_Percent  \\\n",
       "0                             15.00                  77.449997   \n",
       "1                              9.25                  79.980003   \n",
       "2                             15.00                  77.449997   \n",
       "3                             15.00                  77.449997   \n",
       "4                              7.50                  79.830002   \n",
       "\n",
       "   Wind_Direction_Degrees  Wind_Speed_Knots  Hourly_Precipitation_Inches  \\\n",
       "0                    60.0              14.0                     0.020000   \n",
       "1                   350.0               7.0                     0.000000   \n",
       "2                    70.0              12.0                     0.026667   \n",
       "3                    50.0              11.0                     0.027500   \n",
       "4                   270.0               8.0                     0.001250   \n",
       "\n",
       "   Pressure_Altimeter_Inches  Sea_Level_Pressure_Millibar  Visibility_Miles  \\\n",
       "0                       30.0                  1025.099976             0.625   \n",
       "1                       30.0                  1025.099976             7.750   \n",
       "2                       30.0                  1025.699951             0.750   \n",
       "3                       30.0                  1024.099976             0.750   \n",
       "4                       30.0                  1025.500000             6.000   \n",
       "\n",
       "   Sky_Level_1_Altitude_Feet  Apparent_Temperature_Fahrenheit  \n",
       "0                     1200.0                             7.26  \n",
       "1                     1300.0                             3.17  \n",
       "2                     1300.0                             8.03  \n",
       "3                     1400.0                             8.45  \n",
       "4                     1200.0                             0.34  "
      ]
     },
     "execution_count": 13,
     "metadata": {},
     "output_type": "execute_result"
    }
   ],
   "source": [
    "y_train = train_df['Target']\n",
    "\n",
    "\n",
    "train_df = train_df.drop(columns=['Target'])\n",
    "train_df.head()\n"
   ]
  },
  {
   "cell_type": "code",
   "execution_count": 14,
   "id": "f95ad909",
   "metadata": {},
   "outputs": [
    {
     "data": {
      "text/plain": [
       "(158523, 20)"
      ]
     },
     "execution_count": 14,
     "metadata": {},
     "output_type": "execute_result"
    }
   ],
   "source": [
    "train_df.shape"
   ]
  },
  {
   "cell_type": "code",
   "execution_count": 15,
   "id": "3ac2681f",
   "metadata": {},
   "outputs": [
    {
     "data": {
      "text/plain": [
       "(57380, 20)"
      ]
     },
     "execution_count": 15,
     "metadata": {},
     "output_type": "execute_result"
    }
   ],
   "source": [
    "y_val = val_df['Target']\n",
    "\n",
    "\n",
    "val_df = val_df.drop(columns=['Target'])\n",
    "val_df.shape"
   ]
  },
  {
   "cell_type": "code",
   "execution_count": 16,
   "id": "14e5a2cd",
   "metadata": {},
   "outputs": [
    {
     "data": {
      "text/plain": [
       "(25193, 20)"
      ]
     },
     "execution_count": 16,
     "metadata": {},
     "output_type": "execute_result"
    }
   ],
   "source": [
    "y_test = test_df['Target']\n",
    "\n",
    "\n",
    "test_df = test_df.drop(columns=['Target'])\n",
    "test_df.shape"
   ]
  },
  {
   "cell_type": "code",
   "execution_count": 18,
   "id": "9e0a5328",
   "metadata": {},
   "outputs": [
    {
     "name": "stdout",
     "output_type": "stream",
     "text": [
      "Requirement already satisfied: imbalanced-learn in c:\\users\\rezan\\appdata\\roaming\\python\\python39\\site-packages (0.12.4)\n",
      "Requirement already satisfied: scipy>=1.5.0 in c:\\users\\rezan\\anaconda3\\lib\\site-packages (from imbalanced-learn) (1.7.3)\n",
      "Requirement already satisfied: numpy>=1.17.3 in c:\\users\\rezan\\anaconda3\\lib\\site-packages (from imbalanced-learn) (1.22.4)\n",
      "Requirement already satisfied: scikit-learn>=1.0.2 in c:\\users\\rezan\\anaconda3\\lib\\site-packages (from imbalanced-learn) (1.0.2)\n",
      "Requirement already satisfied: joblib>=1.1.1 in c:\\users\\rezan\\appdata\\roaming\\python\\python39\\site-packages (from imbalanced-learn) (1.4.2)\n",
      "Requirement already satisfied: threadpoolctl>=2.0.0 in c:\\users\\rezan\\anaconda3\\lib\\site-packages (from imbalanced-learn) (2.2.0)\n"
     ]
    }
   ],
   "source": [
    "#!pip install --user imbalanced-learn\n",
    "\n"
   ]
  },
  {
   "cell_type": "code",
   "execution_count": 19,
   "id": "48777656",
   "metadata": {},
   "outputs": [
    {
     "name": "stdout",
     "output_type": "stream",
     "text": [
      "Name: imbalanced-learn\n",
      "Version: 0.12.4\n",
      "Summary: Toolbox for imbalanced dataset in machine learning.\n",
      "Home-page: https://github.com/scikit-learn-contrib/imbalanced-learn\n",
      "Author: \n",
      "Author-email: \n",
      "License: MIT\n",
      "Location: c:\\users\\rezan\\appdata\\roaming\\python\\python39\\site-packages\n",
      "Requires: threadpoolctl, scipy, scikit-learn, joblib, numpy\n",
      "Required-by: \n",
      "Note: you may need to restart the kernel to use updated packages.\n"
     ]
    }
   ],
   "source": [
    "pip show imbalanced-learn"
   ]
  },
  {
   "cell_type": "code",
   "execution_count": 20,
   "id": "0a7378d6",
   "metadata": {},
   "outputs": [],
   "source": [
    "from sklearn.model_selection import train_test_split\n",
    "from imblearn.over_sampling import SMOTE\n",
    "smote = SMOTE(random_state = 2024)\n",
    "X_train_resampled, y_train_resampled = smote.fit_resample(train_df, y_train)"
   ]
  },
  {
   "cell_type": "code",
   "execution_count": 25,
   "id": "762103d0",
   "metadata": {},
   "outputs": [
    {
     "data": {
      "text/plain": [
       "<AxesSubplot:xlabel='Class', ylabel='Count'>"
      ]
     },
     "execution_count": 25,
     "metadata": {},
     "output_type": "execute_result"
    },
    {
     "data": {
      "image/png": "[encoded data removed]",
      "text/plain": [
       "<Figure size 432x288 with 1 Axes>"
      ]
     },
     "metadata": {
      "needs_background": "light"
     },
     "output_type": "display_data"
    }
   ],
   "source": [
    "counts = pd.Series(y_train_resampled).value_counts()\n",
    "class_counts_df = counts.reset_index()\n",
    "class_counts_df.columns = ['Class', 'Count']\n",
    "\n",
    "# Plot using Seaborn\n",
    "sns.barplot(x='Class', y='Count', data=class_counts_df)"
   ]
  },
  {
   "cell_type": "code",
   "execution_count": 27,
   "id": "2f2b83f2",
   "metadata": {},
   "outputs": [
    {
     "data": {
      "text/plain": [
       "DecisionTreeClassifier(random_state=2024)"
      ]
     },
     "execution_count": 27,
     "metadata": {},
     "output_type": "execute_result"
    }
   ],
   "source": [
    "from sklearn.tree import DecisionTreeClassifier\n",
    "\n",
    "jan_clf_3 = DecisionTreeClassifier(random_state = 2024 )\n",
    "jan_clf_3.fit(X_train_resampled, y_train_resampled)\n",
    "        "
   ]
  },
  {
   "cell_type": "code",
   "execution_count": 29,
   "id": "5b55338d",
   "metadata": {},
   "outputs": [
    {
     "data": {
      "text/plain": [
       "GridSearchCV(cv=3, estimator=DecisionTreeClassifier(random_state=2024),\n",
       "             param_grid={'max_depth': [1, 3, 5],\n",
       "                         'max_leaf_nodes': [2, 4, 6, 8, 10, 12, 14, 16, 18, 20,\n",
       "                                            50, 100],\n",
       "                         'min_impurity_decrease': [0.0001, 0.0005, 0.001, 0.005,\n",
       "                                                   0.01],\n",
       "                         'min_samples_split': [2, 3, 4, 5, 6]})"
      ]
     },
     "execution_count": 29,
     "metadata": {},
     "output_type": "execute_result"
    }
   ],
   "source": [
    "from sklearn.model_selection import GridSearchCV\n",
    "\n",
    "params = {\n",
    "    'max_leaf_nodes': [2, 4, 6, 8, 10, 12, 14, 16, 18, 20, 50, 100],  \n",
    "    'min_impurity_decrease': [0.0001, 0.0005, 0.001, 0.005, 0.01],\n",
    "    'max_depth': [1, 3, 5],           \n",
    "    'min_samples_split': [2, 3, 4, 5, 6],\n",
    "}\n",
    "\n",
    "grid_search_cv = GridSearchCV(DecisionTreeClassifier(random_state=2024),\n",
    "                              params,\n",
    "                              cv=3)\n",
    "\n",
    "grid_search_cv.fit(X_train_resampled, y_train_resampled)"
   ]
  },
  {
   "cell_type": "code",
   "execution_count": 30,
   "id": "1489a784",
   "metadata": {},
   "outputs": [
    {
     "data": {
      "text/plain": [
       "DecisionTreeClassifier(max_depth=5, max_leaf_nodes=6,\n",
       "                       min_impurity_decrease=0.01, random_state=2024)"
      ]
     },
     "execution_count": 30,
     "metadata": {},
     "output_type": "execute_result"
    }
   ],
   "source": [
    "grid_search_cv.best_estimator_"
   ]
  },
  {
   "cell_type": "code",
   "execution_count": 31,
   "id": "0c551603",
   "metadata": {},
   "outputs": [
    {
     "name": "stdout",
     "output_type": "stream",
     "text": [
      "Validation Accuracy: 0.60\n"
     ]
    }
   ],
   "source": [
    "from sklearn.metrics import accuracy_score\n",
    "\n",
    "\n",
    "y_val_pred = grid_search_cv.best_estimator_.predict(val_df)\n",
    "\n",
    "\n",
    "accuracy = accuracy_score(y_val, y_val_pred)\n",
    "print(f\"Validation Accuracy: {accuracy:.2f}\")\n"
   ]
  },
  {
   "cell_type": "code",
   "execution_count": 33,
   "id": "0cf1b5b8",
   "metadata": {},
   "outputs": [
    {
     "data": {
      "image/png": "[encoded data removed]",
      "text/plain": [
       "<Figure size 576x432 with 2 Axes>"
      ]
     },
     "metadata": {
      "needs_background": "light"
     },
     "output_type": "display_data"
    }
   ],
   "source": [
    "from sklearn.metrics import confusion_matrix\n",
    "\n",
    "\n",
    "cm = confusion_matrix(y_val, y_val_pred)\n",
    "\n",
    "plt.figure(figsize=(8, 6))\n",
    "sns.heatmap(cm, annot=True, fmt='d', cmap='Blues', xticklabels=grid_search_cv.best_estimator_.classes_, yticklabels=grid_search_cv.best_estimator_.classes_)\n",
    "plt.title('Confusion Matrix (Validation Set)')\n",
    "plt.xlabel('Predicted Labels')\n",
    "plt.ylabel('True Labels')\n",
    "plt.show()"
   ]
  },
  {
   "cell_type": "code",
   "execution_count": 34,
   "id": "702bc1fb",
   "metadata": {},
   "outputs": [
    {
     "name": "stdout",
     "output_type": "stream",
     "text": [
      "Validation Accuracy: 0.57\n"
     ]
    }
   ],
   "source": [
    "y_test_pred = grid_search_cv.best_estimator_.predict(test_df)\n",
    "\n",
    "\n",
    "accuracy = accuracy_score(y_test, y_test_pred)\n",
    "print(f\"Validation Accuracy: {accuracy:.2f}\")"
   ]
  },
  {
   "cell_type": "code",
   "execution_count": 36,
   "id": "794afa72",
   "metadata": {},
   "outputs": [
    {
     "data": {
      "image/png": "[encoded data removed]",
      "text/plain": [
       "<Figure size 576x432 with 2 Axes>"
      ]
     },
     "metadata": {
      "needs_background": "light"
     },
     "output_type": "display_data"
    }
   ],
   "source": [
    "cm_test = confusion_matrix(y_test, y_test_pred)\n",
    "\n",
    "plt.figure(figsize=(8, 6))\n",
    "sns.heatmap(cm_test, annot=True, fmt='d', cmap='Blues', xticklabels=grid_search_cv.best_estimator_.classes_, yticklabels=grid_search_cv.best_estimator_.classes_)\n",
    "plt.title('Confusion Matrix (Test  Set)')\n",
    "plt.xlabel('Predicted Labels')\n",
    "plt.ylabel('True Labels')\n",
    "plt.show()"
   ]
  },
  {
   "cell_type": "code",
   "execution_count": 37,
   "id": "128f6ea7",
   "metadata": {},
   "outputs": [
    {
     "name": "stdout",
     "output_type": "stream",
     "text": [
      "              precision    recall  f1-score   support\n",
      "\n",
      "           0       0.81      0.52      0.63     18140\n",
      "           1       0.36      0.69      0.47      7053\n",
      "\n",
      "    accuracy                           0.57     25193\n",
      "   macro avg       0.59      0.61      0.55     25193\n",
      "weighted avg       0.69      0.57      0.59     25193\n",
      "\n"
     ]
    }
   ],
   "source": [
    "from sklearn.metrics import classification_report\n",
    "\n",
    "print(classification_report(y_test, y_test_pred))"
   ]
  },
  {
   "cell_type": "code",
   "execution_count": 38,
   "id": "f7a36fb2",
   "metadata": {},
   "outputs": [],
   "source": [
    "best_tree = grid_search_cv.best_estimator_\n"
   ]
  },
  {
   "cell_type": "code",
   "execution_count": 41,
   "id": "81cdbc20",
   "metadata": {},
   "outputs": [
    {
     "data": {
      "text/plain": [
       "[Text(0.6, 0.8333333333333334, 'X[14] <= 0.0\\ngini = 0.5\\nsamples = 230460\\nvalue = [115230, 115230]\\nclass = 0'),\n",
       " Text(0.4, 0.5, 'X[19] <= 6.999\\ngini = 0.485\\nsamples = 141621\\nvalue = [83101, 58520]\\nclass = 0'),\n",
       " Text(0.2, 0.16666666666666666, 'gini = 0.481\\nsamples = 48703\\nvalue = [19596, 29107]\\nclass = 1'),\n",
       " Text(0.6, 0.16666666666666666, 'gini = 0.433\\nsamples = 92918\\nvalue = [63505, 29413]\\nclass = 0'),\n",
       " Text(0.8, 0.5, 'gini = 0.462\\nsamples = 88839\\nvalue = [32129, 56710]\\nclass = 1')]"
      ]
     },
     "execution_count": 41,
     "metadata": {},
     "output_type": "execute_result"
    },
    {
     "data": {
      "image/png": "[encoded data removed]",
      "text/plain": [
       "<Figure size 1440x720 with 1 Axes>"
      ]
     },
     "metadata": {
      "needs_background": "light"
     },
     "output_type": "display_data"
    }
   ],
   "source": [
    "from sklearn.tree import plot_tree\n",
    "plt.figure(figsize=(20, 10))  \n",
    "plot_tree(\n",
    "    best_tree,\n",
    "    class_names=[str(cls) for cls in best_tree.classes_],  \n",
    "    filled=True,  \n",
    "    rounded=True,  \n",
    "    fontsize=12    \n",
    ")"
   ]
  },
  {
   "cell_type": "code",
   "execution_count": 45,
   "id": "0f8f6041",
   "metadata": {},
   "outputs": [],
   "source": [
    "importances = best_tree.feature_importances_\n"
   ]
  },
  {
   "cell_type": "code",
   "execution_count": 48,
   "id": "a0a2a57d",
   "metadata": {},
   "outputs": [
    {
     "data": {
      "image/png": "[encoded data removed]",
      "text/plain": [
       "<Figure size 720x432 with 1 Axes>"
      ]
     },
     "metadata": {
      "needs_background": "light"
     },
     "output_type": "display_data"
    }
   ],
   "source": [
    "\n",
    "\n",
    "\n",
    "feature_names = test_df.columns\n",
    "\n",
    "feature_importance_df = pd.DataFrame({\n",
    "    'Feature': feature_names,\n",
    "    'Importance': importances\n",
    "})\n",
    "\n",
    "\n",
    "feature_importance_df = feature_importance_df.sort_values(by='Importance', ascending=False)\n",
    "\n",
    "# Plot\n",
    "plt.figure(figsize=(10, 6))\n",
    "plt.barh(feature_importance_df['Feature'], feature_importance_df['Importance'], color='blue')\n",
    "plt.xlabel('Relative Importance')\n",
    "plt.ylabel('Features')\n",
    "plt.title('Tree Feature Importances')\n",
    "plt.gca().invert_yaxis()  \n",
    "plt.show()\n"
   ]
  },
  {
   "cell_type": "code",
   "execution_count": null,
   "id": "94fdc301",
   "metadata": {},
   "outputs": [],
   "source": []
  }
 ],
 "metadata": {
  "kernelspec": {
   "display_name": "Python 3 (ipykernel)",
   "language": "python",
   "name": "python3"
  },
  "language_info": {
   "codemirror_mode": {
    "name": "ipython",
    "version": 3
   },
   "file_extension": ".py",
   "mimetype": "text/x-python",
   "name": "python",
   "nbconvert_exporter": "python",
   "pygments_lexer": "ipython3",
   "version": "3.9.12"
  }
 },
 "nbformat": 4,
 "nbformat_minor": 5
}
