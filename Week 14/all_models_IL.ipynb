{
 "cells": [
  {
   "cell_type": "markdown",
   "id": "33cec9d1",
   "metadata": {
    "id": "33cec9d1"
   },
   "source": [
    "-  Date: 11/21\n",
    "-  Last Updated: 12/04\n",
    "-  Notebook Owner: Reza Naiman\n",
    "    \n",
    "    \n",
    "    \n",
    "# Key findings\n",
    "\n",
    "## Model Performance\n",
    "- The combined weather and flight data model performed the best overall, with accuracies of 0.65 (training), 0.57 (validation), and 0.56 (testing). This indicates that combining weather and flight data provides a more comprehensive view for predictions.\n",
    "\n",
    "\n",
    "- The weather-only model achieved similar validation and testing accuracies (0.57 and 0.56, respectively) but slightly lower training accuracy (0.62), suggesting weather data alone captures significant but not all predictive signals.\n",
    "\n",
    "- The flight-only model showed the weakest performance, particularly on the validation set (accuracy: 0.38), highlighting that flight data alone may not be sufficient for reliable predictions.\n",
    "\n",
    "## Feature Importance\n",
    "- Weather Features:\n",
    "   - The most critical weather features were Apparent Temperature Fahrenheit and Hourly Precipitation Inches, appearing in both the combined and weather-only models.This emphasizes the impact of weather conditions on the outcomes.\n",
    "- Flight Features:\n",
    "   - Day of Month and Scheduled Departure Time were the key features in the flight-only model, suggesting that scheduling and timing are relevant but not as impactful as weather-related factors.\n",
    "   \n",
    "## Suggestions\n",
    "- Combining weather and flight data is essential for better predictive performance, as no single dataset is sufficient on its own.Weather conditions, particularly temperature and precipitation, consistently stand out as critical predictive factors based on the Decision Tree Models.\n"
   ]
  },
  {
   "cell_type": "code",
   "execution_count": 1,
   "id": "744aa0d2",
   "metadata": {
    "id": "744aa0d2"
   },
   "outputs": [],
   "source": [
    "import pandas as pd\n",
    "import numpy as np\n",
    "import matplotlib.pyplot as plt\n",
    "import seaborn as sns\n",
    "import imblearn\n",
    "from sklearn.model_selection import train_test_split\n",
    "from imblearn.over_sampling import SMOTE\n",
    "from sklearn.tree import DecisionTreeClassifier\n",
    "from sklearn.model_selection import GridSearchCV\n",
    "from sklearn.metrics import accuracy_score\n",
    "from sklearn.metrics import confusion_matrix\n",
    "from sklearn.metrics import classification_report\n",
    "from sklearn.tree import plot_tree\n",
    "import shap\n"
   ]
  },
  {
   "cell_type": "markdown",
   "id": "4c0609da-8583-4dd9-8c5c-b40ffe4c9312",
   "metadata": {
    "id": "4c0609da-8583-4dd9-8c5c-b40ffe4c9312"
   },
   "source": [
    "### Data cleaning and preparation for Illinois and Georgia datasets"
   ]
  },
  {
   "cell_type": "code",
   "execution_count": 2,
   "id": "1eaecea7",
   "metadata": {
    "colab": {
     "base_uri": "https://localhost:8080/"
    },
    "id": "1eaecea7",
    "outputId": "6efe4633-1e59-4576-934b-e9580a7ac9f9"
   },
   "outputs": [
    {
     "name": "stdout",
     "output_type": "stream",
     "text": [
      "<class 'pandas.core.frame.DataFrame'>\n",
      "RangeIndex: 2969937 entries, 0 to 2969936\n",
      "Data columns (total 31 columns):\n",
      " #   Column                            Dtype  \n",
      "---  ------                            -----  \n",
      " 0   Year                              int64  \n",
      " 1   Quarter                           int64  \n",
      " 2   Month                             int64  \n",
      " 3   Day_of_Month                      float64\n",
      " 4   Day_of_Week                       float64\n",
      " 5   Operating_Carrier_Code            object \n",
      " 6   Tail_Number                       object \n",
      " 7   Origin_Airport_ID                 float64\n",
      " 8   Origin_Airport_Code               object \n",
      " 9   Origin_State_Name                 object \n",
      " 10  Destination_Airport_Code          object \n",
      " 11  Destination_State_Name            object \n",
      " 12  Scheduled_Departure_Time          float64\n",
      " 13  Departure_Delay_Minutes           float64\n",
      " 14  Taxi_Out_Time_Minutes             float64\n",
      " 15  Flight_Distance_Miles             float64\n",
      " 16  Departure_Datetime                object \n",
      " 17  Scheduled_Departure_Time_Minutes  float64\n",
      " 18  Air_Temperature_Fahrenheit        float64\n",
      " 19  Dew_Point_Temperature_Fahrenheit  float64\n",
      " 20  Relative_Humidity_Percent         float64\n",
      " 21  Wind_Direction_Degrees            float64\n",
      " 22  Wind_Speed_Knots                  float64\n",
      " 23  Hourly_Precipitation_Inches       float64\n",
      " 24  Pressure_Altimeter_Inches         float64\n",
      " 25  Sea_Level_Pressure_Millibar       float64\n",
      " 26  Visibility_Miles                  float64\n",
      " 27  Sky_Cover_Level_1                 object \n",
      " 28  Sky_Level_1_Altitude_Feet         float64\n",
      " 29  Apparent_Temperature_Fahrenheit   float64\n",
      " 30  Target                            float64\n",
      "dtypes: float64(20), int64(3), object(8)\n",
      "memory usage: 702.4+ MB\n"
     ]
    }
   ],
   "source": [
    "# Load and inspect the data\n",
    "df = pd.read_csv(\"C:/Users/rezan/OneDrive/Documents/Fall 2024/Capstone/Illinois_10_years_data.csv\")\n",
    "df.info()"
   ]
  },
  {
   "cell_type": "code",
   "execution_count": 3,
   "id": "c7f1a3fc-dd4d-4509-ba98-ea631aa3b367",
   "metadata": {
    "colab": {
     "base_uri": "https://localhost:8080/"
    },
    "id": "c7f1a3fc-dd4d-4509-ba98-ea631aa3b367",
    "outputId": "02ce4d91-7555-443f-938a-2e28bb66bd64",
    "scrolled": true
   },
   "outputs": [
    {
     "name": "stdout",
     "output_type": "stream",
     "text": [
      "<class 'pandas.core.frame.DataFrame'>\n",
      "RangeIndex: 3107731 entries, 0 to 3107730\n",
      "Data columns (total 31 columns):\n",
      " #   Column                            Dtype  \n",
      "---  ------                            -----  \n",
      " 0   Year                              int64  \n",
      " 1   Quarter                           int64  \n",
      " 2   Month                             int64  \n",
      " 3   Day_of_Month                      float64\n",
      " 4   Day_of_Week                       float64\n",
      " 5   Operating_Carrier_Code            object \n",
      " 6   Tail_Number                       object \n",
      " 7   Origin_Airport_ID                 float64\n",
      " 8   Origin_Airport_Code               object \n",
      " 9   Origin_State_Name                 object \n",
      " 10  Destination_Airport_Code          object \n",
      " 11  Destination_State_Name            object \n",
      " 12  Scheduled_Departure_Time          float64\n",
      " 13  Departure_Delay_Minutes           float64\n",
      " 14  Taxi_Out_Time_Minutes             float64\n",
      " 15  Flight_Distance_Miles             float64\n",
      " 16  Departure_Datetime                object \n",
      " 17  Scheduled_Departure_Time_Minutes  float64\n",
      " 18  Air_Temperature_Fahrenheit        float64\n",
      " 19  Dew_Point_Temperature_Fahrenheit  float64\n",
      " 20  Relative_Humidity_Percent         float64\n",
      " 21  Wind_Direction_Degrees            float64\n",
      " 22  Wind_Speed_Knots                  float64\n",
      " 23  Hourly_Precipitation_Inches       float64\n",
      " 24  Pressure_Altimeter_Inches         float64\n",
      " 25  Sea_Level_Pressure_Millibar       float64\n",
      " 26  Visibility_Miles                  float64\n",
      " 27  Sky_Cover_Level_1                 object \n",
      " 28  Sky_Level_1_Altitude_Feet         float64\n",
      " 29  Apparent_Temperature_Fahrenheit   float64\n",
      " 30  Target                            float64\n",
      "dtypes: float64(20), int64(3), object(8)\n",
      "memory usage: 735.0+ MB\n"
     ]
    }
   ],
   "source": [
    "df_g = pd.read_csv(\"C:/Users/rezan/OneDrive/Documents/Fall 2024/Capstone/Georgia_10_years_data.csv\")\n",
    "df_g.info()\n"
   ]
  },
  {
   "cell_type": "code",
   "execution_count": 4,
   "id": "23f74082",
   "metadata": {
    "id": "23f74082"
   },
   "outputs": [],
   "source": [
    "# Drop unnecessary columns\n",
    "df = df.drop(['Origin_State_Name', 'Departure_Datetime', 'Departure_Delay_Minutes','Taxi_Out_Time_Minutes'], axis=1)\n",
    "df_g = df_g.drop(['Origin_State_Name', 'Departure_Datetime', 'Departure_Delay_Minutes','Taxi_Out_Time_Minutes'], axis=1)\n",
    "df.dropna(inplace=True)\n",
    "df_g.dropna(inplace=True)"
   ]
  },
  {
   "cell_type": "code",
   "execution_count": 5,
   "id": "893d09c8",
   "metadata": {
    "id": "893d09c8"
   },
   "outputs": [],
   "source": [
    "# Convert integer features to int32\n",
    "int_columns = [\n",
    "    'Year',\n",
    "    'Quarter',\n",
    "    'Month',\n",
    "    'Day_of_Month',\n",
    "    'Day_of_Week',\n",
    "    'Scheduled_Departure_Time',\n",
    "    'Scheduled_Departure_Time_Minutes',\n",
    "    'Target'\n",
    "]\n",
    "\n",
    "for col in int_columns:\n",
    "    df[col] = df[col].astype(np.int32)\n",
    "    df_g[col] = df_g[col].astype(np.int32)"
   ]
  },
  {
   "cell_type": "code",
   "execution_count": 6,
   "id": "53a928cb",
   "metadata": {
    "id": "53a928cb"
   },
   "outputs": [],
   "source": [
    "# Convert continuous numeric features to float32\n",
    "float_columns = [\n",
    "\n",
    "    'Flight_Distance_Miles',\n",
    "    'Air_Temperature_Fahrenheit',\n",
    "    'Dew_Point_Temperature_Fahrenheit',\n",
    "    'Relative_Humidity_Percent',\n",
    "    'Wind_Direction_Degrees',\n",
    "    'Wind_Speed_Knots',\n",
    "    'Hourly_Precipitation_Inches',\n",
    "    'Pressure_Altimeter_Inches',\n",
    "    'Sea_Level_Pressure_Millibar',\n",
    "    'Visibility_Miles',\n",
    "    'Sky_Level_1_Altitude_Feet',\n",
    "    'Apparent_Temperature_Fahrenheit',\n",
    "]\n",
    "\n",
    "for col in float_columns:\n",
    "    df[col] = df[col].astype(np.float32)\n",
    "    df_g[col] = df_g[col].astype(np.float32)"
   ]
  },
  {
   "cell_type": "code",
   "execution_count": 7,
   "id": "61bd0134",
   "metadata": {
    "id": "61bd0134"
   },
   "outputs": [],
   "source": [
    "# Convert categorical features to 'category' dtype\n",
    "categorical_columns = [\n",
    "    'Operating_Carrier_Code',\n",
    "    'Tail_Number',\n",
    "    'Origin_Airport_ID',\n",
    "    'Origin_Airport_Code',\n",
    "    'Destination_Airport_Code',\n",
    "    'Destination_State_Name',\n",
    "    'Sky_Cover_Level_1'\n",
    "]\n",
    "\n",
    "for col in categorical_columns:\n",
    "    df[col] = df[col].astype('category')\n",
    "    df_g[col] = df_g[col].astype('category')"
   ]
  },
  {
   "cell_type": "code",
   "execution_count": 8,
   "id": "kDHUI874fSQR",
   "metadata": {
    "id": "kDHUI874fSQR"
   },
   "outputs": [
    {
     "data": {
      "text/plain": [
       "\"\\ncategorical_cols = [\\n    'Operating_Carrier_Code',\\n    'Tail_Number',\\n    'Origin_Airport_ID',\\n    'Origin_Airport_Code',\\n    'Destination_Airport_Code',\\n    'Destination_State_Name',\\n    'Sky_Cover_Level_1'\\n]\\n\\n# Perform one-hot encoding and save back to df\\ndf = pd.get_dummies(df, columns=categorical_cols)\\ndf_g = pd.get_dummies(df_g, columns=categorical_cols)\\n\\n\""
      ]
     },
     "execution_count": 8,
     "metadata": {},
     "output_type": "execute_result"
    }
   ],
   "source": [
    "\"\"\"\n",
    "categorical_cols = [\n",
    "    'Operating_Carrier_Code',\n",
    "    'Tail_Number',\n",
    "    'Origin_Airport_ID',\n",
    "    'Origin_Airport_Code',\n",
    "    'Destination_Airport_Code',\n",
    "    'Destination_State_Name',\n",
    "    'Sky_Cover_Level_1'\n",
    "]\n",
    "\n",
    "# Perform one-hot encoding and save back to df\n",
    "df = pd.get_dummies(df, columns=categorical_cols)\n",
    "df_g = pd.get_dummies(df_g, columns=categorical_cols)\n",
    "\n",
    "\"\"\"\n"
   ]
  },
  {
   "cell_type": "code",
   "execution_count": 9,
   "id": "7884acc9",
   "metadata": {
    "colab": {
     "base_uri": "https://localhost:8080/"
    },
    "id": "7884acc9",
    "outputId": "9d66a7f8-19a6-41a4-e0bb-cd05593e3d53"
   },
   "outputs": [
    {
     "name": "stdout",
     "output_type": "stream",
     "text": [
      "<class 'pandas.core.frame.DataFrame'>\n",
      "RangeIndex: 2969937 entries, 0 to 2969936\n",
      "Data columns (total 27 columns):\n",
      " #   Column                            Dtype   \n",
      "---  ------                            -----   \n",
      " 0   Year                              int32   \n",
      " 1   Quarter                           int32   \n",
      " 2   Month                             int32   \n",
      " 3   Day_of_Month                      int32   \n",
      " 4   Day_of_Week                       int32   \n",
      " 5   Operating_Carrier_Code            category\n",
      " 6   Tail_Number                       category\n",
      " 7   Origin_Airport_ID                 category\n",
      " 8   Origin_Airport_Code               category\n",
      " 9   Destination_Airport_Code          category\n",
      " 10  Destination_State_Name            category\n",
      " 11  Scheduled_Departure_Time          int32   \n",
      " 12  Flight_Distance_Miles             float32 \n",
      " 13  Scheduled_Departure_Time_Minutes  int32   \n",
      " 14  Air_Temperature_Fahrenheit        float32 \n",
      " 15  Dew_Point_Temperature_Fahrenheit  float32 \n",
      " 16  Relative_Humidity_Percent         float32 \n",
      " 17  Wind_Direction_Degrees            float32 \n",
      " 18  Wind_Speed_Knots                  float32 \n",
      " 19  Hourly_Precipitation_Inches       float32 \n",
      " 20  Pressure_Altimeter_Inches         float32 \n",
      " 21  Sea_Level_Pressure_Millibar       float32 \n",
      " 22  Visibility_Miles                  float32 \n",
      " 23  Sky_Cover_Level_1                 category\n",
      " 24  Sky_Level_1_Altitude_Feet         float32 \n",
      " 25  Apparent_Temperature_Fahrenheit   float32 \n",
      " 26  Target                            int32   \n",
      "dtypes: category(7), float32(12), int32(8)\n",
      "memory usage: 252.4 MB\n",
      "<class 'pandas.core.frame.DataFrame'>\n",
      "RangeIndex: 3107731 entries, 0 to 3107730\n",
      "Data columns (total 27 columns):\n",
      " #   Column                            Dtype   \n",
      "---  ------                            -----   \n",
      " 0   Year                              int32   \n",
      " 1   Quarter                           int32   \n",
      " 2   Month                             int32   \n",
      " 3   Day_of_Month                      int32   \n",
      " 4   Day_of_Week                       int32   \n",
      " 5   Operating_Carrier_Code            category\n",
      " 6   Tail_Number                       category\n",
      " 7   Origin_Airport_ID                 category\n",
      " 8   Origin_Airport_Code               category\n",
      " 9   Destination_Airport_Code          category\n",
      " 10  Destination_State_Name            category\n",
      " 11  Scheduled_Departure_Time          int32   \n",
      " 12  Flight_Distance_Miles             float32 \n",
      " 13  Scheduled_Departure_Time_Minutes  int32   \n",
      " 14  Air_Temperature_Fahrenheit        float32 \n",
      " 15  Dew_Point_Temperature_Fahrenheit  float32 \n",
      " 16  Relative_Humidity_Percent         float32 \n",
      " 17  Wind_Direction_Degrees            float32 \n",
      " 18  Wind_Speed_Knots                  float32 \n",
      " 19  Hourly_Precipitation_Inches       float32 \n",
      " 20  Pressure_Altimeter_Inches         float32 \n",
      " 21  Sea_Level_Pressure_Millibar       float32 \n",
      " 22  Visibility_Miles                  float32 \n",
      " 23  Sky_Cover_Level_1                 category\n",
      " 24  Sky_Level_1_Altitude_Feet         float32 \n",
      " 25  Apparent_Temperature_Fahrenheit   float32 \n",
      " 26  Target                            int32   \n",
      "dtypes: category(7), float32(12), int32(8)\n",
      "memory usage: 264.1 MB\n"
     ]
    }
   ],
   "source": [
    "df.info()\n",
    "df_g.info()"
   ]
  },
  {
   "cell_type": "code",
   "execution_count": 13,
   "id": "8RYiBRaWH-EB",
   "metadata": {
    "colab": {
     "base_uri": "https://localhost:8080/"
    },
    "id": "8RYiBRaWH-EB",
    "outputId": "f69fc045-d640-40cd-fbae-0f23a1372009"
   },
   "outputs": [
    {
     "data": {
      "text/plain": [
       "(3107731, 27)"
      ]
     },
     "execution_count": 13,
     "metadata": {},
     "output_type": "execute_result"
    }
   ],
   "source": [
    "df.shape\n",
    "df_g.shape"
   ]
  },
  {
   "cell_type": "code",
   "execution_count": 14,
   "id": "0L5o06T6IFaM",
   "metadata": {
    "colab": {
     "base_uri": "https://localhost:8080/",
     "height": 256
    },
    "id": "0L5o06T6IFaM",
    "outputId": "2ab3ae43-6ebe-4c65-c643-90115ea77d1a"
   },
   "outputs": [
    {
     "data": {
      "text/html": [
       "<div>\n",
       "<style scoped>\n",
       "    .dataframe tbody tr th:only-of-type {\n",
       "        vertical-align: middle;\n",
       "    }\n",
       "\n",
       "    .dataframe tbody tr th {\n",
       "        vertical-align: top;\n",
       "    }\n",
       "\n",
       "    .dataframe thead th {\n",
       "        text-align: right;\n",
       "    }\n",
       "</style>\n",
       "<table border=\"1\" class=\"dataframe\">\n",
       "  <thead>\n",
       "    <tr style=\"text-align: right;\">\n",
       "      <th></th>\n",
       "      <th>Year</th>\n",
       "      <th>Quarter</th>\n",
       "      <th>Month</th>\n",
       "      <th>Day_of_Month</th>\n",
       "      <th>Day_of_Week</th>\n",
       "      <th>Operating_Carrier_Code</th>\n",
       "      <th>Tail_Number</th>\n",
       "      <th>Origin_Airport_ID</th>\n",
       "      <th>Origin_Airport_Code</th>\n",
       "      <th>Destination_Airport_Code</th>\n",
       "      <th>...</th>\n",
       "      <th>Wind_Direction_Degrees</th>\n",
       "      <th>Wind_Speed_Knots</th>\n",
       "      <th>Hourly_Precipitation_Inches</th>\n",
       "      <th>Pressure_Altimeter_Inches</th>\n",
       "      <th>Sea_Level_Pressure_Millibar</th>\n",
       "      <th>Visibility_Miles</th>\n",
       "      <th>Sky_Cover_Level_1</th>\n",
       "      <th>Sky_Level_1_Altitude_Feet</th>\n",
       "      <th>Apparent_Temperature_Fahrenheit</th>\n",
       "      <th>Target</th>\n",
       "    </tr>\n",
       "  </thead>\n",
       "  <tbody>\n",
       "    <tr>\n",
       "      <th>0</th>\n",
       "      <td>2014</td>\n",
       "      <td>2</td>\n",
       "      <td>4</td>\n",
       "      <td>1</td>\n",
       "      <td>2</td>\n",
       "      <td>AA</td>\n",
       "      <td>N359AA</td>\n",
       "      <td>13930.0</td>\n",
       "      <td>ORD</td>\n",
       "      <td>DFW</td>\n",
       "      <td>...</td>\n",
       "      <td>260.0</td>\n",
       "      <td>15.0</td>\n",
       "      <td>0.0</td>\n",
       "      <td>30.0</td>\n",
       "      <td>1014.200012</td>\n",
       "      <td>10.0</td>\n",
       "      <td>SCT</td>\n",
       "      <td>22000.0</td>\n",
       "      <td>40.279999</td>\n",
       "      <td>0</td>\n",
       "    </tr>\n",
       "    <tr>\n",
       "      <th>1</th>\n",
       "      <td>2014</td>\n",
       "      <td>2</td>\n",
       "      <td>4</td>\n",
       "      <td>1</td>\n",
       "      <td>2</td>\n",
       "      <td>AA</td>\n",
       "      <td>N3ADAA</td>\n",
       "      <td>13930.0</td>\n",
       "      <td>ORD</td>\n",
       "      <td>LAS</td>\n",
       "      <td>...</td>\n",
       "      <td>260.0</td>\n",
       "      <td>24.0</td>\n",
       "      <td>0.0</td>\n",
       "      <td>30.0</td>\n",
       "      <td>1008.900024</td>\n",
       "      <td>10.0</td>\n",
       "      <td>SCT</td>\n",
       "      <td>2800.0</td>\n",
       "      <td>20.440001</td>\n",
       "      <td>0</td>\n",
       "    </tr>\n",
       "    <tr>\n",
       "      <th>2</th>\n",
       "      <td>2014</td>\n",
       "      <td>2</td>\n",
       "      <td>4</td>\n",
       "      <td>1</td>\n",
       "      <td>2</td>\n",
       "      <td>AA</td>\n",
       "      <td>N3AKAA</td>\n",
       "      <td>13930.0</td>\n",
       "      <td>ORD</td>\n",
       "      <td>MIA</td>\n",
       "      <td>...</td>\n",
       "      <td>220.0</td>\n",
       "      <td>15.0</td>\n",
       "      <td>0.0</td>\n",
       "      <td>30.0</td>\n",
       "      <td>1004.200012</td>\n",
       "      <td>10.0</td>\n",
       "      <td>SCT</td>\n",
       "      <td>4300.0</td>\n",
       "      <td>55.040001</td>\n",
       "      <td>0</td>\n",
       "    </tr>\n",
       "    <tr>\n",
       "      <th>3</th>\n",
       "      <td>2014</td>\n",
       "      <td>2</td>\n",
       "      <td>4</td>\n",
       "      <td>1</td>\n",
       "      <td>2</td>\n",
       "      <td>AA</td>\n",
       "      <td>N3AKAA</td>\n",
       "      <td>13930.0</td>\n",
       "      <td>ORD</td>\n",
       "      <td>SEA</td>\n",
       "      <td>...</td>\n",
       "      <td>250.0</td>\n",
       "      <td>20.0</td>\n",
       "      <td>0.0</td>\n",
       "      <td>30.0</td>\n",
       "      <td>1011.500000</td>\n",
       "      <td>10.0</td>\n",
       "      <td>OVC</td>\n",
       "      <td>2600.0</td>\n",
       "      <td>21.740000</td>\n",
       "      <td>0</td>\n",
       "    </tr>\n",
       "    <tr>\n",
       "      <th>4</th>\n",
       "      <td>2014</td>\n",
       "      <td>2</td>\n",
       "      <td>4</td>\n",
       "      <td>1</td>\n",
       "      <td>2</td>\n",
       "      <td>AA</td>\n",
       "      <td>N3ANAA</td>\n",
       "      <td>13930.0</td>\n",
       "      <td>ORD</td>\n",
       "      <td>LAX</td>\n",
       "      <td>...</td>\n",
       "      <td>220.0</td>\n",
       "      <td>15.0</td>\n",
       "      <td>0.0</td>\n",
       "      <td>30.0</td>\n",
       "      <td>1004.200012</td>\n",
       "      <td>10.0</td>\n",
       "      <td>CLR</td>\n",
       "      <td>4700.0</td>\n",
       "      <td>55.259998</td>\n",
       "      <td>0</td>\n",
       "    </tr>\n",
       "  </tbody>\n",
       "</table>\n",
       "<p>5 rows × 27 columns</p>\n",
       "</div>"
      ],
      "text/plain": [
       "   Year  Quarter  Month  Day_of_Month  Day_of_Week Operating_Carrier_Code  \\\n",
       "0  2014        2      4             1            2                     AA   \n",
       "1  2014        2      4             1            2                     AA   \n",
       "2  2014        2      4             1            2                     AA   \n",
       "3  2014        2      4             1            2                     AA   \n",
       "4  2014        2      4             1            2                     AA   \n",
       "\n",
       "  Tail_Number Origin_Airport_ID Origin_Airport_Code Destination_Airport_Code  \\\n",
       "0      N359AA           13930.0                 ORD                      DFW   \n",
       "1      N3ADAA           13930.0                 ORD                      LAS   \n",
       "2      N3AKAA           13930.0                 ORD                      MIA   \n",
       "3      N3AKAA           13930.0                 ORD                      SEA   \n",
       "4      N3ANAA           13930.0                 ORD                      LAX   \n",
       "\n",
       "   ... Wind_Direction_Degrees  Wind_Speed_Knots  Hourly_Precipitation_Inches  \\\n",
       "0  ...                  260.0              15.0                          0.0   \n",
       "1  ...                  260.0              24.0                          0.0   \n",
       "2  ...                  220.0              15.0                          0.0   \n",
       "3  ...                  250.0              20.0                          0.0   \n",
       "4  ...                  220.0              15.0                          0.0   \n",
       "\n",
       "   Pressure_Altimeter_Inches  Sea_Level_Pressure_Millibar  Visibility_Miles  \\\n",
       "0                       30.0                  1014.200012              10.0   \n",
       "1                       30.0                  1008.900024              10.0   \n",
       "2                       30.0                  1004.200012              10.0   \n",
       "3                       30.0                  1011.500000              10.0   \n",
       "4                       30.0                  1004.200012              10.0   \n",
       "\n",
       "   Sky_Cover_Level_1  Sky_Level_1_Altitude_Feet  \\\n",
       "0                SCT                    22000.0   \n",
       "1                SCT                     2800.0   \n",
       "2                SCT                     4300.0   \n",
       "3                OVC                     2600.0   \n",
       "4                CLR                     4700.0   \n",
       "\n",
       "   Apparent_Temperature_Fahrenheit  Target  \n",
       "0                        40.279999       0  \n",
       "1                        20.440001       0  \n",
       "2                        55.040001       0  \n",
       "3                        21.740000       0  \n",
       "4                        55.259998       0  \n",
       "\n",
       "[5 rows x 27 columns]"
      ]
     },
     "execution_count": 14,
     "metadata": {},
     "output_type": "execute_result"
    }
   ],
   "source": [
    "df.head()"
   ]
  },
  {
   "cell_type": "code",
   "execution_count": 15,
   "id": "Brk7m1EgIIrR",
   "metadata": {
    "colab": {
     "base_uri": "https://localhost:8080/",
     "height": 256
    },
    "id": "Brk7m1EgIIrR",
    "outputId": "8745234a-7ffb-415a-f6fd-bd423f670758"
   },
   "outputs": [
    {
     "data": {
      "text/html": [
       "<div>\n",
       "<style scoped>\n",
       "    .dataframe tbody tr th:only-of-type {\n",
       "        vertical-align: middle;\n",
       "    }\n",
       "\n",
       "    .dataframe tbody tr th {\n",
       "        vertical-align: top;\n",
       "    }\n",
       "\n",
       "    .dataframe thead th {\n",
       "        text-align: right;\n",
       "    }\n",
       "</style>\n",
       "<table border=\"1\" class=\"dataframe\">\n",
       "  <thead>\n",
       "    <tr style=\"text-align: right;\">\n",
       "      <th></th>\n",
       "      <th>Year</th>\n",
       "      <th>Quarter</th>\n",
       "      <th>Month</th>\n",
       "      <th>Day_of_Month</th>\n",
       "      <th>Day_of_Week</th>\n",
       "      <th>Operating_Carrier_Code</th>\n",
       "      <th>Tail_Number</th>\n",
       "      <th>Origin_Airport_ID</th>\n",
       "      <th>Origin_Airport_Code</th>\n",
       "      <th>Destination_Airport_Code</th>\n",
       "      <th>...</th>\n",
       "      <th>Wind_Direction_Degrees</th>\n",
       "      <th>Wind_Speed_Knots</th>\n",
       "      <th>Hourly_Precipitation_Inches</th>\n",
       "      <th>Pressure_Altimeter_Inches</th>\n",
       "      <th>Sea_Level_Pressure_Millibar</th>\n",
       "      <th>Visibility_Miles</th>\n",
       "      <th>Sky_Cover_Level_1</th>\n",
       "      <th>Sky_Level_1_Altitude_Feet</th>\n",
       "      <th>Apparent_Temperature_Fahrenheit</th>\n",
       "      <th>Target</th>\n",
       "    </tr>\n",
       "  </thead>\n",
       "  <tbody>\n",
       "    <tr>\n",
       "      <th>0</th>\n",
       "      <td>2014</td>\n",
       "      <td>2</td>\n",
       "      <td>4</td>\n",
       "      <td>1</td>\n",
       "      <td>2</td>\n",
       "      <td>AA</td>\n",
       "      <td>N012AA</td>\n",
       "      <td>10397.0</td>\n",
       "      <td>ATL</td>\n",
       "      <td>DFW</td>\n",
       "      <td>...</td>\n",
       "      <td>210.0</td>\n",
       "      <td>10.0</td>\n",
       "      <td>0.0</td>\n",
       "      <td>30.0</td>\n",
       "      <td>1018.200012</td>\n",
       "      <td>10.0</td>\n",
       "      <td>FEW</td>\n",
       "      <td>12000.0</td>\n",
       "      <td>78.419998</td>\n",
       "      <td>0</td>\n",
       "    </tr>\n",
       "    <tr>\n",
       "      <th>1</th>\n",
       "      <td>2014</td>\n",
       "      <td>2</td>\n",
       "      <td>4</td>\n",
       "      <td>1</td>\n",
       "      <td>2</td>\n",
       "      <td>AA</td>\n",
       "      <td>N013AA</td>\n",
       "      <td>10397.0</td>\n",
       "      <td>ATL</td>\n",
       "      <td>DFW</td>\n",
       "      <td>...</td>\n",
       "      <td>70.0</td>\n",
       "      <td>1.0</td>\n",
       "      <td>0.0</td>\n",
       "      <td>30.0</td>\n",
       "      <td>1018.700012</td>\n",
       "      <td>10.0</td>\n",
       "      <td>BKN</td>\n",
       "      <td>25000.0</td>\n",
       "      <td>57.020000</td>\n",
       "      <td>0</td>\n",
       "    </tr>\n",
       "    <tr>\n",
       "      <th>2</th>\n",
       "      <td>2014</td>\n",
       "      <td>2</td>\n",
       "      <td>4</td>\n",
       "      <td>1</td>\n",
       "      <td>2</td>\n",
       "      <td>AA</td>\n",
       "      <td>N015AA</td>\n",
       "      <td>10397.0</td>\n",
       "      <td>ATL</td>\n",
       "      <td>DFW</td>\n",
       "      <td>...</td>\n",
       "      <td>310.0</td>\n",
       "      <td>6.0</td>\n",
       "      <td>0.0</td>\n",
       "      <td>30.0</td>\n",
       "      <td>1021.299988</td>\n",
       "      <td>10.0</td>\n",
       "      <td>SCT</td>\n",
       "      <td>12000.0</td>\n",
       "      <td>65.300003</td>\n",
       "      <td>0</td>\n",
       "    </tr>\n",
       "    <tr>\n",
       "      <th>3</th>\n",
       "      <td>2014</td>\n",
       "      <td>2</td>\n",
       "      <td>4</td>\n",
       "      <td>1</td>\n",
       "      <td>2</td>\n",
       "      <td>AA</td>\n",
       "      <td>N3AWAA</td>\n",
       "      <td>10397.0</td>\n",
       "      <td>ATL</td>\n",
       "      <td>MIA</td>\n",
       "      <td>...</td>\n",
       "      <td>300.0</td>\n",
       "      <td>5.0</td>\n",
       "      <td>0.0</td>\n",
       "      <td>30.0</td>\n",
       "      <td>1021.200012</td>\n",
       "      <td>10.0</td>\n",
       "      <td>SCT</td>\n",
       "      <td>12000.0</td>\n",
       "      <td>66.559998</td>\n",
       "      <td>0</td>\n",
       "    </tr>\n",
       "    <tr>\n",
       "      <th>4</th>\n",
       "      <td>2014</td>\n",
       "      <td>2</td>\n",
       "      <td>4</td>\n",
       "      <td>1</td>\n",
       "      <td>2</td>\n",
       "      <td>AA</td>\n",
       "      <td>N3BUAA</td>\n",
       "      <td>10397.0</td>\n",
       "      <td>ATL</td>\n",
       "      <td>MIA</td>\n",
       "      <td>...</td>\n",
       "      <td>290.0</td>\n",
       "      <td>3.0</td>\n",
       "      <td>0.0</td>\n",
       "      <td>30.0</td>\n",
       "      <td>1018.599976</td>\n",
       "      <td>10.0</td>\n",
       "      <td>BKN</td>\n",
       "      <td>25000.0</td>\n",
       "      <td>56.480000</td>\n",
       "      <td>0</td>\n",
       "    </tr>\n",
       "  </tbody>\n",
       "</table>\n",
       "<p>5 rows × 27 columns</p>\n",
       "</div>"
      ],
      "text/plain": [
       "   Year  Quarter  Month  Day_of_Month  Day_of_Week Operating_Carrier_Code  \\\n",
       "0  2014        2      4             1            2                     AA   \n",
       "1  2014        2      4             1            2                     AA   \n",
       "2  2014        2      4             1            2                     AA   \n",
       "3  2014        2      4             1            2                     AA   \n",
       "4  2014        2      4             1            2                     AA   \n",
       "\n",
       "  Tail_Number Origin_Airport_ID Origin_Airport_Code Destination_Airport_Code  \\\n",
       "0      N012AA           10397.0                 ATL                      DFW   \n",
       "1      N013AA           10397.0                 ATL                      DFW   \n",
       "2      N015AA           10397.0                 ATL                      DFW   \n",
       "3      N3AWAA           10397.0                 ATL                      MIA   \n",
       "4      N3BUAA           10397.0                 ATL                      MIA   \n",
       "\n",
       "   ... Wind_Direction_Degrees  Wind_Speed_Knots  Hourly_Precipitation_Inches  \\\n",
       "0  ...                  210.0              10.0                          0.0   \n",
       "1  ...                   70.0               1.0                          0.0   \n",
       "2  ...                  310.0               6.0                          0.0   \n",
       "3  ...                  300.0               5.0                          0.0   \n",
       "4  ...                  290.0               3.0                          0.0   \n",
       "\n",
       "   Pressure_Altimeter_Inches  Sea_Level_Pressure_Millibar  Visibility_Miles  \\\n",
       "0                       30.0                  1018.200012              10.0   \n",
       "1                       30.0                  1018.700012              10.0   \n",
       "2                       30.0                  1021.299988              10.0   \n",
       "3                       30.0                  1021.200012              10.0   \n",
       "4                       30.0                  1018.599976              10.0   \n",
       "\n",
       "   Sky_Cover_Level_1  Sky_Level_1_Altitude_Feet  \\\n",
       "0                FEW                    12000.0   \n",
       "1                BKN                    25000.0   \n",
       "2                SCT                    12000.0   \n",
       "3                SCT                    12000.0   \n",
       "4                BKN                    25000.0   \n",
       "\n",
       "   Apparent_Temperature_Fahrenheit  Target  \n",
       "0                        78.419998       0  \n",
       "1                        57.020000       0  \n",
       "2                        65.300003       0  \n",
       "3                        66.559998       0  \n",
       "4                        56.480000       0  \n",
       "\n",
       "[5 rows x 27 columns]"
      ]
     },
     "execution_count": 15,
     "metadata": {},
     "output_type": "execute_result"
    }
   ],
   "source": [
    "df_g.head()"
   ]
  },
  {
   "cell_type": "markdown",
   "id": "oS2apHGjIhP3",
   "metadata": {
    "id": "oS2apHGjIhP3"
   },
   "source": [
    "Now we subset the data to get data for four seasons. We will use January for winter, April for spring, July for summer and October for fall."
   ]
  },
  {
   "cell_type": "code",
   "execution_count": 16,
   "id": "lC5IJhhdJEvJ",
   "metadata": {
    "id": "lC5IJhhdJEvJ"
   },
   "outputs": [],
   "source": [
    "winter_il = df[df['Month'] == 1]\n",
    "spring_il = df[df['Month'] == 4]\n",
    "summer_il = df[df['Month'] == 7]\n",
    "fall_il = df[df['Month'] == 10]\n",
    "\n",
    "winter_ga = df_g[df_g['Month'] == 1]\n",
    "spring_ga = df_g[df_g['Month'] == 4]\n",
    "summer_ga = df_g[df_g['Month'] == 7]\n",
    "fall_ga = df_g[df_g['Month'] == 10]"
   ]
  },
  {
   "cell_type": "code",
   "execution_count": 17,
   "id": "Xl5qh-6lKl9Y",
   "metadata": {
    "id": "Xl5qh-6lKl9Y"
   },
   "outputs": [],
   "source": [
    "# IL sperating flight and weather data into its seprate dataframes\n",
    "#winter\n",
    "winter_il_flight = winter_il.iloc[:, :14]\n",
    "winter_il_flight['Target'] = winter_il['Target']\n",
    "winter_il_weather = winter_il.iloc[:, 14:]\n",
    "winter_il_weather['Target'] = winter_il['Target']\n",
    "winter_il_weather['Year'] = winter_il['Year']\n",
    "\n",
    "\n",
    "#spring\n",
    "spring_il_flight = spring_il.iloc[:, :14]\n",
    "spring_il_flight['Target'] = spring_il['Target']\n",
    "spring_il_weather = spring_il.iloc[:, 14:]\n",
    "spring_il_weather['Target'] = spring_il['Target']\n",
    "spring_il_weather['Year'] = spring_il['Year']\n",
    "\n",
    "#summer\n",
    "summer_il_flight = summer_il.iloc[:, :14]\n",
    "summer_il_flight['Target'] = summer_il['Target']\n",
    "summer_il_weather = summer_il.iloc[:, 14:]\n",
    "summer_il_weather['Target'] = summer_il['Target']\n",
    "summer_il_weather['Year'] = summer_il['Year']\n",
    "\n",
    "\n",
    "#fall\n",
    "fall_il_flight = fall_il.iloc[:, :14]\n",
    "fall_il_flight['Target'] = fall_il['Target']\n",
    "fall_il_weather = fall_il.iloc[:, 14:]\n",
    "fall_il_weather['Target'] = fall_il['Target']\n",
    "fall_il_weather['Year'] = fall_il['Year']\n",
    "\n",
    "\n",
    "# GA\n",
    "#winter\n",
    "winter_ga_flight = winter_ga.iloc[:, :14]\n",
    "winter_ga_flight['Target'] = winter_ga['Target']\n",
    "winter_ga_weather = winter_ga.iloc[:, 14:]\n",
    "winter_ga_weather['Target'] = winter_ga['Target']\n",
    "winter_ga_weather['Year'] = winter_ga['Year']\n",
    "\n",
    "\n",
    "#spring\n",
    "spring_ga_flight = spring_ga.iloc[:, :14]\n",
    "spring_ga_flight['Target'] = spring_ga['Target']\n",
    "spring_ga_weather = spring_ga.iloc[:, 14:]\n",
    "spring_ga_weather['Target'] = spring_ga['Target']\n",
    "spring_ga_weather['Year'] = spring_ga['Year']\n",
    "\n",
    "#summer\n",
    "summer_ga_flight = summer_ga.iloc[:, :14]\n",
    "summer_ga_flight['Target'] = summer_ga['Target']\n",
    "summer_ga_weather = summer_ga.iloc[:, 14:]\n",
    "summer_ga_weather['Target'] = summer_ga['Target']\n",
    "summer_ga_weather['Year'] = summer_ga['Year']\n",
    "\n",
    "#fall\n",
    "fall_ga_flight = fall_ga.iloc[:, :14]\n",
    "fall_ga_flight['Target'] = fall_ga['Target']\n",
    "fall_ga_weather = fall_ga.iloc[:, 14:]\n",
    "fall_ga_weather['Target'] = fall_ga['Target']\n",
    "fall_ga_weather['Year'] = fall_ga['Year']"
   ]
  },
  {
   "cell_type": "code",
   "execution_count": 18,
   "id": "ed9595ef",
   "metadata": {
    "id": "ed9595ef"
   },
   "outputs": [],
   "source": [
    "# Define years for train, validation, and test sets\n",
    "train_years = [2014, 2015, 2016, 2017, 2018, 2019]\n",
    "val_years = [2020, 2021, 2022]\n",
    "test_years = [2023, 2024]"
   ]
  },
  {
   "cell_type": "markdown",
   "id": "ofoWi7QVZIqn",
   "metadata": {
    "id": "ofoWi7QVZIqn"
   },
   "source": [
    "# Winter (January) Models for Illinois Data"
   ]
  },
  {
   "cell_type": "code",
   "execution_count": 19,
   "id": "mJuVRnr9NJzB",
   "metadata": {
    "id": "mJuVRnr9NJzB"
   },
   "outputs": [],
   "source": [
    "# prompt: for winter_il, winter_il_flight and winter_il_weather split the data into training, testing, and validation given those years\n",
    "\n",
    "# Split data into train, validation, and test sets for winter_il, winter_il_flight, and winter_il_weather\n",
    "# Assuming 'Year' column exists in your dataframes\n",
    "\n",
    "winter_il_train = winter_il[winter_il['Year'].isin(train_years)]\n",
    "winter_il_val = winter_il[winter_il['Year'].isin(val_years)]\n",
    "winter_il_test = winter_il[winter_il['Year'].isin(test_years)]\n",
    "\n",
    "winter_il_flight_train = winter_il_flight[winter_il_flight['Year'].isin(train_years)]\n",
    "winter_il_flight_val = winter_il_flight[winter_il_flight['Year'].isin(val_years)]\n",
    "winter_il_flight_test = winter_il_flight[winter_il_flight['Year'].isin(test_years)]\n",
    "\n",
    "winter_il_weather_train = winter_il_weather[winter_il_weather['Year'].isin(train_years)]\n",
    "winter_il_weather_val = winter_il_weather[winter_il_weather['Year'].isin(val_years)]\n",
    "winter_il_weather_test = winter_il_weather[winter_il_weather['Year'].isin(test_years)]"
   ]
  },
  {
   "cell_type": "code",
   "execution_count": 20,
   "id": "3b13a6e7",
   "metadata": {},
   "outputs": [],
   "source": [
    "# Convert categorical variables to numerical codes\n",
    "\n",
    "winter_il_train = winter_il_train.apply(lambda x: x.cat.codes if x.dtype.name == 'category' else x)\n",
    "winter_il_val = winter_il_val.apply(lambda x: x.cat.codes if x.dtype.name == 'category' else x)\n",
    "winter_il_test = winter_il_test.apply(lambda x: x.cat.codes if x.dtype.name == 'category' else x)\n",
    "\n",
    "winter_il_flight_train = winter_il_flight_train.apply(lambda x: x.cat.codes if x.dtype.name == 'category' else x)\n",
    "winter_il_flight_val = winter_il_flight_val.apply(lambda x: x.cat.codes if x.dtype.name == 'category' else x)\n",
    "winter_il_flight_test = winter_il_flight_test.apply(lambda x: x.cat.codes if x.dtype.name == 'category' else x)\n",
    "\n",
    "winter_il_weather_train = winter_il_weather_train.apply(lambda x: x.cat.codes if x.dtype.name == 'category' else x)\n",
    "winter_il_weather_val = winter_il_weather_val.apply(lambda x: x.cat.codes if x.dtype.name == 'category' else x)\n",
    "winter_il_weather_test = winter_il_weather_test.apply(lambda x: x.cat.codes if x.dtype.name == 'category' else x)"
   ]
  },
  {
   "cell_type": "code",
   "execution_count": 30,
   "id": "AruEEfRDaOrD",
   "metadata": {
    "colab": {
     "base_uri": "https://localhost:8080/",
     "height": 564
    },
    "id": "AruEEfRDaOrD",
    "outputId": "2bae231e-e6c9-42af-9c88-70919f8f86be"
   },
   "outputs": [
    {
     "data": {
      "image/png": "[encoded data removed]",
      "text/plain": [
       "<Figure size 576x432 with 1 Axes>"
      ]
     },
     "metadata": {
      "needs_background": "light"
     },
     "output_type": "display_data"
    }
   ],
   "source": [
    "# prompt: plot the distribution of the Target variable\n",
    "\n",
    "# Plot the distribution of the 'Target' variable for the winter_il dataset\n",
    "plt.figure(figsize=(8, 6))\n",
    "sns.countplot(x='Target', data=winter_il, color = 'blue')\n",
    "plt.title('Distribution of Target Variable (Winter - Illinois)')\n",
    "plt.xlabel('Target(0: No Delay, 1: Delay)')\n",
    "plt.ylabel('Count')\n",
    "plt.show()"
   ]
  },
  {
   "cell_type": "code",
   "execution_count": 31,
   "id": "OpoGAmRNaO1j",
   "metadata": {
    "colab": {
     "base_uri": "https://localhost:8080/",
     "height": 216
    },
    "id": "OpoGAmRNaO1j",
    "outputId": "f6e1b121-45ac-4e24-ad1d-2154a007104c"
   },
   "outputs": [],
   "source": [
    "from sklearn.preprocessing import LabelEncoder\n",
    "\n",
    "smote = SMOTE(random_state=42)\n",
    "\n",
    "X_winter_il_train = winter_il_train.drop('Target', axis=1)\n",
    "y_winter_il_train = winter_il_train['Target']\n",
    "X_winter_il_train_res, y_winter_il_train_res = smote.fit_resample(X_winter_il_train, y_winter_il_train)\n",
    "\n",
    "X_winter_il_flight_train = winter_il_flight_train.drop('Target', axis=1)\n",
    "y_winter_il_flight_train = winter_il_flight_train['Target']\n",
    "X_winter_il_flight_train_res, y_winter_il_flight_train_res = smote.fit_resample(X_winter_il_flight_train, y_winter_il_flight_train)\n",
    "\n",
    "X_winter_il_weather_train = winter_il_weather_train.drop('Target', axis=1)\n",
    "y_winter_il_weather_train = winter_il_weather_train['Target']\n",
    "X_winter_il_weather_train_res, y_winter_il_weather_train_res = smote.fit_resample(X_winter_il_weather_train, y_winter_il_weather_train)\n",
    "\n",
    "# Combine the resampled features and target variable\n",
    "winter_il_train_res = pd.concat([X_winter_il_train_res, y_winter_il_train_res], axis=1)\n",
    "winter_il_flight_train_res = pd.concat([X_winter_il_flight_train_res, y_winter_il_flight_train_res], axis=1)\n",
    "winter_il_weather_train_res = pd.concat([X_winter_il_weather_train_res, y_winter_il_weather_train_res], axis=1)\n"
   ]
  },
  {
   "cell_type": "code",
   "execution_count": 33,
   "id": "8E0EP9e7aO38",
   "metadata": {
    "id": "8E0EP9e7aO38"
   },
   "outputs": [
    {
     "data": {
      "image/png": "[encoded data removed]",
      "text/plain": [
       "<Figure size 576x432 with 1 Axes>"
      ]
     },
     "metadata": {
      "needs_background": "light"
     },
     "output_type": "display_data"
    }
   ],
   "source": [
    "plt.figure(figsize=(8, 6))\n",
    "sns.countplot(x='Target', data=winter_il_train_res, color = 'blue')\n",
    "plt.title('Distribution of Target Variable after SMOTE Resampling (Winter - Illinois)')\n",
    "plt.xlabel('Target(0: No Delay, 1: Delay)')\n",
    "plt.ylabel('Count')\n",
    "plt.show()"
   ]
  },
  {
   "cell_type": "markdown",
   "id": "5814c301",
   "metadata": {
    "id": "jfa110ZeaO6a"
   },
   "source": [
    "## Winter (January) Weather data only for IL data"
   ]
  },
  {
   "cell_type": "code",
   "execution_count": 66,
   "id": "8a154b59",
   "metadata": {},
   "outputs": [
    {
     "data": {
      "image/png": "[encoded data removed]",
      "text/plain": [
       "<Figure size 576x432 with 1 Axes>"
      ]
     },
     "metadata": {
      "needs_background": "light"
     },
     "output_type": "display_data"
    }
   ],
   "source": [
    "plt.figure(figsize=(8, 6))\n",
    "sns.countplot(x='Target', data=winter_il_weather_train_res, color = 'blue')\n",
    "plt.title('Distribution of Target Variable after SMOTE Resampling (Winter - Illinois Weather Data)')\n",
    "plt.xlabel('Target(0: No Delay, 1: Delay)')\n",
    "plt.ylabel('Count')\n",
    "plt.show()"
   ]
  },
  {
   "cell_type": "code",
   "execution_count": 67,
   "id": "vj61CIQSaO9X",
   "metadata": {
    "id": "vj61CIQSaO9X"
   },
   "outputs": [
    {
     "data": {
      "text/plain": [
       "DecisionTreeClassifier(max_depth=5, max_leaf_nodes=6,\n",
       "                       min_impurity_decrease=0.01, random_state=42)"
      ]
     },
     "execution_count": 67,
     "metadata": {},
     "output_type": "execute_result"
    }
   ],
   "source": [
    "\n",
    "\n",
    "model_winter_weather_IL = DecisionTreeClassifier(\n",
    "    max_depth=5,\n",
    "    max_leaf_nodes=6,\n",
    "    min_impurity_decrease=0.01,\n",
    "    random_state=42\n",
    ")\n",
    "\n",
    "\n",
    "model_winter_weather_IL.fit(X_winter_il_weather_train_res, y_winter_il_weather_train_res)"
   ]
  },
  {
   "cell_type": "code",
   "execution_count": 68,
   "id": "8omNddiGaO_n",
   "metadata": {
    "id": "8omNddiGaO_n"
   },
   "outputs": [
    {
     "name": "stdout",
     "output_type": "stream",
     "text": [
      "Classification Report (Training Set - Weather Data):\n",
      "              precision    recall  f1-score   support\n",
      "\n",
      "           0       0.65      0.51      0.57    115230\n",
      "           1       0.60      0.73      0.66    115230\n",
      "\n",
      "    accuracy                           0.62    230460\n",
      "   macro avg       0.63      0.62      0.62    230460\n",
      "weighted avg       0.63      0.62      0.62    230460\n",
      "\n"
     ]
    }
   ],
   "source": [
    "y_train_weather_pred = model_winter_weather_IL.predict(X_winter_il_weather_train_res)\n",
    "print(\"Classification Report (Training Set - Weather Data):\")\n",
    "print(classification_report(y_winter_il_weather_train_res, y_train_weather_pred))"
   ]
  },
  {
   "cell_type": "code",
   "execution_count": 69,
   "id": "sbd5WaLSaPB3",
   "metadata": {
    "id": "sbd5WaLSaPB3"
   },
   "outputs": [
    {
     "data": {
      "image/png": "[encoded data removed]",
      "text/plain": [
       "<Figure size 720x432 with 1 Axes>"
      ]
     },
     "metadata": {
      "needs_background": "light"
     },
     "output_type": "display_data"
    }
   ],
   "source": [
    "\n",
    "\n",
    "feature_importance = model_winter_weather_IL.feature_importances_\n",
    "\n",
    "\n",
    "feature_importance_df = pd.DataFrame({\n",
    "    'Feature': X_winter_il_weather_train_res.columns,\n",
    "    'Importance': feature_importance\n",
    "})\n",
    "\n",
    "\n",
    "feature_importance_df = feature_importance_df.sort_values(by='Importance', ascending=False)\n",
    "\n",
    "\n",
    "plt.figure(figsize=(10, 6))\n",
    "sns.barplot(x='Importance', y='Feature', data=feature_importance_df, color = 'blue')\n",
    "plt.title('Feature Importance')\n",
    "plt.xlabel('Importance')\n",
    "plt.ylabel('Feature')\n",
    "plt.show()"
   ]
  },
  {
   "cell_type": "markdown",
   "id": "f82133b5",
   "metadata": {
    "id": "6V1YRfQaaPEd"
   },
   "source": [
    "### Validation data for Januray"
   ]
  },
  {
   "cell_type": "code",
   "execution_count": 70,
   "id": "e695c8f7",
   "metadata": {},
   "outputs": [
    {
     "data": {
      "text/plain": [
       "DecisionTreeClassifier(max_depth=5, max_leaf_nodes=6,\n",
       "                       min_impurity_decrease=0.01, random_state=42)"
      ]
     },
     "execution_count": 70,
     "metadata": {},
     "output_type": "execute_result"
    }
   ],
   "source": [
    "\n",
    "X_winter_il_weather_val_res = winter_il_weather_val.drop(['Target', 'Year'], axis=1)  # Drop 'Target' and 'Year'\n",
    "y_winter_il_weather_val_res = winter_il_weather_val['Target']  # 'Target' column as the label\n",
    "\n",
    "\n",
    "model_winter_weather_IL_val = DecisionTreeClassifier(\n",
    "    max_depth=5,\n",
    "    max_leaf_nodes=6,\n",
    "    min_impurity_decrease=0.01,\n",
    "    random_state=42\n",
    ")\n",
    "\n",
    "\n",
    "model_winter_weather_IL_val.fit(X_winter_il_weather_val_res, y_winter_il_weather_val_res)\n"
   ]
  },
  {
   "cell_type": "code",
   "execution_count": 71,
   "id": "47657ebb",
   "metadata": {},
   "outputs": [
    {
     "name": "stdout",
     "output_type": "stream",
     "text": [
      "              precision    recall  f1-score   support\n",
      "\n",
      "           0       0.82      1.00      0.90     47010\n",
      "           1       0.00      0.00      0.00     10370\n",
      "\n",
      "    accuracy                           0.82     57380\n",
      "   macro avg       0.41      0.50      0.45     57380\n",
      "weighted avg       0.67      0.82      0.74     57380\n",
      "\n"
     ]
    }
   ],
   "source": [
    "\n",
    "\n",
    "# Make predictions on the validation data\n",
    "y_pred_winter_il_weather_val_res = model_winter_weather_IL_val.predict(X_winter_il_weather_val_res)\n",
    "\n",
    "# Generate the classification report with zero_division handling\n",
    "report = classification_report(\n",
    "    y_winter_il_weather_val_res, \n",
    "    y_pred_winter_il_weather_val_res,\n",
    "    zero_division=0  # Set to 0 or 1 depending on your preference\n",
    ")\n",
    "\n",
    "# Print the classification report\n",
    "print(report)\n"
   ]
  },
  {
   "cell_type": "code",
   "execution_count": 72,
   "id": "60778aeb",
   "metadata": {},
   "outputs": [
    {
     "data": {
      "image/png": "[encoded data removed]",
      "text/plain": [
       "<Figure size 720x432 with 1 Axes>"
      ]
     },
     "metadata": {
      "needs_background": "light"
     },
     "output_type": "display_data"
    }
   ],
   "source": [
    "feature_importances = model_winter_weather_IL_val.feature_importances_\n",
    "\n",
    "feature_names = X_winter_il_weather_val_res.columns\n",
    "\n",
    "\n",
    "feature_importance_df = pd.DataFrame({\n",
    "    'Feature': feature_names,\n",
    "    'Importance': feature_importances\n",
    "})\n",
    "\n",
    "\n",
    "feature_importance_df = feature_importance_df.sort_values(by='Importance', ascending=True)\n",
    "\n",
    "\n",
    "plt.figure(figsize=(10, 6))\n",
    "plt.barh(feature_importance_df['Feature'], feature_importance_df['Importance'])\n",
    "plt.xlabel('Feature Importance')\n",
    "plt.title('Feature Importance from DecisionTreeClassifier')\n",
    "plt.show()"
   ]
  },
  {
   "cell_type": "markdown",
   "id": "88db838d",
   "metadata": {
    "id": "gHCwWDH2aPHF"
   },
   "source": [
    "## testing data"
   ]
  },
  {
   "cell_type": "code",
   "execution_count": 73,
   "id": "8eccc72f",
   "metadata": {},
   "outputs": [
    {
     "data": {
      "text/plain": [
       "DecisionTreeClassifier(max_depth=5, max_leaf_nodes=6,\n",
       "                       min_impurity_decrease=0.01, random_state=42)"
      ]
     },
     "execution_count": 73,
     "metadata": {},
     "output_type": "execute_result"
    }
   ],
   "source": [
    "X_winter_il_weather_test_res = winter_il_weather_test.drop(['Target', 'Year'], axis=1)  # Drop 'Target' and 'Year'\n",
    "y_winter_il_weather_test_res = winter_il_weather_test['Target']  # 'Target' column as the label\n",
    "\n",
    "\n",
    "model_winter_weather_IL_test = DecisionTreeClassifier(\n",
    "    max_depth=5,\n",
    "    max_leaf_nodes=6,\n",
    "    min_impurity_decrease=0.01,\n",
    "    random_state=42\n",
    ")\n",
    "\n",
    "model_winter_weather_IL_test.fit(X_winter_il_weather_test_res, y_winter_il_weather_test_res)\n"
   ]
  },
  {
   "cell_type": "code",
   "execution_count": 74,
   "id": "fee270da",
   "metadata": {},
   "outputs": [
    {
     "name": "stdout",
     "output_type": "stream",
     "text": [
      "              precision    recall  f1-score   support\n",
      "\n",
      "           0       0.76      0.98      0.85     18140\n",
      "           1       0.77      0.19      0.31      7053\n",
      "\n",
      "    accuracy                           0.76     25193\n",
      "   macro avg       0.76      0.58      0.58     25193\n",
      "weighted avg       0.76      0.76      0.70     25193\n",
      "\n"
     ]
    }
   ],
   "source": [
    "y_pred_winter_il_weather_test_res = model_winter_weather_IL_test.predict(X_winter_il_weather_test_res)\n",
    "\n",
    "report_test = classification_report(y_winter_il_weather_test_res, y_pred_winter_il_weather_test_res, zero_division=0)\n",
    "print(report_test)"
   ]
  },
  {
   "cell_type": "code",
   "execution_count": 75,
   "id": "090a029d",
   "metadata": {},
   "outputs": [
    {
     "data": {
      "image/png": "[encoded data removed]",
      "text/plain": [
       "<Figure size 720x432 with 1 Axes>"
      ]
     },
     "metadata": {
      "needs_background": "light"
     },
     "output_type": "display_data"
    }
   ],
   "source": [
    "feature_importances_test = model_winter_weather_IL_test.feature_importances_\n",
    "\n",
    "feature_names_test = X_winter_il_weather_test_res.columns\n",
    "\n",
    "feature_importance_df_test = pd.DataFrame({\n",
    "    'Feature': feature_names_test,\n",
    "    'Importance': feature_importances_test\n",
    "})\n",
    "\n",
    "feature_importance_df_test = feature_importance_df_test.sort_values(by='Importance', ascending=True)\n",
    "\n",
    "plt.figure(figsize=(10, 6))\n",
    "plt.barh(feature_importance_df_test['Feature'], feature_importance_df_test['Importance'])\n",
    "plt.xlabel('Feature Importance')\n",
    "plt.title('Feature Importance from DecisionTreeClassifier on Test Data')\n",
    "plt.show()"
   ]
  },
  {
   "cell_type": "markdown",
   "id": "f3e7dcb0",
   "metadata": {
    "id": "3VU1Us-IaPKq"
   },
   "source": [
    "## Only flight data for Janurary IL data"
   ]
  },
  {
   "cell_type": "code",
   "execution_count": 77,
   "id": "b363e57a",
   "metadata": {},
   "outputs": [
    {
     "data": {
      "image/png": "[encoded data removed]",
      "text/plain": [
       "<Figure size 576x432 with 1 Axes>"
      ]
     },
     "metadata": {
      "needs_background": "light"
     },
     "output_type": "display_data"
    }
   ],
   "source": [
    "plt.figure(figsize=(8, 6))\n",
    "sns.countplot(x='Target', data=winter_il_flight_train_res, color = 'blue')\n",
    "plt.title('Distribution of Target Variable after SMOTE Resampling (Winter - Illinois Flight Data)')\n",
    "plt.xlabel('Target(0: No Delay, 1: Delay)')\n",
    "plt.ylabel('Count')\n",
    "plt.show()"
   ]
  },
  {
   "cell_type": "code",
   "execution_count": 79,
   "id": "7a036341",
   "metadata": {},
   "outputs": [
    {
     "data": {
      "text/plain": [
       "DecisionTreeClassifier(max_depth=5, max_leaf_nodes=6,\n",
       "                       min_impurity_decrease=0.01, random_state=42)"
      ]
     },
     "execution_count": 79,
     "metadata": {},
     "output_type": "execute_result"
    }
   ],
   "source": [
    "X_winter_il_flight_train_res = winter_il_flight_train_res.drop(['Target'], axis=1)  \n",
    "y_winter_il_flight_train_res = winter_il_flight_train_res['Target']  \n",
    "\n",
    "\n",
    "model_winter_flight_IL = DecisionTreeClassifier(\n",
    "    max_depth=5,\n",
    "    max_leaf_nodes=6,\n",
    "    min_impurity_decrease=0.01,\n",
    "    random_state=42,\n",
    ")\n",
    "model_winter_flight_IL.fit(X_winter_il_flight_train_res, y_winter_il_flight_train_res)"
   ]
  },
  {
   "cell_type": "code",
   "execution_count": 80,
   "id": "baf47d61",
   "metadata": {},
   "outputs": [
    {
     "name": "stdout",
     "output_type": "stream",
     "text": [
      "              precision    recall  f1-score   support\n",
      "\n",
      "           0       0.69      0.37      0.48    115230\n",
      "           1       0.57      0.83      0.68    115230\n",
      "\n",
      "    accuracy                           0.60    230460\n",
      "   macro avg       0.63      0.60      0.58    230460\n",
      "weighted avg       0.63      0.60      0.58    230460\n",
      "\n"
     ]
    }
   ],
   "source": [
    "y_pred_winter_il_flight_train_res = model_winter_flight_IL.predict(X_winter_il_flight_train_res)\n",
    "\n",
    "\n",
    "report_flight_train = classification_report(y_winter_il_flight_train_res, y_pred_winter_il_flight_train_res, zero_division=0)\n",
    "print(report_flight_train)"
   ]
  },
  {
   "cell_type": "code",
   "execution_count": 81,
   "id": "332fe426",
   "metadata": {},
   "outputs": [
    {
     "data": {
      "image/png": "[encoded data removed]",
      "text/plain": [
       "<Figure size 720x432 with 1 Axes>"
      ]
     },
     "metadata": {
      "needs_background": "light"
     },
     "output_type": "display_data"
    }
   ],
   "source": [
    "feature_importances_flight = model_winter_flight_IL.feature_importances_\n",
    "\n",
    "\n",
    "feature_names_flight = X_winter_il_flight_train_res.columns\n",
    "feature_importance_df_flight = pd.DataFrame({\n",
    "    'Feature': feature_names_flight,\n",
    "    'Importance': feature_importances_flight\n",
    "})\n",
    "\n",
    "feature_importance_df_flight = feature_importance_df_flight.sort_values(by='Importance', ascending=False)\n",
    "\n",
    "plt.figure(figsize=(10, 6))\n",
    "plt.barh(feature_importance_df_flight['Feature'], feature_importance_df_flight['Importance'])\n",
    "plt.xlabel('Feature Importance')\n",
    "plt.title('Feature Importance from DecisionTreeClassifier on Flight Data')\n",
    "plt.gca().invert_yaxis()  # Invert the y-axis to ensure the highest importance is at the top\n",
    "plt.show()"
   ]
  },
  {
   "cell_type": "markdown",
   "id": "719f1c56",
   "metadata": {},
   "source": [
    "### validation data on flight info only"
   ]
  },
  {
   "cell_type": "code",
   "execution_count": 82,
   "id": "258809e0",
   "metadata": {},
   "outputs": [
    {
     "data": {
      "text/plain": [
       "DecisionTreeClassifier(max_depth=5, max_leaf_nodes=6,\n",
       "                       min_impurity_decrease=0.01, random_state=42)"
      ]
     },
     "execution_count": 82,
     "metadata": {},
     "output_type": "execute_result"
    }
   ],
   "source": [
    "X_winter_il_flight_val_res = winter_il_flight_val.drop(['Target'], axis=1)  \n",
    "y_winter_il_flight_val_res = winter_il_flight_val['Target']  \n",
    "\n",
    "\n",
    "model_winter_flight_IL_val = DecisionTreeClassifier(\n",
    "    max_depth=5,\n",
    "    max_leaf_nodes=6,\n",
    "    min_impurity_decrease=0.01,\n",
    "    random_state=42\n",
    ")\n",
    "\n",
    "model_winter_flight_IL_val.fit(X_winter_il_flight_val_res, y_winter_il_flight_val_res)"
   ]
  },
  {
   "cell_type": "code",
   "execution_count": 83,
   "id": "0990a63c",
   "metadata": {},
   "outputs": [
    {
     "name": "stdout",
     "output_type": "stream",
     "text": [
      "              precision    recall  f1-score   support\n",
      "\n",
      "           0       0.82      1.00      0.90     47010\n",
      "           1       0.00      0.00      0.00     10370\n",
      "\n",
      "    accuracy                           0.82     57380\n",
      "   macro avg       0.41      0.50      0.45     57380\n",
      "weighted avg       0.67      0.82      0.74     57380\n",
      "\n"
     ]
    }
   ],
   "source": [
    "y_pred_winter_il_flight_val_res = model_winter_flight_IL_val.predict(X_winter_il_flight_val_res)\n",
    "\n",
    "report_flight_val = classification_report(y_winter_il_flight_val_res, y_pred_winter_il_flight_val_res, zero_division=0)\n",
    "\n",
    "print(report_flight_val)"
   ]
  },
  {
   "cell_type": "code",
   "execution_count": 84,
   "id": "edd03594",
   "metadata": {},
   "outputs": [
    {
     "data": {
      "image/png": "[encoded data removed]",
      "text/plain": [
       "<Figure size 720x432 with 1 Axes>"
      ]
     },
     "metadata": {
      "needs_background": "light"
     },
     "output_type": "display_data"
    }
   ],
   "source": [
    "feature_importances_flight_val = model_winter_flight_IL_val.feature_importances_\n",
    "\n",
    "feature_names_flight_val = X_winter_il_flight_val_res.columns\n",
    "\n",
    "\n",
    "feature_importance_df_flight_val = pd.DataFrame({\n",
    "    'Feature': feature_names_flight_val,\n",
    "    'Importance': feature_importances_flight_val\n",
    "})\n",
    "\n",
    "feature_importance_df_flight_val = feature_importance_df_flight_val.sort_values(by='Importance', ascending=False)\n",
    "\n",
    "plt.figure(figsize=(10, 6))\n",
    "plt.barh(feature_importance_df_flight_val['Feature'], feature_importance_df_flight_val['Importance'])\n",
    "plt.xlabel('Feature Importance')\n",
    "plt.title('Feature Importance from DecisionTreeClassifier on Validation Flight Data')\n",
    "plt.gca().invert_yaxis()  # Invert the y-axis to ensure the highest importance is at the top\n",
    "plt.show()"
   ]
  },
  {
   "cell_type": "markdown",
   "id": "69c37f56",
   "metadata": {},
   "source": [
    "## testing on only flight data"
   ]
  },
  {
   "cell_type": "code",
   "execution_count": 85,
   "id": "2f09bc67",
   "metadata": {},
   "outputs": [
    {
     "data": {
      "text/plain": [
       "DecisionTreeClassifier(max_depth=5, max_leaf_nodes=6,\n",
       "                       min_impurity_decrease=0.01, random_state=42)"
      ]
     },
     "execution_count": 85,
     "metadata": {},
     "output_type": "execute_result"
    }
   ],
   "source": [
    "X_winter_il_flight_test_res = winter_il_flight_test.drop(['Target'], axis=1)  # Drop 'Target' column to get features\n",
    "y_winter_il_flight_test_res = winter_il_flight_test['Target']  # 'Target' column as the label\n",
    "\n",
    "model_winter_flight_IL_test = DecisionTreeClassifier(\n",
    "    max_depth=5,\n",
    "    max_leaf_nodes=6,\n",
    "    min_impurity_decrease=0.01,\n",
    "    random_state=42\n",
    ")\n",
    "\n",
    "\n",
    "model_winter_flight_IL_test.fit(X_winter_il_flight_test_res, y_winter_il_flight_test_res)"
   ]
  },
  {
   "cell_type": "code",
   "execution_count": 86,
   "id": "7396ebf9",
   "metadata": {},
   "outputs": [
    {
     "name": "stdout",
     "output_type": "stream",
     "text": [
      "              precision    recall  f1-score   support\n",
      "\n",
      "           0       0.78      0.95      0.86     18140\n",
      "           1       0.70      0.31      0.43      7053\n",
      "\n",
      "    accuracy                           0.77     25193\n",
      "   macro avg       0.74      0.63      0.64     25193\n",
      "weighted avg       0.76      0.77      0.74     25193\n",
      "\n"
     ]
    }
   ],
   "source": [
    "y_pred_winter_il_flight_test_res = model_winter_flight_IL_test.predict(X_winter_il_flight_test_res)\n",
    "\n",
    "report_flight_test = classification_report(y_winter_il_flight_test_res, y_pred_winter_il_flight_test_res, zero_division=0)\n",
    "\n",
    "print(report_flight_test)\n"
   ]
  },
  {
   "cell_type": "code",
   "execution_count": 87,
   "id": "d09a8976",
   "metadata": {},
   "outputs": [
    {
     "data": {
      "image/png": "[encoded data removed]",
      "text/plain": [
       "<Figure size 720x432 with 1 Axes>"
      ]
     },
     "metadata": {
      "needs_background": "light"
     },
     "output_type": "display_data"
    }
   ],
   "source": [
    "feature_importances_flight_test = model_winter_flight_IL_test.feature_importances_\n",
    "\n",
    "feature_names_flight_test = X_winter_il_flight_test_res.columns\n",
    "\n",
    "\n",
    "feature_importance_df_flight_test = pd.DataFrame({\n",
    "    'Feature': feature_names_flight_test,\n",
    "    'Importance': feature_importances_flight_test\n",
    "})\n",
    "\n",
    "\n",
    "feature_importance_df_flight_test = feature_importance_df_flight_test.sort_values(by='Importance', ascending=False)\n",
    "\n",
    "\n",
    "plt.figure(figsize=(10, 6))\n",
    "plt.barh(feature_importance_df_flight_test['Feature'], feature_importance_df_flight_test['Importance'])\n",
    "plt.xlabel('Feature Importance')\n",
    "plt.title('Feature Importance from DecisionTreeClassifier on Test Flight Data')\n",
    "plt.gca().invert_yaxis()  # Invert the y-axis to ensure the highest importance is at the top\n",
    "plt.show()"
   ]
  },
  {
   "cell_type": "markdown",
   "id": "973d8eee",
   "metadata": {},
   "source": [
    "## combined data for winter IL"
   ]
  },
  {
   "cell_type": "code",
   "execution_count": 88,
   "id": "a93b8e62",
   "metadata": {},
   "outputs": [
    {
     "data": {
      "text/plain": [
       "DecisionTreeClassifier(max_depth=5, max_leaf_nodes=6,\n",
       "                       min_impurity_decrease=0.01, random_state=42)"
      ]
     },
     "execution_count": 88,
     "metadata": {},
     "output_type": "execute_result"
    }
   ],
   "source": [
    "X_winter_il_train_combined_res = winter_il_train_res.drop(['Target'], axis=1)  # Drop 'Target' column to get features\n",
    "y_winter_il_train_combined_res = winter_il_train_res['Target']  # 'Target' column as the label\n",
    "\n",
    "model_winter_il_train_combined = DecisionTreeClassifier(\n",
    "    max_depth=5,\n",
    "    max_leaf_nodes=6,\n",
    "    min_impurity_decrease=0.01,\n",
    "    random_state=42\n",
    ")\n",
    "\n",
    "model_winter_il_train_combined.fit(X_winter_il_train_combined_res, y_winter_il_train_combined_res)\n"
   ]
  },
  {
   "cell_type": "code",
   "execution_count": 89,
   "id": "eb1f05b6",
   "metadata": {},
   "outputs": [
    {
     "name": "stdout",
     "output_type": "stream",
     "text": [
      "              precision    recall  f1-score   support\n",
      "\n",
      "           0       0.71      0.51      0.59    115230\n",
      "           1       0.62      0.79      0.69    115230\n",
      "\n",
      "    accuracy                           0.65    230460\n",
      "   macro avg       0.66      0.65      0.64    230460\n",
      "weighted avg       0.66      0.65      0.64    230460\n",
      "\n"
     ]
    }
   ],
   "source": [
    "y_pred_winter_il_train_combined_res = model_winter_il_train_combined.predict(X_winter_il_train_combined_res)\n",
    "\n",
    "report_combined_train = classification_report(y_winter_il_train_combined_res, y_pred_winter_il_train_combined_res, zero_division=0)\n",
    "\n",
    "print(report_combined_train)"
   ]
  },
  {
   "cell_type": "code",
   "execution_count": 90,
   "id": "99bdbbdf",
   "metadata": {},
   "outputs": [
    {
     "data": {
      "image/png": "[encoded data removed]",
      "text/plain": [
       "<Figure size 720x432 with 1 Axes>"
      ]
     },
     "metadata": {
      "needs_background": "light"
     },
     "output_type": "display_data"
    }
   ],
   "source": [
    "feature_importances_combined_train = model_winter_il_train_combined.feature_importances_\n",
    "\n",
    "\n",
    "feature_names_combined_train = X_winter_il_train_combined_res.columns\n",
    "\n",
    "\n",
    "feature_importance_df_combined_train = pd.DataFrame({\n",
    "    'Feature': feature_names_combined_train,\n",
    "    'Importance': feature_importances_combined_train\n",
    "})\n",
    "\n",
    "\n",
    "feature_importance_df_combined_train = feature_importance_df_combined_train.sort_values(by='Importance', ascending=False)\n",
    "\n",
    "\n",
    "\n",
    "plt.figure(figsize=(10, 6))\n",
    "plt.barh(feature_importance_df_combined_train['Feature'], feature_importance_df_combined_train['Importance'])\n",
    "plt.xlabel('Feature Importance')\n",
    "plt.title('Feature Importance from DecisionTreeClassifier on Combined Weather and Flight Data')\n",
    "plt.gca().invert_yaxis()  # Invert the y-axis to ensure the highest importance is at the top\n",
    "plt.show()"
   ]
  },
  {
   "cell_type": "markdown",
   "id": "5699da79",
   "metadata": {},
   "source": [
    "## on validation"
   ]
  },
  {
   "cell_type": "code",
   "execution_count": 91,
   "id": "f6c191db",
   "metadata": {},
   "outputs": [
    {
     "data": {
      "text/plain": [
       "DecisionTreeClassifier(max_depth=5, max_leaf_nodes=6,\n",
       "                       min_impurity_decrease=0.01, random_state=42)"
      ]
     },
     "execution_count": 91,
     "metadata": {},
     "output_type": "execute_result"
    }
   ],
   "source": [
    "X_winter_il_val_res = winter_il_val.drop(['Target'], axis=1)  # Drop 'Target' column to get features\n",
    "y_winter_il_val_res = winter_il_val['Target']  # 'Target' column as the label\n",
    "\n",
    "model_winter_il_val = DecisionTreeClassifier(\n",
    "    max_depth=5,\n",
    "    max_leaf_nodes=6,\n",
    "    min_impurity_decrease=0.01,\n",
    "    random_state=42\n",
    ")\n",
    "\n",
    "\n",
    "model_winter_il_val.fit(X_winter_il_val_res, y_winter_il_val_res)"
   ]
  },
  {
   "cell_type": "code",
   "execution_count": 92,
   "id": "ed8498ad",
   "metadata": {},
   "outputs": [
    {
     "name": "stdout",
     "output_type": "stream",
     "text": [
      "              precision    recall  f1-score   support\n",
      "\n",
      "           0       0.82      1.00      0.90     47010\n",
      "           1       0.00      0.00      0.00     10370\n",
      "\n",
      "    accuracy                           0.82     57380\n",
      "   macro avg       0.41      0.50      0.45     57380\n",
      "weighted avg       0.67      0.82      0.74     57380\n",
      "\n"
     ]
    }
   ],
   "source": [
    "y_pred_winter_il_val_res = model_winter_il_val.predict(X_winter_il_val_res)\n",
    "\n",
    "report_val = classification_report(y_winter_il_val_res, y_pred_winter_il_val_res, zero_division=0)\n",
    "\n",
    "print(report_val)\n"
   ]
  },
  {
   "cell_type": "code",
   "execution_count": 93,
   "id": "d294a10e",
   "metadata": {},
   "outputs": [
    {
     "data": {
      "image/png": "[encoded data removed]",
      "text/plain": [
       "<Figure size 720x432 with 1 Axes>"
      ]
     },
     "metadata": {
      "needs_background": "light"
     },
     "output_type": "display_data"
    }
   ],
   "source": [
    "feature_importances_val = model_winter_il_val.feature_importances_\n",
    "\n",
    "\n",
    "feature_names_val = X_winter_il_val_res.columns\n",
    "\n",
    "\n",
    "feature_importance_df_val = pd.DataFrame({\n",
    "    'Feature': feature_names_val,\n",
    "    'Importance': feature_importances_val\n",
    "})\n",
    "\n",
    "feature_importance_df_val = feature_importance_df_val.sort_values(by='Importance', ascending=False)\n",
    "\n",
    "\n",
    "plt.figure(figsize=(10, 6))\n",
    "plt.barh(feature_importance_df_val['Feature'], feature_importance_df_val['Importance'])\n",
    "plt.xlabel('Feature Importance')\n",
    "plt.title('Feature Importance from DecisionTreeClassifier on Validation Data')\n",
    "plt.gca().invert_yaxis()  # Invert the y-axis to ensure the highest importance is at the top\n",
    "plt.show()"
   ]
  },
  {
   "cell_type": "markdown",
   "id": "eafc304d",
   "metadata": {},
   "source": [
    "## testing on combined data for winter IL data"
   ]
  },
  {
   "cell_type": "code",
   "execution_count": 94,
   "id": "646f6c11",
   "metadata": {},
   "outputs": [
    {
     "data": {
      "text/plain": [
       "DecisionTreeClassifier(max_depth=5, max_leaf_nodes=6,\n",
       "                       min_impurity_decrease=0.01, random_state=42)"
      ]
     },
     "execution_count": 94,
     "metadata": {},
     "output_type": "execute_result"
    }
   ],
   "source": [
    "X_winter_il_flight_test_res = winter_il_flight_test.drop(['Target'], axis=1)  # Drop 'Target' column to get features\n",
    "y_winter_il_flight_test_res = winter_il_flight_test['Target']  # 'Target' column as the label\n",
    "\n",
    "\n",
    "model_winter_il_flight_test = DecisionTreeClassifier(\n",
    "    max_depth=5,\n",
    "    max_leaf_nodes=6,\n",
    "    min_impurity_decrease=0.01,\n",
    "    random_state=42\n",
    ")\n",
    "\n",
    "\n",
    "model_winter_il_flight_test.fit(X_winter_il_flight_test_res, y_winter_il_flight_test_res)"
   ]
  },
  {
   "cell_type": "code",
   "execution_count": 95,
   "id": "94cd2116",
   "metadata": {},
   "outputs": [
    {
     "name": "stdout",
     "output_type": "stream",
     "text": [
      "              precision    recall  f1-score   support\n",
      "\n",
      "           0       0.78      0.95      0.86     18140\n",
      "           1       0.70      0.31      0.43      7053\n",
      "\n",
      "    accuracy                           0.77     25193\n",
      "   macro avg       0.74      0.63      0.64     25193\n",
      "weighted avg       0.76      0.77      0.74     25193\n",
      "\n"
     ]
    }
   ],
   "source": [
    "y_pred_winter_il_flight_test_res = model_winter_il_flight_test.predict(X_winter_il_flight_test_res)\n",
    "\n",
    "report_test = classification_report(y_winter_il_flight_test_res, y_pred_winter_il_flight_test_res, zero_division=0)\n",
    "\n",
    "print(report_test)\n"
   ]
  },
  {
   "cell_type": "code",
   "execution_count": 96,
   "id": "b36bfab7",
   "metadata": {},
   "outputs": [
    {
     "data": {
      "image/png": "[encoded data removed]",
      "text/plain": [
       "<Figure size 720x432 with 1 Axes>"
      ]
     },
     "metadata": {
      "needs_background": "light"
     },
     "output_type": "display_data"
    }
   ],
   "source": [
    "feature_importances_test = model_winter_il_flight_test.feature_importances_\n",
    "\n",
    "feature_names_test = X_winter_il_flight_test_res.columns\n",
    "\n",
    "\n",
    "feature_importance_df_test = pd.DataFrame({\n",
    "    'Feature': feature_names_test,\n",
    "    'Importance': feature_importances_test\n",
    "})\n",
    "\n",
    "feature_importance_df_test = feature_importance_df_test.sort_values(by='Importance', ascending=False)\n",
    "\n",
    "plt.figure(figsize=(10, 6))\n",
    "plt.barh(feature_importance_df_test['Feature'], feature_importance_df_test['Importance'])\n",
    "plt.xlabel('Feature Importance')\n",
    "plt.title('Feature Importance from DecisionTreeClassifier on Test Data')\n",
    "plt.gca().invert_yaxis()  # Invert the y-axis to ensure the highest importance is at the top\n",
    "plt.show()"
   ]
  },
  {
   "cell_type": "markdown",
   "id": "8a053b14",
   "metadata": {},
   "source": [
    "# Models for spring (April) IL data"
   ]
  },
  {
   "cell_type": "code",
   "execution_count": 97,
   "id": "938afbc5",
   "metadata": {},
   "outputs": [],
   "source": [
    "\n",
    "spring_il_train = spring_il[spring_il['Year'].isin(train_years)]\n",
    "spring_il_val = spring_il[spring_il['Year'].isin(val_years)]\n",
    "spring_il_test = spring_il[spring_il['Year'].isin(test_years)]\n",
    "\n",
    "spring_il_flight_train = spring_il_flight[spring_il_flight['Year'].isin(train_years)]\n",
    "spring_il_flight_val = spring_il_flight[spring_il_flight['Year'].isin(val_years)]\n",
    "spring_il_flight_test = spring_il_flight[spring_il_flight['Year'].isin(test_years)]\n",
    "\n",
    "spring_il_weather_train = spring_il_weather[spring_il_weather['Year'].isin(train_years)]\n",
    "spring_il_weather_val = spring_il_weather[spring_il_weather['Year'].isin(val_years)]\n",
    "spring_il_weather_test = spring_il_weather[spring_il_weather['Year'].isin(test_years)]\n",
    "\n"
   ]
  },
  {
   "cell_type": "code",
   "execution_count": 98,
   "id": "71d4ce01",
   "metadata": {},
   "outputs": [],
   "source": [
    "\n",
    "\n",
    "spring_il_train = spring_il_train.apply(lambda x: x.cat.codes if x.dtype.name == 'category' else x)\n",
    "spring_il_val = spring_il_val.apply(lambda x: x.cat.codes if x.dtype.name == 'category' else x)\n",
    "spring_il_test = spring_il_test.apply(lambda x: x.cat.codes if x.dtype.name == 'category' else x)\n",
    "\n",
    "spring_il_flight_train = spring_il_flight_train.apply(lambda x: x.cat.codes if x.dtype.name == 'category' else x)\n",
    "spring_il_flight_val = spring_il_flight_val.apply(lambda x: x.cat.codes if x.dtype.name == 'category' else x)\n",
    "spring_il_flight_test = spring_il_flight_test.apply(lambda x: x.cat.codes if x.dtype.name == 'category' else x)\n",
    "\n",
    "spring_il_weather_train = spring_il_weather_train.apply(lambda x: x.cat.codes if x.dtype.name == 'category' else x)\n",
    "spring_il_weather_val = spring_il_weather_val.apply(lambda x: x.cat.codes if x.dtype.name == 'category' else x)\n",
    "spring_il_weather_test = spring_il_weather_test.apply(lambda x: x.cat.codes if x.dtype.name == 'category' else x)"
   ]
  },
  {
   "cell_type": "code",
   "execution_count": 99,
   "id": "d5577892",
   "metadata": {},
   "outputs": [],
   "source": [
    "\n",
    "\n",
    "smote = SMOTE(random_state=42)\n",
    "\n",
    "\n",
    "X_spring_il_train = spring_il_train.drop('Target', axis=1)\n",
    "y_spring_il_train = spring_il_train['Target']\n",
    "X_spring_il_train_res, y_spring_il_train_res = smote.fit_resample(X_spring_il_train, y_spring_il_train)\n",
    "\n",
    "\n",
    "X_spring_il_flight_train = spring_il_flight_train.drop('Target', axis=1)\n",
    "y_spring_il_flight_train = spring_il_flight_train['Target']\n",
    "X_spring_il_flight_train_res, y_spring_il_flight_train_res = smote.fit_resample(X_spring_il_flight_train, y_spring_il_flight_train)\n",
    "\n",
    "\n",
    "X_spring_il_weather_train = spring_il_weather_train.drop('Target', axis=1)\n",
    "y_spring_il_weather_train = spring_il_weather_train['Target']\n",
    "X_spring_il_weather_train_res, y_spring_il_weather_train_res = smote.fit_resample(X_spring_il_weather_train, y_spring_il_weather_train)\n",
    "\n",
    "\n",
    "spring_il_train_res = pd.concat([X_spring_il_train_res, y_spring_il_train_res], axis=1)\n",
    "spring_il_flight_train_res = pd.concat([X_spring_il_flight_train_res, y_spring_il_flight_train_res], axis=1)\n",
    "spring_il_weather_train_res = pd.concat([X_spring_il_weather_train_res, y_spring_il_weather_train_res], axis=1)\n",
    "\n"
   ]
  },
  {
   "cell_type": "code",
   "execution_count": 100,
   "id": "fcb7caa4",
   "metadata": {},
   "outputs": [
    {
     "data": {
      "image/png": "[encoded data removed]",
      "text/plain": [
       "<Figure size 576x432 with 1 Axes>"
      ]
     },
     "metadata": {
      "needs_background": "light"
     },
     "output_type": "display_data"
    }
   ],
   "source": [
    "plt.figure(figsize=(8, 6))\n",
    "sns.countplot(x='Target', data=spring_il, color = 'blue')\n",
    "plt.title('Distribution of Target Variable (Spring - Illinois)')\n",
    "plt.xlabel('Target(0: No Delay, 1: Delay)')\n",
    "plt.ylabel('Count')\n",
    "plt.show()\n"
   ]
  },
  {
   "cell_type": "markdown",
   "id": "0e0c95d4",
   "metadata": {},
   "source": [
    "### The Classes are imbalanced, we applied smote to solve this issue. Below is the plot after smote was applied"
   ]
  },
  {
   "cell_type": "code",
   "execution_count": 101,
   "id": "008394c8",
   "metadata": {},
   "outputs": [
    {
     "data": {
      "image/png": "[encoded data removed]",
      "text/plain": [
       "<Figure size 576x432 with 1 Axes>"
      ]
     },
     "metadata": {
      "needs_background": "light"
     },
     "output_type": "display_data"
    }
   ],
   "source": [
    "plt.figure(figsize=(8, 6))\n",
    "sns.countplot(x='Target', data=spring_il_weather_train_res, color = 'blue')\n",
    "plt.title('Distribution of Target Variable after SMOTE Resampling (Winter - Illinois Weather Data)')\n",
    "plt.xlabel('Target(0: No Delay, 1: Delay)')\n",
    "plt.ylabel('Count')\n",
    "plt.show()\n"
   ]
  },
  {
   "cell_type": "markdown",
   "id": "ab10c7a7",
   "metadata": {},
   "source": [
    "## Models only using weather data for spring (IL data)"
   ]
  },
  {
   "cell_type": "markdown",
   "id": "2e940809",
   "metadata": {},
   "source": [
    "### Model on training data"
   ]
  },
  {
   "cell_type": "code",
   "execution_count": 102,
   "id": "ad154a7f",
   "metadata": {},
   "outputs": [
    {
     "data": {
      "text/plain": [
       "DecisionTreeClassifier(max_depth=5, max_leaf_nodes=6,\n",
       "                       min_impurity_decrease=0.01, random_state=42)"
      ]
     },
     "execution_count": 102,
     "metadata": {},
     "output_type": "execute_result"
    }
   ],
   "source": [
    "model_spring_weather_IL = DecisionTreeClassifier(\n",
    "    max_depth=5,\n",
    "    max_leaf_nodes=6,\n",
    "    min_impurity_decrease=0.01,\n",
    "    random_state=42\n",
    ")\n",
    "\n",
    "\n",
    "model_spring_weather_IL.fit(X_spring_il_weather_train_res, y_spring_il_weather_train_res)"
   ]
  },
  {
   "cell_type": "code",
   "execution_count": 103,
   "id": "eaa6efa5",
   "metadata": {},
   "outputs": [
    {
     "name": "stdout",
     "output_type": "stream",
     "text": [
      "Classification Report (Training Set - Weather Data):\n",
      "              precision    recall  f1-score   support\n",
      "\n",
      "           0       0.55      0.84      0.66    125061\n",
      "           1       0.66      0.30      0.41    125061\n",
      "\n",
      "    accuracy                           0.57    250122\n",
      "   macro avg       0.60      0.57      0.54    250122\n",
      "weighted avg       0.60      0.57      0.54    250122\n",
      "\n"
     ]
    }
   ],
   "source": [
    "\n",
    "y_train_weather_pred = model_spring_weather_IL.predict(X_spring_il_weather_train_res)\n",
    "\n",
    "\n",
    "print(\"Classification Report (Training Set - Weather Data):\")\n",
    "print(classification_report(y_spring_il_weather_train_res, y_train_weather_pred))\n"
   ]
  },
  {
   "cell_type": "markdown",
   "id": "af2e4f2c",
   "metadata": {},
   "source": [
    "## Model on validation"
   ]
  },
  {
   "cell_type": "code",
   "execution_count": 104,
   "id": "bb3a6f70",
   "metadata": {},
   "outputs": [
    {
     "data": {
      "text/plain": [
       "DecisionTreeClassifier(max_depth=5, max_leaf_nodes=6,\n",
       "                       min_impurity_decrease=0.01, random_state=42)"
      ]
     },
     "execution_count": 104,
     "metadata": {},
     "output_type": "execute_result"
    }
   ],
   "source": [
    "\n",
    "X_spring_il_weather_val_res = spring_il_weather_val.drop(['Target', 'Year'], axis=1)  # Drop 'Target' and 'Year'\n",
    "y_spring_il_weather_val_res = spring_il_weather_val['Target']  # 'Target' column as the label\n",
    "\n",
    "\n",
    "model_spring_weather_IL_val = DecisionTreeClassifier(\n",
    "    max_depth=5,\n",
    "    max_leaf_nodes=6,\n",
    "    min_impurity_decrease=0.01,\n",
    "    random_state=42\n",
    ")\n",
    "\n",
    "\n",
    "model_spring_weather_IL_val.fit(X_spring_il_weather_val_res, y_spring_il_weather_val_res)\n"
   ]
  },
  {
   "cell_type": "code",
   "execution_count": 106,
   "id": "f52c09e2",
   "metadata": {},
   "outputs": [
    {
     "name": "stdout",
     "output_type": "stream",
     "text": [
      "Classification Report (Validation Set - Weather Data):\n",
      "              precision    recall  f1-score   support\n",
      "\n",
      "           0       0.93      1.00      0.96     41915\n",
      "           1       1.00      0.00      0.00      3153\n",
      "\n",
      "    accuracy                           0.93     45068\n",
      "   macro avg       0.97      0.50      0.48     45068\n",
      "weighted avg       0.93      0.93      0.90     45068\n",
      "\n"
     ]
    }
   ],
   "source": [
    "\n",
    "y_spring_il_weather_val_pred = model_spring_weather_IL_val.predict(X_spring_il_weather_val_res)\n",
    "\n",
    "print(\"Classification Report (Validation Set - Weather Data):\")\n",
    "print(classification_report(y_spring_il_weather_val_res, y_spring_il_weather_val_pred, zero_division=1))\n"
   ]
  },
  {
   "cell_type": "markdown",
   "id": "7ee7b356",
   "metadata": {},
   "source": [
    "## Testing set"
   ]
  },
  {
   "cell_type": "code",
   "execution_count": 112,
   "id": "3819f5eb",
   "metadata": {},
   "outputs": [
    {
     "data": {
      "text/plain": [
       "DecisionTreeClassifier(max_depth=5, max_leaf_nodes=6,\n",
       "                       min_impurity_decrease=0.01, random_state=42)"
      ]
     },
     "execution_count": 112,
     "metadata": {},
     "output_type": "execute_result"
    }
   ],
   "source": [
    "\n",
    "X_spring_il_weather_test_res = spring_il_weather_test.drop(['Target', 'Year'], axis=1)  # Drop 'Target' and 'Year'\n",
    "y_spring_il_weather_test_res = spring_il_weather_test['Target']  # 'Target' column as the label\n",
    "\n",
    "\n",
    "model_spring_weather_IL_test = DecisionTreeClassifier(\n",
    "    max_depth=5,\n",
    "    max_leaf_nodes=6,\n",
    "    min_impurity_decrease=0.01,\n",
    "    random_state=42\n",
    ")\n",
    "\n",
    "model_spring_weather_IL_test.fit(X_spring_il_weather_test_res, y_spring_il_weather_test_res)\n"
   ]
  },
  {
   "cell_type": "code",
   "execution_count": 113,
   "id": "281a5e05",
   "metadata": {},
   "outputs": [
    {
     "name": "stdout",
     "output_type": "stream",
     "text": [
      "              precision    recall  f1-score   support\n",
      "\n",
      "           0       0.76      1.00      0.87     21857\n",
      "           1       0.00      0.00      0.00      6727\n",
      "\n",
      "    accuracy                           0.76     28584\n",
      "   macro avg       0.38      0.50      0.43     28584\n",
      "weighted avg       0.58      0.76      0.66     28584\n",
      "\n"
     ]
    }
   ],
   "source": [
    "\n",
    "y_pred_spring_il_weather_test_res = model_spring_weather_IL_test.predict(X_spring_il_weather_test_res)\n",
    "\n",
    "report_test = classification_report(y_spring_il_weather_test_res, y_pred_spring_il_weather_test_res, zero_division=0)\n",
    "print(report_test)\n"
   ]
  },
  {
   "cell_type": "code",
   "execution_count": 114,
   "id": "7d53cb8c",
   "metadata": {},
   "outputs": [
    {
     "data": {
      "image/png": "[encoded data removed]",
      "text/plain": [
       "<Figure size 720x432 with 1 Axes>"
      ]
     },
     "metadata": {
      "needs_background": "light"
     },
     "output_type": "display_data"
    }
   ],
   "source": [
    "\n",
    "\n",
    "\n",
    "feature_importances_test = model_spring_weather_IL_test.feature_importances_\n",
    "\n",
    "\n",
    "feature_names_test = X_spring_il_weather_test_res.columns\n",
    "\n",
    "\n",
    "feature_importance_df_test = pd.DataFrame({\n",
    "    'Feature': feature_names_test,\n",
    "    'Importance': feature_importances_test\n",
    "})\n",
    "\n",
    "\n",
    "feature_importance_df_test = feature_importance_df_test.sort_values(by='Importance', ascending=True)\n",
    "\n",
    "\n",
    "plt.figure(figsize=(10, 6))\n",
    "plt.barh(feature_importance_df_test['Feature'], feature_importance_df_test['Importance'])\n",
    "plt.xlabel('Feature Importance')\n",
    "plt.title('Feature Importance from DecisionTreeClassifier on Spring Test Data')\n",
    "plt.show()\n"
   ]
  },
  {
   "cell_type": "markdown",
   "id": "a12ca0e6",
   "metadata": {},
   "source": [
    "# Using flight data (spring data IL)"
   ]
  },
  {
   "cell_type": "markdown",
   "id": "5aa534a3",
   "metadata": {},
   "source": [
    "## Training"
   ]
  },
  {
   "cell_type": "code",
   "execution_count": 118,
   "id": "a380fcfd",
   "metadata": {},
   "outputs": [
    {
     "data": {
      "image/png": "[encoded data removed]",
      "text/plain": [
       "<Figure size 576x432 with 1 Axes>"
      ]
     },
     "metadata": {
      "needs_background": "light"
     },
     "output_type": "display_data"
    }
   ],
   "source": [
    "\n",
    "plt.figure(figsize=(8, 6))\n",
    "sns.countplot(x='Target', data=spring_il_flight_train_res, color='blue')\n",
    "plt.title('Distribution of Target Variable after SMOTE Resampling (Spring - Illinois Flight Data)')\n",
    "plt.xlabel('Target (0: No Delay, 1: Delay)')\n",
    "plt.ylabel('Count')\n",
    "plt.show()\n"
   ]
  },
  {
   "cell_type": "code",
   "execution_count": 119,
   "id": "e0b13a41",
   "metadata": {},
   "outputs": [
    {
     "data": {
      "text/plain": [
       "DecisionTreeClassifier(max_depth=5, max_leaf_nodes=6,\n",
       "                       min_impurity_decrease=0.01, random_state=42)"
      ]
     },
     "execution_count": 119,
     "metadata": {},
     "output_type": "execute_result"
    }
   ],
   "source": [
    "\n",
    "X_spring_il_flight_train_res = spring_il_flight_train_res.drop(['Target'], axis=1)\n",
    "y_spring_il_flight_train_res = spring_il_flight_train_res['Target']\n",
    "\n",
    "\n",
    "model_spring_flight_IL = DecisionTreeClassifier(\n",
    "    max_depth=5,\n",
    "    max_leaf_nodes=6,\n",
    "    min_impurity_decrease=0.01,\n",
    "    random_state=42,\n",
    ")\n",
    "\n",
    "model_spring_flight_IL.fit(X_spring_il_flight_train_res, y_spring_il_flight_train_res)\n"
   ]
  },
  {
   "cell_type": "code",
   "execution_count": 120,
   "id": "b4424dfc",
   "metadata": {},
   "outputs": [
    {
     "name": "stdout",
     "output_type": "stream",
     "text": [
      "              precision    recall  f1-score   support\n",
      "\n",
      "           0       0.63      0.36      0.46    125061\n",
      "           1       0.55      0.79      0.65    125061\n",
      "\n",
      "    accuracy                           0.57    250122\n",
      "   macro avg       0.59      0.57      0.55    250122\n",
      "weighted avg       0.59      0.57      0.55    250122\n",
      "\n"
     ]
    }
   ],
   "source": [
    "y_pred_spring_il_flight_train_res = model_spring_flight_IL.predict(X_spring_il_flight_train_res)\n",
    "\n",
    "report_flight_train = classification_report(y_spring_il_flight_train_res, y_pred_spring_il_flight_train_res, zero_division=0)\n",
    "print(report_flight_train)"
   ]
  },
  {
   "cell_type": "markdown",
   "id": "f72f1fea",
   "metadata": {},
   "source": [
    "## Validation flight data only (IL data - spring)"
   ]
  },
  {
   "cell_type": "code",
   "execution_count": 121,
   "id": "2a6bdea4",
   "metadata": {},
   "outputs": [
    {
     "data": {
      "text/plain": [
       "DecisionTreeClassifier(max_depth=5, max_leaf_nodes=6,\n",
       "                       min_impurity_decrease=0.01, random_state=42)"
      ]
     },
     "execution_count": 121,
     "metadata": {},
     "output_type": "execute_result"
    }
   ],
   "source": [
    "from sklearn.tree import DecisionTreeClassifier\n",
    "\n",
    "\n",
    "X_spring_il_flight_val_res = spring_il_flight_val.drop(['Target'], axis=1)\n",
    "y_spring_il_flight_val_res = spring_il_flight_val['Target']\n",
    "\n",
    "\n",
    "model_spring_flight_IL_val = DecisionTreeClassifier(\n",
    "    max_depth=5,\n",
    "    max_leaf_nodes=6,\n",
    "    min_impurity_decrease=0.01,\n",
    "    random_state=42\n",
    ")\n",
    "\n",
    "model_spring_flight_IL_val.fit(X_spring_il_flight_val_res, y_spring_il_flight_val_res)\n"
   ]
  },
  {
   "cell_type": "code",
   "execution_count": 122,
   "id": "9eeeca2d",
   "metadata": {},
   "outputs": [
    {
     "name": "stdout",
     "output_type": "stream",
     "text": [
      "              precision    recall  f1-score   support\n",
      "\n",
      "           0       0.93      1.00      0.96     41915\n",
      "           1       0.00      0.00      0.00      3153\n",
      "\n",
      "    accuracy                           0.93     45068\n",
      "   macro avg       0.47      0.50      0.48     45068\n",
      "weighted avg       0.86      0.93      0.90     45068\n",
      "\n"
     ]
    }
   ],
   "source": [
    "from sklearn.metrics import classification_report\n",
    "\n",
    "\n",
    "y_pred_spring_il_flight_val_res = model_spring_flight_IL_val.predict(X_spring_il_flight_val_res)\n",
    "\n",
    "\n",
    "report_flight_val = classification_report(y_spring_il_flight_val_res, y_pred_spring_il_flight_val_res, zero_division=0)\n",
    "\n",
    "print(report_flight_val)\n"
   ]
  },
  {
   "cell_type": "markdown",
   "id": "773f4d13",
   "metadata": {},
   "source": [
    "## Testing flight data only"
   ]
  },
  {
   "cell_type": "code",
   "execution_count": 129,
   "id": "e8333938",
   "metadata": {},
   "outputs": [
    {
     "data": {
      "text/plain": [
       "DecisionTreeClassifier(max_depth=5, max_leaf_nodes=6,\n",
       "                       min_impurity_decrease=0.01, random_state=42)"
      ]
     },
     "execution_count": 129,
     "metadata": {},
     "output_type": "execute_result"
    }
   ],
   "source": [
    "from sklearn.tree import DecisionTreeClassifier\n",
    "\n",
    "X_spring_il_flight_test_res = spring_il_flight_test.drop(['Target'], axis=1)  # Drop 'Target' column to get features\n",
    "y_spring_il_flight_test_res = spring_il_flight_test['Target']  # 'Target' column as the label\n",
    "\n",
    "\n",
    "model_spring_flight_IL_test = DecisionTreeClassifier(\n",
    "    max_depth=5,\n",
    "    max_leaf_nodes=6,\n",
    "    min_impurity_decrease=0.01,\n",
    "    random_state=42\n",
    ")\n",
    "\n",
    "model_spring_flight_IL_test.fit(X_spring_il_flight_test_res, y_spring_il_flight_test_res)\n"
   ]
  },
  {
   "cell_type": "code",
   "execution_count": 130,
   "id": "ca11e4fc",
   "metadata": {},
   "outputs": [
    {
     "name": "stdout",
     "output_type": "stream",
     "text": [
      "              precision    recall  f1-score   support\n",
      "\n",
      "           0       0.76      1.00      0.87     21857\n",
      "           1       0.00      0.00      0.00      6727\n",
      "\n",
      "    accuracy                           0.76     28584\n",
      "   macro avg       0.38      0.50      0.43     28584\n",
      "weighted avg       0.58      0.76      0.66     28584\n",
      "\n"
     ]
    }
   ],
   "source": [
    "\n",
    "y_pred_spring_il_flight_test_res = model_spring_flight_IL_test.predict(X_spring_il_flight_test_res)\n",
    "\n",
    "\n",
    "report_flight_test = classification_report(y_spring_il_flight_test_res, y_pred_spring_il_flight_test_res, zero_division=0)\n",
    "\n",
    "\n",
    "print(report_flight_test)\n"
   ]
  },
  {
   "cell_type": "code",
   "execution_count": 131,
   "id": "5c66c79b",
   "metadata": {},
   "outputs": [
    {
     "data": {
      "image/png": "[encoded data removed]",
      "text/plain": [
       "<Figure size 720x432 with 1 Axes>"
      ]
     },
     "metadata": {
      "needs_background": "light"
     },
     "output_type": "display_data"
    }
   ],
   "source": [
    "\n",
    "\n",
    "feature_importances_flight_test = model_spring_flight_IL_test.feature_importances_\n",
    "\n",
    "feature_names_flight_test = X_spring_il_flight_test_res.columns\n",
    "\n",
    "\n",
    "feature_importance_df_flight_test = pd.DataFrame({\n",
    "    'Feature': feature_names_flight_test,\n",
    "    'Importance': feature_importances_flight_test\n",
    "})\n",
    "\n",
    "\n",
    "feature_importance_df_flight_test = feature_importance_df_flight_test.sort_values(by='Importance', ascending=False)\n",
    "\n",
    "\n",
    "plt.figure(figsize=(10, 6))\n",
    "plt.barh(feature_importance_df_flight_test['Feature'], feature_importance_df_flight_test['Importance'])\n",
    "plt.xlabel('Feature Importance')\n",
    "plt.title('Feature Importance from DecisionTreeClassifier on Spring Test Flight Data')\n",
    "plt.gca().invert_yaxis()  # Invert the y-axis to ensure the highest importance is at the top\n",
    "plt.show()\n"
   ]
  },
  {
   "cell_type": "markdown",
   "id": "6f2c9da8",
   "metadata": {},
   "source": [
    "## Model using combination of both weather and flight for spring data IL"
   ]
  },
  {
   "cell_type": "markdown",
   "id": "07e53307",
   "metadata": {},
   "source": [
    "## training data"
   ]
  },
  {
   "cell_type": "code",
   "execution_count": 132,
   "id": "02b2fb6f",
   "metadata": {},
   "outputs": [
    {
     "data": {
      "text/plain": [
       "DecisionTreeClassifier(max_depth=5, max_leaf_nodes=6,\n",
       "                       min_impurity_decrease=0.01, random_state=42)"
      ]
     },
     "execution_count": 132,
     "metadata": {},
     "output_type": "execute_result"
    }
   ],
   "source": [
    "\n",
    "X_spring_il_train_combined_res = spring_il_train_res.drop(['Target'], axis=1)  # Drop 'Target' column to get features\n",
    "y_spring_il_train_combined_res = spring_il_train_res['Target']  # 'Target' column as the label\n",
    "\n",
    "\n",
    "model_spring_il_train_combined = DecisionTreeClassifier(\n",
    "    max_depth=5,\n",
    "    max_leaf_nodes=6,\n",
    "    min_impurity_decrease=0.01,\n",
    "    random_state=42\n",
    ")\n",
    "\n",
    "model_spring_il_train_combined.fit(X_spring_il_train_combined_res, y_spring_il_train_combined_res)\n"
   ]
  },
  {
   "cell_type": "code",
   "execution_count": 133,
   "id": "68d0bbd3",
   "metadata": {},
   "outputs": [
    {
     "name": "stdout",
     "output_type": "stream",
     "text": [
      "              precision    recall  f1-score   support\n",
      "\n",
      "           0       0.57      0.84      0.68    125061\n",
      "           1       0.70      0.37      0.48    125061\n",
      "\n",
      "    accuracy                           0.61    250122\n",
      "   macro avg       0.64      0.61      0.58    250122\n",
      "weighted avg       0.64      0.61      0.58    250122\n",
      "\n"
     ]
    }
   ],
   "source": [
    "\n",
    "\n",
    "\n",
    "y_pred_spring_il_train_combined_res = model_spring_il_train_combined.predict(X_spring_il_train_combined_res)\n",
    "\n",
    "\n",
    "report_combined_train = classification_report(y_spring_il_train_combined_res, y_pred_spring_il_train_combined_res, zero_division=0)\n",
    "\n",
    "\n",
    "print(report_combined_train)\n"
   ]
  },
  {
   "cell_type": "markdown",
   "id": "849c8844",
   "metadata": {},
   "source": [
    "## validation"
   ]
  },
  {
   "cell_type": "code",
   "execution_count": 134,
   "id": "0d774621",
   "metadata": {},
   "outputs": [
    {
     "data": {
      "text/plain": [
       "DecisionTreeClassifier(max_depth=5, max_leaf_nodes=6,\n",
       "                       min_impurity_decrease=0.01, random_state=42)"
      ]
     },
     "execution_count": 134,
     "metadata": {},
     "output_type": "execute_result"
    }
   ],
   "source": [
    "X_spring_il_val_res = spring_il_val.drop(['Target'], axis=1)\n",
    "y_spring_il_val_res = spring_il_val['Target']\n",
    "\n",
    "model_spring_il_val = DecisionTreeClassifier(\n",
    "    max_depth=5,\n",
    "    max_leaf_nodes=6,\n",
    "    min_impurity_decrease=0.01,\n",
    "    random_state=42\n",
    ")\n",
    "\n",
    "model_spring_il_val.fit(X_spring_il_val_res, y_spring_il_val_res)\n"
   ]
  },
  {
   "cell_type": "code",
   "execution_count": 135,
   "id": "2f0e39dc",
   "metadata": {},
   "outputs": [
    {
     "name": "stdout",
     "output_type": "stream",
     "text": [
      "              precision    recall  f1-score   support\n",
      "\n",
      "           0       0.93      1.00      0.96     41915\n",
      "           1       0.00      0.00      0.00      3153\n",
      "\n",
      "    accuracy                           0.93     45068\n",
      "   macro avg       0.47      0.50      0.48     45068\n",
      "weighted avg       0.86      0.93      0.90     45068\n",
      "\n"
     ]
    }
   ],
   "source": [
    "y_pred_spring_il_val_res = model_spring_il_val.predict(X_spring_il_val_res)\n",
    "\n",
    "report_val = classification_report(y_spring_il_val_res, y_pred_spring_il_val_res, zero_division=0)\n",
    "\n",
    "print(report_val)\n"
   ]
  },
  {
   "cell_type": "markdown",
   "id": "786d26ec",
   "metadata": {},
   "source": [
    "## Testing data"
   ]
  },
  {
   "cell_type": "code",
   "execution_count": 136,
   "id": "b3ed81c6",
   "metadata": {},
   "outputs": [
    {
     "data": {
      "text/plain": [
       "DecisionTreeClassifier(max_depth=5, max_leaf_nodes=6,\n",
       "                       min_impurity_decrease=0.01, random_state=42)"
      ]
     },
     "execution_count": 136,
     "metadata": {},
     "output_type": "execute_result"
    }
   ],
   "source": [
    "X_spring_il_flight_test_res = spring_il_flight_test.drop(['Target'], axis=1)\n",
    "y_spring_il_flight_test_res = spring_il_flight_test['Target']\n",
    "\n",
    "model_spring_il_flight_test = DecisionTreeClassifier(\n",
    "    max_depth=5,\n",
    "    max_leaf_nodes=6,\n",
    "    min_impurity_decrease=0.01,\n",
    "    random_state=42\n",
    ")\n",
    "\n",
    "model_spring_il_flight_test.fit(X_spring_il_flight_test_res, y_spring_il_flight_test_res)\n"
   ]
  },
  {
   "cell_type": "code",
   "execution_count": 137,
   "id": "7bf9d7cd",
   "metadata": {},
   "outputs": [
    {
     "name": "stdout",
     "output_type": "stream",
     "text": [
      "              precision    recall  f1-score   support\n",
      "\n",
      "           0       0.76      1.00      0.87     21857\n",
      "           1       0.00      0.00      0.00      6727\n",
      "\n",
      "    accuracy                           0.76     28584\n",
      "   macro avg       0.38      0.50      0.43     28584\n",
      "weighted avg       0.58      0.76      0.66     28584\n",
      "\n"
     ]
    }
   ],
   "source": [
    "y_pred_spring_il_flight_test_res = model_spring_il_flight_test.predict(X_spring_il_flight_test_res)\n",
    "\n",
    "report_test = classification_report(y_spring_il_flight_test_res, y_pred_spring_il_flight_test_res, zero_division=0)\n",
    "\n",
    "print(report_test)\n"
   ]
  },
  {
   "cell_type": "code",
   "execution_count": 138,
   "id": "9d784daf",
   "metadata": {},
   "outputs": [
    {
     "data": {
      "image/png": "[encoded data removed]",
      "text/plain": [
       "<Figure size 720x432 with 1 Axes>"
      ]
     },
     "metadata": {
      "needs_background": "light"
     },
     "output_type": "display_data"
    }
   ],
   "source": [
    "feature_importances_flight_test = model_spring_il_flight_test.feature_importances_\n",
    "\n",
    "feature_names_flight_test = X_spring_il_flight_test_res.columns\n",
    "\n",
    "feature_importance_df_flight_test = pd.DataFrame({\n",
    "    'Feature': feature_names_flight_test,\n",
    "    'Importance': feature_importances_flight_test\n",
    "})\n",
    "\n",
    "feature_importance_df_flight_test = feature_importance_df_flight_test.sort_values(by='Importance', ascending=False)\n",
    "\n",
    "plt.figure(figsize=(10, 6))\n",
    "plt.barh(feature_importance_df_flight_test['Feature'], feature_importance_df_flight_test['Importance'])\n",
    "plt.xlabel('Feature Importance')\n",
    "plt.title('Feature Importance from DecisionTreeClassifier on Test Flight Data')\n",
    "plt.gca().invert_yaxis()\n",
    "plt.show()\n"
   ]
  },
  {
   "cell_type": "markdown",
   "id": "00a73fdb",
   "metadata": {},
   "source": [
    "# All Models for July IL"
   ]
  },
  {
   "cell_type": "code",
   "execution_count": 146,
   "id": "9bd1c85c",
   "metadata": {},
   "outputs": [],
   "source": [
    "summer_il_train = summer_il[summer_il['Year'].isin(train_years)]\n",
    "summer_il_val = summer_il[summer_il['Year'].isin(val_years)]\n",
    "summer_il_test = summer_il[summer_il['Year'].isin(test_years)]\n",
    "\n",
    "summer_il_flight_train = summer_il_flight[summer_il_flight['Year'].isin(train_years)]\n",
    "summer_il_flight_val = summer_il_flight[summer_il_flight['Year'].isin(val_years)]\n",
    "summer_il_flight_test = summer_il_flight[summer_il_flight['Year'].isin(test_years)]\n",
    "\n",
    "summer_il_weather_train = summer_il_weather[summer_il_weather['Year'].isin(train_years)]\n",
    "summer_il_weather_val = summer_il_weather[summer_il_weather['Year'].isin(val_years)]\n",
    "summer_il_weather_test = summer_il_weather[summer_il_weather['Year'].isin(test_years)]\n"
   ]
  },
  {
   "cell_type": "code",
   "execution_count": 147,
   "id": "cefbb3a1",
   "metadata": {},
   "outputs": [],
   "source": [
    "summer_il_train = summer_il_train.apply(lambda x: x.cat.codes if x.dtype.name == 'category' else x)\n",
    "summer_il_val = summer_il_val.apply(lambda x: x.cat.codes if x.dtype.name == 'category' else x)\n",
    "summer_il_test = summer_il_test.apply(lambda x: x.cat.codes if x.dtype.name == 'category' else x)\n",
    "\n",
    "summer_il_flight_train = summer_il_flight_train.apply(lambda x: x.cat.codes if x.dtype.name == 'category' else x)\n",
    "summer_il_flight_val = summer_il_flight_val.apply(lambda x: x.cat.codes if x.dtype.name == 'category' else x)\n",
    "summer_il_flight_test = summer_il_flight_test.apply(lambda x: x.cat.codes if x.dtype.name == 'category' else x)\n",
    "\n",
    "summer_il_weather_train = summer_il_weather_train.apply(lambda x: x.cat.codes if x.dtype.name == 'category' else x)\n",
    "summer_il_weather_val = summer_il_weather_val.apply(lambda x: x.cat.codes if x.dtype.name == 'category' else x)\n",
    "summer_il_weather_test = summer_il_weather_test.apply(lambda x: x.cat.codes if x.dtype.name == 'category' else x)\n"
   ]
  },
  {
   "cell_type": "code",
   "execution_count": 148,
   "id": "c3381637",
   "metadata": {},
   "outputs": [
    {
     "data": {
      "image/png": "[encoded data removed]",
      "text/plain": [
       "<Figure size 576x432 with 1 Axes>"
      ]
     },
     "metadata": {
      "needs_background": "light"
     },
     "output_type": "display_data"
    }
   ],
   "source": [
    "plt.figure(figsize=(8, 6))\n",
    "sns.countplot(x='Target', data=summer_il, color='blue')\n",
    "plt.title('Distribution of Target Variable (Summer - Illinois)')\n",
    "plt.xlabel('Target(0: No Delay, 1: Delay)')\n",
    "plt.ylabel('Count')\n",
    "plt.show()"
   ]
  },
  {
   "cell_type": "code",
   "execution_count": 150,
   "id": "1daf6812",
   "metadata": {},
   "outputs": [],
   "source": [
    "smote = SMOTE(random_state=42)\n",
    "\n",
    "X_summer_il_train = summer_il_train.drop('Target', axis=1)\n",
    "y_summer_il_train = summer_il_train['Target']\n",
    "X_summer_il_train_res, y_summer_il_train_res = smote.fit_resample(X_summer_il_train, y_summer_il_train)\n",
    "\n",
    "X_summer_il_flight_train = summer_il_flight_train.drop('Target', axis=1)\n",
    "y_summer_il_flight_train = summer_il_flight_train['Target']\n",
    "X_summer_il_flight_train_res, y_summer_il_flight_train_res = smote.fit_resample(X_summer_il_flight_train, y_summer_il_flight_train)\n",
    "\n",
    "X_summer_il_weather_train = summer_il_weather_train.drop('Target', axis=1)\n",
    "y_summer_il_weather_train = summer_il_weather_train['Target']\n",
    "X_summer_il_weather_train_res, y_summer_il_weather_train_res = smote.fit_resample(X_summer_il_weather_train, y_summer_il_weather_train)\n",
    "\n",
    "summer_il_train_res = pd.concat([X_summer_il_train_res, y_summer_il_train_res], axis=1)\n",
    "summer_il_flight_train_res = pd.concat([X_summer_il_flight_train_res, y_summer_il_flight_train_res], axis=1)\n",
    "summer_il_weather_train_res = pd.concat([X_summer_il_weather_train_res, y_summer_il_weather_train_res], axis=1)\n"
   ]
  },
  {
   "cell_type": "markdown",
   "id": "8579a597",
   "metadata": {},
   "source": [
    "## Only using weather data"
   ]
  },
  {
   "cell_type": "code",
   "execution_count": 151,
   "id": "c77e73fa",
   "metadata": {},
   "outputs": [
    {
     "data": {
      "image/png": "[encoded data removed]",
      "text/plain": [
       "<Figure size 576x432 with 1 Axes>"
      ]
     },
     "metadata": {
      "needs_background": "light"
     },
     "output_type": "display_data"
    }
   ],
   "source": [
    "plt.figure(figsize=(8, 6))\n",
    "sns.countplot(x='Target', data=summer_il_weather_train_res, color='blue')\n",
    "plt.title('Distribution of Target Variable after SMOTE Resampling (Summer - Illinois Weather Data)')\n",
    "plt.xlabel('Target(0: No Delay, 1: Delay)')\n",
    "plt.ylabel('Count')\n",
    "plt.show()\n"
   ]
  },
  {
   "cell_type": "code",
   "execution_count": 152,
   "id": "e46d62c1",
   "metadata": {},
   "outputs": [
    {
     "data": {
      "text/plain": [
       "DecisionTreeClassifier(max_depth=5, max_leaf_nodes=6,\n",
       "                       min_impurity_decrease=0.01, random_state=42)"
      ]
     },
     "execution_count": 152,
     "metadata": {},
     "output_type": "execute_result"
    }
   ],
   "source": [
    "model_summer_weather_IL = DecisionTreeClassifier(\n",
    "    max_depth=5,\n",
    "    max_leaf_nodes=6,\n",
    "    min_impurity_decrease=0.01,\n",
    "    random_state=42\n",
    ")\n",
    "\n",
    "model_summer_weather_IL.fit(X_summer_il_weather_train_res, y_summer_il_weather_train_res)\n"
   ]
  },
  {
   "cell_type": "code",
   "execution_count": 154,
   "id": "cd857875",
   "metadata": {},
   "outputs": [
    {
     "name": "stdout",
     "output_type": "stream",
     "text": [
      "Classification Report (Training Set - Weather Data):\n",
      "              precision    recall  f1-score   support\n",
      "\n",
      "           0       0.50      1.00      0.67    139225\n",
      "           1       1.00      0.00      0.00    139225\n",
      "\n",
      "    accuracy                           0.50    278450\n",
      "   macro avg       0.75      0.50      0.33    278450\n",
      "weighted avg       0.75      0.50      0.33    278450\n",
      "\n"
     ]
    }
   ],
   "source": [
    "y_train_weather_pred = model_summer_weather_IL.predict(X_summer_il_weather_train_res)\n",
    "print(\"Classification Report (Training Set - Weather Data):\")\n",
    "print(classification_report(y_summer_il_weather_train_res, y_train_weather_pred, zero_division = 1))\n"
   ]
  },
  {
   "cell_type": "markdown",
   "id": "7fe531be",
   "metadata": {},
   "source": [
    "## validation"
   ]
  },
  {
   "cell_type": "code",
   "execution_count": 157,
   "id": "2181f9fe",
   "metadata": {},
   "outputs": [
    {
     "data": {
      "text/plain": [
       "DecisionTreeClassifier(max_depth=5, max_leaf_nodes=6,\n",
       "                       min_impurity_decrease=0.01, random_state=42)"
      ]
     },
     "execution_count": 157,
     "metadata": {},
     "output_type": "execute_result"
    }
   ],
   "source": [
    "X_summer_il_weather_val_res = summer_il_weather_val.drop(['Target', 'Year'], axis=1)  # Drop 'Target' and 'Year'\n",
    "y_summer_il_weather_val_res = summer_il_weather_val['Target']  # 'Target' column as the label\n",
    "\n",
    "model_summer_weather_IL_val = DecisionTreeClassifier(\n",
    "    max_depth=5,\n",
    "    max_leaf_nodes=6,\n",
    "    min_impurity_decrease=0.01,\n",
    "    random_state=42\n",
    ")\n",
    "\n",
    "model_summer_weather_IL_val.fit(X_summer_il_weather_val_res, y_summer_il_weather_val_res)\n"
   ]
  },
  {
   "cell_type": "code",
   "execution_count": 158,
   "id": "1c4b5e1a",
   "metadata": {},
   "outputs": [
    {
     "name": "stdout",
     "output_type": "stream",
     "text": [
      "              precision    recall  f1-score   support\n",
      "\n",
      "           0       0.85      1.00      0.92     34392\n",
      "           1       0.00      0.00      0.00      5880\n",
      "\n",
      "    accuracy                           0.85     40272\n",
      "   macro avg       0.43      0.50      0.46     40272\n",
      "weighted avg       0.73      0.85      0.79     40272\n",
      "\n"
     ]
    }
   ],
   "source": [
    "y_pred_summer_il_weather_val_res = model_summer_weather_IL_val.predict(X_summer_il_weather_val_res)\n",
    "\n",
    "report_summer_val = classification_report(y_summer_il_weather_val_res, y_pred_summer_il_weather_val_res, zero_division=0)\n",
    "\n",
    "print(report_summer_val)\n"
   ]
  },
  {
   "cell_type": "markdown",
   "id": "ac42c862",
   "metadata": {},
   "source": [
    "## Testing data"
   ]
  },
  {
   "cell_type": "code",
   "execution_count": 159,
   "id": "02d790cb",
   "metadata": {},
   "outputs": [
    {
     "data": {
      "text/plain": [
       "DecisionTreeClassifier(max_depth=5, max_leaf_nodes=6,\n",
       "                       min_impurity_decrease=0.01, random_state=42)"
      ]
     },
     "execution_count": 159,
     "metadata": {},
     "output_type": "execute_result"
    }
   ],
   "source": [
    "X_summer_il_weather_test_res = summer_il_weather_test.drop(['Target', 'Year'], axis=1)  # Drop 'Target' and 'Year'\n",
    "y_summer_il_weather_test_res = summer_il_weather_test['Target']  # 'Target' column as the label\n",
    "\n",
    "model_summer_weather_IL_test = DecisionTreeClassifier(\n",
    "    max_depth=5,\n",
    "    max_leaf_nodes=6,\n",
    "    min_impurity_decrease=0.01,\n",
    "    random_state=42\n",
    ")\n",
    "\n",
    "model_summer_weather_IL_test.fit(X_summer_il_weather_test_res, y_summer_il_weather_test_res)\n"
   ]
  },
  {
   "cell_type": "code",
   "execution_count": 160,
   "id": "249234c4",
   "metadata": {},
   "outputs": [
    {
     "name": "stdout",
     "output_type": "stream",
     "text": [
      "              precision    recall  f1-score   support\n",
      "\n",
      "           0       0.66      1.00      0.79     20330\n",
      "           1       0.00      0.00      0.00     10555\n",
      "\n",
      "    accuracy                           0.66     30885\n",
      "   macro avg       0.33      0.50      0.40     30885\n",
      "weighted avg       0.43      0.66      0.52     30885\n",
      "\n"
     ]
    }
   ],
   "source": [
    "y_pred_summer_il_weather_test_res = model_summer_weather_IL_test.predict(X_summer_il_weather_test_res)\n",
    "\n",
    "report_test = classification_report(y_summer_il_weather_test_res, y_pred_summer_il_weather_test_res, zero_division=0)\n",
    "print(report_test)\n"
   ]
  },
  {
   "cell_type": "code",
   "execution_count": 161,
   "id": "1badad0c",
   "metadata": {},
   "outputs": [
    {
     "data": {
      "image/png": "[encoded data removed]",
      "text/plain": [
       "<Figure size 720x432 with 1 Axes>"
      ]
     },
     "metadata": {
      "needs_background": "light"
     },
     "output_type": "display_data"
    }
   ],
   "source": [
    "feature_importances_test = model_summer_weather_IL_test.feature_importances_\n",
    "\n",
    "feature_names_test = X_summer_il_weather_test_res.columns\n",
    "\n",
    "feature_importance_df_test = pd.DataFrame({\n",
    "    'Feature': feature_names_test,\n",
    "    'Importance': feature_importances_test\n",
    "})\n",
    "\n",
    "feature_importance_df_test = feature_importance_df_test.sort_values(by='Importance', ascending=True)\n",
    "\n",
    "plt.figure(figsize=(10, 6))\n",
    "plt.barh(feature_importance_df_test['Feature'], feature_importance_df_test['Importance'])\n",
    "plt.xlabel('Feature Importance')\n",
    "plt.title('Feature Importance from DecisionTreeClassifier on Test Summer Weather Data')\n",
    "plt.show()\n"
   ]
  },
  {
   "cell_type": "markdown",
   "id": "c0ab3de4",
   "metadata": {},
   "source": [
    "# Using flight data only for Summer data in IL"
   ]
  },
  {
   "cell_type": "markdown",
   "id": "48a64917",
   "metadata": {},
   "source": [
    "## training data"
   ]
  },
  {
   "cell_type": "code",
   "execution_count": 162,
   "id": "88b7d3c1",
   "metadata": {},
   "outputs": [
    {
     "data": {
      "text/plain": [
       "DecisionTreeClassifier(max_depth=5, max_leaf_nodes=6,\n",
       "                       min_impurity_decrease=0.01, random_state=42)"
      ]
     },
     "execution_count": 162,
     "metadata": {},
     "output_type": "execute_result"
    }
   ],
   "source": [
    "X_summer_il_flight_train_res = summer_il_flight_train_res.drop(['Target'], axis=1)  \n",
    "y_summer_il_flight_train_res = summer_il_flight_train_res['Target']  \n",
    "\n",
    "model_summer_flight_IL = DecisionTreeClassifier(\n",
    "    max_depth=5,\n",
    "    max_leaf_nodes=6,\n",
    "    min_impurity_decrease=0.01,\n",
    "    random_state=42,\n",
    ")\n",
    "model_summer_flight_IL.fit(X_summer_il_flight_train_res, y_summer_il_flight_train_res)\n"
   ]
  },
  {
   "cell_type": "code",
   "execution_count": 163,
   "id": "a8100f6e",
   "metadata": {},
   "outputs": [
    {
     "name": "stdout",
     "output_type": "stream",
     "text": [
      "              precision    recall  f1-score   support\n",
      "\n",
      "           0       0.64      0.50      0.56    139225\n",
      "           1       0.59      0.72      0.65    139225\n",
      "\n",
      "    accuracy                           0.61    278450\n",
      "   macro avg       0.62      0.61      0.61    278450\n",
      "weighted avg       0.62      0.61      0.61    278450\n",
      "\n"
     ]
    }
   ],
   "source": [
    "y_pred_summer_il_flight_train_res = model_summer_flight_IL.predict(X_summer_il_flight_train_res)\n",
    "\n",
    "report_flight_train = classification_report(y_summer_il_flight_train_res, y_pred_summer_il_flight_train_res, zero_division=0)\n",
    "print(report_flight_train)\n"
   ]
  },
  {
   "cell_type": "markdown",
   "id": "1d8fe405",
   "metadata": {},
   "source": [
    "## validation data"
   ]
  },
  {
   "cell_type": "code",
   "execution_count": 164,
   "id": "2fee491b",
   "metadata": {},
   "outputs": [
    {
     "data": {
      "text/plain": [
       "DecisionTreeClassifier(max_depth=5, max_leaf_nodes=6,\n",
       "                       min_impurity_decrease=0.01, random_state=42)"
      ]
     },
     "execution_count": 164,
     "metadata": {},
     "output_type": "execute_result"
    }
   ],
   "source": [
    "X_summer_il_flight_val_res = summer_il_flight_val.drop(['Target'], axis=1)  \n",
    "y_summer_il_flight_val_res = summer_il_flight_val['Target']  \n",
    "\n",
    "model_summer_flight_IL_val = DecisionTreeClassifier(\n",
    "    max_depth=5,\n",
    "    max_leaf_nodes=6,\n",
    "    min_impurity_decrease=0.01,\n",
    "    random_state=42\n",
    ")\n",
    "\n",
    "model_summer_flight_IL_val.fit(X_summer_il_flight_val_res, y_summer_il_flight_val_res)\n"
   ]
  },
  {
   "cell_type": "code",
   "execution_count": 165,
   "id": "66643301",
   "metadata": {},
   "outputs": [
    {
     "name": "stdout",
     "output_type": "stream",
     "text": [
      "              precision    recall  f1-score   support\n",
      "\n",
      "           0       0.85      1.00      0.92     34392\n",
      "           1       0.00      0.00      0.00      5880\n",
      "\n",
      "    accuracy                           0.85     40272\n",
      "   macro avg       0.43      0.50      0.46     40272\n",
      "weighted avg       0.73      0.85      0.79     40272\n",
      "\n"
     ]
    }
   ],
   "source": [
    "y_pred_summer_il_flight_val_res = model_summer_flight_IL_val.predict(X_summer_il_flight_val_res)\n",
    "\n",
    "report_flight_val = classification_report(y_summer_il_flight_val_res, y_pred_summer_il_flight_val_res, zero_division=0)\n",
    "\n",
    "print(report_flight_val)\n"
   ]
  },
  {
   "cell_type": "markdown",
   "id": "3811020a",
   "metadata": {},
   "source": [
    "## testing"
   ]
  },
  {
   "cell_type": "code",
   "execution_count": 179,
   "id": "0eb1c078",
   "metadata": {},
   "outputs": [
    {
     "name": "stdout",
     "output_type": "stream",
     "text": [
      "              precision    recall  f1-score   support\n",
      "\n",
      "           0       0.65      0.50      0.57    139225\n",
      "           1       0.59      0.72      0.65    139225\n",
      "\n",
      "    accuracy                           0.61    278450\n",
      "   macro avg       0.62      0.61      0.61    278450\n",
      "weighted avg       0.62      0.61      0.61    278450\n",
      "\n"
     ]
    }
   ],
   "source": [
    "X_summer_il_train_res = summer_il_train_res.drop(['Target'], axis=1)  # Drop 'Target' column to get features\n",
    "y_summer_il_train_res = summer_il_train_res['Target']  # 'Target' column as the label\n",
    "\n",
    "model_summer_il_train = DecisionTreeClassifier(\n",
    "    max_depth=5,\n",
    "    max_leaf_nodes=6,\n",
    "    min_impurity_decrease=0.01,\n",
    "    random_state=42\n",
    ")\n",
    "\n",
    "model_summer_il_train.fit(X_summer_il_train_res, y_summer_il_train_res)\n",
    "\n",
    "\n",
    "y_pred_summer_il_train_res = model_summer_il_train.predict(X_summer_il_train_res)\n",
    "\n",
    "\n",
    "report_train = classification_report(y_summer_il_train_res, y_pred_summer_il_train_res, zero_division=0)\n",
    "print(report_train)\n"
   ]
  },
  {
   "cell_type": "code",
   "execution_count": 180,
   "id": "95295bde",
   "metadata": {},
   "outputs": [
    {
     "data": {
      "image/png": "[encoded data removed]",
      "text/plain": [
       "<Figure size 720x432 with 1 Axes>"
      ]
     },
     "metadata": {
      "needs_background": "light"
     },
     "output_type": "display_data"
    }
   ],
   "source": [
    "\n",
    "feature_importances_train = model_summer_il_train.feature_importances_\n",
    "\n",
    "# Get the feature names (columns of the training data)\n",
    "feature_names_train = X_summer_il_train_res.columns\n",
    "\n",
    "# Create a DataFrame to hold feature names and importance\n",
    "feature_importance_df_train = pd.DataFrame({\n",
    "    'Feature': feature_names_train,\n",
    "    'Importance': feature_importances_train\n",
    "})\n",
    "\n",
    "# Sort the features by importance (in descending order)\n",
    "feature_importance_df_train = feature_importance_df_train.sort_values(by='Importance', ascending=False)\n",
    "\n",
    "# Plot the feature importance\n",
    "plt.figure(figsize=(10, 6))\n",
    "plt.barh(feature_importance_df_train['Feature'], feature_importance_df_train['Importance'])\n",
    "plt.xlabel('Feature Importance')\n",
    "plt.title('Feature Importance from DecisionTreeClassifier on Summer Training Data')\n",
    "plt.gca().invert_yaxis()  # Invert y-axis to ensure the most important features are at the top\n",
    "plt.show()\n",
    "\n"
   ]
  },
  {
   "cell_type": "markdown",
   "id": "ec0fe01f",
   "metadata": {},
   "source": [
    "## combined data for summer IL"
   ]
  },
  {
   "cell_type": "code",
   "execution_count": 181,
   "id": "338a1cac",
   "metadata": {},
   "outputs": [
    {
     "data": {
      "text/plain": [
       "DecisionTreeClassifier(max_depth=5, max_leaf_nodes=6,\n",
       "                       min_impurity_decrease=0.01, random_state=42)"
      ]
     },
     "execution_count": 181,
     "metadata": {},
     "output_type": "execute_result"
    }
   ],
   "source": [
    "X_summer_il_train_combined_res = summer_il_train_res.drop(['Target'], axis=1)  # Drop 'Target' column to get features\n",
    "y_summer_il_train_combined_res = summer_il_train_res['Target']  # 'Target' column as the label\n",
    "\n",
    "model_summer_il_train_combined = DecisionTreeClassifier(\n",
    "    max_depth=5,\n",
    "    max_leaf_nodes=6,\n",
    "    min_impurity_decrease=0.01,\n",
    "    random_state=42\n",
    ")\n",
    "\n",
    "model_summer_il_train_combined.fit(X_summer_il_train_combined_res, y_summer_il_train_combined_res)\n"
   ]
  },
  {
   "cell_type": "code",
   "execution_count": 183,
   "id": "cff8f8cc",
   "metadata": {},
   "outputs": [
    {
     "name": "stdout",
     "output_type": "stream",
     "text": [
      "              precision    recall  f1-score   support\n",
      "\n",
      "           0       0.65      0.50      0.57    139225\n",
      "           1       0.59      0.72      0.65    139225\n",
      "\n",
      "    accuracy                           0.61    278450\n",
      "   macro avg       0.62      0.61      0.61    278450\n",
      "weighted avg       0.62      0.61      0.61    278450\n",
      "\n"
     ]
    }
   ],
   "source": [
    "y_pred_summer_il_train_combined_res = model_summer_il_train_combined.predict(X_summer_il_train_combined_res)\n",
    "\n",
    "report_combined_train = classification_report(y_summer_il_train_combined_res, y_pred_summer_il_train_combined_res, zero_division=0)\n",
    "\n",
    "print(report_combined_train)\n"
   ]
  },
  {
   "cell_type": "markdown",
   "id": "d6efaae5",
   "metadata": {},
   "source": [
    "## validation"
   ]
  },
  {
   "cell_type": "code",
   "execution_count": 184,
   "id": "5a2f4f16",
   "metadata": {},
   "outputs": [
    {
     "data": {
      "text/plain": [
       "DecisionTreeClassifier(max_depth=5, max_leaf_nodes=6,\n",
       "                       min_impurity_decrease=0.01, random_state=42)"
      ]
     },
     "execution_count": 184,
     "metadata": {},
     "output_type": "execute_result"
    }
   ],
   "source": [
    "X_summer_il_val_res = summer_il_val.drop(['Target'], axis=1)  # Drop 'Target' column to get features\n",
    "y_summer_il_val_res = summer_il_val['Target']  # 'Target' column as the label\n",
    "\n",
    "model_summer_il_val = DecisionTreeClassifier(\n",
    "    max_depth=5,\n",
    "    max_leaf_nodes=6,\n",
    "    min_impurity_decrease=0.01,\n",
    "    random_state=42\n",
    ")\n",
    "\n",
    "model_summer_il_val.fit(X_summer_il_val_res, y_summer_il_val_res)\n"
   ]
  },
  {
   "cell_type": "code",
   "execution_count": 185,
   "id": "e192b1e3",
   "metadata": {},
   "outputs": [
    {
     "name": "stdout",
     "output_type": "stream",
     "text": [
      "              precision    recall  f1-score   support\n",
      "\n",
      "           0       0.85      1.00      0.92     34392\n",
      "           1       0.00      0.00      0.00      5880\n",
      "\n",
      "    accuracy                           0.85     40272\n",
      "   macro avg       0.43      0.50      0.46     40272\n",
      "weighted avg       0.73      0.85      0.79     40272\n",
      "\n"
     ]
    }
   ],
   "source": [
    "y_pred_summer_il_val_res = model_summer_il_val.predict(X_summer_il_val_res)\n",
    "\n",
    "report_val = classification_report(y_summer_il_val_res, y_pred_summer_il_val_res, zero_division=0)\n",
    "\n",
    "print(report_val)\n"
   ]
  },
  {
   "cell_type": "markdown",
   "id": "fb77e738",
   "metadata": {},
   "source": [
    "## testing"
   ]
  },
  {
   "cell_type": "code",
   "execution_count": 190,
   "id": "320b090c",
   "metadata": {},
   "outputs": [
    {
     "data": {
      "text/plain": [
       "DecisionTreeClassifier(max_depth=5, max_leaf_nodes=6,\n",
       "                       min_impurity_decrease=0.01, random_state=42)"
      ]
     },
     "execution_count": 190,
     "metadata": {},
     "output_type": "execute_result"
    }
   ],
   "source": [
    "X_summer_il_test_res = summer_il_test.drop(['Target'], axis=1)  # Drop 'Target' column to get features\n",
    "y_summer_il_test_res = summer_il_test['Target']  # 'Target' column as the label\n",
    "\n",
    "model_summer_il_combined_test = DecisionTreeClassifier(\n",
    "    max_depth=5,\n",
    "    max_leaf_nodes=6,\n",
    "    min_impurity_decrease=0.01,\n",
    "    random_state=42\n",
    ")\n",
    "\n",
    "model_summer_il_combined_test.fit(X_summer_il_test_res, y_summer_il_test_res)\n"
   ]
  },
  {
   "cell_type": "code",
   "execution_count": 191,
   "id": "982785c8",
   "metadata": {},
   "outputs": [
    {
     "name": "stdout",
     "output_type": "stream",
     "text": [
      "              precision    recall  f1-score   support\n",
      "\n",
      "           0       0.66      1.00      0.79     20330\n",
      "           1       0.00      0.00      0.00     10555\n",
      "\n",
      "    accuracy                           0.66     30885\n",
      "   macro avg       0.33      0.50      0.40     30885\n",
      "weighted avg       0.43      0.66      0.52     30885\n",
      "\n"
     ]
    }
   ],
   "source": [
    "\n",
    "y_pred_summer_il_test_res = model_summer_il_combined_test.predict(X_summer_il_test_res)\n",
    "\n",
    "report_summer_il_test = classification_report(y_summer_il_test_res, y_pred_summer_il_test_res, zero_division=0)\n",
    "\n",
    "print(report_summer_il_test)\n"
   ]
  },
  {
   "cell_type": "markdown",
   "id": "83800a49",
   "metadata": {},
   "source": [
    "# All models for Fall (IL data set)"
   ]
  },
  {
   "cell_type": "code",
   "execution_count": 192,
   "id": "1bc269d7",
   "metadata": {},
   "outputs": [],
   "source": [
    "fall_il_train = fall_il[fall_il['Year'].isin(train_years)]\n",
    "fall_il_val = fall_il[fall_il['Year'].isin(val_years)]\n",
    "fall_il_test = fall_il[fall_il['Year'].isin(test_years)]\n",
    "\n",
    "fall_il_flight_train = fall_il_flight[fall_il_flight['Year'].isin(train_years)]\n",
    "fall_il_flight_val = fall_il_flight[fall_il_flight['Year'].isin(val_years)]\n",
    "fall_il_flight_test = fall_il_flight[fall_il_flight['Year'].isin(test_years)]\n",
    "\n",
    "fall_il_weather_train = fall_il_weather[fall_il_weather['Year'].isin(train_years)]\n",
    "fall_il_weather_val = fall_il_weather[fall_il_weather['Year'].isin(val_years)]\n",
    "fall_il_weather_test = fall_il_weather[fall_il_weather['Year'].isin(test_years)]"
   ]
  },
  {
   "cell_type": "code",
   "execution_count": 193,
   "id": "9d4699a6",
   "metadata": {},
   "outputs": [],
   "source": [
    "fall_il_train = fall_il_train.apply(lambda x: x.cat.codes if x.dtype.name == 'category' else x)\n",
    "fall_il_val = fall_il_val.apply(lambda x: x.cat.codes if x.dtype.name == 'category' else x)\n",
    "fall_il_test = fall_il_test.apply(lambda x: x.cat.codes if x.dtype.name == 'category' else x)\n",
    "\n",
    "fall_il_flight_train = fall_il_flight_train.apply(lambda x: x.cat.codes if x.dtype.name == 'category' else x)\n",
    "fall_il_flight_val = fall_il_flight_val.apply(lambda x: x.cat.codes if x.dtype.name == 'category' else x)\n",
    "fall_il_flight_test = fall_il_flight_test.apply(lambda x: x.cat.codes if x.dtype.name == 'category' else x)\n",
    "\n",
    "fall_il_weather_train = fall_il_weather_train.apply(lambda x: x.cat.codes if x.dtype.name == 'category' else x)\n",
    "fall_il_weather_val = fall_il_weather_val.apply(lambda x: x.cat.codes if x.dtype.name == 'category' else x)\n",
    "fall_il_weather_test = fall_il_weather_test.apply(lambda x: x.cat.codes if x.dtype.name == 'category' else x)\n"
   ]
  },
  {
   "cell_type": "code",
   "execution_count": 194,
   "id": "6857cd35",
   "metadata": {},
   "outputs": [
    {
     "data": {
      "image/png": "[encoded data removed]",
      "text/plain": [
       "<Figure size 576x432 with 1 Axes>"
      ]
     },
     "metadata": {
      "needs_background": "light"
     },
     "output_type": "display_data"
    }
   ],
   "source": [
    "plt.figure(figsize=(8, 6))\n",
    "sns.countplot(x='Target', data=fall_il, color = 'blue')\n",
    "plt.title('Distribution of Target Variable (Fall - Illinois)')\n",
    "plt.xlabel('Target(0: No Delay, 1: Delay)')\n",
    "plt.ylabel('Count')\n",
    "plt.show()"
   ]
  },
  {
   "cell_type": "code",
   "execution_count": 196,
   "id": "2e72baed",
   "metadata": {},
   "outputs": [],
   "source": [
    "smote = SMOTE(random_state=42)\n",
    "\n",
    "X_fall_il_train = fall_il_train.drop('Target', axis=1)\n",
    "y_fall_il_train = fall_il_train['Target']\n",
    "X_fall_il_train_res, y_fall_il_train_res = smote.fit_resample(X_fall_il_train, y_fall_il_train)\n",
    "\n",
    "X_fall_il_flight_train = fall_il_flight_train.drop('Target', axis=1)\n",
    "y_fall_il_flight_train = fall_il_flight_train['Target']\n",
    "X_fall_il_flight_train_res, y_fall_il_flight_train_res = smote.fit_resample(X_fall_il_flight_train, y_fall_il_flight_train)\n",
    "\n",
    "X_fall_il_weather_train = fall_il_weather_train.drop('Target', axis=1)\n",
    "y_fall_il_weather_train = fall_il_weather_train['Target']\n",
    "X_fall_il_weather_train_res, y_fall_il_weather_train_res = smote.fit_resample(X_fall_il_weather_train, y_fall_il_weather_train)\n",
    "fall_il_train_res = pd.concat([X_fall_il_train_res, y_fall_il_train_res], axis=1)\n",
    "fall_il_flight_train_res = pd.concat([X_fall_il_flight_train_res, y_fall_il_flight_train_res], axis=1)\n",
    "fall_il_weather_train_res = pd.concat([X_fall_il_weather_train_res, y_fall_il_weather_train_res], axis=1)\n"
   ]
  },
  {
   "cell_type": "code",
   "execution_count": 198,
   "id": "1e61862f",
   "metadata": {},
   "outputs": [
    {
     "data": {
      "image/png": "[encoded data removed]",
      "text/plain": [
       "<Figure size 576x432 with 1 Axes>"
      ]
     },
     "metadata": {
      "needs_background": "light"
     },
     "output_type": "display_data"
    }
   ],
   "source": [
    "plt.figure(figsize=(8, 6))\n",
    "sns.countplot(x='Target', data=fall_il_train_res, color = 'blue')\n",
    "plt.title('Distribution of Target Variable after SMOTE Resampling (Fall - Illinois)')\n",
    "plt.xlabel('Target(0: No Delay, 1: Delay)')\n",
    "plt.ylabel('Count')\n",
    "plt.show()"
   ]
  },
  {
   "cell_type": "markdown",
   "id": "6ba747e4",
   "metadata": {},
   "source": [
    "# Using only weather data"
   ]
  },
  {
   "cell_type": "code",
   "execution_count": 199,
   "id": "9b041b74",
   "metadata": {},
   "outputs": [
    {
     "data": {
      "text/plain": [
       "DecisionTreeClassifier(max_depth=5, max_leaf_nodes=6,\n",
       "                       min_impurity_decrease=0.01, random_state=42)"
      ]
     },
     "execution_count": 199,
     "metadata": {},
     "output_type": "execute_result"
    }
   ],
   "source": [
    "\n",
    "model_fall_weather_IL = DecisionTreeClassifier(\n",
    "    max_depth=5,\n",
    "    max_leaf_nodes=6,\n",
    "    min_impurity_decrease=0.01,\n",
    "    random_state=42\n",
    ")\n",
    "\n",
    "\n",
    "model_fall_weather_IL.fit(X_fall_il_weather_train_res, y_fall_il_weather_train_res)\n"
   ]
  },
  {
   "cell_type": "code",
   "execution_count": 200,
   "id": "638e33f0",
   "metadata": {},
   "outputs": [
    {
     "name": "stdout",
     "output_type": "stream",
     "text": [
      "Classification Report (Training Set - Weather Data - Fall):\n",
      "              precision    recall  f1-score   support\n",
      "\n",
      "           0       0.58      0.74      0.65    138923\n",
      "           1       0.64      0.47      0.54    138923\n",
      "\n",
      "    accuracy                           0.60    277846\n",
      "   macro avg       0.61      0.60      0.59    277846\n",
      "weighted avg       0.61      0.60      0.59    277846\n",
      "\n"
     ]
    }
   ],
   "source": [
    "y_train_weather_pred_fall = model_fall_weather_IL.predict(X_fall_il_weather_train_res)\n",
    "print(\"Classification Report (Training Set - Weather Data - Fall):\")\n",
    "print(classification_report(y_fall_il_weather_train_res, y_train_weather_pred_fall))\n"
   ]
  },
  {
   "cell_type": "markdown",
   "id": "00cb8296",
   "metadata": {},
   "source": [
    "## validation"
   ]
  },
  {
   "cell_type": "code",
   "execution_count": 201,
   "id": "3cd25475",
   "metadata": {},
   "outputs": [
    {
     "data": {
      "text/plain": [
       "DecisionTreeClassifier(max_depth=5, max_leaf_nodes=6,\n",
       "                       min_impurity_decrease=0.01, random_state=42)"
      ]
     },
     "execution_count": 201,
     "metadata": {},
     "output_type": "execute_result"
    }
   ],
   "source": [
    "X_fall_il_weather_val_res = fall_il_weather_val.drop(['Target', 'Year'], axis=1)  # Drop 'Target' and 'Year'\n",
    "y_fall_il_weather_val_res = fall_il_weather_val['Target']  # 'Target' column as the label\n",
    "\n",
    "\n",
    "model_fall_weather_IL_val = DecisionTreeClassifier(\n",
    "    max_depth=5,\n",
    "    max_leaf_nodes=6,\n",
    "    min_impurity_decrease=0.01,\n",
    "    random_state=42\n",
    ")\n",
    "\n",
    "model_fall_weather_IL_val.fit(X_fall_il_weather_val_res, y_fall_il_weather_val_res)\n"
   ]
  },
  {
   "cell_type": "code",
   "execution_count": 202,
   "id": "23fe8aa8",
   "metadata": {},
   "outputs": [
    {
     "name": "stdout",
     "output_type": "stream",
     "text": [
      "              precision    recall  f1-score   support\n",
      "\n",
      "           0       0.85      1.00      0.92     52413\n",
      "           1       0.00      0.00      0.00      9423\n",
      "\n",
      "    accuracy                           0.85     61836\n",
      "   macro avg       0.42      0.50      0.46     61836\n",
      "weighted avg       0.72      0.85      0.78     61836\n",
      "\n"
     ]
    }
   ],
   "source": [
    "\n",
    "y_pred_fall_il_weather_val_res = model_fall_weather_IL_val.predict(X_fall_il_weather_val_res)\n",
    "\n",
    "report = classification_report(\n",
    "    y_fall_il_weather_val_res, \n",
    "    y_pred_fall_il_weather_val_res,\n",
    "    zero_division=0  \n",
    ")\n",
    "\n",
    "print(report)\n"
   ]
  },
  {
   "cell_type": "markdown",
   "id": "cc66a756",
   "metadata": {},
   "source": [
    "# testing "
   ]
  },
  {
   "cell_type": "code",
   "execution_count": 203,
   "id": "dcb0b31b",
   "metadata": {},
   "outputs": [
    {
     "data": {
      "text/plain": [
       "DecisionTreeClassifier(max_depth=5, max_leaf_nodes=6,\n",
       "                       min_impurity_decrease=0.01, random_state=42)"
      ]
     },
     "execution_count": 203,
     "metadata": {},
     "output_type": "execute_result"
    }
   ],
   "source": [
    "X_fall_il_weather_test_res = fall_il_weather_test.drop(['Target', 'Year'], axis=1)  # Drop 'Target' and 'Year'\n",
    "y_fall_il_weather_test_res = fall_il_weather_test['Target']  # 'Target' column as the label\n",
    "\n",
    "model_fall_weather_IL_test = DecisionTreeClassifier(\n",
    "    max_depth=5,\n",
    "    max_leaf_nodes=6,\n",
    "    min_impurity_decrease=0.01,\n",
    "    random_state=42\n",
    ")\n",
    "\n",
    "model_fall_weather_IL_test.fit(X_fall_il_weather_test_res, y_fall_il_weather_test_res)\n"
   ]
  },
  {
   "cell_type": "code",
   "execution_count": 204,
   "id": "4c5bc952",
   "metadata": {},
   "outputs": [
    {
     "name": "stdout",
     "output_type": "stream",
     "text": [
      "              precision    recall  f1-score   support\n",
      "\n",
      "           0       0.84      1.00      0.91      6339\n",
      "           1       0.00      0.00      0.00      1192\n",
      "\n",
      "    accuracy                           0.84      7531\n",
      "   macro avg       0.42      0.50      0.46      7531\n",
      "weighted avg       0.71      0.84      0.77      7531\n",
      "\n"
     ]
    }
   ],
   "source": [
    "y_pred_fall_il_weather_test_res = model_fall_weather_IL_test.predict(X_fall_il_weather_test_res)\n",
    "\n",
    "report_test = classification_report(y_fall_il_weather_test_res, y_pred_fall_il_weather_test_res, zero_division=0)\n",
    "print(report_test)\n"
   ]
  },
  {
   "cell_type": "code",
   "execution_count": 205,
   "id": "f62963a3",
   "metadata": {},
   "outputs": [
    {
     "data": {
      "image/png": "[encoded data removed]",
      "text/plain": [
       "<Figure size 720x432 with 1 Axes>"
      ]
     },
     "metadata": {
      "needs_background": "light"
     },
     "output_type": "display_data"
    }
   ],
   "source": [
    "feature_importances_fall_test = model_fall_weather_IL_test.feature_importances_\n",
    "\n",
    "feature_names_fall_test = X_fall_il_weather_test_res.columns\n",
    "\n",
    "feature_importance_df_fall_test = pd.DataFrame({\n",
    "    'Feature': feature_names_fall_test,\n",
    "    'Importance': feature_importances_fall_test\n",
    "})\n",
    "\n",
    "feature_importance_df_fall_test = feature_importance_df_fall_test.sort_values(by='Importance', ascending=True)\n",
    "\n",
    "plt.figure(figsize=(10, 6))\n",
    "plt.barh(feature_importance_df_fall_test['Feature'], feature_importance_df_fall_test['Importance'])\n",
    "plt.xlabel('Feature Importance')\n",
    "plt.title('Feature Importance from DecisionTreeClassifier on Fall Test Data')\n",
    "plt.show()\n"
   ]
  },
  {
   "cell_type": "markdown",
   "id": "9b51dcc9",
   "metadata": {},
   "source": [
    "# Using only flight data"
   ]
  },
  {
   "cell_type": "markdown",
   "id": "ca7d8ae3",
   "metadata": {},
   "source": [
    "## training "
   ]
  },
  {
   "cell_type": "code",
   "execution_count": 206,
   "id": "22a1d12c",
   "metadata": {},
   "outputs": [
    {
     "data": {
      "text/plain": [
       "DecisionTreeClassifier(max_depth=5, max_leaf_nodes=6,\n",
       "                       min_impurity_decrease=0.01, random_state=42)"
      ]
     },
     "execution_count": 206,
     "metadata": {},
     "output_type": "execute_result"
    }
   ],
   "source": [
    "X_fall_il_flight_train_res = fall_il_flight_train_res.drop(['Target'], axis=1)  \n",
    "y_fall_il_flight_train_res = fall_il_flight_train_res['Target']  \n",
    "\n",
    "model_fall_flight_IL = DecisionTreeClassifier(\n",
    "    max_depth=5,\n",
    "    max_leaf_nodes=6,\n",
    "    min_impurity_decrease=0.01,\n",
    "    random_state=42,\n",
    ")\n",
    "\n",
    "model_fall_flight_IL.fit(X_fall_il_flight_train_res, y_fall_il_flight_train_res)\n"
   ]
  },
  {
   "cell_type": "code",
   "execution_count": 207,
   "id": "5c24daa7",
   "metadata": {},
   "outputs": [
    {
     "name": "stdout",
     "output_type": "stream",
     "text": [
      "              precision    recall  f1-score   support\n",
      "\n",
      "           0       0.55      0.94      0.69    138923\n",
      "           1       0.79      0.24      0.37    138923\n",
      "\n",
      "    accuracy                           0.59    277846\n",
      "   macro avg       0.67      0.59      0.53    277846\n",
      "weighted avg       0.67      0.59      0.53    277846\n",
      "\n"
     ]
    }
   ],
   "source": [
    "y_pred_fall_il_flight_train_res = model_fall_flight_IL.predict(X_fall_il_flight_train_res)\n",
    "\n",
    "report_flight_train = classification_report(y_fall_il_flight_train_res, y_pred_fall_il_flight_train_res, zero_division=0)\n",
    "print(report_flight_train)\n"
   ]
  },
  {
   "cell_type": "markdown",
   "id": "3c4629f2",
   "metadata": {},
   "source": [
    "# validation"
   ]
  },
  {
   "cell_type": "code",
   "execution_count": 208,
   "id": "28675ca2",
   "metadata": {},
   "outputs": [
    {
     "data": {
      "text/plain": [
       "DecisionTreeClassifier(max_depth=5, max_leaf_nodes=6,\n",
       "                       min_impurity_decrease=0.01, random_state=42)"
      ]
     },
     "execution_count": 208,
     "metadata": {},
     "output_type": "execute_result"
    }
   ],
   "source": [
    "X_fall_il_flight_val_res = fall_il_flight_val.drop(['Target'], axis=1)\n",
    "y_fall_il_flight_val_res = fall_il_flight_val['Target']\n",
    "\n",
    "model_fall_flight_IL_val = DecisionTreeClassifier(\n",
    "    max_depth=5,\n",
    "    max_leaf_nodes=6,\n",
    "    min_impurity_decrease=0.01,\n",
    "    random_state=42\n",
    ")\n",
    "\n",
    "model_fall_flight_IL_val.fit(X_fall_il_flight_val_res, y_fall_il_flight_val_res)\n"
   ]
  },
  {
   "cell_type": "code",
   "execution_count": 209,
   "id": "cadb6d0d",
   "metadata": {},
   "outputs": [
    {
     "name": "stdout",
     "output_type": "stream",
     "text": [
      "              precision    recall  f1-score   support\n",
      "\n",
      "           0       0.85      1.00      0.92     52413\n",
      "           1       0.00      0.00      0.00      9423\n",
      "\n",
      "    accuracy                           0.85     61836\n",
      "   macro avg       0.42      0.50      0.46     61836\n",
      "weighted avg       0.72      0.85      0.78     61836\n",
      "\n"
     ]
    }
   ],
   "source": [
    "y_pred_fall_il_flight_val_res = model_fall_flight_IL_val.predict(X_fall_il_flight_val_res)\n",
    "\n",
    "report_flight_val = classification_report(y_fall_il_flight_val_res, y_pred_fall_il_flight_val_res, zero_division=0)\n",
    "\n",
    "print(report_flight_val)\n"
   ]
  },
  {
   "cell_type": "markdown",
   "id": "f0689de3",
   "metadata": {},
   "source": [
    "# testing "
   ]
  },
  {
   "cell_type": "code",
   "execution_count": 210,
   "id": "0201ab0d",
   "metadata": {},
   "outputs": [
    {
     "data": {
      "text/plain": [
       "DecisionTreeClassifier(max_depth=5, max_leaf_nodes=6,\n",
       "                       min_impurity_decrease=0.01, random_state=42)"
      ]
     },
     "execution_count": 210,
     "metadata": {},
     "output_type": "execute_result"
    }
   ],
   "source": [
    "X_fall_il_flight_test_res = fall_il_flight_test.drop(['Target'], axis=1)  # Drop 'Target' column to get features\n",
    "y_fall_il_flight_test_res = fall_il_flight_test['Target']  # 'Target' column as the label\n",
    "\n",
    "model_fall_flight_IL_test = DecisionTreeClassifier(\n",
    "    max_depth=5,\n",
    "    max_leaf_nodes=6,\n",
    "    min_impurity_decrease=0.01,\n",
    "    random_state=42\n",
    ")\n",
    "\n",
    "model_fall_flight_IL_test.fit(X_fall_il_flight_test_res, y_fall_il_flight_test_res)\n"
   ]
  },
  {
   "cell_type": "code",
   "execution_count": 211,
   "id": "3d7ae5fa",
   "metadata": {},
   "outputs": [
    {
     "name": "stdout",
     "output_type": "stream",
     "text": [
      "              precision    recall  f1-score   support\n",
      "\n",
      "           0       0.84      1.00      0.91      6339\n",
      "           1       0.00      0.00      0.00      1192\n",
      "\n",
      "    accuracy                           0.84      7531\n",
      "   macro avg       0.42      0.50      0.46      7531\n",
      "weighted avg       0.71      0.84      0.77      7531\n",
      "\n"
     ]
    }
   ],
   "source": [
    "y_pred_fall_il_flight_test_res = model_fall_flight_IL_test.predict(X_fall_il_flight_test_res)\n",
    "\n",
    "report_flight_test = classification_report(y_fall_il_flight_test_res, y_pred_fall_il_flight_test_res, zero_division=0)\n",
    "\n",
    "print(report_flight_test)\n"
   ]
  },
  {
   "cell_type": "markdown",
   "id": "643e6cdb",
   "metadata": {},
   "source": [
    "## using both weather and flight data"
   ]
  },
  {
   "cell_type": "code",
   "execution_count": 212,
   "id": "fcd57cc6",
   "metadata": {},
   "outputs": [
    {
     "data": {
      "text/plain": [
       "DecisionTreeClassifier(max_depth=5, max_leaf_nodes=6,\n",
       "                       min_impurity_decrease=0.01, random_state=42)"
      ]
     },
     "execution_count": 212,
     "metadata": {},
     "output_type": "execute_result"
    }
   ],
   "source": [
    "X_fall_il_train_combined_res = fall_il_train_res.drop(['Target'], axis=1)  # Drop 'Target' column to get features\n",
    "y_fall_il_train_combined_res = fall_il_train_res['Target']  # 'Target' column as the label\n",
    "\n",
    "model_fall_il_train_combined = DecisionTreeClassifier(\n",
    "    max_depth=5,\n",
    "    max_leaf_nodes=6,\n",
    "    min_impurity_decrease=0.01,\n",
    "    random_state=42\n",
    ")\n",
    "\n",
    "model_fall_il_train_combined.fit(X_fall_il_train_combined_res, y_fall_il_train_combined_res)\n"
   ]
  },
  {
   "cell_type": "code",
   "execution_count": 213,
   "id": "29246aba",
   "metadata": {},
   "outputs": [
    {
     "name": "stdout",
     "output_type": "stream",
     "text": [
      "              precision    recall  f1-score   support\n",
      "\n",
      "           0       0.60      0.85      0.70    138923\n",
      "           1       0.74      0.44      0.55    138923\n",
      "\n",
      "    accuracy                           0.64    277846\n",
      "   macro avg       0.67      0.64      0.63    277846\n",
      "weighted avg       0.67      0.64      0.63    277846\n",
      "\n"
     ]
    }
   ],
   "source": [
    "y_pred_fall_il_train_combined_res = model_fall_il_train_combined.predict(X_fall_il_train_combined_res)\n",
    "\n",
    "report_combined_train_fall = classification_report(y_fall_il_train_combined_res, y_pred_fall_il_train_combined_res, zero_division=0)\n",
    "\n",
    "print(report_combined_train_fall)\n"
   ]
  },
  {
   "cell_type": "markdown",
   "id": "11874a20",
   "metadata": {},
   "source": [
    "## validation data"
   ]
  },
  {
   "cell_type": "code",
   "execution_count": 214,
   "id": "8672e908",
   "metadata": {},
   "outputs": [
    {
     "data": {
      "text/plain": [
       "DecisionTreeClassifier(max_depth=5, max_leaf_nodes=6,\n",
       "                       min_impurity_decrease=0.01, random_state=42)"
      ]
     },
     "execution_count": 214,
     "metadata": {},
     "output_type": "execute_result"
    }
   ],
   "source": [
    "X_fall_il_val_res = fall_il_val.drop(['Target'], axis=1)  # Drop 'Target' column to get features\n",
    "y_fall_il_val_res = fall_il_val['Target']  # 'Target' column as the label\n",
    "\n",
    "model_fall_il_val = DecisionTreeClassifier(\n",
    "    max_depth=5,\n",
    "    max_leaf_nodes=6,\n",
    "    min_impurity_decrease=0.01,\n",
    "    random_state=42\n",
    ")\n",
    "\n",
    "model_fall_il_val.fit(X_fall_il_val_res, y_fall_il_val_res)\n"
   ]
  },
  {
   "cell_type": "code",
   "execution_count": 215,
   "id": "d97a98ec",
   "metadata": {},
   "outputs": [
    {
     "name": "stdout",
     "output_type": "stream",
     "text": [
      "              precision    recall  f1-score   support\n",
      "\n",
      "           0       0.85      1.00      0.92     52413\n",
      "           1       0.00      0.00      0.00      9423\n",
      "\n",
      "    accuracy                           0.85     61836\n",
      "   macro avg       0.42      0.50      0.46     61836\n",
      "weighted avg       0.72      0.85      0.78     61836\n",
      "\n"
     ]
    }
   ],
   "source": [
    "y_pred_fall_il_val_res = model_fall_il_val.predict(X_fall_il_val_res)\n",
    "\n",
    "report_val = classification_report(y_fall_il_val_res, y_pred_fall_il_val_res, zero_division=0)\n",
    "\n",
    "print(report_val)\n"
   ]
  },
  {
   "cell_type": "markdown",
   "id": "6a8d044d",
   "metadata": {},
   "source": [
    "## testing "
   ]
  },
  {
   "cell_type": "code",
   "execution_count": 216,
   "id": "0b567210",
   "metadata": {},
   "outputs": [
    {
     "data": {
      "text/plain": [
       "DecisionTreeClassifier(max_depth=5, max_leaf_nodes=6,\n",
       "                       min_impurity_decrease=0.01, random_state=42)"
      ]
     },
     "execution_count": 216,
     "metadata": {},
     "output_type": "execute_result"
    }
   ],
   "source": [
    "X_fall_il_train_res = fall_il_train.drop(['Target'], axis=1)  # Drop 'Target' column to get features\n",
    "y_fall_il_train_res = fall_il_train['Target']  # 'Target' column as the label\n",
    "\n",
    "model_fall_il_test = DecisionTreeClassifier(\n",
    "    max_depth=5,\n",
    "    max_leaf_nodes=6,\n",
    "    min_impurity_decrease=0.01,\n",
    "    random_state=42\n",
    ")\n",
    "\n",
    "model_fall_il_test.fit(X_fall_il_train_res, y_fall_il_train_res)\n"
   ]
  },
  {
   "cell_type": "code",
   "execution_count": 220,
   "id": "0b5053e3",
   "metadata": {},
   "outputs": [
    {
     "name": "stdout",
     "output_type": "stream",
     "text": [
      "              precision    recall  f1-score   support\n",
      "\n",
      "           0       0.84      1.00      0.91      6339\n",
      "           1       0.00      0.00      0.00      1192\n",
      "\n",
      "    accuracy                           0.84      7531\n",
      "   macro avg       0.42      0.50      0.46      7531\n",
      "weighted avg       0.71      0.84      0.77      7531\n",
      "\n"
     ]
    }
   ],
   "source": [
    "X_fall_il_test_res = fall_il_test.drop(['Target'], axis=1)  # Drop 'Target' column to get features\n",
    "y_fall_il_test_res = fall_il_test['Target']  # 'Target' column as the label\n",
    "\n",
    "\n",
    "y_pred_fall_il_test_res = model_fall_il_test.predict(X_fall_il_test_res)\n",
    "\n",
    "# Generate the classification report with zero_division handling\n",
    "report_test = classification_report(y_fall_il_test_res, y_pred_fall_il_test_res, zero_division=0)\n",
    "\n",
    "# Print the classification report\n",
    "print(report_test)"
   ]
  },
  {
   "cell_type": "code",
   "execution_count": 221,
   "id": "f22bb5f7",
   "metadata": {},
   "outputs": [
    {
     "data": {
      "image/png": "[encoded data removed]",
      "text/plain": [
       "<Figure size 720x432 with 1 Axes>"
      ]
     },
     "metadata": {
      "needs_background": "light"
     },
     "output_type": "display_data"
    }
   ],
   "source": [
    "# Get the feature importances from the trained model\n",
    "feature_importances_fall = model_fall_il_test.feature_importances_\n",
    "\n",
    "# Get the feature names from the dataset (excluding 'Target' column)\n",
    "feature_names_fall = X_fall_il_test_res.columns\n",
    "\n",
    "# Create a DataFrame to hold feature names and their corresponding importance\n",
    "feature_importance_df_fall = pd.DataFrame({\n",
    "    'Feature': feature_names_fall,\n",
    "    'Importance': feature_importances_fall\n",
    "})\n",
    "\n",
    "# Sort the features by importance in descending order\n",
    "feature_importance_df_fall = feature_importance_df_fall.sort_values(by='Importance', ascending=False)\n",
    "\n",
    "# Plot the feature importance\n",
    "plt.figure(figsize=(10, 6))\n",
    "plt.barh(feature_importance_df_fall['Feature'], feature_importance_df_fall['Importance'])\n",
    "plt.xlabel('Feature Importance')\n",
    "plt.title('Feature Importance from DecisionTreeClassifier on Fall IL Data')\n",
    "plt.gca().invert_yaxis()  # Invert the y-axis to ensure the most important feature is at the top\n",
    "plt.show()\n"
   ]
  },
  {
   "cell_type": "code",
   "execution_count": null,
   "id": "8af93461",
   "metadata": {},
   "outputs": [],
   "source": []
  },
  {
   "cell_type": "code",
   "execution_count": null,
   "id": "74463035",
   "metadata": {},
   "outputs": [],
   "source": []
  },
  {
   "cell_type": "markdown",
   "id": "eb200bcf",
   "metadata": {
    "id": "eb200bcf"
   },
   "source": [
    "## This model is for Flights and Weather Data combined"
   ]
  },
  {
   "cell_type": "code",
   "execution_count": null,
   "id": "ddf4c103",
   "metadata": {
    "id": "ddf4c103"
   },
   "outputs": [],
   "source": [
    "# Separate features and target\n",
    "X_train = train_df.drop('Target', axis=1)\n",
    "y_train = train_df['Target']\n",
    "X_val = val_df.drop('Target', axis=1)\n",
    "y_val = val_df['Target']\n",
    "X_test = test_df.drop('Target', axis=1)\n",
    "y_test = test_df['Target']"
   ]
  },
  {
   "cell_type": "code",
   "execution_count": null,
   "id": "574dd892",
   "metadata": {
    "id": "574dd892"
   },
   "outputs": [],
   "source": [
    "X_train.head()"
   ]
  },
  {
   "cell_type": "code",
   "execution_count": null,
   "id": "b315fd3c",
   "metadata": {
    "id": "b315fd3c"
   },
   "outputs": [],
   "source": [
    "X_train.info()"
   ]
  },
  {
   "cell_type": "code",
   "execution_count": null,
   "id": "787c2c23",
   "metadata": {
    "id": "787c2c23"
   },
   "outputs": [],
   "source": [
    "# Ensure consistent encoding across all sets using pd.Categorical\n",
    "for col in X_train.select_dtypes(include=['category']).columns:\n",
    "    X_train[col] = pd.Categorical(X_train[col])\n",
    "    X_val[col] = pd.Categorical(X_val[col], categories=X_train[col].cat.categories)\n",
    "    X_test[col] = pd.Categorical(X_test[col], categories=X_train[col].cat.categories)\n",
    "\n",
    "# Convert categorical columns to integer codes\n",
    "X_train = X_train.apply(lambda x: x.cat.codes if x.dtype.name == 'category' else x)\n",
    "X_val = X_val.apply(lambda x: x.cat.codes if x.dtype.name == 'category' else x)\n",
    "X_test = X_test.apply(lambda x: x.cat.codes if x.dtype.name == 'category' else x)"
   ]
  },
  {
   "cell_type": "code",
   "execution_count": null,
   "id": "87244101",
   "metadata": {
    "id": "87244101"
   },
   "outputs": [],
   "source": [
    "counts_1 = pd.Series(train_df[\"Target\"]).value_counts()\n",
    "class_counts_df_1 = counts_1.reset_index()\n",
    "class_counts_df_1.columns = ['Class', 'Count']\n",
    "sns.barplot(x='Class', y='Count', data=class_counts_df_1)"
   ]
  },
  {
   "cell_type": "markdown",
   "id": "0fdc82b9",
   "metadata": {
    "id": "0fdc82b9"
   },
   "source": [
    "Based on this bar plot we can see the unbalanced distribution between the two different classes. Therefore, we need to apply SMOTE for class balancing."
   ]
  },
  {
   "cell_type": "code",
   "execution_count": null,
   "id": "647cf1c5",
   "metadata": {
    "id": "647cf1c5"
   },
   "outputs": [],
   "source": [
    "smote = SMOTE(random_state=42)\n",
    "X_train_smote, y_train_smote = smote.fit_resample(X_train, y_train)"
   ]
  },
  {
   "cell_type": "code",
   "execution_count": null,
   "id": "92255062",
   "metadata": {
    "id": "92255062"
   },
   "outputs": [],
   "source": [
    "counts_2 = pd.Series(y_train_smote).value_counts()\n",
    "class_counts_df_2 = counts_2.reset_index()\n",
    "class_counts_df_2.columns = ['Class', 'Count']\n",
    "sns.barplot(x='Class', y='Count', data=class_counts_df_2)"
   ]
  },
  {
   "cell_type": "markdown",
   "id": "b5e0bcae",
   "metadata": {
    "id": "b5e0bcae"
   },
   "source": [
    "The classes are balanced, we are ready to train the decision tree!"
   ]
  },
  {
   "cell_type": "code",
   "execution_count": null,
   "id": "8491d0e8",
   "metadata": {
    "id": "8491d0e8"
   },
   "outputs": [],
   "source": [
    "jan_clf_1 = DecisionTreeClassifier(\n",
    "    max_depth=5,\n",
    "    max_leaf_nodes=6,\n",
    "    min_impurity_decrease=0.01,\n",
    "    random_state=42\n",
    ")\n",
    "jan_clf_1.fit(X_train_smote, y_train_smote)"
   ]
  },
  {
   "cell_type": "code",
   "execution_count": null,
   "id": "5545c27b",
   "metadata": {
    "id": "5545c27b"
   },
   "outputs": [],
   "source": [
    "y_train_pred = jan_clf_1.predict(X_train_smote)\n",
    "accuracy_training = round(accuracy_score(y_train_smote, y_train_pred), 2)\n",
    "print(\"The accuracy for the training set is :\" , accuracy_training)\n"
   ]
  },
  {
   "cell_type": "code",
   "execution_count": null,
   "id": "48e85437",
   "metadata": {
    "id": "48e85437"
   },
   "outputs": [],
   "source": [
    "cm_training = confusion_matrix(y_train_smote, y_train_pred)\n",
    "\n",
    "plt.figure(figsize=(8, 6))\n",
    "sns.heatmap(cm_training, annot=True, fmt='d', cmap='Blues', xticklabels=jan_clf_1.classes_, yticklabels=jan_clf_1.classes_)\n",
    "plt.title('Confusion Matrix (Training set Set)')\n",
    "plt.xlabel('Predicted Labels')\n",
    "plt.ylabel('True Labels')\n",
    "plt.show()"
   ]
  },
  {
   "cell_type": "code",
   "execution_count": null,
   "id": "66e4b30b",
   "metadata": {
    "id": "66e4b30b"
   },
   "outputs": [],
   "source": [
    "y_val_pred = jan_clf_1.predict(X_val)\n",
    "accuracy_val = round(accuracy_score(y_val, y_val_pred), 2)\n",
    "print(\"The accuracy for the training set is :\" , accuracy_val)"
   ]
  },
  {
   "cell_type": "code",
   "execution_count": null,
   "id": "0338ccf8",
   "metadata": {
    "id": "0338ccf8"
   },
   "outputs": [],
   "source": [
    "cm_val = confusion_matrix(y_val, y_val_pred)\n",
    "\n",
    "plt.figure(figsize=(8, 6))\n",
    "sns.heatmap(cm_val, annot=True, fmt='d', cmap='Blues', xticklabels=jan_clf_1.classes_, yticklabels=jan_clf_1.classes_)\n",
    "plt.title('Confusion Matrix (Validation set Set)')\n",
    "plt.xlabel('Predicted Labels')\n",
    "plt.ylabel('True Labels')\n",
    "plt.show()"
   ]
  },
  {
   "cell_type": "code",
   "execution_count": null,
   "id": "6302b846",
   "metadata": {
    "id": "6302b846"
   },
   "outputs": [],
   "source": [
    "y_test_pred = jan_clf_1.predict(X_test)\n",
    "accuracy_test = round(accuracy_score(y_test, y_test_pred), 2)\n",
    "print(\"The accuracy for the test set is :\" , accuracy_test)"
   ]
  },
  {
   "cell_type": "code",
   "execution_count": null,
   "id": "69bded91",
   "metadata": {
    "id": "69bded91"
   },
   "outputs": [],
   "source": [
    "cm_test = confusion_matrix(y_test, y_test_pred)\n",
    "\n",
    "plt.figure(figsize=(8, 6))\n",
    "sns.heatmap(cm_test, annot=True, fmt='d', cmap='Blues', xticklabels=jan_clf_1.classes_, yticklabels=jan_clf_1.classes_)\n",
    "plt.title('Confusion Matrix (test set Set)')\n",
    "plt.xlabel('Predicted Labels')\n",
    "plt.ylabel('True Labels')\n",
    "plt.show()"
   ]
  },
  {
   "cell_type": "code",
   "execution_count": null,
   "id": "90aeebbc",
   "metadata": {
    "id": "90aeebbc"
   },
   "outputs": [],
   "source": [
    "#training\n",
    "y_train_pred = jan_clf_1.predict(X_train_smote)\n",
    "print(\"Classification Report (Training Set):\")\n",
    "print(classification_report(y_train_smote, y_train_pred))\n",
    "\n",
    "\n"
   ]
  },
  {
   "cell_type": "code",
   "execution_count": null,
   "id": "f3ea4c76",
   "metadata": {
    "id": "f3ea4c76"
   },
   "outputs": [],
   "source": [
    "# Validation\n",
    "y_val_pred = jan_clf_1.predict(X_val)\n",
    "print(\"Classification Report (Validation Set):\")\n",
    "print(classification_report(y_val, y_val_pred))\n",
    "\n"
   ]
  },
  {
   "cell_type": "code",
   "execution_count": null,
   "id": "75ea8518",
   "metadata": {
    "id": "75ea8518"
   },
   "outputs": [],
   "source": [
    "# Test\n",
    "y_test_pred = jan_clf_1.predict(X_test)\n",
    "print(\"Classification Report (Test Set):\")\n",
    "print(classification_report(y_test, y_test_pred))"
   ]
  },
  {
   "cell_type": "code",
   "execution_count": null,
   "id": "a715131c",
   "metadata": {
    "id": "a715131c"
   },
   "outputs": [],
   "source": [
    "\n",
    "feature_importance = pd.DataFrame({\n",
    "    'Feature': X_train_smote.columns,\n",
    "    'Importance': jan_clf_1.feature_importances_\n",
    "}).sort_values(by='Importance', ascending=False)\n",
    "\n",
    "plt.figure(figsize=(10, 6))\n",
    "sns.barplot(x='Importance', y='Feature', data=feature_importance, color='blue')\n",
    "plt.title('Feature Importance')\n",
    "plt.xlabel('Importance')\n",
    "plt.ylabel('Feature')\n",
    "plt.show()\n"
   ]
  },
  {
   "cell_type": "code",
   "execution_count": null,
   "id": "bb89a6af",
   "metadata": {
    "id": "bb89a6af"
   },
   "outputs": [],
   "source": []
  },
  {
   "cell_type": "markdown",
   "id": "67d2ce98",
   "metadata": {
    "id": "67d2ce98"
   },
   "source": [
    "# Summary of combined weather and flight data model\n",
    "- Accuracy for training 0.65\n",
    "- Accuracy for validation 0.57\n",
    "- Accuracy for testing 0.56\n",
    "### Most Important features\n",
    "- Hourly Precipitation Inches\n",
    "- Apparent Temperature Fahrenheit"
   ]
  },
  {
   "cell_type": "markdown",
   "id": "af8ff6d8",
   "metadata": {
    "id": "af8ff6d8"
   },
   "source": [
    "# Model for flights data only"
   ]
  },
  {
   "cell_type": "code",
   "execution_count": null,
   "id": "b2ba69c1",
   "metadata": {
    "id": "b2ba69c1"
   },
   "outputs": [],
   "source": [
    "flights_columns = [\n",
    "    \"Quarter\", \"Month\", \"Day_of_Month\", \"Day_of_Week\", \"Operating_Carrier_Code\", \"Tail_Number\",\n",
    "    \"Origin_Airport_ID\", \"Origin_Airport_Code\", \"Destination_Airport_Code\",\n",
    "    \"Destination_State_Name\", \"Scheduled_Departure_Time\",\n",
    "    \"Flight_Distance_Miles\", \"Scheduled_Departure_Time_Minutes\"\n",
    "]\n"
   ]
  },
  {
   "cell_type": "code",
   "execution_count": null,
   "id": "49b88af7",
   "metadata": {
    "id": "49b88af7"
   },
   "outputs": [],
   "source": [
    "X_train_flight = train_df[flights_columns]\n",
    "y_train_flight = train_df['Target']\n",
    "X_val_flight = val_df[flights_columns]\n",
    "y_val_flight = val_df['Target']\n",
    "X_test_flight = test_df[flights_columns]\n",
    "y_test_flight = test_df['Target']"
   ]
  },
  {
   "cell_type": "code",
   "execution_count": null,
   "id": "7d328070",
   "metadata": {
    "id": "7d328070"
   },
   "outputs": [],
   "source": [
    "X_train_flight.info()"
   ]
  },
  {
   "cell_type": "code",
   "execution_count": null,
   "id": "513b9686",
   "metadata": {
    "id": "513b9686"
   },
   "outputs": [],
   "source": [
    "X_train_flight.head()"
   ]
  },
  {
   "cell_type": "code",
   "execution_count": null,
   "id": "769a1d09",
   "metadata": {
    "id": "769a1d09"
   },
   "outputs": [],
   "source": [
    "\n",
    "for col in X_train_flight.select_dtypes(include=['category']).columns:\n",
    "    X_train_flight[col] = pd.Categorical(X_train_flight[col])\n",
    "    X_val_flight[col] = pd.Categorical(X_val_flight[col], categories=X_train_flight[col].cat.categories)\n",
    "    X_test_flight[col] = pd.Categorical(X_test_flight[col], categories=X_train_flight[col].cat.categories)\n",
    "\n",
    "\n",
    "X_train_flight = X_train_flight.apply(lambda x: x.cat.codes if x.dtype.name == 'category' else x)\n",
    "X_val_flight = X_val_flight.apply(lambda x: x.cat.codes if x.dtype.name == 'category' else x)\n",
    "X_test_flight = X_test_flight.apply(lambda x: x.cat.codes if x.dtype.name == 'category' else x)\n"
   ]
  },
  {
   "cell_type": "code",
   "execution_count": null,
   "id": "a8287b54",
   "metadata": {
    "id": "a8287b54"
   },
   "outputs": [],
   "source": [
    "\n",
    "smote = SMOTE(random_state=42)\n",
    "X_train_flight_smote, y_train_flight_smote = smote.fit_resample(X_train_flight, y_train_flight)"
   ]
  },
  {
   "cell_type": "code",
   "execution_count": null,
   "id": "30c94a6a",
   "metadata": {
    "id": "30c94a6a"
   },
   "outputs": [],
   "source": [
    "\n",
    "jan_clf_flight = DecisionTreeClassifier(\n",
    "    max_depth=5,\n",
    "    max_leaf_nodes=6,\n",
    "    min_impurity_decrease=0.01,\n",
    "    random_state=42\n",
    ")\n",
    "\n",
    "\n",
    "jan_clf_flight.fit(X_train_flight_smote, y_train_flight_smote)\n",
    "\n"
   ]
  },
  {
   "cell_type": "code",
   "execution_count": null,
   "id": "fb4bb8de",
   "metadata": {
    "id": "fb4bb8de"
   },
   "outputs": [],
   "source": [
    "\n",
    "y_train_flight_pred = jan_clf_flight.predict(X_train_flight_smote)\n",
    "\n",
    "\n",
    "accuracy_training_flight = round(accuracy_score(y_train_flight_smote, y_train_flight_pred), 2)\n",
    "\n",
    "print(\"The accuracy for the training set is:\", accuracy_training_flight)\n"
   ]
  },
  {
   "cell_type": "code",
   "execution_count": null,
   "id": "09159988",
   "metadata": {
    "id": "09159988"
   },
   "outputs": [],
   "source": [
    "cm_training_flight = confusion_matrix(y_train_flight_smote, y_train_flight_pred)\n",
    "\n",
    "# Plot the confusion matrix\n",
    "plt.figure(figsize=(8, 6))\n",
    "sns.heatmap(cm_training_flight, annot=True, fmt='d', cmap='Blues',\n",
    "            xticklabels=jan_clf_flight.classes_,\n",
    "            yticklabels=jan_clf_flight.classes_)\n",
    "plt.title('Confusion Matrix (Training Set)')\n",
    "plt.xlabel('Predicted Labels')\n",
    "plt.ylabel('True Labels')\n",
    "plt.show()"
   ]
  },
  {
   "cell_type": "code",
   "execution_count": null,
   "id": "2acee782",
   "metadata": {
    "id": "2acee782"
   },
   "outputs": [],
   "source": [
    "\n",
    "y_val_flight_pred = jan_clf_flight.predict(X_val_flight)\n",
    "\n",
    "\n",
    "accuracy_validation_flight = round(accuracy_score(y_val_flight, y_val_flight_pred), 2)\n",
    "\n",
    "\n",
    "print(\"The accuracy for the validation set is:\", accuracy_validation_flight)\n"
   ]
  },
  {
   "cell_type": "code",
   "execution_count": null,
   "id": "7dd07b05",
   "metadata": {
    "id": "7dd07b05"
   },
   "outputs": [],
   "source": [
    "cm_validation_flight = confusion_matrix(y_val_flight, y_val_flight_pred)\n",
    "\n",
    "plt.figure(figsize=(8, 6))\n",
    "sns.heatmap(cm_validation_flight, annot=True, fmt='d', cmap='Blues',\n",
    "            xticklabels=jan_clf_flight.classes_,\n",
    "            yticklabels=jan_clf_flight.classes_)\n",
    "plt.title('Confusion Matrix (Validation Set)')\n",
    "plt.xlabel('Predicted Labels')\n",
    "plt.ylabel('True Labels')\n",
    "plt.show()"
   ]
  },
  {
   "cell_type": "code",
   "execution_count": null,
   "id": "56d2ceff",
   "metadata": {
    "id": "56d2ceff"
   },
   "outputs": [],
   "source": [
    "\n",
    "y_test_flight_pred = jan_clf_flight.predict(X_test_flight)\n",
    "\n",
    "accuracy_test_flight = round(accuracy_score(y_test_flight, y_test_flight_pred), 2)\n",
    "\n",
    "\n",
    "print(\"The accuracy for the test set is:\", accuracy_test_flight)\n"
   ]
  },
  {
   "cell_type": "code",
   "execution_count": null,
   "id": "5a4b54a0",
   "metadata": {
    "id": "5a4b54a0"
   },
   "outputs": [],
   "source": [
    "\n",
    "cm_test_flight = confusion_matrix(y_test_flight, y_test_flight_pred)\n",
    "\n",
    "plt.figure(figsize=(8, 6))\n",
    "sns.heatmap(cm_test_flight, annot=True, fmt='d', cmap='Blues',\n",
    "            xticklabels=jan_clf_flight.classes_,\n",
    "            yticklabels=jan_clf_flight.classes_)\n",
    "plt.title('Confusion Matrix (Test Set)')\n",
    "plt.xlabel('Predicted Labels')\n",
    "plt.ylabel('True Labels')\n",
    "plt.show()\n"
   ]
  },
  {
   "cell_type": "code",
   "execution_count": null,
   "id": "22c4125e",
   "metadata": {
    "id": "22c4125e"
   },
   "outputs": [],
   "source": [
    "y_train_flight_pred = jan_clf_flight.predict(X_train_flight_smote)\n",
    "print(\"Classification Report (Training Set - Flight Data):\")\n",
    "print(classification_report(y_train_flight_smote, y_train_flight_pred))"
   ]
  },
  {
   "cell_type": "code",
   "execution_count": null,
   "id": "07bdd3c6",
   "metadata": {
    "id": "07bdd3c6"
   },
   "outputs": [],
   "source": [
    "y_val_flight_pred = jan_clf_flight.predict(X_val_flight)\n",
    "print(\"\\nClassification Report (Validation Set - Flight Data):\")\n",
    "print(classification_report(y_val_flight, y_val_flight_pred))"
   ]
  },
  {
   "cell_type": "code",
   "execution_count": null,
   "id": "480f172c",
   "metadata": {
    "id": "480f172c"
   },
   "outputs": [],
   "source": [
    "y_test_flight_pred = jan_clf_flight.predict(X_test_flight)\n",
    "print(\"\\nClassification Report (Test Set - Flight Data):\")\n",
    "print(classification_report(y_test_flight, y_test_flight_pred))"
   ]
  },
  {
   "cell_type": "code",
   "execution_count": null,
   "id": "3e86202c",
   "metadata": {
    "id": "3e86202c"
   },
   "outputs": [],
   "source": [
    "feature_importance_flight = pd.DataFrame({\n",
    "    'Feature': X_train_flight_smote.columns,\n",
    "    'Importance': jan_clf_flight.feature_importances_\n",
    "}).sort_values(by='Importance', ascending=False)\n",
    "\n",
    "plt.figure(figsize=(10, 6))\n",
    "sns.barplot(x='Importance', y='Feature', data=feature_importance_flight, color='blue')\n",
    "plt.title('Feature Importance (Flight Data)')\n",
    "plt.xlabel('Importance')\n",
    "plt.ylabel('Feature')\n",
    "plt.show()"
   ]
  },
  {
   "cell_type": "markdown",
   "id": "b48fe916",
   "metadata": {
    "id": "b48fe916"
   },
   "source": [
    "# Summary of only flight data model\n",
    "- Training accuracy 0.6\n",
    "- Validation accuracy 0.38\n",
    "- Testing accuracy 0.51\n",
    "\n",
    "## Most important features\n",
    "- Day of Month\n",
    "- Scheduled Departure Time"
   ]
  },
  {
   "cell_type": "markdown",
   "id": "3213b710",
   "metadata": {
    "id": "3213b710"
   },
   "source": [
    "## Model using only weather data"
   ]
  },
  {
   "cell_type": "code",
   "execution_count": null,
   "id": "a80197ea",
   "metadata": {
    "id": "a80197ea"
   },
   "outputs": [],
   "source": [
    "weather_columns = [\n",
    "    \"Air_Temperature_Fahrenheit\", \"Dew_Point_Temperature_Fahrenheit\",\n",
    "    \"Relative_Humidity_Percent\", \"Wind_Direction_Degrees\", \"Wind_Speed_Knots\",\n",
    "    \"Hourly_Precipitation_Inches\", \"Pressure_Altimeter_Inches\",\n",
    "    \"Sea_Level_Pressure_Millibar\", \"Visibility_Miles\", \"Sky_Cover_Level_1\",\n",
    "    \"Sky_Level_1_Altitude_Feet\", \"Apparent_Temperature_Fahrenheit\"\n",
    "]\n"
   ]
  },
  {
   "cell_type": "code",
   "execution_count": null,
   "id": "9b5ed38b",
   "metadata": {
    "id": "9b5ed38b"
   },
   "outputs": [],
   "source": [
    "X_train_weather = train_df[weather_columns]\n",
    "y_train_weather = train_df['Target']\n",
    "X_val_weather = val_df[weather_columns]\n",
    "y_val_weather = val_df['Target']\n",
    "X_test_weather = test_df[weather_columns]\n",
    "y_test_weather = test_df['Target']"
   ]
  },
  {
   "cell_type": "code",
   "execution_count": null,
   "id": "69f25379",
   "metadata": {
    "id": "69f25379"
   },
   "outputs": [],
   "source": [
    "X_train_weather.info()"
   ]
  },
  {
   "cell_type": "code",
   "execution_count": null,
   "id": "f717980a",
   "metadata": {
    "id": "f717980a"
   },
   "outputs": [],
   "source": [
    "X_train_weather.head()"
   ]
  },
  {
   "cell_type": "code",
   "execution_count": null,
   "id": "f9dff468",
   "metadata": {
    "id": "f9dff468"
   },
   "outputs": [],
   "source": [
    "\n",
    "for col in X_train_weather.select_dtypes(include=['category']).columns:\n",
    "    X_train_weather[col] = pd.Categorical(X_train_weather[col])\n",
    "    X_val_weather[col] = pd.Categorical(X_val_weather[col], categories=X_train_weather[col].cat.categories)\n",
    "    X_test_weather[col] = pd.Categorical(X_test_weather[col], categories=X_train_weather[col].cat.categories)\n",
    "\n",
    "X_train_weather = X_train_weather.apply(lambda x: x.cat.codes if x.dtype.name == 'category' else x)\n",
    "X_val_weather = X_val_weather.apply(lambda x: x.cat.codes if x.dtype.name == 'category' else x)\n",
    "X_test_weather = X_test_weather.apply(lambda x: x.cat.codes if x.dtype.name == 'category' else x)\n"
   ]
  },
  {
   "cell_type": "code",
   "execution_count": null,
   "id": "3790e72e",
   "metadata": {
    "id": "3790e72e"
   },
   "outputs": [],
   "source": [
    "smote = SMOTE(random_state=42)\n",
    "\n",
    "X_train_weather_smote, y_train_weather_smote = smote.fit_resample(X_train_weather, y_train_weather)"
   ]
  },
  {
   "cell_type": "code",
   "execution_count": null,
   "id": "73b9d5b3",
   "metadata": {
    "id": "73b9d5b3"
   },
   "outputs": [],
   "source": [
    "jan_clf_weather = DecisionTreeClassifier(\n",
    "    max_depth=5,\n",
    "    max_leaf_nodes=6,\n",
    "    min_impurity_decrease=0.01,\n",
    "    random_state=42\n",
    ")\n",
    "\n",
    "\n",
    "jan_clf_weather.fit(X_train_weather_smote, y_train_weather_smote)\n"
   ]
  },
  {
   "cell_type": "code",
   "execution_count": null,
   "id": "7dddf8ca",
   "metadata": {
    "id": "7dddf8ca"
   },
   "outputs": [],
   "source": [
    "y_train_weather_pred = jan_clf_weather.predict(X_train_weather_smote)\n",
    "\n",
    "accuracy_training_weather = round(accuracy_score(y_train_weather_smote, y_train_weather_pred), 2)\n",
    "\n",
    "\n",
    "print(\"The accuracy for the weather-specific training set is:\", accuracy_training_weather)"
   ]
  },
  {
   "cell_type": "code",
   "execution_count": null,
   "id": "98b9368b",
   "metadata": {
    "id": "98b9368b"
   },
   "outputs": [],
   "source": [
    "cm_training_weather = confusion_matrix(y_train_weather_smote, y_train_weather_pred)\n",
    "\n",
    "\n",
    "plt.figure(figsize=(8, 6))\n",
    "sns.heatmap(cm_training_weather, annot=True, fmt='d', cmap='Blues',\n",
    "            xticklabels=jan_clf_weather.classes_,\n",
    "            yticklabels=jan_clf_weather.classes_)\n",
    "plt.title('Confusion Matrix (Training Set - Weather Data)')\n",
    "plt.xlabel('Predicted Labels')\n",
    "plt.ylabel('True Labels')\n",
    "plt.show()"
   ]
  },
  {
   "cell_type": "code",
   "execution_count": null,
   "id": "b79ee651",
   "metadata": {
    "id": "b79ee651"
   },
   "outputs": [],
   "source": [
    "y_val_weather_pred = jan_clf_weather.predict(X_val_weather)\n",
    "accuracy_validation_weather = round(accuracy_score(y_val_weather, y_val_weather_pred), 2)\n",
    "print(\"The accuracy for the weather-specific validation set is:\", accuracy_validation_weather)"
   ]
  },
  {
   "cell_type": "code",
   "execution_count": null,
   "id": "7f5c988d",
   "metadata": {
    "id": "7f5c988d"
   },
   "outputs": [],
   "source": [
    "cm_validation_weather = confusion_matrix(y_val_weather, y_val_weather_pred)\n",
    "\n",
    "# Plot the confusion matrix\n",
    "plt.figure(figsize=(8, 6))\n",
    "sns.heatmap(cm_validation_weather, annot=True, fmt='d', cmap='Blues',\n",
    "            xticklabels=jan_clf_weather.classes_,\n",
    "            yticklabels=jan_clf_weather.classes_)\n",
    "plt.title('Confusion Matrix (Validation Set - Weather Data)')\n",
    "plt.xlabel('Predicted Labels')\n",
    "plt.ylabel('True Labels')\n",
    "plt.show()"
   ]
  },
  {
   "cell_type": "code",
   "execution_count": null,
   "id": "7a692a6a",
   "metadata": {
    "id": "7a692a6a"
   },
   "outputs": [],
   "source": [
    "y_test_weather_pred = jan_clf_weather.predict(X_test_weather)\n",
    "accuracy_test_weather = round(accuracy_score(y_test_weather, y_test_weather_pred), 2)\n",
    "print(\"The accuracy for the weather-specific test set is:\", accuracy_test_weather)"
   ]
  },
  {
   "cell_type": "code",
   "execution_count": null,
   "id": "13a028c0",
   "metadata": {
    "id": "13a028c0"
   },
   "outputs": [],
   "source": [
    "cm_test_weather = confusion_matrix(y_test_weather, y_test_weather_pred)\n",
    "\n",
    "plt.figure(figsize=(8, 6))\n",
    "sns.heatmap(cm_test_weather, annot=True, fmt='d', cmap='Blues',\n",
    "            xticklabels=jan_clf_weather.classes_,\n",
    "            yticklabels=jan_clf_weather.classes_)\n",
    "plt.title('Confusion Matrix (Test Set - Weather Data)')\n",
    "plt.xlabel('Predicted Labels')\n",
    "plt.ylabel('True Labels')\n",
    "plt.show()"
   ]
  },
  {
   "cell_type": "code",
   "execution_count": null,
   "id": "f011efd8",
   "metadata": {
    "id": "f011efd8"
   },
   "outputs": [],
   "source": [
    "y_train_weather_pred = jan_clf_weather.predict(X_train_weather_smote)\n",
    "print(\"Classification Report (Training Set - Weather Data):\")\n",
    "print(classification_report(y_train_weather_smote, y_train_weather_pred))"
   ]
  },
  {
   "cell_type": "code",
   "execution_count": null,
   "id": "3150775a",
   "metadata": {
    "id": "3150775a"
   },
   "outputs": [],
   "source": [
    "y_val_weather_pred = jan_clf_weather.predict(X_val_weather)\n",
    "print(\"\\nClassification Report (Validation Set - Weather Data):\")\n",
    "print(classification_report(y_val_weather, y_val_weather_pred))"
   ]
  },
  {
   "cell_type": "code",
   "execution_count": null,
   "id": "6a8294c9",
   "metadata": {
    "id": "6a8294c9"
   },
   "outputs": [],
   "source": [
    "y_test_weather_pred = jan_clf_weather.predict(X_test_weather)\n",
    "print(\"\\nClassification Report (Test Set - Weather Data):\")\n",
    "print(classification_report(y_test_weather, y_test_weather_pred))"
   ]
  },
  {
   "cell_type": "code",
   "execution_count": null,
   "id": "d2f7573c",
   "metadata": {
    "id": "d2f7573c"
   },
   "outputs": [],
   "source": [
    "feature_importance_weather = pd.DataFrame({\n",
    "    'Feature': X_train_weather_smote.columns,\n",
    "    'Importance': jan_clf_weather.feature_importances_\n",
    "}).sort_values(by='Importance', ascending=False)\n",
    "\n",
    "# Plot feature importance\n",
    "plt.figure(figsize=(10, 6))\n",
    "sns.barplot(x='Importance', y='Feature', data=feature_importance_weather, color='blue')\n",
    "plt.title('Feature Importance (Weather Data)')\n",
    "plt.xlabel('Importance')\n",
    "plt.ylabel('Feature')\n",
    "plt.show()"
   ]
  },
  {
   "cell_type": "markdown",
   "id": "46de8c15",
   "metadata": {
    "id": "46de8c15"
   },
   "source": [
    "## Summary of the weather only data model\n",
    "- Training Accuracy 0.62\n",
    "- Validation Accuracy 0.57\n",
    "- Testing Accuracy 0.56\n",
    "\n",
    "## Most important features\n",
    "- Apparent Temperature Fahrenheit\n",
    "- Hourly Precipitation Inches\n"
   ]
  }
 ],
 "metadata": {
  "colab": {
   "provenance": []
  },
  "kernelspec": {
   "display_name": "Python 3 (ipykernel)",
   "language": "python",
   "name": "python3"
  },
  "language_info": {
   "codemirror_mode": {
    "name": "ipython",
    "version": 3
   },
   "file_extension": ".py",
   "mimetype": "text/x-python",
   "name": "python",
   "nbconvert_exporter": "python",
   "pygments_lexer": "ipython3",
   "version": "3.9.12"
  }
 },
 "nbformat": 4,
 "nbformat_minor": 5
}
