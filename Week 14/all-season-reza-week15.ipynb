{
  "cells": [
    {
      "cell_type": "markdown",
      "id": "33cec9d1",
      "metadata": {
        "id": "33cec9d1"
      },
      "source": [
        "-  Date: 11/21\n",
        "-  Last Updated: 12/04\n",
        "-  Notebook Owner: Reza Naiman\n",
        "    \n",
        "    \n",
        "    \n",
        "# Key findings\n",
        "\n",
        "## Model Performance\n",
        "- The combined weather and flight data model performed the best overall, with accuracies of 0.65 (training), 0.57 (validation), and 0.56 (testing). This indicates that combining weather and flight data provides a more comprehensive view for predictions.\n",
        "\n",
        "\n",
        "- The weather-only model achieved similar validation and testing accuracies (0.57 and 0.56, respectively) but slightly lower training accuracy (0.62), suggesting weather data alone captures significant but not all predictive signals.\n",
        "\n",
        "- The flight-only model showed the weakest performance, particularly on the validation set (accuracy: 0.38), highlighting that flight data alone may not be sufficient for reliable predictions.\n",
        "\n",
        "## Feature Importance\n",
        "- Weather Features:\n",
        "   - The most critical weather features were Apparent Temperature Fahrenheit and Hourly Precipitation Inches, appearing in both the combined and weather-only models.This emphasizes the impact of weather conditions on the outcomes.\n",
        "- Flight Features:\n",
        "   - Day of Month and Scheduled Departure Time were the key features in the flight-only model, suggesting that scheduling and timing are relevant but not as impactful as weather-related factors.\n",
        "   \n",
        "## Suggestions\n",
        "- Combining weather and flight data is essential for better predictive performance, as no single dataset is sufficient on its own.Weather conditions, particularly temperature and precipitation, consistently stand out as critical predictive factors based on the Decision Tree Models.\n"
      ]
    },
    {
      "cell_type": "code",
      "execution_count": null,
      "id": "744aa0d2",
      "metadata": {
        "id": "744aa0d2"
      },
      "outputs": [],
      "source": [
        "import pandas as pd\n",
        "import numpy as np\n",
        "import matplotlib.pyplot as plt\n",
        "import seaborn as sns\n",
        "import imblearn\n",
        "from sklearn.model_selection import train_test_split\n",
        "from imblearn.over_sampling import SMOTE\n",
        "from sklearn.tree import DecisionTreeClassifier\n",
        "from sklearn.model_selection import GridSearchCV\n",
        "from sklearn.metrics import accuracy_score\n",
        "from sklearn.metrics import confusion_matrix\n",
        "from sklearn.metrics import classification_report\n",
        "from sklearn.tree import plot_tree\n",
        "import shap\n"
      ]
    },
    {
      "cell_type": "markdown",
      "id": "4c0609da-8583-4dd9-8c5c-b40ffe4c9312",
      "metadata": {
        "id": "4c0609da-8583-4dd9-8c5c-b40ffe4c9312"
      },
      "source": [
        "### Data cleaning and preparation for Illinois and Georgia datasets"
      ]
    },
    {
      "cell_type": "code",
      "execution_count": null,
      "id": "1eaecea7",
      "metadata": {
        "colab": {
          "base_uri": "https://localhost:8080/"
        },
        "id": "1eaecea7",
        "outputId": "6efe4633-1e59-4576-934b-e9580a7ac9f9"
      },
      "outputs": [
        {
          "output_type": "stream",
          "name": "stdout",
          "text": [
            "<class 'pandas.core.frame.DataFrame'>\n",
            "RangeIndex: 2969937 entries, 0 to 2969936\n",
            "Data columns (total 31 columns):\n",
            " #   Column                            Dtype  \n",
            "---  ------                            -----  \n",
            " 0   Year                              int64  \n",
            " 1   Quarter                           int64  \n",
            " 2   Month                             int64  \n",
            " 3   Day_of_Month                      float64\n",
            " 4   Day_of_Week                       float64\n",
            " 5   Operating_Carrier_Code            object \n",
            " 6   Tail_Number                       object \n",
            " 7   Origin_Airport_ID                 float64\n",
            " 8   Origin_Airport_Code               object \n",
            " 9   Origin_State_Name                 object \n",
            " 10  Destination_Airport_Code          object \n",
            " 11  Destination_State_Name            object \n",
            " 12  Scheduled_Departure_Time          float64\n",
            " 13  Departure_Delay_Minutes           float64\n",
            " 14  Taxi_Out_Time_Minutes             float64\n",
            " 15  Flight_Distance_Miles             float64\n",
            " 16  Departure_Datetime                object \n",
            " 17  Scheduled_Departure_Time_Minutes  float64\n",
            " 18  Air_Temperature_Fahrenheit        float64\n",
            " 19  Dew_Point_Temperature_Fahrenheit  float64\n",
            " 20  Relative_Humidity_Percent         float64\n",
            " 21  Wind_Direction_Degrees            float64\n",
            " 22  Wind_Speed_Knots                  float64\n",
            " 23  Hourly_Precipitation_Inches       float64\n",
            " 24  Pressure_Altimeter_Inches         float64\n",
            " 25  Sea_Level_Pressure_Millibar       float64\n",
            " 26  Visibility_Miles                  float64\n",
            " 27  Sky_Cover_Level_1                 object \n",
            " 28  Sky_Level_1_Altitude_Feet         float64\n",
            " 29  Apparent_Temperature_Fahrenheit   float64\n",
            " 30  Target                            float64\n",
            "dtypes: float64(20), int64(3), object(8)\n",
            "memory usage: 702.4+ MB\n"
          ]
        }
      ],
      "source": [
        "# Load and inspect the data\n",
        "df = pd.read_csv(\"/content/Illinois_10_years_data.csv\")\n",
        "df.info()"
      ]
    },
    {
      "cell_type": "code",
      "execution_count": null,
      "id": "c7f1a3fc-dd4d-4509-ba98-ea631aa3b367",
      "metadata": {
        "colab": {
          "base_uri": "https://localhost:8080/"
        },
        "id": "c7f1a3fc-dd4d-4509-ba98-ea631aa3b367",
        "outputId": "02ce4d91-7555-443f-938a-2e28bb66bd64"
      },
      "outputs": [
        {
          "output_type": "stream",
          "name": "stdout",
          "text": [
            "<class 'pandas.core.frame.DataFrame'>\n",
            "RangeIndex: 3107731 entries, 0 to 3107730\n",
            "Data columns (total 31 columns):\n",
            " #   Column                            Dtype  \n",
            "---  ------                            -----  \n",
            " 0   Year                              int64  \n",
            " 1   Quarter                           int64  \n",
            " 2   Month                             int64  \n",
            " 3   Day_of_Month                      float64\n",
            " 4   Day_of_Week                       float64\n",
            " 5   Operating_Carrier_Code            object \n",
            " 6   Tail_Number                       object \n",
            " 7   Origin_Airport_ID                 float64\n",
            " 8   Origin_Airport_Code               object \n",
            " 9   Origin_State_Name                 object \n",
            " 10  Destination_Airport_Code          object \n",
            " 11  Destination_State_Name            object \n",
            " 12  Scheduled_Departure_Time          float64\n",
            " 13  Departure_Delay_Minutes           float64\n",
            " 14  Taxi_Out_Time_Minutes             float64\n",
            " 15  Flight_Distance_Miles             float64\n",
            " 16  Departure_Datetime                object \n",
            " 17  Scheduled_Departure_Time_Minutes  float64\n",
            " 18  Air_Temperature_Fahrenheit        float64\n",
            " 19  Dew_Point_Temperature_Fahrenheit  float64\n",
            " 20  Relative_Humidity_Percent         float64\n",
            " 21  Wind_Direction_Degrees            float64\n",
            " 22  Wind_Speed_Knots                  float64\n",
            " 23  Hourly_Precipitation_Inches       float64\n",
            " 24  Pressure_Altimeter_Inches         float64\n",
            " 25  Sea_Level_Pressure_Millibar       float64\n",
            " 26  Visibility_Miles                  float64\n",
            " 27  Sky_Cover_Level_1                 object \n",
            " 28  Sky_Level_1_Altitude_Feet         float64\n",
            " 29  Apparent_Temperature_Fahrenheit   float64\n",
            " 30  Target                            float64\n",
            "dtypes: float64(20), int64(3), object(8)\n",
            "memory usage: 735.0+ MB\n"
          ]
        }
      ],
      "source": [
        "df_g = pd.read_csv(\"/content/Georgia_10_years_data.csv\")\n",
        "df_g.info()\n"
      ]
    },
    {
      "cell_type": "code",
      "execution_count": null,
      "id": "23f74082",
      "metadata": {
        "id": "23f74082"
      },
      "outputs": [],
      "source": [
        "# Drop unnecessary columns\n",
        "df = df.drop(['Origin_State_Name', 'Departure_Datetime', 'Departure_Delay_Minutes','Taxi_Out_Time_Minutes'], axis=1)\n",
        "df_g = df_g.drop(['Origin_State_Name', 'Departure_Datetime', 'Departure_Delay_Minutes','Taxi_Out_Time_Minutes'], axis=1)\n",
        "df.dropna(inplace=True)\n",
        "df_g.dropna(inplace=True)"
      ]
    },
    {
      "cell_type": "code",
      "execution_count": null,
      "id": "893d09c8",
      "metadata": {
        "id": "893d09c8"
      },
      "outputs": [],
      "source": [
        "# Convert integer features to int32\n",
        "int_columns = [\n",
        "    'Year',\n",
        "    'Quarter',\n",
        "    'Month',\n",
        "    'Day_of_Month',\n",
        "    'Day_of_Week',\n",
        "    'Scheduled_Departure_Time',\n",
        "    'Scheduled_Departure_Time_Minutes',\n",
        "    'Target'\n",
        "]\n",
        "\n",
        "for col in int_columns:\n",
        "    df[col] = df[col].astype(np.int32)\n",
        "    df_g[col] = df_g[col].astype(np.int32)"
      ]
    },
    {
      "cell_type": "code",
      "execution_count": null,
      "id": "53a928cb",
      "metadata": {
        "id": "53a928cb"
      },
      "outputs": [],
      "source": [
        "# Convert continuous numeric features to float32\n",
        "float_columns = [\n",
        "\n",
        "    'Flight_Distance_Miles',\n",
        "    'Air_Temperature_Fahrenheit',\n",
        "    'Dew_Point_Temperature_Fahrenheit',\n",
        "    'Relative_Humidity_Percent',\n",
        "    'Wind_Direction_Degrees',\n",
        "    'Wind_Speed_Knots',\n",
        "    'Hourly_Precipitation_Inches',\n",
        "    'Pressure_Altimeter_Inches',\n",
        "    'Sea_Level_Pressure_Millibar',\n",
        "    'Visibility_Miles',\n",
        "    'Sky_Level_1_Altitude_Feet',\n",
        "    'Apparent_Temperature_Fahrenheit',\n",
        "]\n",
        "\n",
        "for col in float_columns:\n",
        "    df[col] = df[col].astype(np.float32)\n",
        "    df_g[col] = df_g[col].astype(np.float32)"
      ]
    },
    {
      "cell_type": "code",
      "execution_count": null,
      "id": "61bd0134",
      "metadata": {
        "id": "61bd0134"
      },
      "outputs": [],
      "source": [
        "# Convert categorical features to 'category' dtype\n",
        "categorical_columns = [\n",
        "    'Operating_Carrier_Code',\n",
        "    'Tail_Number',\n",
        "    'Origin_Airport_ID',\n",
        "    'Origin_Airport_Code',\n",
        "    'Destination_Airport_Code',\n",
        "    'Destination_State_Name',\n",
        "    'Sky_Cover_Level_1'\n",
        "]\n",
        "\n",
        "for col in categorical_columns:\n",
        "    df[col] = df[col].astype('category')\n",
        "    df_g[col] = df_g[col].astype('category')"
      ]
    },
    {
      "cell_type": "code",
      "source": [
        "categorical_cols = [\n",
        "    'Operating_Carrier_Code',\n",
        "    'Tail_Number',\n",
        "    'Origin_Airport_ID',\n",
        "    'Origin_Airport_Code',\n",
        "    'Destination_Airport_Code',\n",
        "    'Destination_State_Name',\n",
        "    'Sky_Cover_Level_1'\n",
        "]\n",
        "\n",
        "# Perform one-hot encoding and save back to df\n",
        "df = pd.get_dummies(df, columns=categorical_cols)\n",
        "df_g = pd.get_dummies(df_g, columns=categorical_cols)"
      ],
      "metadata": {
        "id": "kDHUI874fSQR"
      },
      "id": "kDHUI874fSQR",
      "execution_count": null,
      "outputs": []
    },
    {
      "cell_type": "code",
      "execution_count": null,
      "id": "7884acc9",
      "metadata": {
        "colab": {
          "base_uri": "https://localhost:8080/"
        },
        "id": "7884acc9",
        "outputId": "9d66a7f8-19a6-41a4-e0bb-cd05593e3d53"
      },
      "outputs": [
        {
          "output_type": "stream",
          "name": "stdout",
          "text": [
            "<class 'pandas.core.frame.DataFrame'>\n",
            "RangeIndex: 2969937 entries, 0 to 2969936\n",
            "Data columns (total 27 columns):\n",
            " #   Column                            Dtype   \n",
            "---  ------                            -----   \n",
            " 0   Year                              int32   \n",
            " 1   Quarter                           int32   \n",
            " 2   Month                             int32   \n",
            " 3   Day_of_Month                      int32   \n",
            " 4   Day_of_Week                       int32   \n",
            " 5   Operating_Carrier_Code            category\n",
            " 6   Tail_Number                       category\n",
            " 7   Origin_Airport_ID                 category\n",
            " 8   Origin_Airport_Code               category\n",
            " 9   Destination_Airport_Code          category\n",
            " 10  Destination_State_Name            category\n",
            " 11  Scheduled_Departure_Time          int32   \n",
            " 12  Flight_Distance_Miles             float32 \n",
            " 13  Scheduled_Departure_Time_Minutes  int32   \n",
            " 14  Air_Temperature_Fahrenheit        float32 \n",
            " 15  Dew_Point_Temperature_Fahrenheit  float32 \n",
            " 16  Relative_Humidity_Percent         float32 \n",
            " 17  Wind_Direction_Degrees            float32 \n",
            " 18  Wind_Speed_Knots                  float32 \n",
            " 19  Hourly_Precipitation_Inches       float32 \n",
            " 20  Pressure_Altimeter_Inches         float32 \n",
            " 21  Sea_Level_Pressure_Millibar       float32 \n",
            " 22  Visibility_Miles                  float32 \n",
            " 23  Sky_Cover_Level_1                 category\n",
            " 24  Sky_Level_1_Altitude_Feet         float32 \n",
            " 25  Apparent_Temperature_Fahrenheit   float32 \n",
            " 26  Target                            int32   \n",
            "dtypes: category(7), float32(12), int32(8)\n",
            "memory usage: 252.4 MB\n",
            "<class 'pandas.core.frame.DataFrame'>\n",
            "RangeIndex: 3107731 entries, 0 to 3107730\n",
            "Data columns (total 27 columns):\n",
            " #   Column                            Dtype   \n",
            "---  ------                            -----   \n",
            " 0   Year                              int32   \n",
            " 1   Quarter                           int32   \n",
            " 2   Month                             int32   \n",
            " 3   Day_of_Month                      int32   \n",
            " 4   Day_of_Week                       int32   \n",
            " 5   Operating_Carrier_Code            category\n",
            " 6   Tail_Number                       category\n",
            " 7   Origin_Airport_ID                 category\n",
            " 8   Origin_Airport_Code               category\n",
            " 9   Destination_Airport_Code          category\n",
            " 10  Destination_State_Name            category\n",
            " 11  Scheduled_Departure_Time          int32   \n",
            " 12  Flight_Distance_Miles             float32 \n",
            " 13  Scheduled_Departure_Time_Minutes  int32   \n",
            " 14  Air_Temperature_Fahrenheit        float32 \n",
            " 15  Dew_Point_Temperature_Fahrenheit  float32 \n",
            " 16  Relative_Humidity_Percent         float32 \n",
            " 17  Wind_Direction_Degrees            float32 \n",
            " 18  Wind_Speed_Knots                  float32 \n",
            " 19  Hourly_Precipitation_Inches       float32 \n",
            " 20  Pressure_Altimeter_Inches         float32 \n",
            " 21  Sea_Level_Pressure_Millibar       float32 \n",
            " 22  Visibility_Miles                  float32 \n",
            " 23  Sky_Cover_Level_1                 category\n",
            " 24  Sky_Level_1_Altitude_Feet         float32 \n",
            " 25  Apparent_Temperature_Fahrenheit   float32 \n",
            " 26  Target                            int32   \n",
            "dtypes: category(7), float32(12), int32(8)\n",
            "memory usage: 264.1 MB\n"
          ]
        }
      ],
      "source": [
        "df.info()\n",
        "df_g.info()"
      ]
    },
    {
      "cell_type": "code",
      "source": [
        "df.shape\n",
        "df_g.shape"
      ],
      "metadata": {
        "colab": {
          "base_uri": "https://localhost:8080/"
        },
        "id": "8RYiBRaWH-EB",
        "outputId": "f69fc045-d640-40cd-fbae-0f23a1372009"
      },
      "id": "8RYiBRaWH-EB",
      "execution_count": null,
      "outputs": [
        {
          "output_type": "execute_result",
          "data": {
            "text/plain": [
              "(3107731, 27)"
            ]
          },
          "metadata": {},
          "execution_count": 10
        }
      ]
    },
    {
      "cell_type": "code",
      "source": [
        "df.head()"
      ],
      "metadata": {
        "colab": {
          "base_uri": "https://localhost:8080/",
          "height": 256
        },
        "id": "0L5o06T6IFaM",
        "outputId": "2ab3ae43-6ebe-4c65-c643-90115ea77d1a"
      },
      "id": "0L5o06T6IFaM",
      "execution_count": null,
      "outputs": [
        {
          "output_type": "execute_result",
          "data": {
            "text/plain": [
              "   Year  Quarter  Month  Day_of_Month  Day_of_Week Operating_Carrier_Code  \\\n",
              "0  2014        2      4             1            2                     AA   \n",
              "1  2014        2      4             1            2                     AA   \n",
              "2  2014        2      4             1            2                     AA   \n",
              "3  2014        2      4             1            2                     AA   \n",
              "4  2014        2      4             1            2                     AA   \n",
              "\n",
              "  Tail_Number Origin_Airport_ID Origin_Airport_Code Destination_Airport_Code  \\\n",
              "0      N359AA           13930.0                 ORD                      DFW   \n",
              "1      N3ADAA           13930.0                 ORD                      LAS   \n",
              "2      N3AKAA           13930.0                 ORD                      MIA   \n",
              "3      N3AKAA           13930.0                 ORD                      SEA   \n",
              "4      N3ANAA           13930.0                 ORD                      LAX   \n",
              "\n",
              "   ... Wind_Direction_Degrees  Wind_Speed_Knots  Hourly_Precipitation_Inches  \\\n",
              "0  ...                  260.0              15.0                          0.0   \n",
              "1  ...                  260.0              24.0                          0.0   \n",
              "2  ...                  220.0              15.0                          0.0   \n",
              "3  ...                  250.0              20.0                          0.0   \n",
              "4  ...                  220.0              15.0                          0.0   \n",
              "\n",
              "   Pressure_Altimeter_Inches  Sea_Level_Pressure_Millibar  Visibility_Miles  \\\n",
              "0                       30.0                  1014.200012              10.0   \n",
              "1                       30.0                  1008.900024              10.0   \n",
              "2                       30.0                  1004.200012              10.0   \n",
              "3                       30.0                  1011.500000              10.0   \n",
              "4                       30.0                  1004.200012              10.0   \n",
              "\n",
              "   Sky_Cover_Level_1  Sky_Level_1_Altitude_Feet  \\\n",
              "0                SCT                    22000.0   \n",
              "1                SCT                     2800.0   \n",
              "2                SCT                     4300.0   \n",
              "3                OVC                     2600.0   \n",
              "4                CLR                     4700.0   \n",
              "\n",
              "   Apparent_Temperature_Fahrenheit  Target  \n",
              "0                        40.279999       0  \n",
              "1                        20.440001       0  \n",
              "2                        55.040001       0  \n",
              "3                        21.740000       0  \n",
              "4                        55.259998       0  \n",
              "\n",
              "[5 rows x 27 columns]"
            ],
            "text/html": [
              "\n",
              "  <div id=\"df-50467068-0fa2-4b89-b611-e42acf1e69ed\" class=\"colab-df-container\">\n",
              "    <div>\n",
              "<style scoped>\n",
              "    .dataframe tbody tr th:only-of-type {\n",
              "        vertical-align: middle;\n",
              "    }\n",
              "\n",
              "    .dataframe tbody tr th {\n",
              "        vertical-align: top;\n",
              "    }\n",
              "\n",
              "    .dataframe thead th {\n",
              "        text-align: right;\n",
              "    }\n",
              "</style>\n",
              "<table border=\"1\" class=\"dataframe\">\n",
              "  <thead>\n",
              "    <tr style=\"text-align: right;\">\n",
              "      <th></th>\n",
              "      <th>Year</th>\n",
              "      <th>Quarter</th>\n",
              "      <th>Month</th>\n",
              "      <th>Day_of_Month</th>\n",
              "      <th>Day_of_Week</th>\n",
              "      <th>Operating_Carrier_Code</th>\n",
              "      <th>Tail_Number</th>\n",
              "      <th>Origin_Airport_ID</th>\n",
              "      <th>Origin_Airport_Code</th>\n",
              "      <th>Destination_Airport_Code</th>\n",
              "      <th>...</th>\n",
              "      <th>Wind_Direction_Degrees</th>\n",
              "      <th>Wind_Speed_Knots</th>\n",
              "      <th>Hourly_Precipitation_Inches</th>\n",
              "      <th>Pressure_Altimeter_Inches</th>\n",
              "      <th>Sea_Level_Pressure_Millibar</th>\n",
              "      <th>Visibility_Miles</th>\n",
              "      <th>Sky_Cover_Level_1</th>\n",
              "      <th>Sky_Level_1_Altitude_Feet</th>\n",
              "      <th>Apparent_Temperature_Fahrenheit</th>\n",
              "      <th>Target</th>\n",
              "    </tr>\n",
              "  </thead>\n",
              "  <tbody>\n",
              "    <tr>\n",
              "      <th>0</th>\n",
              "      <td>2014</td>\n",
              "      <td>2</td>\n",
              "      <td>4</td>\n",
              "      <td>1</td>\n",
              "      <td>2</td>\n",
              "      <td>AA</td>\n",
              "      <td>N359AA</td>\n",
              "      <td>13930.0</td>\n",
              "      <td>ORD</td>\n",
              "      <td>DFW</td>\n",
              "      <td>...</td>\n",
              "      <td>260.0</td>\n",
              "      <td>15.0</td>\n",
              "      <td>0.0</td>\n",
              "      <td>30.0</td>\n",
              "      <td>1014.200012</td>\n",
              "      <td>10.0</td>\n",
              "      <td>SCT</td>\n",
              "      <td>22000.0</td>\n",
              "      <td>40.279999</td>\n",
              "      <td>0</td>\n",
              "    </tr>\n",
              "    <tr>\n",
              "      <th>1</th>\n",
              "      <td>2014</td>\n",
              "      <td>2</td>\n",
              "      <td>4</td>\n",
              "      <td>1</td>\n",
              "      <td>2</td>\n",
              "      <td>AA</td>\n",
              "      <td>N3ADAA</td>\n",
              "      <td>13930.0</td>\n",
              "      <td>ORD</td>\n",
              "      <td>LAS</td>\n",
              "      <td>...</td>\n",
              "      <td>260.0</td>\n",
              "      <td>24.0</td>\n",
              "      <td>0.0</td>\n",
              "      <td>30.0</td>\n",
              "      <td>1008.900024</td>\n",
              "      <td>10.0</td>\n",
              "      <td>SCT</td>\n",
              "      <td>2800.0</td>\n",
              "      <td>20.440001</td>\n",
              "      <td>0</td>\n",
              "    </tr>\n",
              "    <tr>\n",
              "      <th>2</th>\n",
              "      <td>2014</td>\n",
              "      <td>2</td>\n",
              "      <td>4</td>\n",
              "      <td>1</td>\n",
              "      <td>2</td>\n",
              "      <td>AA</td>\n",
              "      <td>N3AKAA</td>\n",
              "      <td>13930.0</td>\n",
              "      <td>ORD</td>\n",
              "      <td>MIA</td>\n",
              "      <td>...</td>\n",
              "      <td>220.0</td>\n",
              "      <td>15.0</td>\n",
              "      <td>0.0</td>\n",
              "      <td>30.0</td>\n",
              "      <td>1004.200012</td>\n",
              "      <td>10.0</td>\n",
              "      <td>SCT</td>\n",
              "      <td>4300.0</td>\n",
              "      <td>55.040001</td>\n",
              "      <td>0</td>\n",
              "    </tr>\n",
              "    <tr>\n",
              "      <th>3</th>\n",
              "      <td>2014</td>\n",
              "      <td>2</td>\n",
              "      <td>4</td>\n",
              "      <td>1</td>\n",
              "      <td>2</td>\n",
              "      <td>AA</td>\n",
              "      <td>N3AKAA</td>\n",
              "      <td>13930.0</td>\n",
              "      <td>ORD</td>\n",
              "      <td>SEA</td>\n",
              "      <td>...</td>\n",
              "      <td>250.0</td>\n",
              "      <td>20.0</td>\n",
              "      <td>0.0</td>\n",
              "      <td>30.0</td>\n",
              "      <td>1011.500000</td>\n",
              "      <td>10.0</td>\n",
              "      <td>OVC</td>\n",
              "      <td>2600.0</td>\n",
              "      <td>21.740000</td>\n",
              "      <td>0</td>\n",
              "    </tr>\n",
              "    <tr>\n",
              "      <th>4</th>\n",
              "      <td>2014</td>\n",
              "      <td>2</td>\n",
              "      <td>4</td>\n",
              "      <td>1</td>\n",
              "      <td>2</td>\n",
              "      <td>AA</td>\n",
              "      <td>N3ANAA</td>\n",
              "      <td>13930.0</td>\n",
              "      <td>ORD</td>\n",
              "      <td>LAX</td>\n",
              "      <td>...</td>\n",
              "      <td>220.0</td>\n",
              "      <td>15.0</td>\n",
              "      <td>0.0</td>\n",
              "      <td>30.0</td>\n",
              "      <td>1004.200012</td>\n",
              "      <td>10.0</td>\n",
              "      <td>CLR</td>\n",
              "      <td>4700.0</td>\n",
              "      <td>55.259998</td>\n",
              "      <td>0</td>\n",
              "    </tr>\n",
              "  </tbody>\n",
              "</table>\n",
              "<p>5 rows × 27 columns</p>\n",
              "</div>\n",
              "    <div class=\"colab-df-buttons\">\n",
              "\n",
              "  <div class=\"colab-df-container\">\n",
              "    <button class=\"colab-df-convert\" onclick=\"convertToInteractive('df-50467068-0fa2-4b89-b611-e42acf1e69ed')\"\n",
              "            title=\"Convert this dataframe to an interactive table.\"\n",
              "            style=\"display:none;\">\n",
              "\n",
              "  <svg xmlns=\"http://www.w3.org/2000/svg\" height=\"24px\" viewBox=\"0 -960 960 960\">\n",
              "    <path d=\"M120-120v-720h720v720H120Zm60-500h600v-160H180v160Zm220 220h160v-160H400v160Zm0 220h160v-160H400v160ZM180-400h160v-160H180v160Zm440 0h160v-160H620v160ZM180-180h160v-160H180v160Zm440 0h160v-160H620v160Z\"/>\n",
              "  </svg>\n",
              "    </button>\n",
              "\n",
              "  <style>\n",
              "    .colab-df-container {\n",
              "      display:flex;\n",
              "      gap: 12px;\n",
              "    }\n",
              "\n",
              "    .colab-df-convert {\n",
              "      background-color: #E8F0FE;\n",
              "      border: none;\n",
              "      border-radius: 50%;\n",
              "      cursor: pointer;\n",
              "      display: none;\n",
              "      fill: #1967D2;\n",
              "      height: 32px;\n",
              "      padding: 0 0 0 0;\n",
              "      width: 32px;\n",
              "    }\n",
              "\n",
              "    .colab-df-convert:hover {\n",
              "      background-color: #E2EBFA;\n",
              "      box-shadow: 0px 1px 2px rgba(60, 64, 67, 0.3), 0px 1px 3px 1px rgba(60, 64, 67, 0.15);\n",
              "      fill: #174EA6;\n",
              "    }\n",
              "\n",
              "    .colab-df-buttons div {\n",
              "      margin-bottom: 4px;\n",
              "    }\n",
              "\n",
              "    [theme=dark] .colab-df-convert {\n",
              "      background-color: #3B4455;\n",
              "      fill: #D2E3FC;\n",
              "    }\n",
              "\n",
              "    [theme=dark] .colab-df-convert:hover {\n",
              "      background-color: #434B5C;\n",
              "      box-shadow: 0px 1px 3px 1px rgba(0, 0, 0, 0.15);\n",
              "      filter: drop-shadow(0px 1px 2px rgba(0, 0, 0, 0.3));\n",
              "      fill: #FFFFFF;\n",
              "    }\n",
              "  </style>\n",
              "\n",
              "    <script>\n",
              "      const buttonEl =\n",
              "        document.querySelector('#df-50467068-0fa2-4b89-b611-e42acf1e69ed button.colab-df-convert');\n",
              "      buttonEl.style.display =\n",
              "        google.colab.kernel.accessAllowed ? 'block' : 'none';\n",
              "\n",
              "      async function convertToInteractive(key) {\n",
              "        const element = document.querySelector('#df-50467068-0fa2-4b89-b611-e42acf1e69ed');\n",
              "        const dataTable =\n",
              "          await google.colab.kernel.invokeFunction('convertToInteractive',\n",
              "                                                    [key], {});\n",
              "        if (!dataTable) return;\n",
              "\n",
              "        const docLinkHtml = 'Like what you see? Visit the ' +\n",
              "          '<a target=\"_blank\" href=https://colab.research.google.com/notebooks/data_table.ipynb>data table notebook</a>'\n",
              "          + ' to learn more about interactive tables.';\n",
              "        element.innerHTML = '';\n",
              "        dataTable['output_type'] = 'display_data';\n",
              "        await google.colab.output.renderOutput(dataTable, element);\n",
              "        const docLink = document.createElement('div');\n",
              "        docLink.innerHTML = docLinkHtml;\n",
              "        element.appendChild(docLink);\n",
              "      }\n",
              "    </script>\n",
              "  </div>\n",
              "\n",
              "\n",
              "<div id=\"df-f280c5ba-2a3b-4495-9add-5def5bc1b234\">\n",
              "  <button class=\"colab-df-quickchart\" onclick=\"quickchart('df-f280c5ba-2a3b-4495-9add-5def5bc1b234')\"\n",
              "            title=\"Suggest charts\"\n",
              "            style=\"display:none;\">\n",
              "\n",
              "<svg xmlns=\"http://www.w3.org/2000/svg\" height=\"24px\"viewBox=\"0 0 24 24\"\n",
              "     width=\"24px\">\n",
              "    <g>\n",
              "        <path d=\"M19 3H5c-1.1 0-2 .9-2 2v14c0 1.1.9 2 2 2h14c1.1 0 2-.9 2-2V5c0-1.1-.9-2-2-2zM9 17H7v-7h2v7zm4 0h-2V7h2v10zm4 0h-2v-4h2v4z\"/>\n",
              "    </g>\n",
              "</svg>\n",
              "  </button>\n",
              "\n",
              "<style>\n",
              "  .colab-df-quickchart {\n",
              "      --bg-color: #E8F0FE;\n",
              "      --fill-color: #1967D2;\n",
              "      --hover-bg-color: #E2EBFA;\n",
              "      --hover-fill-color: #174EA6;\n",
              "      --disabled-fill-color: #AAA;\n",
              "      --disabled-bg-color: #DDD;\n",
              "  }\n",
              "\n",
              "  [theme=dark] .colab-df-quickchart {\n",
              "      --bg-color: #3B4455;\n",
              "      --fill-color: #D2E3FC;\n",
              "      --hover-bg-color: #434B5C;\n",
              "      --hover-fill-color: #FFFFFF;\n",
              "      --disabled-bg-color: #3B4455;\n",
              "      --disabled-fill-color: #666;\n",
              "  }\n",
              "\n",
              "  .colab-df-quickchart {\n",
              "    background-color: var(--bg-color);\n",
              "    border: none;\n",
              "    border-radius: 50%;\n",
              "    cursor: pointer;\n",
              "    display: none;\n",
              "    fill: var(--fill-color);\n",
              "    height: 32px;\n",
              "    padding: 0;\n",
              "    width: 32px;\n",
              "  }\n",
              "\n",
              "  .colab-df-quickchart:hover {\n",
              "    background-color: var(--hover-bg-color);\n",
              "    box-shadow: 0 1px 2px rgba(60, 64, 67, 0.3), 0 1px 3px 1px rgba(60, 64, 67, 0.15);\n",
              "    fill: var(--button-hover-fill-color);\n",
              "  }\n",
              "\n",
              "  .colab-df-quickchart-complete:disabled,\n",
              "  .colab-df-quickchart-complete:disabled:hover {\n",
              "    background-color: var(--disabled-bg-color);\n",
              "    fill: var(--disabled-fill-color);\n",
              "    box-shadow: none;\n",
              "  }\n",
              "\n",
              "  .colab-df-spinner {\n",
              "    border: 2px solid var(--fill-color);\n",
              "    border-color: transparent;\n",
              "    border-bottom-color: var(--fill-color);\n",
              "    animation:\n",
              "      spin 1s steps(1) infinite;\n",
              "  }\n",
              "\n",
              "  @keyframes spin {\n",
              "    0% {\n",
              "      border-color: transparent;\n",
              "      border-bottom-color: var(--fill-color);\n",
              "      border-left-color: var(--fill-color);\n",
              "    }\n",
              "    20% {\n",
              "      border-color: transparent;\n",
              "      border-left-color: var(--fill-color);\n",
              "      border-top-color: var(--fill-color);\n",
              "    }\n",
              "    30% {\n",
              "      border-color: transparent;\n",
              "      border-left-color: var(--fill-color);\n",
              "      border-top-color: var(--fill-color);\n",
              "      border-right-color: var(--fill-color);\n",
              "    }\n",
              "    40% {\n",
              "      border-color: transparent;\n",
              "      border-right-color: var(--fill-color);\n",
              "      border-top-color: var(--fill-color);\n",
              "    }\n",
              "    60% {\n",
              "      border-color: transparent;\n",
              "      border-right-color: var(--fill-color);\n",
              "    }\n",
              "    80% {\n",
              "      border-color: transparent;\n",
              "      border-right-color: var(--fill-color);\n",
              "      border-bottom-color: var(--fill-color);\n",
              "    }\n",
              "    90% {\n",
              "      border-color: transparent;\n",
              "      border-bottom-color: var(--fill-color);\n",
              "    }\n",
              "  }\n",
              "</style>\n",
              "\n",
              "  <script>\n",
              "    async function quickchart(key) {\n",
              "      const quickchartButtonEl =\n",
              "        document.querySelector('#' + key + ' button');\n",
              "      quickchartButtonEl.disabled = true;  // To prevent multiple clicks.\n",
              "      quickchartButtonEl.classList.add('colab-df-spinner');\n",
              "      try {\n",
              "        const charts = await google.colab.kernel.invokeFunction(\n",
              "            'suggestCharts', [key], {});\n",
              "      } catch (error) {\n",
              "        console.error('Error during call to suggestCharts:', error);\n",
              "      }\n",
              "      quickchartButtonEl.classList.remove('colab-df-spinner');\n",
              "      quickchartButtonEl.classList.add('colab-df-quickchart-complete');\n",
              "    }\n",
              "    (() => {\n",
              "      let quickchartButtonEl =\n",
              "        document.querySelector('#df-f280c5ba-2a3b-4495-9add-5def5bc1b234 button');\n",
              "      quickchartButtonEl.style.display =\n",
              "        google.colab.kernel.accessAllowed ? 'block' : 'none';\n",
              "    })();\n",
              "  </script>\n",
              "</div>\n",
              "\n",
              "    </div>\n",
              "  </div>\n"
            ],
            "application/vnd.google.colaboratory.intrinsic+json": {
              "type": "dataframe",
              "variable_name": "df"
            }
          },
          "metadata": {},
          "execution_count": 11
        }
      ]
    },
    {
      "cell_type": "code",
      "source": [
        "df_g.head()"
      ],
      "metadata": {
        "colab": {
          "base_uri": "https://localhost:8080/",
          "height": 256
        },
        "id": "Brk7m1EgIIrR",
        "outputId": "8745234a-7ffb-415a-f6fd-bd423f670758"
      },
      "id": "Brk7m1EgIIrR",
      "execution_count": null,
      "outputs": [
        {
          "output_type": "execute_result",
          "data": {
            "text/plain": [
              "   Year  Quarter  Month  Day_of_Month  Day_of_Week Operating_Carrier_Code  \\\n",
              "0  2014        2      4             1            2                     AA   \n",
              "1  2014        2      4             1            2                     AA   \n",
              "2  2014        2      4             1            2                     AA   \n",
              "3  2014        2      4             1            2                     AA   \n",
              "4  2014        2      4             1            2                     AA   \n",
              "\n",
              "  Tail_Number Origin_Airport_ID Origin_Airport_Code Destination_Airport_Code  \\\n",
              "0      N012AA           10397.0                 ATL                      DFW   \n",
              "1      N013AA           10397.0                 ATL                      DFW   \n",
              "2      N015AA           10397.0                 ATL                      DFW   \n",
              "3      N3AWAA           10397.0                 ATL                      MIA   \n",
              "4      N3BUAA           10397.0                 ATL                      MIA   \n",
              "\n",
              "   ... Wind_Direction_Degrees  Wind_Speed_Knots  Hourly_Precipitation_Inches  \\\n",
              "0  ...                  210.0              10.0                          0.0   \n",
              "1  ...                   70.0               1.0                          0.0   \n",
              "2  ...                  310.0               6.0                          0.0   \n",
              "3  ...                  300.0               5.0                          0.0   \n",
              "4  ...                  290.0               3.0                          0.0   \n",
              "\n",
              "   Pressure_Altimeter_Inches  Sea_Level_Pressure_Millibar  Visibility_Miles  \\\n",
              "0                       30.0                  1018.200012              10.0   \n",
              "1                       30.0                  1018.700012              10.0   \n",
              "2                       30.0                  1021.299988              10.0   \n",
              "3                       30.0                  1021.200012              10.0   \n",
              "4                       30.0                  1018.599976              10.0   \n",
              "\n",
              "   Sky_Cover_Level_1  Sky_Level_1_Altitude_Feet  \\\n",
              "0                FEW                    12000.0   \n",
              "1                BKN                    25000.0   \n",
              "2                SCT                    12000.0   \n",
              "3                SCT                    12000.0   \n",
              "4                BKN                    25000.0   \n",
              "\n",
              "   Apparent_Temperature_Fahrenheit  Target  \n",
              "0                        78.419998       0  \n",
              "1                        57.020000       0  \n",
              "2                        65.300003       0  \n",
              "3                        66.559998       0  \n",
              "4                        56.480000       0  \n",
              "\n",
              "[5 rows x 27 columns]"
            ],
            "text/html": [
              "\n",
              "  <div id=\"df-1c2e000c-e0db-43d6-81ff-e429a4e5ad2b\" class=\"colab-df-container\">\n",
              "    <div>\n",
              "<style scoped>\n",
              "    .dataframe tbody tr th:only-of-type {\n",
              "        vertical-align: middle;\n",
              "    }\n",
              "\n",
              "    .dataframe tbody tr th {\n",
              "        vertical-align: top;\n",
              "    }\n",
              "\n",
              "    .dataframe thead th {\n",
              "        text-align: right;\n",
              "    }\n",
              "</style>\n",
              "<table border=\"1\" class=\"dataframe\">\n",
              "  <thead>\n",
              "    <tr style=\"text-align: right;\">\n",
              "      <th></th>\n",
              "      <th>Year</th>\n",
              "      <th>Quarter</th>\n",
              "      <th>Month</th>\n",
              "      <th>Day_of_Month</th>\n",
              "      <th>Day_of_Week</th>\n",
              "      <th>Operating_Carrier_Code</th>\n",
              "      <th>Tail_Number</th>\n",
              "      <th>Origin_Airport_ID</th>\n",
              "      <th>Origin_Airport_Code</th>\n",
              "      <th>Destination_Airport_Code</th>\n",
              "      <th>...</th>\n",
              "      <th>Wind_Direction_Degrees</th>\n",
              "      <th>Wind_Speed_Knots</th>\n",
              "      <th>Hourly_Precipitation_Inches</th>\n",
              "      <th>Pressure_Altimeter_Inches</th>\n",
              "      <th>Sea_Level_Pressure_Millibar</th>\n",
              "      <th>Visibility_Miles</th>\n",
              "      <th>Sky_Cover_Level_1</th>\n",
              "      <th>Sky_Level_1_Altitude_Feet</th>\n",
              "      <th>Apparent_Temperature_Fahrenheit</th>\n",
              "      <th>Target</th>\n",
              "    </tr>\n",
              "  </thead>\n",
              "  <tbody>\n",
              "    <tr>\n",
              "      <th>0</th>\n",
              "      <td>2014</td>\n",
              "      <td>2</td>\n",
              "      <td>4</td>\n",
              "      <td>1</td>\n",
              "      <td>2</td>\n",
              "      <td>AA</td>\n",
              "      <td>N012AA</td>\n",
              "      <td>10397.0</td>\n",
              "      <td>ATL</td>\n",
              "      <td>DFW</td>\n",
              "      <td>...</td>\n",
              "      <td>210.0</td>\n",
              "      <td>10.0</td>\n",
              "      <td>0.0</td>\n",
              "      <td>30.0</td>\n",
              "      <td>1018.200012</td>\n",
              "      <td>10.0</td>\n",
              "      <td>FEW</td>\n",
              "      <td>12000.0</td>\n",
              "      <td>78.419998</td>\n",
              "      <td>0</td>\n",
              "    </tr>\n",
              "    <tr>\n",
              "      <th>1</th>\n",
              "      <td>2014</td>\n",
              "      <td>2</td>\n",
              "      <td>4</td>\n",
              "      <td>1</td>\n",
              "      <td>2</td>\n",
              "      <td>AA</td>\n",
              "      <td>N013AA</td>\n",
              "      <td>10397.0</td>\n",
              "      <td>ATL</td>\n",
              "      <td>DFW</td>\n",
              "      <td>...</td>\n",
              "      <td>70.0</td>\n",
              "      <td>1.0</td>\n",
              "      <td>0.0</td>\n",
              "      <td>30.0</td>\n",
              "      <td>1018.700012</td>\n",
              "      <td>10.0</td>\n",
              "      <td>BKN</td>\n",
              "      <td>25000.0</td>\n",
              "      <td>57.020000</td>\n",
              "      <td>0</td>\n",
              "    </tr>\n",
              "    <tr>\n",
              "      <th>2</th>\n",
              "      <td>2014</td>\n",
              "      <td>2</td>\n",
              "      <td>4</td>\n",
              "      <td>1</td>\n",
              "      <td>2</td>\n",
              "      <td>AA</td>\n",
              "      <td>N015AA</td>\n",
              "      <td>10397.0</td>\n",
              "      <td>ATL</td>\n",
              "      <td>DFW</td>\n",
              "      <td>...</td>\n",
              "      <td>310.0</td>\n",
              "      <td>6.0</td>\n",
              "      <td>0.0</td>\n",
              "      <td>30.0</td>\n",
              "      <td>1021.299988</td>\n",
              "      <td>10.0</td>\n",
              "      <td>SCT</td>\n",
              "      <td>12000.0</td>\n",
              "      <td>65.300003</td>\n",
              "      <td>0</td>\n",
              "    </tr>\n",
              "    <tr>\n",
              "      <th>3</th>\n",
              "      <td>2014</td>\n",
              "      <td>2</td>\n",
              "      <td>4</td>\n",
              "      <td>1</td>\n",
              "      <td>2</td>\n",
              "      <td>AA</td>\n",
              "      <td>N3AWAA</td>\n",
              "      <td>10397.0</td>\n",
              "      <td>ATL</td>\n",
              "      <td>MIA</td>\n",
              "      <td>...</td>\n",
              "      <td>300.0</td>\n",
              "      <td>5.0</td>\n",
              "      <td>0.0</td>\n",
              "      <td>30.0</td>\n",
              "      <td>1021.200012</td>\n",
              "      <td>10.0</td>\n",
              "      <td>SCT</td>\n",
              "      <td>12000.0</td>\n",
              "      <td>66.559998</td>\n",
              "      <td>0</td>\n",
              "    </tr>\n",
              "    <tr>\n",
              "      <th>4</th>\n",
              "      <td>2014</td>\n",
              "      <td>2</td>\n",
              "      <td>4</td>\n",
              "      <td>1</td>\n",
              "      <td>2</td>\n",
              "      <td>AA</td>\n",
              "      <td>N3BUAA</td>\n",
              "      <td>10397.0</td>\n",
              "      <td>ATL</td>\n",
              "      <td>MIA</td>\n",
              "      <td>...</td>\n",
              "      <td>290.0</td>\n",
              "      <td>3.0</td>\n",
              "      <td>0.0</td>\n",
              "      <td>30.0</td>\n",
              "      <td>1018.599976</td>\n",
              "      <td>10.0</td>\n",
              "      <td>BKN</td>\n",
              "      <td>25000.0</td>\n",
              "      <td>56.480000</td>\n",
              "      <td>0</td>\n",
              "    </tr>\n",
              "  </tbody>\n",
              "</table>\n",
              "<p>5 rows × 27 columns</p>\n",
              "</div>\n",
              "    <div class=\"colab-df-buttons\">\n",
              "\n",
              "  <div class=\"colab-df-container\">\n",
              "    <button class=\"colab-df-convert\" onclick=\"convertToInteractive('df-1c2e000c-e0db-43d6-81ff-e429a4e5ad2b')\"\n",
              "            title=\"Convert this dataframe to an interactive table.\"\n",
              "            style=\"display:none;\">\n",
              "\n",
              "  <svg xmlns=\"http://www.w3.org/2000/svg\" height=\"24px\" viewBox=\"0 -960 960 960\">\n",
              "    <path d=\"M120-120v-720h720v720H120Zm60-500h600v-160H180v160Zm220 220h160v-160H400v160Zm0 220h160v-160H400v160ZM180-400h160v-160H180v160Zm440 0h160v-160H620v160ZM180-180h160v-160H180v160Zm440 0h160v-160H620v160Z\"/>\n",
              "  </svg>\n",
              "    </button>\n",
              "\n",
              "  <style>\n",
              "    .colab-df-container {\n",
              "      display:flex;\n",
              "      gap: 12px;\n",
              "    }\n",
              "\n",
              "    .colab-df-convert {\n",
              "      background-color: #E8F0FE;\n",
              "      border: none;\n",
              "      border-radius: 50%;\n",
              "      cursor: pointer;\n",
              "      display: none;\n",
              "      fill: #1967D2;\n",
              "      height: 32px;\n",
              "      padding: 0 0 0 0;\n",
              "      width: 32px;\n",
              "    }\n",
              "\n",
              "    .colab-df-convert:hover {\n",
              "      background-color: #E2EBFA;\n",
              "      box-shadow: 0px 1px 2px rgba(60, 64, 67, 0.3), 0px 1px 3px 1px rgba(60, 64, 67, 0.15);\n",
              "      fill: #174EA6;\n",
              "    }\n",
              "\n",
              "    .colab-df-buttons div {\n",
              "      margin-bottom: 4px;\n",
              "    }\n",
              "\n",
              "    [theme=dark] .colab-df-convert {\n",
              "      background-color: #3B4455;\n",
              "      fill: #D2E3FC;\n",
              "    }\n",
              "\n",
              "    [theme=dark] .colab-df-convert:hover {\n",
              "      background-color: #434B5C;\n",
              "      box-shadow: 0px 1px 3px 1px rgba(0, 0, 0, 0.15);\n",
              "      filter: drop-shadow(0px 1px 2px rgba(0, 0, 0, 0.3));\n",
              "      fill: #FFFFFF;\n",
              "    }\n",
              "  </style>\n",
              "\n",
              "    <script>\n",
              "      const buttonEl =\n",
              "        document.querySelector('#df-1c2e000c-e0db-43d6-81ff-e429a4e5ad2b button.colab-df-convert');\n",
              "      buttonEl.style.display =\n",
              "        google.colab.kernel.accessAllowed ? 'block' : 'none';\n",
              "\n",
              "      async function convertToInteractive(key) {\n",
              "        const element = document.querySelector('#df-1c2e000c-e0db-43d6-81ff-e429a4e5ad2b');\n",
              "        const dataTable =\n",
              "          await google.colab.kernel.invokeFunction('convertToInteractive',\n",
              "                                                    [key], {});\n",
              "        if (!dataTable) return;\n",
              "\n",
              "        const docLinkHtml = 'Like what you see? Visit the ' +\n",
              "          '<a target=\"_blank\" href=https://colab.research.google.com/notebooks/data_table.ipynb>data table notebook</a>'\n",
              "          + ' to learn more about interactive tables.';\n",
              "        element.innerHTML = '';\n",
              "        dataTable['output_type'] = 'display_data';\n",
              "        await google.colab.output.renderOutput(dataTable, element);\n",
              "        const docLink = document.createElement('div');\n",
              "        docLink.innerHTML = docLinkHtml;\n",
              "        element.appendChild(docLink);\n",
              "      }\n",
              "    </script>\n",
              "  </div>\n",
              "\n",
              "\n",
              "<div id=\"df-42808129-a6e9-46c1-9b43-4323b5e6775d\">\n",
              "  <button class=\"colab-df-quickchart\" onclick=\"quickchart('df-42808129-a6e9-46c1-9b43-4323b5e6775d')\"\n",
              "            title=\"Suggest charts\"\n",
              "            style=\"display:none;\">\n",
              "\n",
              "<svg xmlns=\"http://www.w3.org/2000/svg\" height=\"24px\"viewBox=\"0 0 24 24\"\n",
              "     width=\"24px\">\n",
              "    <g>\n",
              "        <path d=\"M19 3H5c-1.1 0-2 .9-2 2v14c0 1.1.9 2 2 2h14c1.1 0 2-.9 2-2V5c0-1.1-.9-2-2-2zM9 17H7v-7h2v7zm4 0h-2V7h2v10zm4 0h-2v-4h2v4z\"/>\n",
              "    </g>\n",
              "</svg>\n",
              "  </button>\n",
              "\n",
              "<style>\n",
              "  .colab-df-quickchart {\n",
              "      --bg-color: #E8F0FE;\n",
              "      --fill-color: #1967D2;\n",
              "      --hover-bg-color: #E2EBFA;\n",
              "      --hover-fill-color: #174EA6;\n",
              "      --disabled-fill-color: #AAA;\n",
              "      --disabled-bg-color: #DDD;\n",
              "  }\n",
              "\n",
              "  [theme=dark] .colab-df-quickchart {\n",
              "      --bg-color: #3B4455;\n",
              "      --fill-color: #D2E3FC;\n",
              "      --hover-bg-color: #434B5C;\n",
              "      --hover-fill-color: #FFFFFF;\n",
              "      --disabled-bg-color: #3B4455;\n",
              "      --disabled-fill-color: #666;\n",
              "  }\n",
              "\n",
              "  .colab-df-quickchart {\n",
              "    background-color: var(--bg-color);\n",
              "    border: none;\n",
              "    border-radius: 50%;\n",
              "    cursor: pointer;\n",
              "    display: none;\n",
              "    fill: var(--fill-color);\n",
              "    height: 32px;\n",
              "    padding: 0;\n",
              "    width: 32px;\n",
              "  }\n",
              "\n",
              "  .colab-df-quickchart:hover {\n",
              "    background-color: var(--hover-bg-color);\n",
              "    box-shadow: 0 1px 2px rgba(60, 64, 67, 0.3), 0 1px 3px 1px rgba(60, 64, 67, 0.15);\n",
              "    fill: var(--button-hover-fill-color);\n",
              "  }\n",
              "\n",
              "  .colab-df-quickchart-complete:disabled,\n",
              "  .colab-df-quickchart-complete:disabled:hover {\n",
              "    background-color: var(--disabled-bg-color);\n",
              "    fill: var(--disabled-fill-color);\n",
              "    box-shadow: none;\n",
              "  }\n",
              "\n",
              "  .colab-df-spinner {\n",
              "    border: 2px solid var(--fill-color);\n",
              "    border-color: transparent;\n",
              "    border-bottom-color: var(--fill-color);\n",
              "    animation:\n",
              "      spin 1s steps(1) infinite;\n",
              "  }\n",
              "\n",
              "  @keyframes spin {\n",
              "    0% {\n",
              "      border-color: transparent;\n",
              "      border-bottom-color: var(--fill-color);\n",
              "      border-left-color: var(--fill-color);\n",
              "    }\n",
              "    20% {\n",
              "      border-color: transparent;\n",
              "      border-left-color: var(--fill-color);\n",
              "      border-top-color: var(--fill-color);\n",
              "    }\n",
              "    30% {\n",
              "      border-color: transparent;\n",
              "      border-left-color: var(--fill-color);\n",
              "      border-top-color: var(--fill-color);\n",
              "      border-right-color: var(--fill-color);\n",
              "    }\n",
              "    40% {\n",
              "      border-color: transparent;\n",
              "      border-right-color: var(--fill-color);\n",
              "      border-top-color: var(--fill-color);\n",
              "    }\n",
              "    60% {\n",
              "      border-color: transparent;\n",
              "      border-right-color: var(--fill-color);\n",
              "    }\n",
              "    80% {\n",
              "      border-color: transparent;\n",
              "      border-right-color: var(--fill-color);\n",
              "      border-bottom-color: var(--fill-color);\n",
              "    }\n",
              "    90% {\n",
              "      border-color: transparent;\n",
              "      border-bottom-color: var(--fill-color);\n",
              "    }\n",
              "  }\n",
              "</style>\n",
              "\n",
              "  <script>\n",
              "    async function quickchart(key) {\n",
              "      const quickchartButtonEl =\n",
              "        document.querySelector('#' + key + ' button');\n",
              "      quickchartButtonEl.disabled = true;  // To prevent multiple clicks.\n",
              "      quickchartButtonEl.classList.add('colab-df-spinner');\n",
              "      try {\n",
              "        const charts = await google.colab.kernel.invokeFunction(\n",
              "            'suggestCharts', [key], {});\n",
              "      } catch (error) {\n",
              "        console.error('Error during call to suggestCharts:', error);\n",
              "      }\n",
              "      quickchartButtonEl.classList.remove('colab-df-spinner');\n",
              "      quickchartButtonEl.classList.add('colab-df-quickchart-complete');\n",
              "    }\n",
              "    (() => {\n",
              "      let quickchartButtonEl =\n",
              "        document.querySelector('#df-42808129-a6e9-46c1-9b43-4323b5e6775d button');\n",
              "      quickchartButtonEl.style.display =\n",
              "        google.colab.kernel.accessAllowed ? 'block' : 'none';\n",
              "    })();\n",
              "  </script>\n",
              "</div>\n",
              "\n",
              "    </div>\n",
              "  </div>\n"
            ],
            "application/vnd.google.colaboratory.intrinsic+json": {
              "type": "dataframe",
              "variable_name": "df_g"
            }
          },
          "metadata": {},
          "execution_count": 12
        }
      ]
    },
    {
      "cell_type": "markdown",
      "source": [
        "Now we subset the data to get data for four seasons. We will use January for winter, April for spring, July for summer and October for fall."
      ],
      "metadata": {
        "id": "oS2apHGjIhP3"
      },
      "id": "oS2apHGjIhP3"
    },
    {
      "cell_type": "code",
      "source": [
        "winter_il = df[df['Month'] == 1]\n",
        "spring_il = df[df['Month'] == 4]\n",
        "summer_il = df[df['Month'] == 7]\n",
        "fall_il = df[df['Month'] == 10]\n",
        "\n",
        "winter_ga = df_g[df_g['Month'] == 1]\n",
        "spring_ga = df_g[df_g['Month'] == 4]\n",
        "summer_ga = df_g[df_g['Month'] == 7]\n",
        "fall_ga = df_g[df_g['Month'] == 10]"
      ],
      "metadata": {
        "id": "lC5IJhhdJEvJ"
      },
      "id": "lC5IJhhdJEvJ",
      "execution_count": null,
      "outputs": []
    },
    {
      "cell_type": "code",
      "source": [
        "# IL sperating flight and weather data into its seprate dataframes\n",
        "#winter\n",
        "winter_il_flight = winter_il.iloc[:, :14]\n",
        "winter_il_flight['Target'] = winter_il['Target']\n",
        "winter_il_weather = winter_il.iloc[:, 14:]\n",
        "winter_il_weather['Target'] = winter_il['Target']\n",
        "winter_il_weather['Year'] = winter_il['Year']\n",
        "\n",
        "\n",
        "#spring\n",
        "spring_il_flight = spring_il.iloc[:, :14]\n",
        "spring_il_flight['Target'] = spring_il['Target']\n",
        "spring_il_weather = spring_il.iloc[:, 14:]\n",
        "spring_il_weather['Target'] = spring_il['Target']\n",
        "spring_il_weather['Year'] = spring_il['Year']\n",
        "\n",
        "#summer\n",
        "summer_il_flight = summer_il.iloc[:, :14]\n",
        "summer_il_flight['Target'] = summer_il['Target']\n",
        "summer_il_weather = summer_il.iloc[:, 14:]\n",
        "summer_il_weather['Target'] = summer_il['Target']\n",
        "summer_il_weather['Year'] = summer_il['Year']\n",
        "\n",
        "\n",
        "#fall\n",
        "fall_il_flight = fall_il.iloc[:, :14]\n",
        "fall_il_flight['Target'] = fall_il['Target']\n",
        "fall_il_weather = fall_il.iloc[:, 14:]\n",
        "fall_il_weather['Target'] = fall_il['Target']\n",
        "fall_il_weather['Year'] = fall_il['Year']\n",
        "\n",
        "\n",
        "# GA\n",
        "#winter\n",
        "winter_ga_flight = winter_ga.iloc[:, :14]\n",
        "winter_ga_flight['Target'] = winter_ga['Target']\n",
        "winter_ga_weather = winter_ga.iloc[:, 14:]\n",
        "winter_ga_weather['Target'] = winter_ga['Target']\n",
        "winter_ga_weather['Year'] = winter_ga['Year']\n",
        "\n",
        "\n",
        "#spring\n",
        "spring_ga_flight = spring_ga.iloc[:, :14]\n",
        "spring_ga_flight['Target'] = spring_ga['Target']\n",
        "spring_ga_weather = spring_ga.iloc[:, 14:]\n",
        "spring_ga_weather['Target'] = spring_ga['Target']\n",
        "spring_ga_weather['Year'] = spring_ga['Year']\n",
        "\n",
        "#summer\n",
        "summer_ga_flight = summer_ga.iloc[:, :14]\n",
        "summer_ga_flight['Target'] = summer_ga['Target']\n",
        "summer_ga_weather = summer_ga.iloc[:, 14:]\n",
        "summer_ga_weather['Target'] = summer_ga['Target']\n",
        "summer_ga_weather['Year'] = summer_ga['Year']\n",
        "\n",
        "#fall\n",
        "fall_ga_flight = fall_ga.iloc[:, :14]\n",
        "fall_ga_flight['Target'] = fall_ga['Target']\n",
        "fall_ga_weather = fall_ga.iloc[:, 14:]\n",
        "fall_ga_weather['Target'] = fall_ga['Target']\n",
        "fall_ga_weather['Year'] = fall_ga['Year']"
      ],
      "metadata": {
        "id": "Xl5qh-6lKl9Y"
      },
      "id": "Xl5qh-6lKl9Y",
      "execution_count": null,
      "outputs": []
    },
    {
      "cell_type": "code",
      "execution_count": null,
      "id": "ed9595ef",
      "metadata": {
        "id": "ed9595ef"
      },
      "outputs": [],
      "source": [
        "# Define years for train, validation, and test sets\n",
        "train_years = [2014, 2015, 2016, 2017, 2018, 2019]\n",
        "val_years = [2020, 2021, 2022]\n",
        "test_years = [2023, 2024]"
      ]
    },
    {
      "cell_type": "markdown",
      "source": [
        "## Winter Model for Illinois Data"
      ],
      "metadata": {
        "id": "ofoWi7QVZIqn"
      },
      "id": "ofoWi7QVZIqn"
    },
    {
      "cell_type": "code",
      "source": [
        "# prompt: for winter_il, winter_il_flight and winter_il_weather split the data into training, testing, and validation given those years\n",
        "\n",
        "# Split data into train, validation, and test sets for winter_il, winter_il_flight, and winter_il_weather\n",
        "# Assuming 'Year' column exists in your dataframes\n",
        "\n",
        "winter_il_train = winter_il[winter_il['Year'].isin(train_years)]\n",
        "winter_il_val = winter_il[winter_il['Year'].isin(val_years)]\n",
        "winter_il_test = winter_il[winter_il['Year'].isin(test_years)]\n",
        "\n",
        "winter_il_flight_train = winter_il_flight[winter_il_flight['Year'].isin(train_years)]\n",
        "winter_il_flight_val = winter_il_flight[winter_il_flight['Year'].isin(val_years)]\n",
        "winter_il_flight_test = winter_il_flight[winter_il_flight['Year'].isin(test_years)]\n",
        "\n",
        "winter_il_weather_train = winter_il_weather[winter_il_weather['Year'].isin(train_years)]\n",
        "winter_il_weather_val = winter_il_weather[winter_il_weather['Year'].isin(val_years)]\n",
        "winter_il_weather_test = winter_il_weather[winter_il_weather['Year'].isin(test_years)]"
      ],
      "metadata": {
        "id": "mJuVRnr9NJzB"
      },
      "id": "mJuVRnr9NJzB",
      "execution_count": null,
      "outputs": []
    },
    {
      "cell_type": "code",
      "source": [
        "# prompt: plot the distribution of the Target variable\n",
        "\n",
        "# Plot the distribution of the 'Target' variable for the winter_il dataset\n",
        "plt.figure(figsize=(8, 6))\n",
        "sns.countplot(x='Target', data=winter_il)\n",
        "plt.title('Distribution of Target Variable (Winter - Illinois)')\n",
        "plt.xlabel('Target')\n",
        "plt.ylabel('Count')\n",
        "plt.show()"
      ],
      "metadata": {
        "colab": {
          "base_uri": "https://localhost:8080/",
          "height": 564
        },
        "id": "AruEEfRDaOrD",
        "outputId": "2bae231e-e6c9-42af-9c88-70919f8f86be"
      },
      "id": "AruEEfRDaOrD",
      "execution_count": null,
      "outputs": [
        {
          "output_type": "display_data",
          "data": {
            "text/plain": [
              "<Figure size 800x600 with 1 Axes>"
            ],
            "image/png": "[encoded data removed]"
          },
          "metadata": {}
        }
      ]
    },
    {
      "cell_type": "code",
      "source": [
        "# prompt: apply smote to il_train, il_flight_train, il_weather_train\n",
        "\n",
        "# Apply SMOTE to the training datasets\n",
        "# Apply SMOTE to the training datasets\n",
        "from imblearn.over_sampling import SMOTE\n",
        "smote = SMOTE(random_state=42)\n",
        "\n",
        "# Separate features (X) and target (y) for each dataset\n",
        "X_il_train = winter_il_train.drop('Target', axis=1)\n",
        "y_il_train = winter_il_train['Target']\n",
        "\n",
        "X_il_flight_train = winter_il_flight_train.drop('Target', axis=1)\n",
        "y_il_flight_train = winter_il_flight_train['Target']\n",
        "\n",
        "X_il_weather_train = winter_il_weather_train.drop('Target', axis=1)\n",
        "y_il_weather_train = winter_il_weather_train['Target']\n",
        "\n",
        "# Convert categorical features to numerical using one-hot encoding\n",
        "# Get categorical columns for each DataFrame separately\n",
        "categorical_cols_il = X_il_train.select_dtypes(include=['category', 'object']).columns\n",
        "categorical_cols_flight = X_il_flight_train.select_dtypes(include=['category', 'object']).columns\n",
        "categorical_cols_weather = X_il_weather_train.select_dtypes(include=['category', 'object']).columns\n",
        "\n",
        "\n",
        "X_il_train = pd.get_dummies(X_il_train, columns=categorical_cols_il, drop_first=True)\n",
        "X_il_flight_train = pd.get_dummies(X_il_flight_train, columns=categorical_cols_flight, drop_first=True) # Use categorical_cols_flight here\n",
        "X_il_weather_train = pd.get_dummies(X_il_weather_train, columns=categorical_cols_weather, drop_first=True) # Use categorical_cols_weather here\n",
        "\n",
        "\n",
        "# Apply SMOTE\n",
        "X_il_train_smote, y_il_train_smote = smote.fit_resample(X_il_train, y_il_train)\n",
        "X_il_flight_train_smote, y_il_flight_train_smote = smote.fit_resample(X_il_flight_train, y_il_flight_train)\n",
        "X_il_weather_train_smote, y_il_weather_train_smote = smote.fit_resample(X_il_weather_train, y_il_weather_train)\n",
        "\n",
        "# Print class distribution after SMOTE\n",
        "print(\"Class distribution after SMOTE (Combined):\", np.unique(y_il_train_smote, return_counts=True))\n",
        "print(\"Class distribution after SMOTE (Flight):\", np.unique(y_il_flight_train_smote, return_counts=True))\n",
        "print(\"Class distribution after SMOTE (Weather):\", np.unique(y_il_weather_train_smote, return_counts=True))"
      ],
      "metadata": {
        "colab": {
          "base_uri": "https://localhost:8080/",
          "height": 216
        },
        "id": "OpoGAmRNaO1j",
        "outputId": "f6e1b121-45ac-4e24-ad1d-2154a007104c"
      },
      "id": "OpoGAmRNaO1j",
      "execution_count": null,
      "outputs": [
        {
          "output_type": "error",
          "ename": "NameError",
          "evalue": "name 'winter_il_train' is not defined",
          "traceback": [
            "\u001b[0;31m---------------------------------------------------------------------------\u001b[0m",
            "\u001b[0;31mNameError\u001b[0m                                 Traceback (most recent call last)",
            "\u001b[0;32m<ipython-input-2-45c3521f4d15>\u001b[0m in \u001b[0;36m<cell line: 9>\u001b[0;34m()\u001b[0m\n\u001b[1;32m      7\u001b[0m \u001b[0;34m\u001b[0m\u001b[0m\n\u001b[1;32m      8\u001b[0m \u001b[0;31m# Separate features (X) and target (y) for each dataset\u001b[0m\u001b[0;34m\u001b[0m\u001b[0;34m\u001b[0m\u001b[0m\n\u001b[0;32m----> 9\u001b[0;31m \u001b[0mX_il_train\u001b[0m \u001b[0;34m=\u001b[0m \u001b[0mwinter_il_train\u001b[0m\u001b[0;34m.\u001b[0m\u001b[0mdrop\u001b[0m\u001b[0;34m(\u001b[0m\u001b[0;34m'Target'\u001b[0m\u001b[0;34m,\u001b[0m \u001b[0maxis\u001b[0m\u001b[0;34m=\u001b[0m\u001b[0;36m1\u001b[0m\u001b[0;34m)\u001b[0m\u001b[0;34m\u001b[0m\u001b[0;34m\u001b[0m\u001b[0m\n\u001b[0m\u001b[1;32m     10\u001b[0m \u001b[0my_il_train\u001b[0m \u001b[0;34m=\u001b[0m \u001b[0mwinter_il_train\u001b[0m\u001b[0;34m[\u001b[0m\u001b[0;34m'Target'\u001b[0m\u001b[0;34m]\u001b[0m\u001b[0;34m\u001b[0m\u001b[0;34m\u001b[0m\u001b[0m\n\u001b[1;32m     11\u001b[0m \u001b[0;34m\u001b[0m\u001b[0m\n",
            "\u001b[0;31mNameError\u001b[0m: name 'winter_il_train' is not defined"
          ]
        }
      ]
    },
    {
      "cell_type": "code",
      "source": [],
      "metadata": {
        "id": "8E0EP9e7aO38"
      },
      "id": "8E0EP9e7aO38",
      "execution_count": null,
      "outputs": []
    },
    {
      "cell_type": "code",
      "source": [],
      "metadata": {
        "id": "jfa110ZeaO6a"
      },
      "id": "jfa110ZeaO6a",
      "execution_count": null,
      "outputs": []
    },
    {
      "cell_type": "code",
      "source": [],
      "metadata": {
        "id": "vj61CIQSaO9X"
      },
      "id": "vj61CIQSaO9X",
      "execution_count": null,
      "outputs": []
    },
    {
      "cell_type": "code",
      "source": [],
      "metadata": {
        "id": "8omNddiGaO_n"
      },
      "id": "8omNddiGaO_n",
      "execution_count": null,
      "outputs": []
    },
    {
      "cell_type": "code",
      "source": [],
      "metadata": {
        "id": "sbd5WaLSaPB3"
      },
      "id": "sbd5WaLSaPB3",
      "execution_count": null,
      "outputs": []
    },
    {
      "cell_type": "code",
      "source": [],
      "metadata": {
        "id": "6V1YRfQaaPEd"
      },
      "id": "6V1YRfQaaPEd",
      "execution_count": null,
      "outputs": []
    },
    {
      "cell_type": "code",
      "source": [],
      "metadata": {
        "id": "gHCwWDH2aPHF"
      },
      "id": "gHCwWDH2aPHF",
      "execution_count": null,
      "outputs": []
    },
    {
      "cell_type": "code",
      "source": [],
      "metadata": {
        "id": "3VU1Us-IaPKq"
      },
      "id": "3VU1Us-IaPKq",
      "execution_count": null,
      "outputs": []
    },
    {
      "cell_type": "markdown",
      "id": "eb200bcf",
      "metadata": {
        "id": "eb200bcf"
      },
      "source": [
        "## This model is for Flights and Weather Data combined"
      ]
    },
    {
      "cell_type": "code",
      "execution_count": null,
      "id": "ddf4c103",
      "metadata": {
        "id": "ddf4c103"
      },
      "outputs": [],
      "source": [
        "# Separate features and target\n",
        "X_train = train_df.drop('Target', axis=1)\n",
        "y_train = train_df['Target']\n",
        "X_val = val_df.drop('Target', axis=1)\n",
        "y_val = val_df['Target']\n",
        "X_test = test_df.drop('Target', axis=1)\n",
        "y_test = test_df['Target']"
      ]
    },
    {
      "cell_type": "code",
      "execution_count": null,
      "id": "574dd892",
      "metadata": {
        "id": "574dd892"
      },
      "outputs": [],
      "source": [
        "X_train.head()"
      ]
    },
    {
      "cell_type": "code",
      "execution_count": null,
      "id": "b315fd3c",
      "metadata": {
        "id": "b315fd3c"
      },
      "outputs": [],
      "source": [
        "X_train.info()"
      ]
    },
    {
      "cell_type": "code",
      "execution_count": null,
      "id": "787c2c23",
      "metadata": {
        "id": "787c2c23"
      },
      "outputs": [],
      "source": [
        "# Ensure consistent encoding across all sets using pd.Categorical\n",
        "for col in X_train.select_dtypes(include=['category']).columns:\n",
        "    X_train[col] = pd.Categorical(X_train[col])\n",
        "    X_val[col] = pd.Categorical(X_val[col], categories=X_train[col].cat.categories)\n",
        "    X_test[col] = pd.Categorical(X_test[col], categories=X_train[col].cat.categories)\n",
        "\n",
        "# Convert categorical columns to integer codes\n",
        "X_train = X_train.apply(lambda x: x.cat.codes if x.dtype.name == 'category' else x)\n",
        "X_val = X_val.apply(lambda x: x.cat.codes if x.dtype.name == 'category' else x)\n",
        "X_test = X_test.apply(lambda x: x.cat.codes if x.dtype.name == 'category' else x)"
      ]
    },
    {
      "cell_type": "code",
      "execution_count": null,
      "id": "87244101",
      "metadata": {
        "id": "87244101"
      },
      "outputs": [],
      "source": [
        "counts_1 = pd.Series(train_df[\"Target\"]).value_counts()\n",
        "class_counts_df_1 = counts_1.reset_index()\n",
        "class_counts_df_1.columns = ['Class', 'Count']\n",
        "sns.barplot(x='Class', y='Count', data=class_counts_df_1)"
      ]
    },
    {
      "cell_type": "markdown",
      "id": "0fdc82b9",
      "metadata": {
        "id": "0fdc82b9"
      },
      "source": [
        "Based on this bar plot we can see the unbalanced distribution between the two different classes. Therefore, we need to apply SMOTE for class balancing."
      ]
    },
    {
      "cell_type": "code",
      "execution_count": null,
      "id": "647cf1c5",
      "metadata": {
        "id": "647cf1c5"
      },
      "outputs": [],
      "source": [
        "smote = SMOTE(random_state=42)\n",
        "X_train_smote, y_train_smote = smote.fit_resample(X_train, y_train)"
      ]
    },
    {
      "cell_type": "code",
      "execution_count": null,
      "id": "92255062",
      "metadata": {
        "id": "92255062"
      },
      "outputs": [],
      "source": [
        "counts_2 = pd.Series(y_train_smote).value_counts()\n",
        "class_counts_df_2 = counts_2.reset_index()\n",
        "class_counts_df_2.columns = ['Class', 'Count']\n",
        "sns.barplot(x='Class', y='Count', data=class_counts_df_2)"
      ]
    },
    {
      "cell_type": "markdown",
      "id": "b5e0bcae",
      "metadata": {
        "id": "b5e0bcae"
      },
      "source": [
        "The classes are balanced, we are ready to train the decision tree!"
      ]
    },
    {
      "cell_type": "code",
      "execution_count": null,
      "id": "8491d0e8",
      "metadata": {
        "id": "8491d0e8"
      },
      "outputs": [],
      "source": [
        "jan_clf_1 = DecisionTreeClassifier(\n",
        "    max_depth=5,\n",
        "    max_leaf_nodes=6,\n",
        "    min_impurity_decrease=0.01,\n",
        "    random_state=42\n",
        ")\n",
        "jan_clf_1.fit(X_train_smote, y_train_smote)"
      ]
    },
    {
      "cell_type": "code",
      "execution_count": null,
      "id": "5545c27b",
      "metadata": {
        "id": "5545c27b"
      },
      "outputs": [],
      "source": [
        "y_train_pred = jan_clf_1.predict(X_train_smote)\n",
        "accuracy_training = round(accuracy_score(y_train_smote, y_train_pred), 2)\n",
        "print(\"The accuracy for the training set is :\" , accuracy_training)\n"
      ]
    },
    {
      "cell_type": "code",
      "execution_count": null,
      "id": "48e85437",
      "metadata": {
        "id": "48e85437"
      },
      "outputs": [],
      "source": [
        "cm_training = confusion_matrix(y_train_smote, y_train_pred)\n",
        "\n",
        "plt.figure(figsize=(8, 6))\n",
        "sns.heatmap(cm_training, annot=True, fmt='d', cmap='Blues', xticklabels=jan_clf_1.classes_, yticklabels=jan_clf_1.classes_)\n",
        "plt.title('Confusion Matrix (Training set Set)')\n",
        "plt.xlabel('Predicted Labels')\n",
        "plt.ylabel('True Labels')\n",
        "plt.show()"
      ]
    },
    {
      "cell_type": "code",
      "execution_count": null,
      "id": "66e4b30b",
      "metadata": {
        "id": "66e4b30b"
      },
      "outputs": [],
      "source": [
        "y_val_pred = jan_clf_1.predict(X_val)\n",
        "accuracy_val = round(accuracy_score(y_val, y_val_pred), 2)\n",
        "print(\"The accuracy for the training set is :\" , accuracy_val)"
      ]
    },
    {
      "cell_type": "code",
      "execution_count": null,
      "id": "0338ccf8",
      "metadata": {
        "id": "0338ccf8"
      },
      "outputs": [],
      "source": [
        "cm_val = confusion_matrix(y_val, y_val_pred)\n",
        "\n",
        "plt.figure(figsize=(8, 6))\n",
        "sns.heatmap(cm_val, annot=True, fmt='d', cmap='Blues', xticklabels=jan_clf_1.classes_, yticklabels=jan_clf_1.classes_)\n",
        "plt.title('Confusion Matrix (Validation set Set)')\n",
        "plt.xlabel('Predicted Labels')\n",
        "plt.ylabel('True Labels')\n",
        "plt.show()"
      ]
    },
    {
      "cell_type": "code",
      "execution_count": null,
      "id": "6302b846",
      "metadata": {
        "id": "6302b846"
      },
      "outputs": [],
      "source": [
        "y_test_pred = jan_clf_1.predict(X_test)\n",
        "accuracy_test = round(accuracy_score(y_test, y_test_pred), 2)\n",
        "print(\"The accuracy for the test set is :\" , accuracy_test)"
      ]
    },
    {
      "cell_type": "code",
      "execution_count": null,
      "id": "69bded91",
      "metadata": {
        "id": "69bded91"
      },
      "outputs": [],
      "source": [
        "cm_test = confusion_matrix(y_test, y_test_pred)\n",
        "\n",
        "plt.figure(figsize=(8, 6))\n",
        "sns.heatmap(cm_test, annot=True, fmt='d', cmap='Blues', xticklabels=jan_clf_1.classes_, yticklabels=jan_clf_1.classes_)\n",
        "plt.title('Confusion Matrix (test set Set)')\n",
        "plt.xlabel('Predicted Labels')\n",
        "plt.ylabel('True Labels')\n",
        "plt.show()"
      ]
    },
    {
      "cell_type": "code",
      "execution_count": null,
      "id": "90aeebbc",
      "metadata": {
        "id": "90aeebbc"
      },
      "outputs": [],
      "source": [
        "#training\n",
        "y_train_pred = jan_clf_1.predict(X_train_smote)\n",
        "print(\"Classification Report (Training Set):\")\n",
        "print(classification_report(y_train_smote, y_train_pred))\n",
        "\n",
        "\n"
      ]
    },
    {
      "cell_type": "code",
      "execution_count": null,
      "id": "f3ea4c76",
      "metadata": {
        "id": "f3ea4c76"
      },
      "outputs": [],
      "source": [
        "# Validation\n",
        "y_val_pred = jan_clf_1.predict(X_val)\n",
        "print(\"Classification Report (Validation Set):\")\n",
        "print(classification_report(y_val, y_val_pred))\n",
        "\n"
      ]
    },
    {
      "cell_type": "code",
      "execution_count": null,
      "id": "75ea8518",
      "metadata": {
        "id": "75ea8518"
      },
      "outputs": [],
      "source": [
        "# Test\n",
        "y_test_pred = jan_clf_1.predict(X_test)\n",
        "print(\"Classification Report (Test Set):\")\n",
        "print(classification_report(y_test, y_test_pred))"
      ]
    },
    {
      "cell_type": "code",
      "execution_count": null,
      "id": "a715131c",
      "metadata": {
        "id": "a715131c"
      },
      "outputs": [],
      "source": [
        "\n",
        "feature_importance = pd.DataFrame({\n",
        "    'Feature': X_train_smote.columns,\n",
        "    'Importance': jan_clf_1.feature_importances_\n",
        "}).sort_values(by='Importance', ascending=False)\n",
        "\n",
        "plt.figure(figsize=(10, 6))\n",
        "sns.barplot(x='Importance', y='Feature', data=feature_importance, color='blue')\n",
        "plt.title('Feature Importance')\n",
        "plt.xlabel('Importance')\n",
        "plt.ylabel('Feature')\n",
        "plt.show()\n"
      ]
    },
    {
      "cell_type": "code",
      "execution_count": null,
      "id": "bb89a6af",
      "metadata": {
        "id": "bb89a6af"
      },
      "outputs": [],
      "source": []
    },
    {
      "cell_type": "markdown",
      "id": "67d2ce98",
      "metadata": {
        "id": "67d2ce98"
      },
      "source": [
        "# Summary of combined weather and flight data model\n",
        "- Accuracy for training 0.65\n",
        "- Accuracy for validation 0.57\n",
        "- Accuracy for testing 0.56\n",
        "### Most Important features\n",
        "- Hourly Precipitation Inches\n",
        "- Apparent Temperature Fahrenheit"
      ]
    },
    {
      "cell_type": "markdown",
      "id": "af8ff6d8",
      "metadata": {
        "id": "af8ff6d8"
      },
      "source": [
        "# Model for flights data only"
      ]
    },
    {
      "cell_type": "code",
      "execution_count": null,
      "id": "b2ba69c1",
      "metadata": {
        "id": "b2ba69c1"
      },
      "outputs": [],
      "source": [
        "flights_columns = [\n",
        "    \"Quarter\", \"Month\", \"Day_of_Month\", \"Day_of_Week\", \"Operating_Carrier_Code\", \"Tail_Number\",\n",
        "    \"Origin_Airport_ID\", \"Origin_Airport_Code\", \"Destination_Airport_Code\",\n",
        "    \"Destination_State_Name\", \"Scheduled_Departure_Time\",\n",
        "    \"Flight_Distance_Miles\", \"Scheduled_Departure_Time_Minutes\"\n",
        "]\n"
      ]
    },
    {
      "cell_type": "code",
      "execution_count": null,
      "id": "49b88af7",
      "metadata": {
        "id": "49b88af7"
      },
      "outputs": [],
      "source": [
        "X_train_flight = train_df[flights_columns]\n",
        "y_train_flight = train_df['Target']\n",
        "X_val_flight = val_df[flights_columns]\n",
        "y_val_flight = val_df['Target']\n",
        "X_test_flight = test_df[flights_columns]\n",
        "y_test_flight = test_df['Target']"
      ]
    },
    {
      "cell_type": "code",
      "execution_count": null,
      "id": "7d328070",
      "metadata": {
        "id": "7d328070"
      },
      "outputs": [],
      "source": [
        "X_train_flight.info()"
      ]
    },
    {
      "cell_type": "code",
      "execution_count": null,
      "id": "513b9686",
      "metadata": {
        "id": "513b9686"
      },
      "outputs": [],
      "source": [
        "X_train_flight.head()"
      ]
    },
    {
      "cell_type": "code",
      "execution_count": null,
      "id": "769a1d09",
      "metadata": {
        "id": "769a1d09"
      },
      "outputs": [],
      "source": [
        "\n",
        "for col in X_train_flight.select_dtypes(include=['category']).columns:\n",
        "    X_train_flight[col] = pd.Categorical(X_train_flight[col])\n",
        "    X_val_flight[col] = pd.Categorical(X_val_flight[col], categories=X_train_flight[col].cat.categories)\n",
        "    X_test_flight[col] = pd.Categorical(X_test_flight[col], categories=X_train_flight[col].cat.categories)\n",
        "\n",
        "\n",
        "X_train_flight = X_train_flight.apply(lambda x: x.cat.codes if x.dtype.name == 'category' else x)\n",
        "X_val_flight = X_val_flight.apply(lambda x: x.cat.codes if x.dtype.name == 'category' else x)\n",
        "X_test_flight = X_test_flight.apply(lambda x: x.cat.codes if x.dtype.name == 'category' else x)\n"
      ]
    },
    {
      "cell_type": "code",
      "execution_count": null,
      "id": "a8287b54",
      "metadata": {
        "id": "a8287b54"
      },
      "outputs": [],
      "source": [
        "\n",
        "smote = SMOTE(random_state=42)\n",
        "X_train_flight_smote, y_train_flight_smote = smote.fit_resample(X_train_flight, y_train_flight)"
      ]
    },
    {
      "cell_type": "code",
      "execution_count": null,
      "id": "30c94a6a",
      "metadata": {
        "id": "30c94a6a"
      },
      "outputs": [],
      "source": [
        "\n",
        "jan_clf_flight = DecisionTreeClassifier(\n",
        "    max_depth=5,\n",
        "    max_leaf_nodes=6,\n",
        "    min_impurity_decrease=0.01,\n",
        "    random_state=42\n",
        ")\n",
        "\n",
        "\n",
        "jan_clf_flight.fit(X_train_flight_smote, y_train_flight_smote)\n",
        "\n"
      ]
    },
    {
      "cell_type": "code",
      "execution_count": null,
      "id": "fb4bb8de",
      "metadata": {
        "id": "fb4bb8de"
      },
      "outputs": [],
      "source": [
        "\n",
        "y_train_flight_pred = jan_clf_flight.predict(X_train_flight_smote)\n",
        "\n",
        "\n",
        "accuracy_training_flight = round(accuracy_score(y_train_flight_smote, y_train_flight_pred), 2)\n",
        "\n",
        "print(\"The accuracy for the training set is:\", accuracy_training_flight)\n"
      ]
    },
    {
      "cell_type": "code",
      "execution_count": null,
      "id": "09159988",
      "metadata": {
        "id": "09159988"
      },
      "outputs": [],
      "source": [
        "cm_training_flight = confusion_matrix(y_train_flight_smote, y_train_flight_pred)\n",
        "\n",
        "# Plot the confusion matrix\n",
        "plt.figure(figsize=(8, 6))\n",
        "sns.heatmap(cm_training_flight, annot=True, fmt='d', cmap='Blues',\n",
        "            xticklabels=jan_clf_flight.classes_,\n",
        "            yticklabels=jan_clf_flight.classes_)\n",
        "plt.title('Confusion Matrix (Training Set)')\n",
        "plt.xlabel('Predicted Labels')\n",
        "plt.ylabel('True Labels')\n",
        "plt.show()"
      ]
    },
    {
      "cell_type": "code",
      "execution_count": null,
      "id": "2acee782",
      "metadata": {
        "id": "2acee782"
      },
      "outputs": [],
      "source": [
        "\n",
        "y_val_flight_pred = jan_clf_flight.predict(X_val_flight)\n",
        "\n",
        "\n",
        "accuracy_validation_flight = round(accuracy_score(y_val_flight, y_val_flight_pred), 2)\n",
        "\n",
        "\n",
        "print(\"The accuracy for the validation set is:\", accuracy_validation_flight)\n"
      ]
    },
    {
      "cell_type": "code",
      "execution_count": null,
      "id": "7dd07b05",
      "metadata": {
        "id": "7dd07b05"
      },
      "outputs": [],
      "source": [
        "cm_validation_flight = confusion_matrix(y_val_flight, y_val_flight_pred)\n",
        "\n",
        "plt.figure(figsize=(8, 6))\n",
        "sns.heatmap(cm_validation_flight, annot=True, fmt='d', cmap='Blues',\n",
        "            xticklabels=jan_clf_flight.classes_,\n",
        "            yticklabels=jan_clf_flight.classes_)\n",
        "plt.title('Confusion Matrix (Validation Set)')\n",
        "plt.xlabel('Predicted Labels')\n",
        "plt.ylabel('True Labels')\n",
        "plt.show()"
      ]
    },
    {
      "cell_type": "code",
      "execution_count": null,
      "id": "56d2ceff",
      "metadata": {
        "id": "56d2ceff"
      },
      "outputs": [],
      "source": [
        "\n",
        "y_test_flight_pred = jan_clf_flight.predict(X_test_flight)\n",
        "\n",
        "accuracy_test_flight = round(accuracy_score(y_test_flight, y_test_flight_pred), 2)\n",
        "\n",
        "\n",
        "print(\"The accuracy for the test set is:\", accuracy_test_flight)\n"
      ]
    },
    {
      "cell_type": "code",
      "execution_count": null,
      "id": "5a4b54a0",
      "metadata": {
        "id": "5a4b54a0"
      },
      "outputs": [],
      "source": [
        "\n",
        "cm_test_flight = confusion_matrix(y_test_flight, y_test_flight_pred)\n",
        "\n",
        "plt.figure(figsize=(8, 6))\n",
        "sns.heatmap(cm_test_flight, annot=True, fmt='d', cmap='Blues',\n",
        "            xticklabels=jan_clf_flight.classes_,\n",
        "            yticklabels=jan_clf_flight.classes_)\n",
        "plt.title('Confusion Matrix (Test Set)')\n",
        "plt.xlabel('Predicted Labels')\n",
        "plt.ylabel('True Labels')\n",
        "plt.show()\n"
      ]
    },
    {
      "cell_type": "code",
      "execution_count": null,
      "id": "22c4125e",
      "metadata": {
        "id": "22c4125e"
      },
      "outputs": [],
      "source": [
        "y_train_flight_pred = jan_clf_flight.predict(X_train_flight_smote)\n",
        "print(\"Classification Report (Training Set - Flight Data):\")\n",
        "print(classification_report(y_train_flight_smote, y_train_flight_pred))"
      ]
    },
    {
      "cell_type": "code",
      "execution_count": null,
      "id": "07bdd3c6",
      "metadata": {
        "id": "07bdd3c6"
      },
      "outputs": [],
      "source": [
        "y_val_flight_pred = jan_clf_flight.predict(X_val_flight)\n",
        "print(\"\\nClassification Report (Validation Set - Flight Data):\")\n",
        "print(classification_report(y_val_flight, y_val_flight_pred))"
      ]
    },
    {
      "cell_type": "code",
      "execution_count": null,
      "id": "480f172c",
      "metadata": {
        "id": "480f172c"
      },
      "outputs": [],
      "source": [
        "y_test_flight_pred = jan_clf_flight.predict(X_test_flight)\n",
        "print(\"\\nClassification Report (Test Set - Flight Data):\")\n",
        "print(classification_report(y_test_flight, y_test_flight_pred))"
      ]
    },
    {
      "cell_type": "code",
      "execution_count": null,
      "id": "3e86202c",
      "metadata": {
        "id": "3e86202c"
      },
      "outputs": [],
      "source": [
        "feature_importance_flight = pd.DataFrame({\n",
        "    'Feature': X_train_flight_smote.columns,\n",
        "    'Importance': jan_clf_flight.feature_importances_\n",
        "}).sort_values(by='Importance', ascending=False)\n",
        "\n",
        "plt.figure(figsize=(10, 6))\n",
        "sns.barplot(x='Importance', y='Feature', data=feature_importance_flight, color='blue')\n",
        "plt.title('Feature Importance (Flight Data)')\n",
        "plt.xlabel('Importance')\n",
        "plt.ylabel('Feature')\n",
        "plt.show()"
      ]
    },
    {
      "cell_type": "markdown",
      "id": "b48fe916",
      "metadata": {
        "id": "b48fe916"
      },
      "source": [
        "# Summary of only flight data model\n",
        "- Training accuracy 0.6\n",
        "- Validation accuracy 0.38\n",
        "- Testing accuracy 0.51\n",
        "\n",
        "## Most important features\n",
        "- Day of Month\n",
        "- Scheduled Departure Time"
      ]
    },
    {
      "cell_type": "markdown",
      "id": "3213b710",
      "metadata": {
        "id": "3213b710"
      },
      "source": [
        "## Model using only weather data"
      ]
    },
    {
      "cell_type": "code",
      "execution_count": null,
      "id": "a80197ea",
      "metadata": {
        "id": "a80197ea"
      },
      "outputs": [],
      "source": [
        "weather_columns = [\n",
        "    \"Air_Temperature_Fahrenheit\", \"Dew_Point_Temperature_Fahrenheit\",\n",
        "    \"Relative_Humidity_Percent\", \"Wind_Direction_Degrees\", \"Wind_Speed_Knots\",\n",
        "    \"Hourly_Precipitation_Inches\", \"Pressure_Altimeter_Inches\",\n",
        "    \"Sea_Level_Pressure_Millibar\", \"Visibility_Miles\", \"Sky_Cover_Level_1\",\n",
        "    \"Sky_Level_1_Altitude_Feet\", \"Apparent_Temperature_Fahrenheit\"\n",
        "]\n"
      ]
    },
    {
      "cell_type": "code",
      "execution_count": null,
      "id": "9b5ed38b",
      "metadata": {
        "id": "9b5ed38b"
      },
      "outputs": [],
      "source": [
        "X_train_weather = train_df[weather_columns]\n",
        "y_train_weather = train_df['Target']\n",
        "X_val_weather = val_df[weather_columns]\n",
        "y_val_weather = val_df['Target']\n",
        "X_test_weather = test_df[weather_columns]\n",
        "y_test_weather = test_df['Target']"
      ]
    },
    {
      "cell_type": "code",
      "execution_count": null,
      "id": "69f25379",
      "metadata": {
        "id": "69f25379"
      },
      "outputs": [],
      "source": [
        "X_train_weather.info()"
      ]
    },
    {
      "cell_type": "code",
      "execution_count": null,
      "id": "f717980a",
      "metadata": {
        "id": "f717980a"
      },
      "outputs": [],
      "source": [
        "X_train_weather.head()"
      ]
    },
    {
      "cell_type": "code",
      "execution_count": null,
      "id": "f9dff468",
      "metadata": {
        "id": "f9dff468"
      },
      "outputs": [],
      "source": [
        "\n",
        "for col in X_train_weather.select_dtypes(include=['category']).columns:\n",
        "    X_train_weather[col] = pd.Categorical(X_train_weather[col])\n",
        "    X_val_weather[col] = pd.Categorical(X_val_weather[col], categories=X_train_weather[col].cat.categories)\n",
        "    X_test_weather[col] = pd.Categorical(X_test_weather[col], categories=X_train_weather[col].cat.categories)\n",
        "\n",
        "X_train_weather = X_train_weather.apply(lambda x: x.cat.codes if x.dtype.name == 'category' else x)\n",
        "X_val_weather = X_val_weather.apply(lambda x: x.cat.codes if x.dtype.name == 'category' else x)\n",
        "X_test_weather = X_test_weather.apply(lambda x: x.cat.codes if x.dtype.name == 'category' else x)\n"
      ]
    },
    {
      "cell_type": "code",
      "execution_count": null,
      "id": "3790e72e",
      "metadata": {
        "id": "3790e72e"
      },
      "outputs": [],
      "source": [
        "smote = SMOTE(random_state=42)\n",
        "\n",
        "X_train_weather_smote, y_train_weather_smote = smote.fit_resample(X_train_weather, y_train_weather)"
      ]
    },
    {
      "cell_type": "code",
      "execution_count": null,
      "id": "73b9d5b3",
      "metadata": {
        "id": "73b9d5b3"
      },
      "outputs": [],
      "source": [
        "jan_clf_weather = DecisionTreeClassifier(\n",
        "    max_depth=5,\n",
        "    max_leaf_nodes=6,\n",
        "    min_impurity_decrease=0.01,\n",
        "    random_state=42\n",
        ")\n",
        "\n",
        "\n",
        "jan_clf_weather.fit(X_train_weather_smote, y_train_weather_smote)\n"
      ]
    },
    {
      "cell_type": "code",
      "execution_count": null,
      "id": "7dddf8ca",
      "metadata": {
        "id": "7dddf8ca"
      },
      "outputs": [],
      "source": [
        "y_train_weather_pred = jan_clf_weather.predict(X_train_weather_smote)\n",
        "\n",
        "accuracy_training_weather = round(accuracy_score(y_train_weather_smote, y_train_weather_pred), 2)\n",
        "\n",
        "\n",
        "print(\"The accuracy for the weather-specific training set is:\", accuracy_training_weather)"
      ]
    },
    {
      "cell_type": "code",
      "execution_count": null,
      "id": "98b9368b",
      "metadata": {
        "id": "98b9368b"
      },
      "outputs": [],
      "source": [
        "cm_training_weather = confusion_matrix(y_train_weather_smote, y_train_weather_pred)\n",
        "\n",
        "\n",
        "plt.figure(figsize=(8, 6))\n",
        "sns.heatmap(cm_training_weather, annot=True, fmt='d', cmap='Blues',\n",
        "            xticklabels=jan_clf_weather.classes_,\n",
        "            yticklabels=jan_clf_weather.classes_)\n",
        "plt.title('Confusion Matrix (Training Set - Weather Data)')\n",
        "plt.xlabel('Predicted Labels')\n",
        "plt.ylabel('True Labels')\n",
        "plt.show()"
      ]
    },
    {
      "cell_type": "code",
      "execution_count": null,
      "id": "b79ee651",
      "metadata": {
        "id": "b79ee651"
      },
      "outputs": [],
      "source": [
        "y_val_weather_pred = jan_clf_weather.predict(X_val_weather)\n",
        "accuracy_validation_weather = round(accuracy_score(y_val_weather, y_val_weather_pred), 2)\n",
        "print(\"The accuracy for the weather-specific validation set is:\", accuracy_validation_weather)"
      ]
    },
    {
      "cell_type": "code",
      "execution_count": null,
      "id": "7f5c988d",
      "metadata": {
        "id": "7f5c988d"
      },
      "outputs": [],
      "source": [
        "cm_validation_weather = confusion_matrix(y_val_weather, y_val_weather_pred)\n",
        "\n",
        "# Plot the confusion matrix\n",
        "plt.figure(figsize=(8, 6))\n",
        "sns.heatmap(cm_validation_weather, annot=True, fmt='d', cmap='Blues',\n",
        "            xticklabels=jan_clf_weather.classes_,\n",
        "            yticklabels=jan_clf_weather.classes_)\n",
        "plt.title('Confusion Matrix (Validation Set - Weather Data)')\n",
        "plt.xlabel('Predicted Labels')\n",
        "plt.ylabel('True Labels')\n",
        "plt.show()"
      ]
    },
    {
      "cell_type": "code",
      "execution_count": null,
      "id": "7a692a6a",
      "metadata": {
        "id": "7a692a6a"
      },
      "outputs": [],
      "source": [
        "y_test_weather_pred = jan_clf_weather.predict(X_test_weather)\n",
        "accuracy_test_weather = round(accuracy_score(y_test_weather, y_test_weather_pred), 2)\n",
        "print(\"The accuracy for the weather-specific test set is:\", accuracy_test_weather)"
      ]
    },
    {
      "cell_type": "code",
      "execution_count": null,
      "id": "13a028c0",
      "metadata": {
        "id": "13a028c0"
      },
      "outputs": [],
      "source": [
        "cm_test_weather = confusion_matrix(y_test_weather, y_test_weather_pred)\n",
        "\n",
        "plt.figure(figsize=(8, 6))\n",
        "sns.heatmap(cm_test_weather, annot=True, fmt='d', cmap='Blues',\n",
        "            xticklabels=jan_clf_weather.classes_,\n",
        "            yticklabels=jan_clf_weather.classes_)\n",
        "plt.title('Confusion Matrix (Test Set - Weather Data)')\n",
        "plt.xlabel('Predicted Labels')\n",
        "plt.ylabel('True Labels')\n",
        "plt.show()"
      ]
    },
    {
      "cell_type": "code",
      "execution_count": null,
      "id": "f011efd8",
      "metadata": {
        "id": "f011efd8"
      },
      "outputs": [],
      "source": [
        "y_train_weather_pred = jan_clf_weather.predict(X_train_weather_smote)\n",
        "print(\"Classification Report (Training Set - Weather Data):\")\n",
        "print(classification_report(y_train_weather_smote, y_train_weather_pred))"
      ]
    },
    {
      "cell_type": "code",
      "execution_count": null,
      "id": "3150775a",
      "metadata": {
        "id": "3150775a"
      },
      "outputs": [],
      "source": [
        "y_val_weather_pred = jan_clf_weather.predict(X_val_weather)\n",
        "print(\"\\nClassification Report (Validation Set - Weather Data):\")\n",
        "print(classification_report(y_val_weather, y_val_weather_pred))"
      ]
    },
    {
      "cell_type": "code",
      "execution_count": null,
      "id": "6a8294c9",
      "metadata": {
        "id": "6a8294c9"
      },
      "outputs": [],
      "source": [
        "y_test_weather_pred = jan_clf_weather.predict(X_test_weather)\n",
        "print(\"\\nClassification Report (Test Set - Weather Data):\")\n",
        "print(classification_report(y_test_weather, y_test_weather_pred))"
      ]
    },
    {
      "cell_type": "code",
      "execution_count": null,
      "id": "d2f7573c",
      "metadata": {
        "id": "d2f7573c"
      },
      "outputs": [],
      "source": [
        "feature_importance_weather = pd.DataFrame({\n",
        "    'Feature': X_train_weather_smote.columns,\n",
        "    'Importance': jan_clf_weather.feature_importances_\n",
        "}).sort_values(by='Importance', ascending=False)\n",
        "\n",
        "# Plot feature importance\n",
        "plt.figure(figsize=(10, 6))\n",
        "sns.barplot(x='Importance', y='Feature', data=feature_importance_weather, color='blue')\n",
        "plt.title('Feature Importance (Weather Data)')\n",
        "plt.xlabel('Importance')\n",
        "plt.ylabel('Feature')\n",
        "plt.show()"
      ]
    },
    {
      "cell_type": "markdown",
      "id": "46de8c15",
      "metadata": {
        "id": "46de8c15"
      },
      "source": [
        "## Summary of the weather only data model\n",
        "- Training Accuracy 0.62\n",
        "- Validation Accuracy 0.57\n",
        "- Testing Accuracy 0.56\n",
        "\n",
        "## Most important features\n",
        "- Apparent Temperature Fahrenheit\n",
        "- Hourly Precipitation Inches\n"
      ]
    }
  ],
  "metadata": {
    "kernelspec": {
      "display_name": "Python 3 (ipykernel)",
      "language": "python",
      "name": "python3"
    },
    "language_info": {
      "codemirror_mode": {
        "name": "ipython",
        "version": 3
      },
      "file_extension": ".py",
      "mimetype": "text/x-python",
      "name": "python",
      "nbconvert_exporter": "python",
      "pygments_lexer": "ipython3",
      "version": "3.9.13"
    },
    "colab": {
      "provenance": []
    }
  },
  "nbformat": 4,
  "nbformat_minor": 5
}