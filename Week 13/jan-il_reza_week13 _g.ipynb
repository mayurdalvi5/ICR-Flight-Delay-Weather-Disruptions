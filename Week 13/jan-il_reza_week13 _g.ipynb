{
 "cells": [
  {
   "cell_type": "markdown",
   "id": "33cec9d1",
   "metadata": {},
   "source": [
    "-  Date: 11/21\n",
    "-  Notebook Owner: Reza Naiman\n",
    "    \n",
    "    \n",
    "    \n",
    "# Key findings\n",
    "\n",
    "## Model Performance\n",
    "- The combined weather and flight data model performed the best overall, with accuracies of 0.65 (training), 0.57 (validation), and 0.56 (testing). This indicates that combining weather and flight data provides a more comprehensive view for predictions.\n",
    "\n",
    "\n",
    "- The weather-only model achieved similar validation and testing accuracies (0.57 and 0.56, respectively) but slightly lower training accuracy (0.62), suggesting weather data alone captures significant but not all predictive signals.\n",
    "\n",
    "- The flight-only model showed the weakest performance, particularly on the validation set (accuracy: 0.38), highlighting that flight data alone may not be sufficient for reliable predictions.\n",
    "\n",
    "## Feature Importance\n",
    "- Weather Features:\n",
    "   - The most critical weather features were Apparent Temperature Fahrenheit and Hourly Precipitation Inches, appearing in both the combined and weather-only models.This emphasizes the impact of weather conditions on the outcomes.\n",
    "- Flight Features:\n",
    "   - Day of Month and Scheduled Departure Time were the key features in the flight-only model, suggesting that scheduling and timing are relevant but not as impactful as weather-related factors.\n",
    "   \n",
    "## Suggestions\n",
    "- Combining weather and flight data is essential for better predictive performance, as no single dataset is sufficient on its own.Weather conditions, particularly temperature and precipitation, consistently stand out as critical predictive factors based on the Decision Tree Models.\n"
   ]
  },
  {
   "cell_type": "code",
   "execution_count": 34,
   "id": "744aa0d2",
   "metadata": {},
   "outputs": [],
   "source": [
    "import pandas as pd\n",
    "import numpy as np\n",
    "import matplotlib.pyplot as plt\n",
    "import seaborn as sns\n",
    "from sklearn.model_selection import train_test_split\n",
    "from imblearn.over_sampling import SMOTE\n",
    "from sklearn.tree import DecisionTreeClassifier\n",
    "from sklearn.model_selection import GridSearchCV\n",
    "from sklearn.metrics import accuracy_score\n",
    "from sklearn.metrics import confusion_matrix\n",
    "from sklearn.metrics import classification_report\n",
    "from sklearn.tree import plot_tree\n",
    "import shap\n"
   ]
  },
  {
   "cell_type": "code",
   "execution_count": 35,
   "id": "1eaecea7",
   "metadata": {},
   "outputs": [
    {
     "name": "stdout",
     "output_type": "stream",
     "text": [
      "<class 'pandas.core.frame.DataFrame'>\n",
      "RangeIndex: 2969937 entries, 0 to 2969936\n",
      "Data columns (total 31 columns):\n",
      " #   Column                            Dtype  \n",
      "---  ------                            -----  \n",
      " 0   Year                              int64  \n",
      " 1   Quarter                           int64  \n",
      " 2   Month                             int64  \n",
      " 3   Day_of_Month                      float64\n",
      " 4   Day_of_Week                       float64\n",
      " 5   Operating_Carrier_Code            object \n",
      " 6   Tail_Number                       object \n",
      " 7   Origin_Airport_ID                 float64\n",
      " 8   Origin_Airport_Code               object \n",
      " 9   Origin_State_Name                 object \n",
      " 10  Destination_Airport_Code          object \n",
      " 11  Destination_State_Name            object \n",
      " 12  Scheduled_Departure_Time          float64\n",
      " 13  Departure_Delay_Minutes           float64\n",
      " 14  Taxi_Out_Time_Minutes             float64\n",
      " 15  Flight_Distance_Miles             float64\n",
      " 16  Departure_Datetime                object \n",
      " 17  Scheduled_Departure_Time_Minutes  float64\n",
      " 18  Air_Temperature_Fahrenheit        float64\n",
      " 19  Dew_Point_Temperature_Fahrenheit  float64\n",
      " 20  Relative_Humidity_Percent         float64\n",
      " 21  Wind_Direction_Degrees            float64\n",
      " 22  Wind_Speed_Knots                  float64\n",
      " 23  Hourly_Precipitation_Inches       float64\n",
      " 24  Pressure_Altimeter_Inches         float64\n",
      " 25  Sea_Level_Pressure_Millibar       float64\n",
      " 26  Visibility_Miles                  float64\n",
      " 27  Sky_Cover_Level_1                 object \n",
      " 28  Sky_Level_1_Altitude_Feet         float64\n",
      " 29  Apparent_Temperature_Fahrenheit   float64\n",
      " 30  Target                            float64\n",
      "dtypes: float64(20), int64(3), object(8)\n",
      "memory usage: 702.4+ MB\n"
     ]
    }
   ],
   "source": [
    "# Load and inspect the data\n",
    "df = pd.read_csv(\"C:/Users/rezan/OneDrive/Documents/Fall 2024/Capstone/Illinois_10_years_data.csv\")\n",
    "df.info()"
   ]
  },
  {
   "cell_type": "code",
   "execution_count": 36,
   "id": "23f74082",
   "metadata": {},
   "outputs": [],
   "source": [
    "# Drop unnecessary columns\n",
    "df = df.drop(['Origin_State_Name', 'Departure_Datetime', 'Departure_Delay_Minutes','Taxi_Out_Time_Minutes'], axis=1)"
   ]
  },
  {
   "cell_type": "code",
   "execution_count": 37,
   "id": "893d09c8",
   "metadata": {},
   "outputs": [],
   "source": [
    "# Convert integer features to int32\n",
    "int_columns = [\n",
    "    'Year', \n",
    "    'Quarter', \n",
    "    'Month', \n",
    "    'Day_of_Month', \n",
    "    'Day_of_Week', \n",
    "    'Scheduled_Departure_Time', \n",
    "    'Scheduled_Departure_Time_Minutes',\n",
    "    'Target'\n",
    "]\n",
    "\n",
    "for col in int_columns:\n",
    "    df[col] = df[col].astype(np.int32)"
   ]
  },
  {
   "cell_type": "code",
   "execution_count": 38,
   "id": "53a928cb",
   "metadata": {},
   "outputs": [],
   "source": [
    "# Convert continuous numeric features to float32\n",
    "float_columns = [\n",
    "    \n",
    "    'Flight_Distance_Miles',\n",
    "    'Air_Temperature_Fahrenheit',\n",
    "    'Dew_Point_Temperature_Fahrenheit',\n",
    "    'Relative_Humidity_Percent',\n",
    "    'Wind_Direction_Degrees',\n",
    "    'Wind_Speed_Knots',\n",
    "    'Hourly_Precipitation_Inches',\n",
    "    'Pressure_Altimeter_Inches',\n",
    "    'Sea_Level_Pressure_Millibar',\n",
    "    'Visibility_Miles',\n",
    "    'Sky_Level_1_Altitude_Feet',\n",
    "    'Apparent_Temperature_Fahrenheit',\n",
    "]\n",
    "\n",
    "for col in float_columns:\n",
    "    df[col] = df[col].astype(np.float32)"
   ]
  },
  {
   "cell_type": "code",
   "execution_count": 39,
   "id": "61bd0134",
   "metadata": {},
   "outputs": [],
   "source": [
    "# Convert categorical features to 'category' dtype\n",
    "categorical_columns = [\n",
    "    'Operating_Carrier_Code',\n",
    "    'Tail_Number',\n",
    "    'Origin_Airport_ID',\n",
    "    'Origin_Airport_Code',\n",
    "    'Destination_Airport_Code',\n",
    "    'Destination_State_Name',\n",
    "    'Sky_Cover_Level_1'\n",
    "]\n",
    "\n",
    "for col in categorical_columns:\n",
    "    df[col] = df[col].astype('category')"
   ]
  },
  {
   "cell_type": "code",
   "execution_count": 40,
   "id": "7884acc9",
   "metadata": {},
   "outputs": [
    {
     "name": "stdout",
     "output_type": "stream",
     "text": [
      "<class 'pandas.core.frame.DataFrame'>\n",
      "RangeIndex: 2969937 entries, 0 to 2969936\n",
      "Data columns (total 27 columns):\n",
      " #   Column                            Dtype   \n",
      "---  ------                            -----   \n",
      " 0   Year                              int32   \n",
      " 1   Quarter                           int32   \n",
      " 2   Month                             int32   \n",
      " 3   Day_of_Month                      int32   \n",
      " 4   Day_of_Week                       int32   \n",
      " 5   Operating_Carrier_Code            category\n",
      " 6   Tail_Number                       category\n",
      " 7   Origin_Airport_ID                 category\n",
      " 8   Origin_Airport_Code               category\n",
      " 9   Destination_Airport_Code          category\n",
      " 10  Destination_State_Name            category\n",
      " 11  Scheduled_Departure_Time          int32   \n",
      " 12  Flight_Distance_Miles             float32 \n",
      " 13  Scheduled_Departure_Time_Minutes  int32   \n",
      " 14  Air_Temperature_Fahrenheit        float32 \n",
      " 15  Dew_Point_Temperature_Fahrenheit  float32 \n",
      " 16  Relative_Humidity_Percent         float32 \n",
      " 17  Wind_Direction_Degrees            float32 \n",
      " 18  Wind_Speed_Knots                  float32 \n",
      " 19  Hourly_Precipitation_Inches       float32 \n",
      " 20  Pressure_Altimeter_Inches         float32 \n",
      " 21  Sea_Level_Pressure_Millibar       float32 \n",
      " 22  Visibility_Miles                  float32 \n",
      " 23  Sky_Cover_Level_1                 category\n",
      " 24  Sky_Level_1_Altitude_Feet         float32 \n",
      " 25  Apparent_Temperature_Fahrenheit   float32 \n",
      " 26  Target                            int32   \n",
      "dtypes: category(7), float32(12), int32(8)\n",
      "memory usage: 252.4 MB\n"
     ]
    }
   ],
   "source": [
    "df.info()"
   ]
  },
  {
   "cell_type": "code",
   "execution_count": 41,
   "id": "3a2fc1ea",
   "metadata": {},
   "outputs": [
    {
     "name": "stderr",
     "output_type": "stream",
     "text": [
      "C:\\Users\\rezan\\AppData\\Local\\Temp\\ipykernel_3232\\379487763.py:3: SettingWithCopyWarning: \n",
      "A value is trying to be set on a copy of a slice from a DataFrame.\n",
      "Try using .loc[row_indexer,col_indexer] = value instead\n",
      "\n",
      "See the caveats in the documentation: https://pandas.pydata.org/pandas-docs/stable/user_guide/indexing.html#returning-a-view-versus-a-copy\n",
      "  df1['Year'] = df1['Year'].astype(int)\n"
     ]
    }
   ],
   "source": [
    "# Filter data for January and reset the Year type\n",
    "df1 = df[df['Month'] == 1]\n",
    "df1['Year'] = df1['Year'].astype(int)"
   ]
  },
  {
   "cell_type": "code",
   "execution_count": 42,
   "id": "ed9595ef",
   "metadata": {},
   "outputs": [],
   "source": [
    "# Define years for train, validation, and test sets\n",
    "train_years = [2014, 2015, 2016, 2017, 2018, 2019]\n",
    "val_years = [2020, 2021, 2022]\n",
    "test_years = [2023, 2024]"
   ]
  },
  {
   "cell_type": "code",
   "execution_count": 43,
   "id": "852ded49",
   "metadata": {},
   "outputs": [],
   "source": [
    "# Split data into train, validation, and test sets\n",
    "train_df = df1[df1['Year'].isin(train_years)].reset_index(drop=True)\n",
    "val_df = df1[df1['Year'].isin(val_years)].reset_index(drop=True)\n",
    "test_df = df1[df1['Year'].isin(test_years)].reset_index(drop=True)"
   ]
  },
  {
   "cell_type": "markdown",
   "id": "eb200bcf",
   "metadata": {},
   "source": [
    "## This model is for Flights and Weather Data combined"
   ]
  },
  {
   "cell_type": "code",
   "execution_count": 44,
   "id": "ddf4c103",
   "metadata": {},
   "outputs": [],
   "source": [
    "# Separate features and target\n",
    "X_train = train_df.drop('Target', axis=1)\n",
    "y_train = train_df['Target']\n",
    "X_val = val_df.drop('Target', axis=1)\n",
    "y_val = val_df['Target']\n",
    "X_test = test_df.drop('Target', axis=1)\n",
    "y_test = test_df['Target']"
   ]
  },
  {
   "cell_type": "code",
   "execution_count": 45,
   "id": "574dd892",
   "metadata": {},
   "outputs": [
    {
     "data": {
      "text/html": [
       "<div>\n",
       "<style scoped>\n",
       "    .dataframe tbody tr th:only-of-type {\n",
       "        vertical-align: middle;\n",
       "    }\n",
       "\n",
       "    .dataframe tbody tr th {\n",
       "        vertical-align: top;\n",
       "    }\n",
       "\n",
       "    .dataframe thead th {\n",
       "        text-align: right;\n",
       "    }\n",
       "</style>\n",
       "<table border=\"1\" class=\"dataframe\">\n",
       "  <thead>\n",
       "    <tr style=\"text-align: right;\">\n",
       "      <th></th>\n",
       "      <th>Year</th>\n",
       "      <th>Quarter</th>\n",
       "      <th>Month</th>\n",
       "      <th>Day_of_Month</th>\n",
       "      <th>Day_of_Week</th>\n",
       "      <th>Operating_Carrier_Code</th>\n",
       "      <th>Tail_Number</th>\n",
       "      <th>Origin_Airport_ID</th>\n",
       "      <th>Origin_Airport_Code</th>\n",
       "      <th>Destination_Airport_Code</th>\n",
       "      <th>...</th>\n",
       "      <th>Relative_Humidity_Percent</th>\n",
       "      <th>Wind_Direction_Degrees</th>\n",
       "      <th>Wind_Speed_Knots</th>\n",
       "      <th>Hourly_Precipitation_Inches</th>\n",
       "      <th>Pressure_Altimeter_Inches</th>\n",
       "      <th>Sea_Level_Pressure_Millibar</th>\n",
       "      <th>Visibility_Miles</th>\n",
       "      <th>Sky_Cover_Level_1</th>\n",
       "      <th>Sky_Level_1_Altitude_Feet</th>\n",
       "      <th>Apparent_Temperature_Fahrenheit</th>\n",
       "    </tr>\n",
       "  </thead>\n",
       "  <tbody>\n",
       "    <tr>\n",
       "      <th>0</th>\n",
       "      <td>2014</td>\n",
       "      <td>1</td>\n",
       "      <td>1</td>\n",
       "      <td>1</td>\n",
       "      <td>3</td>\n",
       "      <td>AA</td>\n",
       "      <td>N363AA</td>\n",
       "      <td>13930.0</td>\n",
       "      <td>ORD</td>\n",
       "      <td>MIA</td>\n",
       "      <td>...</td>\n",
       "      <td>77.449997</td>\n",
       "      <td>60.0</td>\n",
       "      <td>14.0</td>\n",
       "      <td>0.020000</td>\n",
       "      <td>30.0</td>\n",
       "      <td>1025.099976</td>\n",
       "      <td>0.625</td>\n",
       "      <td>VV</td>\n",
       "      <td>1200.0</td>\n",
       "      <td>7.26</td>\n",
       "    </tr>\n",
       "    <tr>\n",
       "      <th>1</th>\n",
       "      <td>2014</td>\n",
       "      <td>1</td>\n",
       "      <td>1</td>\n",
       "      <td>1</td>\n",
       "      <td>3</td>\n",
       "      <td>AA</td>\n",
       "      <td>N372AA</td>\n",
       "      <td>13930.0</td>\n",
       "      <td>ORD</td>\n",
       "      <td>HNL</td>\n",
       "      <td>...</td>\n",
       "      <td>79.980003</td>\n",
       "      <td>350.0</td>\n",
       "      <td>7.0</td>\n",
       "      <td>0.000000</td>\n",
       "      <td>30.0</td>\n",
       "      <td>1025.099976</td>\n",
       "      <td>7.750</td>\n",
       "      <td>OVC</td>\n",
       "      <td>1300.0</td>\n",
       "      <td>3.17</td>\n",
       "    </tr>\n",
       "    <tr>\n",
       "      <th>2</th>\n",
       "      <td>2014</td>\n",
       "      <td>1</td>\n",
       "      <td>1</td>\n",
       "      <td>1</td>\n",
       "      <td>3</td>\n",
       "      <td>AA</td>\n",
       "      <td>N3AFAA</td>\n",
       "      <td>13930.0</td>\n",
       "      <td>ORD</td>\n",
       "      <td>BOS</td>\n",
       "      <td>...</td>\n",
       "      <td>77.449997</td>\n",
       "      <td>70.0</td>\n",
       "      <td>12.0</td>\n",
       "      <td>0.026667</td>\n",
       "      <td>30.0</td>\n",
       "      <td>1025.699951</td>\n",
       "      <td>0.750</td>\n",
       "      <td>BKN</td>\n",
       "      <td>1300.0</td>\n",
       "      <td>8.03</td>\n",
       "    </tr>\n",
       "    <tr>\n",
       "      <th>3</th>\n",
       "      <td>2014</td>\n",
       "      <td>1</td>\n",
       "      <td>1</td>\n",
       "      <td>1</td>\n",
       "      <td>3</td>\n",
       "      <td>AA</td>\n",
       "      <td>N3AHAA</td>\n",
       "      <td>13930.0</td>\n",
       "      <td>ORD</td>\n",
       "      <td>FLL</td>\n",
       "      <td>...</td>\n",
       "      <td>77.449997</td>\n",
       "      <td>50.0</td>\n",
       "      <td>11.0</td>\n",
       "      <td>0.027500</td>\n",
       "      <td>30.0</td>\n",
       "      <td>1024.099976</td>\n",
       "      <td>0.750</td>\n",
       "      <td>VV</td>\n",
       "      <td>1400.0</td>\n",
       "      <td>8.45</td>\n",
       "    </tr>\n",
       "    <tr>\n",
       "      <th>4</th>\n",
       "      <td>2014</td>\n",
       "      <td>1</td>\n",
       "      <td>1</td>\n",
       "      <td>1</td>\n",
       "      <td>3</td>\n",
       "      <td>AA</td>\n",
       "      <td>N3ANAA</td>\n",
       "      <td>13930.0</td>\n",
       "      <td>ORD</td>\n",
       "      <td>MIA</td>\n",
       "      <td>...</td>\n",
       "      <td>79.830002</td>\n",
       "      <td>270.0</td>\n",
       "      <td>8.0</td>\n",
       "      <td>0.001250</td>\n",
       "      <td>30.0</td>\n",
       "      <td>1025.500000</td>\n",
       "      <td>6.000</td>\n",
       "      <td>OVC</td>\n",
       "      <td>1200.0</td>\n",
       "      <td>0.34</td>\n",
       "    </tr>\n",
       "  </tbody>\n",
       "</table>\n",
       "<p>5 rows × 26 columns</p>\n",
       "</div>"
      ],
      "text/plain": [
       "   Year  Quarter  Month  Day_of_Month  Day_of_Week Operating_Carrier_Code  \\\n",
       "0  2014        1      1             1            3                     AA   \n",
       "1  2014        1      1             1            3                     AA   \n",
       "2  2014        1      1             1            3                     AA   \n",
       "3  2014        1      1             1            3                     AA   \n",
       "4  2014        1      1             1            3                     AA   \n",
       "\n",
       "  Tail_Number Origin_Airport_ID Origin_Airport_Code Destination_Airport_Code  \\\n",
       "0      N363AA           13930.0                 ORD                      MIA   \n",
       "1      N372AA           13930.0                 ORD                      HNL   \n",
       "2      N3AFAA           13930.0                 ORD                      BOS   \n",
       "3      N3AHAA           13930.0                 ORD                      FLL   \n",
       "4      N3ANAA           13930.0                 ORD                      MIA   \n",
       "\n",
       "   ... Relative_Humidity_Percent  Wind_Direction_Degrees  Wind_Speed_Knots  \\\n",
       "0  ...                 77.449997                    60.0              14.0   \n",
       "1  ...                 79.980003                   350.0               7.0   \n",
       "2  ...                 77.449997                    70.0              12.0   \n",
       "3  ...                 77.449997                    50.0              11.0   \n",
       "4  ...                 79.830002                   270.0               8.0   \n",
       "\n",
       "   Hourly_Precipitation_Inches  Pressure_Altimeter_Inches  \\\n",
       "0                     0.020000                       30.0   \n",
       "1                     0.000000                       30.0   \n",
       "2                     0.026667                       30.0   \n",
       "3                     0.027500                       30.0   \n",
       "4                     0.001250                       30.0   \n",
       "\n",
       "   Sea_Level_Pressure_Millibar  Visibility_Miles  Sky_Cover_Level_1  \\\n",
       "0                  1025.099976             0.625                VV    \n",
       "1                  1025.099976             7.750                OVC   \n",
       "2                  1025.699951             0.750                BKN   \n",
       "3                  1024.099976             0.750                VV    \n",
       "4                  1025.500000             6.000                OVC   \n",
       "\n",
       "   Sky_Level_1_Altitude_Feet  Apparent_Temperature_Fahrenheit  \n",
       "0                     1200.0                             7.26  \n",
       "1                     1300.0                             3.17  \n",
       "2                     1300.0                             8.03  \n",
       "3                     1400.0                             8.45  \n",
       "4                     1200.0                             0.34  \n",
       "\n",
       "[5 rows x 26 columns]"
      ]
     },
     "execution_count": 45,
     "metadata": {},
     "output_type": "execute_result"
    }
   ],
   "source": [
    "X_train.head()"
   ]
  },
  {
   "cell_type": "code",
   "execution_count": 46,
   "id": "b315fd3c",
   "metadata": {},
   "outputs": [
    {
     "name": "stdout",
     "output_type": "stream",
     "text": [
      "<class 'pandas.core.frame.DataFrame'>\n",
      "RangeIndex: 158523 entries, 0 to 158522\n",
      "Data columns (total 26 columns):\n",
      " #   Column                            Non-Null Count   Dtype   \n",
      "---  ------                            --------------   -----   \n",
      " 0   Year                              158523 non-null  int32   \n",
      " 1   Quarter                           158523 non-null  int32   \n",
      " 2   Month                             158523 non-null  int32   \n",
      " 3   Day_of_Month                      158523 non-null  int32   \n",
      " 4   Day_of_Week                       158523 non-null  int32   \n",
      " 5   Operating_Carrier_Code            158523 non-null  category\n",
      " 6   Tail_Number                       158523 non-null  category\n",
      " 7   Origin_Airport_ID                 158523 non-null  category\n",
      " 8   Origin_Airport_Code               158523 non-null  category\n",
      " 9   Destination_Airport_Code          158523 non-null  category\n",
      " 10  Destination_State_Name            158523 non-null  category\n",
      " 11  Scheduled_Departure_Time          158523 non-null  int32   \n",
      " 12  Flight_Distance_Miles             158523 non-null  float32 \n",
      " 13  Scheduled_Departure_Time_Minutes  158523 non-null  int32   \n",
      " 14  Air_Temperature_Fahrenheit        158523 non-null  float32 \n",
      " 15  Dew_Point_Temperature_Fahrenheit  158523 non-null  float32 \n",
      " 16  Relative_Humidity_Percent         158523 non-null  float32 \n",
      " 17  Wind_Direction_Degrees            158523 non-null  float32 \n",
      " 18  Wind_Speed_Knots                  158523 non-null  float32 \n",
      " 19  Hourly_Precipitation_Inches       158523 non-null  float32 \n",
      " 20  Pressure_Altimeter_Inches         158523 non-null  float32 \n",
      " 21  Sea_Level_Pressure_Millibar       158523 non-null  float32 \n",
      " 22  Visibility_Miles                  158523 non-null  float32 \n",
      " 23  Sky_Cover_Level_1                 158523 non-null  category\n",
      " 24  Sky_Level_1_Altitude_Feet         158523 non-null  float32 \n",
      " 25  Apparent_Temperature_Fahrenheit   158523 non-null  float32 \n",
      "dtypes: category(7), float32(12), int32(7)\n",
      "memory usage: 13.2 MB\n"
     ]
    }
   ],
   "source": [
    "X_train.info()"
   ]
  },
  {
   "cell_type": "code",
   "execution_count": 47,
   "id": "787c2c23",
   "metadata": {},
   "outputs": [],
   "source": [
    "# Ensure consistent encoding across all sets using pd.Categorical\n",
    "for col in X_train.select_dtypes(include=['category']).columns:\n",
    "    X_train[col] = pd.Categorical(X_train[col])\n",
    "    X_val[col] = pd.Categorical(X_val[col], categories=X_train[col].cat.categories)\n",
    "    X_test[col] = pd.Categorical(X_test[col], categories=X_train[col].cat.categories)\n",
    "\n",
    "# Convert categorical columns to integer codes\n",
    "X_train = X_train.apply(lambda x: x.cat.codes if x.dtype.name == 'category' else x)\n",
    "X_val = X_val.apply(lambda x: x.cat.codes if x.dtype.name == 'category' else x)\n",
    "X_test = X_test.apply(lambda x: x.cat.codes if x.dtype.name == 'category' else x)"
   ]
  },
  {
   "cell_type": "code",
   "execution_count": 48,
   "id": "87244101",
   "metadata": {},
   "outputs": [
    {
     "data": {
      "text/plain": [
       "<AxesSubplot:xlabel='Class', ylabel='Count'>"
      ]
     },
     "execution_count": 48,
     "metadata": {},
     "output_type": "execute_result"
    },
    {
     "data": {
      "image/png": "[encoded data removed]",
      "text/plain": [
       "<Figure size 432x288 with 1 Axes>"
      ]
     },
     "metadata": {
      "needs_background": "light"
     },
     "output_type": "display_data"
    }
   ],
   "source": [
    "counts_1 = pd.Series(train_df[\"Target\"]).value_counts()\n",
    "class_counts_df_1 = counts_1.reset_index()\n",
    "class_counts_df_1.columns = ['Class', 'Count']\n",
    "sns.barplot(x='Class', y='Count', data=class_counts_df_1)"
   ]
  },
  {
   "cell_type": "markdown",
   "id": "0fdc82b9",
   "metadata": {},
   "source": [
    "Based on this bar plot we can see the unbalanced distribution between the two different classes. Therefore, we need to apply SMOTE for class balancing."
   ]
  },
  {
   "cell_type": "code",
   "execution_count": 49,
   "id": "647cf1c5",
   "metadata": {},
   "outputs": [],
   "source": [
    "smote = SMOTE(random_state=42)\n",
    "X_train_smote, y_train_smote = smote.fit_resample(X_train, y_train)"
   ]
  },
  {
   "cell_type": "code",
   "execution_count": 50,
   "id": "92255062",
   "metadata": {},
   "outputs": [
    {
     "data": {
      "text/plain": [
       "<AxesSubplot:xlabel='Class', ylabel='Count'>"
      ]
     },
     "execution_count": 50,
     "metadata": {},
     "output_type": "execute_result"
    },
    {
     "data": {
      "image/png": "[encoded data removed]",
      "text/plain": [
       "<Figure size 432x288 with 1 Axes>"
      ]
     },
     "metadata": {
      "needs_background": "light"
     },
     "output_type": "display_data"
    }
   ],
   "source": [
    "counts_2 = pd.Series(y_train_smote).value_counts()\n",
    "class_counts_df_2 = counts_2.reset_index()\n",
    "class_counts_df_2.columns = ['Class', 'Count']\n",
    "sns.barplot(x='Class', y='Count', data=class_counts_df_2)"
   ]
  },
  {
   "cell_type": "markdown",
   "id": "b5e0bcae",
   "metadata": {},
   "source": [
    "The classes are balanced, we are ready to train the decision tree!"
   ]
  },
  {
   "cell_type": "code",
   "execution_count": 51,
   "id": "8491d0e8",
   "metadata": {},
   "outputs": [
    {
     "data": {
      "text/plain": [
       "DecisionTreeClassifier(max_depth=5, max_leaf_nodes=6,\n",
       "                       min_impurity_decrease=0.01, random_state=42)"
      ]
     },
     "execution_count": 51,
     "metadata": {},
     "output_type": "execute_result"
    }
   ],
   "source": [
    "jan_clf_1 = DecisionTreeClassifier(\n",
    "    max_depth=5, \n",
    "    max_leaf_nodes=6,\n",
    "    min_impurity_decrease=0.01,\n",
    "    random_state=42\n",
    ")\n",
    "jan_clf_1.fit(X_train_smote, y_train_smote)"
   ]
  },
  {
   "cell_type": "code",
   "execution_count": 52,
   "id": "5545c27b",
   "metadata": {},
   "outputs": [
    {
     "name": "stdout",
     "output_type": "stream",
     "text": [
      "The accuracy for the training set is : 0.65\n"
     ]
    }
   ],
   "source": [
    "y_train_pred = jan_clf_1.predict(X_train_smote)\n",
    "accuracy_training = round(accuracy_score(y_train_smote, y_train_pred), 2)\n",
    "print(\"The accuracy for the training set is :\" , accuracy_training)\n"
   ]
  },
  {
   "cell_type": "code",
   "execution_count": 53,
   "id": "48e85437",
   "metadata": {},
   "outputs": [
    {
     "data": {
      "image/png": "[encoded data removed]",
      "text/plain": [
       "<Figure size 576x432 with 2 Axes>"
      ]
     },
     "metadata": {
      "needs_background": "light"
     },
     "output_type": "display_data"
    }
   ],
   "source": [
    "cm_training = confusion_matrix(y_train_smote, y_train_pred)\n",
    "\n",
    "plt.figure(figsize=(8, 6))\n",
    "sns.heatmap(cm_training, annot=True, fmt='d', cmap='Blues', xticklabels=jan_clf_1.classes_, yticklabels=jan_clf_1.classes_)\n",
    "plt.title('Confusion Matrix (Training set Set)')\n",
    "plt.xlabel('Predicted Labels')\n",
    "plt.ylabel('True Labels')\n",
    "plt.show()"
   ]
  },
  {
   "cell_type": "code",
   "execution_count": 54,
   "id": "66e4b30b",
   "metadata": {},
   "outputs": [
    {
     "name": "stdout",
     "output_type": "stream",
     "text": [
      "The accuracy for the training set is : 0.57\n"
     ]
    }
   ],
   "source": [
    "y_val_pred = jan_clf_1.predict(X_val)\n",
    "accuracy_val = round(accuracy_score(y_val, y_val_pred), 2)\n",
    "print(\"The accuracy for the training set is :\" , accuracy_val)"
   ]
  },
  {
   "cell_type": "code",
   "execution_count": 55,
   "id": "0338ccf8",
   "metadata": {},
   "outputs": [
    {
     "data": {
      "image/png": "[encoded data removed]",
      "text/plain": [
       "<Figure size 576x432 with 2 Axes>"
      ]
     },
     "metadata": {
      "needs_background": "light"
     },
     "output_type": "display_data"
    }
   ],
   "source": [
    "cm_val = confusion_matrix(y_val, y_val_pred)\n",
    "\n",
    "plt.figure(figsize=(8, 6))\n",
    "sns.heatmap(cm_val, annot=True, fmt='d', cmap='Blues', xticklabels=jan_clf_1.classes_, yticklabels=jan_clf_1.classes_)\n",
    "plt.title('Confusion Matrix (Validation set Set)')\n",
    "plt.xlabel('Predicted Labels')\n",
    "plt.ylabel('True Labels')\n",
    "plt.show()"
   ]
  },
  {
   "cell_type": "code",
   "execution_count": 56,
   "id": "6302b846",
   "metadata": {},
   "outputs": [
    {
     "name": "stdout",
     "output_type": "stream",
     "text": [
      "The accuracy for the test set is : 0.56\n"
     ]
    }
   ],
   "source": [
    "y_test_pred = jan_clf_1.predict(X_test)\n",
    "accuracy_test = round(accuracy_score(y_test, y_test_pred), 2)\n",
    "print(\"The accuracy for the test set is :\" , accuracy_test)"
   ]
  },
  {
   "cell_type": "code",
   "execution_count": 57,
   "id": "69bded91",
   "metadata": {},
   "outputs": [
    {
     "data": {
      "image/png": "[encoded data removed]",
      "text/plain": [
       "<Figure size 576x432 with 2 Axes>"
      ]
     },
     "metadata": {
      "needs_background": "light"
     },
     "output_type": "display_data"
    }
   ],
   "source": [
    "cm_test = confusion_matrix(y_test, y_test_pred)\n",
    "\n",
    "plt.figure(figsize=(8, 6))\n",
    "sns.heatmap(cm_test, annot=True, fmt='d', cmap='Blues', xticklabels=jan_clf_1.classes_, yticklabels=jan_clf_1.classes_)\n",
    "plt.title('Confusion Matrix (test set Set)')\n",
    "plt.xlabel('Predicted Labels')\n",
    "plt.ylabel('True Labels')\n",
    "plt.show()"
   ]
  },
  {
   "cell_type": "code",
   "execution_count": 58,
   "id": "90aeebbc",
   "metadata": {},
   "outputs": [
    {
     "name": "stdout",
     "output_type": "stream",
     "text": [
      "Classification Report (Training Set):\n",
      "              precision    recall  f1-score   support\n",
      "\n",
      "           0       0.71      0.51      0.59    115230\n",
      "           1       0.62      0.79      0.69    115230\n",
      "\n",
      "    accuracy                           0.65    230460\n",
      "   macro avg       0.66      0.65      0.64    230460\n",
      "weighted avg       0.66      0.65      0.64    230460\n",
      "\n"
     ]
    }
   ],
   "source": [
    "#training\n",
    "y_train_pred = jan_clf_1.predict(X_train_smote)\n",
    "print(\"Classification Report (Training Set):\")\n",
    "print(classification_report(y_train_smote, y_train_pred))\n",
    "\n",
    "\n"
   ]
  },
  {
   "cell_type": "code",
   "execution_count": 59,
   "id": "f3ea4c76",
   "metadata": {},
   "outputs": [
    {
     "name": "stdout",
     "output_type": "stream",
     "text": [
      "Classification Report (Validation Set):\n",
      "              precision    recall  f1-score   support\n",
      "\n",
      "           0       0.87      0.56      0.68     47010\n",
      "           1       0.23      0.61      0.34     10370\n",
      "\n",
      "    accuracy                           0.57     57380\n",
      "   macro avg       0.55      0.58      0.51     57380\n",
      "weighted avg       0.75      0.57      0.62     57380\n",
      "\n"
     ]
    }
   ],
   "source": [
    "# Validation \n",
    "y_val_pred = jan_clf_1.predict(X_val)\n",
    "print(\"Classification Report (Validation Set):\")\n",
    "print(classification_report(y_val, y_val_pred))\n",
    "\n"
   ]
  },
  {
   "cell_type": "code",
   "execution_count": 60,
   "id": "75ea8518",
   "metadata": {},
   "outputs": [
    {
     "name": "stdout",
     "output_type": "stream",
     "text": [
      "Classification Report (Test Set):\n",
      "              precision    recall  f1-score   support\n",
      "\n",
      "           0       0.81      0.51      0.63     18140\n",
      "           1       0.36      0.70      0.47      7053\n",
      "\n",
      "    accuracy                           0.56     25193\n",
      "   macro avg       0.59      0.61      0.55     25193\n",
      "weighted avg       0.69      0.56      0.58     25193\n",
      "\n"
     ]
    }
   ],
   "source": [
    "# Test \n",
    "y_test_pred = jan_clf_1.predict(X_test)\n",
    "print(\"Classification Report (Test Set):\")\n",
    "print(classification_report(y_test, y_test_pred))"
   ]
  },
  {
   "cell_type": "code",
   "execution_count": 61,
   "id": "a715131c",
   "metadata": {},
   "outputs": [
    {
     "data": {
      "image/png": "[encoded data removed]",
      "text/plain": [
       "<Figure size 720x432 with 1 Axes>"
      ]
     },
     "metadata": {
      "needs_background": "light"
     },
     "output_type": "display_data"
    }
   ],
   "source": [
    "\n",
    "feature_importance = pd.DataFrame({\n",
    "    'Feature': X_train_smote.columns,\n",
    "    'Importance': jan_clf_1.feature_importances_\n",
    "}).sort_values(by='Importance', ascending=False)\n",
    "\n",
    "plt.figure(figsize=(10, 6))\n",
    "sns.barplot(x='Importance', y='Feature', data=feature_importance, color='blue')\n",
    "plt.title('Feature Importance')\n",
    "plt.xlabel('Importance')\n",
    "plt.ylabel('Feature')\n",
    "plt.show()\n"
   ]
  },
  {
   "cell_type": "code",
   "execution_count": null,
   "id": "bb89a6af",
   "metadata": {},
   "outputs": [],
   "source": []
  },
  {
   "cell_type": "markdown",
   "id": "67d2ce98",
   "metadata": {},
   "source": [
    "# Summary of combined weather and flight data model\n",
    "- Accuracy for training 0.65 \n",
    "- Accuracy for validation 0.57\n",
    "- Accuracy for testing 0.56\n",
    "### Most Important features\n",
    "- Hourly Precipitation Inches\n",
    "- Apparent Temperature Fahrenheit"
   ]
  },
  {
   "cell_type": "markdown",
   "id": "af8ff6d8",
   "metadata": {},
   "source": [
    "# Model for flights data only"
   ]
  },
  {
   "cell_type": "code",
   "execution_count": 62,
   "id": "b2ba69c1",
   "metadata": {},
   "outputs": [],
   "source": [
    "flights_columns = [\n",
    "    \"Quarter\", \"Month\", \"Day_of_Month\", \"Day_of_Week\", \"Operating_Carrier_Code\", \"Tail_Number\",\n",
    "    \"Origin_Airport_ID\", \"Origin_Airport_Code\", \"Destination_Airport_Code\",\n",
    "    \"Destination_State_Name\", \"Scheduled_Departure_Time\", \n",
    "    \"Flight_Distance_Miles\", \"Scheduled_Departure_Time_Minutes\"\n",
    "]\n"
   ]
  },
  {
   "cell_type": "code",
   "execution_count": 63,
   "id": "49b88af7",
   "metadata": {},
   "outputs": [],
   "source": [
    "X_train_flight = train_df[flights_columns]\n",
    "y_train_flight = train_df['Target']\n",
    "X_val_flight = val_df[flights_columns]\n",
    "y_val_flight = val_df['Target']\n",
    "X_test_flight = test_df[flights_columns]\n",
    "y_test_flight = test_df['Target']"
   ]
  },
  {
   "cell_type": "code",
   "execution_count": 64,
   "id": "7d328070",
   "metadata": {},
   "outputs": [
    {
     "name": "stdout",
     "output_type": "stream",
     "text": [
      "<class 'pandas.core.frame.DataFrame'>\n",
      "RangeIndex: 158523 entries, 0 to 158522\n",
      "Data columns (total 13 columns):\n",
      " #   Column                            Non-Null Count   Dtype   \n",
      "---  ------                            --------------   -----   \n",
      " 0   Quarter                           158523 non-null  int32   \n",
      " 1   Month                             158523 non-null  int32   \n",
      " 2   Day_of_Month                      158523 non-null  int32   \n",
      " 3   Day_of_Week                       158523 non-null  int32   \n",
      " 4   Operating_Carrier_Code            158523 non-null  category\n",
      " 5   Tail_Number                       158523 non-null  category\n",
      " 6   Origin_Airport_ID                 158523 non-null  category\n",
      " 7   Origin_Airport_Code               158523 non-null  category\n",
      " 8   Destination_Airport_Code          158523 non-null  category\n",
      " 9   Destination_State_Name            158523 non-null  category\n",
      " 10  Scheduled_Departure_Time          158523 non-null  int32   \n",
      " 11  Flight_Distance_Miles             158523 non-null  float32 \n",
      " 12  Scheduled_Departure_Time_Minutes  158523 non-null  int32   \n",
      "dtypes: category(6), float32(1), int32(6)\n",
      "memory usage: 5.8 MB\n"
     ]
    }
   ],
   "source": [
    "X_train_flight.info()"
   ]
  },
  {
   "cell_type": "code",
   "execution_count": 65,
   "id": "513b9686",
   "metadata": {},
   "outputs": [
    {
     "data": {
      "text/html": [
       "<div>\n",
       "<style scoped>\n",
       "    .dataframe tbody tr th:only-of-type {\n",
       "        vertical-align: middle;\n",
       "    }\n",
       "\n",
       "    .dataframe tbody tr th {\n",
       "        vertical-align: top;\n",
       "    }\n",
       "\n",
       "    .dataframe thead th {\n",
       "        text-align: right;\n",
       "    }\n",
       "</style>\n",
       "<table border=\"1\" class=\"dataframe\">\n",
       "  <thead>\n",
       "    <tr style=\"text-align: right;\">\n",
       "      <th></th>\n",
       "      <th>Quarter</th>\n",
       "      <th>Month</th>\n",
       "      <th>Day_of_Month</th>\n",
       "      <th>Day_of_Week</th>\n",
       "      <th>Operating_Carrier_Code</th>\n",
       "      <th>Tail_Number</th>\n",
       "      <th>Origin_Airport_ID</th>\n",
       "      <th>Origin_Airport_Code</th>\n",
       "      <th>Destination_Airport_Code</th>\n",
       "      <th>Destination_State_Name</th>\n",
       "      <th>Scheduled_Departure_Time</th>\n",
       "      <th>Flight_Distance_Miles</th>\n",
       "      <th>Scheduled_Departure_Time_Minutes</th>\n",
       "    </tr>\n",
       "  </thead>\n",
       "  <tbody>\n",
       "    <tr>\n",
       "      <th>0</th>\n",
       "      <td>1</td>\n",
       "      <td>1</td>\n",
       "      <td>1</td>\n",
       "      <td>3</td>\n",
       "      <td>AA</td>\n",
       "      <td>N363AA</td>\n",
       "      <td>13930.0</td>\n",
       "      <td>ORD</td>\n",
       "      <td>MIA</td>\n",
       "      <td>Florida</td>\n",
       "      <td>1715</td>\n",
       "      <td>1197.0</td>\n",
       "      <td>1035</td>\n",
       "    </tr>\n",
       "    <tr>\n",
       "      <th>1</th>\n",
       "      <td>1</td>\n",
       "      <td>1</td>\n",
       "      <td>1</td>\n",
       "      <td>3</td>\n",
       "      <td>AA</td>\n",
       "      <td>N372AA</td>\n",
       "      <td>13930.0</td>\n",
       "      <td>ORD</td>\n",
       "      <td>HNL</td>\n",
       "      <td>Hawaii</td>\n",
       "      <td>1100</td>\n",
       "      <td>4243.0</td>\n",
       "      <td>660</td>\n",
       "    </tr>\n",
       "    <tr>\n",
       "      <th>2</th>\n",
       "      <td>1</td>\n",
       "      <td>1</td>\n",
       "      <td>1</td>\n",
       "      <td>3</td>\n",
       "      <td>AA</td>\n",
       "      <td>N3AFAA</td>\n",
       "      <td>13930.0</td>\n",
       "      <td>ORD</td>\n",
       "      <td>BOS</td>\n",
       "      <td>Massachusetts</td>\n",
       "      <td>1520</td>\n",
       "      <td>867.0</td>\n",
       "      <td>920</td>\n",
       "    </tr>\n",
       "    <tr>\n",
       "      <th>3</th>\n",
       "      <td>1</td>\n",
       "      <td>1</td>\n",
       "      <td>1</td>\n",
       "      <td>3</td>\n",
       "      <td>AA</td>\n",
       "      <td>N3AHAA</td>\n",
       "      <td>13930.0</td>\n",
       "      <td>ORD</td>\n",
       "      <td>FLL</td>\n",
       "      <td>Florida</td>\n",
       "      <td>1900</td>\n",
       "      <td>1182.0</td>\n",
       "      <td>1140</td>\n",
       "    </tr>\n",
       "    <tr>\n",
       "      <th>4</th>\n",
       "      <td>1</td>\n",
       "      <td>1</td>\n",
       "      <td>1</td>\n",
       "      <td>3</td>\n",
       "      <td>AA</td>\n",
       "      <td>N3ANAA</td>\n",
       "      <td>13930.0</td>\n",
       "      <td>ORD</td>\n",
       "      <td>MIA</td>\n",
       "      <td>Florida</td>\n",
       "      <td>905</td>\n",
       "      <td>1197.0</td>\n",
       "      <td>545</td>\n",
       "    </tr>\n",
       "  </tbody>\n",
       "</table>\n",
       "</div>"
      ],
      "text/plain": [
       "   Quarter  Month  Day_of_Month  Day_of_Week Operating_Carrier_Code  \\\n",
       "0        1      1             1            3                     AA   \n",
       "1        1      1             1            3                     AA   \n",
       "2        1      1             1            3                     AA   \n",
       "3        1      1             1            3                     AA   \n",
       "4        1      1             1            3                     AA   \n",
       "\n",
       "  Tail_Number Origin_Airport_ID Origin_Airport_Code Destination_Airport_Code  \\\n",
       "0      N363AA           13930.0                 ORD                      MIA   \n",
       "1      N372AA           13930.0                 ORD                      HNL   \n",
       "2      N3AFAA           13930.0                 ORD                      BOS   \n",
       "3      N3AHAA           13930.0                 ORD                      FLL   \n",
       "4      N3ANAA           13930.0                 ORD                      MIA   \n",
       "\n",
       "  Destination_State_Name  Scheduled_Departure_Time  Flight_Distance_Miles  \\\n",
       "0                Florida                      1715                 1197.0   \n",
       "1                 Hawaii                      1100                 4243.0   \n",
       "2          Massachusetts                      1520                  867.0   \n",
       "3                Florida                      1900                 1182.0   \n",
       "4                Florida                       905                 1197.0   \n",
       "\n",
       "   Scheduled_Departure_Time_Minutes  \n",
       "0                              1035  \n",
       "1                               660  \n",
       "2                               920  \n",
       "3                              1140  \n",
       "4                               545  "
      ]
     },
     "execution_count": 65,
     "metadata": {},
     "output_type": "execute_result"
    }
   ],
   "source": [
    "X_train_flight.head()"
   ]
  },
  {
   "cell_type": "code",
   "execution_count": 66,
   "id": "769a1d09",
   "metadata": {},
   "outputs": [
    {
     "name": "stderr",
     "output_type": "stream",
     "text": [
      "C:\\Users\\rezan\\AppData\\Local\\Temp\\ipykernel_3232\\282332935.py:2: SettingWithCopyWarning: \n",
      "A value is trying to be set on a copy of a slice from a DataFrame.\n",
      "Try using .loc[row_indexer,col_indexer] = value instead\n",
      "\n",
      "See the caveats in the documentation: https://pandas.pydata.org/pandas-docs/stable/user_guide/indexing.html#returning-a-view-versus-a-copy\n",
      "  X_train_flight[col] = pd.Categorical(X_train_flight[col])\n",
      "C:\\Users\\rezan\\AppData\\Local\\Temp\\ipykernel_3232\\282332935.py:3: SettingWithCopyWarning: \n",
      "A value is trying to be set on a copy of a slice from a DataFrame.\n",
      "Try using .loc[row_indexer,col_indexer] = value instead\n",
      "\n",
      "See the caveats in the documentation: https://pandas.pydata.org/pandas-docs/stable/user_guide/indexing.html#returning-a-view-versus-a-copy\n",
      "  X_val_flight[col] = pd.Categorical(X_val_flight[col], categories=X_train_flight[col].cat.categories)\n",
      "C:\\Users\\rezan\\AppData\\Local\\Temp\\ipykernel_3232\\282332935.py:4: SettingWithCopyWarning: \n",
      "A value is trying to be set on a copy of a slice from a DataFrame.\n",
      "Try using .loc[row_indexer,col_indexer] = value instead\n",
      "\n",
      "See the caveats in the documentation: https://pandas.pydata.org/pandas-docs/stable/user_guide/indexing.html#returning-a-view-versus-a-copy\n",
      "  X_test_flight[col] = pd.Categorical(X_test_flight[col], categories=X_train_flight[col].cat.categories)\n"
     ]
    }
   ],
   "source": [
    "\n",
    "for col in X_train_flight.select_dtypes(include=['category']).columns:\n",
    "    X_train_flight[col] = pd.Categorical(X_train_flight[col])\n",
    "    X_val_flight[col] = pd.Categorical(X_val_flight[col], categories=X_train_flight[col].cat.categories)\n",
    "    X_test_flight[col] = pd.Categorical(X_test_flight[col], categories=X_train_flight[col].cat.categories)\n",
    "\n",
    "\n",
    "X_train_flight = X_train_flight.apply(lambda x: x.cat.codes if x.dtype.name == 'category' else x)\n",
    "X_val_flight = X_val_flight.apply(lambda x: x.cat.codes if x.dtype.name == 'category' else x)\n",
    "X_test_flight = X_test_flight.apply(lambda x: x.cat.codes if x.dtype.name == 'category' else x)\n"
   ]
  },
  {
   "cell_type": "code",
   "execution_count": 67,
   "id": "a8287b54",
   "metadata": {},
   "outputs": [],
   "source": [
    "\n",
    "smote = SMOTE(random_state=42)\n",
    "X_train_flight_smote, y_train_flight_smote = smote.fit_resample(X_train_flight, y_train_flight)"
   ]
  },
  {
   "cell_type": "code",
   "execution_count": 68,
   "id": "30c94a6a",
   "metadata": {},
   "outputs": [
    {
     "data": {
      "text/plain": [
       "DecisionTreeClassifier(max_depth=5, max_leaf_nodes=6,\n",
       "                       min_impurity_decrease=0.01, random_state=42)"
      ]
     },
     "execution_count": 68,
     "metadata": {},
     "output_type": "execute_result"
    }
   ],
   "source": [
    "\n",
    "jan_clf_flight = DecisionTreeClassifier(\n",
    "    max_depth=5,\n",
    "    max_leaf_nodes=6,\n",
    "    min_impurity_decrease=0.01,\n",
    "    random_state=42\n",
    ")\n",
    "\n",
    "\n",
    "jan_clf_flight.fit(X_train_flight_smote, y_train_flight_smote)\n",
    "\n"
   ]
  },
  {
   "cell_type": "code",
   "execution_count": 69,
   "id": "fb4bb8de",
   "metadata": {},
   "outputs": [
    {
     "name": "stdout",
     "output_type": "stream",
     "text": [
      "The accuracy for the training set is: 0.6\n"
     ]
    }
   ],
   "source": [
    "\n",
    "y_train_flight_pred = jan_clf_flight.predict(X_train_flight_smote)\n",
    "\n",
    "\n",
    "accuracy_training_flight = round(accuracy_score(y_train_flight_smote, y_train_flight_pred), 2)\n",
    "\n",
    "print(\"The accuracy for the training set is:\", accuracy_training_flight)\n"
   ]
  },
  {
   "cell_type": "code",
   "execution_count": 70,
   "id": "09159988",
   "metadata": {},
   "outputs": [
    {
     "data": {
      "image/png": "[encoded data removed]",
      "text/plain": [
       "<Figure size 576x432 with 2 Axes>"
      ]
     },
     "metadata": {
      "needs_background": "light"
     },
     "output_type": "display_data"
    }
   ],
   "source": [
    "cm_training_flight = confusion_matrix(y_train_flight_smote, y_train_flight_pred)\n",
    "\n",
    "# Plot the confusion matrix\n",
    "plt.figure(figsize=(8, 6))\n",
    "sns.heatmap(cm_training_flight, annot=True, fmt='d', cmap='Blues',\n",
    "            xticklabels=jan_clf_flight.classes_, \n",
    "            yticklabels=jan_clf_flight.classes_)\n",
    "plt.title('Confusion Matrix (Training Set)')\n",
    "plt.xlabel('Predicted Labels')\n",
    "plt.ylabel('True Labels')\n",
    "plt.show()"
   ]
  },
  {
   "cell_type": "code",
   "execution_count": 71,
   "id": "2acee782",
   "metadata": {},
   "outputs": [
    {
     "name": "stdout",
     "output_type": "stream",
     "text": [
      "The accuracy for the validation set is: 0.38\n"
     ]
    }
   ],
   "source": [
    "\n",
    "y_val_flight_pred = jan_clf_flight.predict(X_val_flight)\n",
    "\n",
    "\n",
    "accuracy_validation_flight = round(accuracy_score(y_val_flight, y_val_flight_pred), 2)\n",
    "\n",
    "\n",
    "print(\"The accuracy for the validation set is:\", accuracy_validation_flight)\n"
   ]
  },
  {
   "cell_type": "code",
   "execution_count": 72,
   "id": "7dd07b05",
   "metadata": {},
   "outputs": [
    {
     "data": {
      "image/png": "[encoded data removed]",
      "text/plain": [
       "<Figure size 576x432 with 2 Axes>"
      ]
     },
     "metadata": {
      "needs_background": "light"
     },
     "output_type": "display_data"
    }
   ],
   "source": [
    "cm_validation_flight = confusion_matrix(y_val_flight, y_val_flight_pred)\n",
    "\n",
    "plt.figure(figsize=(8, 6))\n",
    "sns.heatmap(cm_validation_flight, annot=True, fmt='d', cmap='Blues',\n",
    "            xticklabels=jan_clf_flight.classes_, \n",
    "            yticklabels=jan_clf_flight.classes_)\n",
    "plt.title('Confusion Matrix (Validation Set)')\n",
    "plt.xlabel('Predicted Labels')\n",
    "plt.ylabel('True Labels')\n",
    "plt.show()"
   ]
  },
  {
   "cell_type": "code",
   "execution_count": 73,
   "id": "56d2ceff",
   "metadata": {},
   "outputs": [
    {
     "name": "stdout",
     "output_type": "stream",
     "text": [
      "The accuracy for the test set is: 0.51\n"
     ]
    }
   ],
   "source": [
    "\n",
    "y_test_flight_pred = jan_clf_flight.predict(X_test_flight)\n",
    "\n",
    "accuracy_test_flight = round(accuracy_score(y_test_flight, y_test_flight_pred), 2)\n",
    "\n",
    "\n",
    "print(\"The accuracy for the test set is:\", accuracy_test_flight)\n"
   ]
  },
  {
   "cell_type": "code",
   "execution_count": 74,
   "id": "5a4b54a0",
   "metadata": {},
   "outputs": [
    {
     "data": {
      "image/png": "[encoded data removed]",
      "text/plain": [
       "<Figure size 576x432 with 2 Axes>"
      ]
     },
     "metadata": {
      "needs_background": "light"
     },
     "output_type": "display_data"
    }
   ],
   "source": [
    "\n",
    "cm_test_flight = confusion_matrix(y_test_flight, y_test_flight_pred)\n",
    "\n",
    "plt.figure(figsize=(8, 6))\n",
    "sns.heatmap(cm_test_flight, annot=True, fmt='d', cmap='Blues',\n",
    "            xticklabels=jan_clf_flight.classes_, \n",
    "            yticklabels=jan_clf_flight.classes_)\n",
    "plt.title('Confusion Matrix (Test Set)')\n",
    "plt.xlabel('Predicted Labels')\n",
    "plt.ylabel('True Labels')\n",
    "plt.show()\n"
   ]
  },
  {
   "cell_type": "code",
   "execution_count": 75,
   "id": "22c4125e",
   "metadata": {},
   "outputs": [
    {
     "name": "stdout",
     "output_type": "stream",
     "text": [
      "Classification Report (Training Set - Flight Data):\n",
      "              precision    recall  f1-score   support\n",
      "\n",
      "           0       0.69      0.37      0.48    115230\n",
      "           1       0.57      0.83      0.68    115230\n",
      "\n",
      "    accuracy                           0.60    230460\n",
      "   macro avg       0.63      0.60      0.58    230460\n",
      "weighted avg       0.63      0.60      0.58    230460\n",
      "\n"
     ]
    }
   ],
   "source": [
    "y_train_flight_pred = jan_clf_flight.predict(X_train_flight_smote)\n",
    "print(\"Classification Report (Training Set - Flight Data):\")\n",
    "print(classification_report(y_train_flight_smote, y_train_flight_pred))"
   ]
  },
  {
   "cell_type": "code",
   "execution_count": 76,
   "id": "07bdd3c6",
   "metadata": {},
   "outputs": [
    {
     "name": "stdout",
     "output_type": "stream",
     "text": [
      "\n",
      "Classification Report (Validation Set - Flight Data):\n",
      "              precision    recall  f1-score   support\n",
      "\n",
      "           0       0.84      0.29      0.44     47010\n",
      "           1       0.19      0.75      0.30     10370\n",
      "\n",
      "    accuracy                           0.38     57380\n",
      "   macro avg       0.51      0.52      0.37     57380\n",
      "weighted avg       0.72      0.38      0.41     57380\n",
      "\n"
     ]
    }
   ],
   "source": [
    "y_val_flight_pred = jan_clf_flight.predict(X_val_flight)\n",
    "print(\"\\nClassification Report (Validation Set - Flight Data):\")\n",
    "print(classification_report(y_val_flight, y_val_flight_pred))"
   ]
  },
  {
   "cell_type": "code",
   "execution_count": 77,
   "id": "480f172c",
   "metadata": {},
   "outputs": [
    {
     "name": "stdout",
     "output_type": "stream",
     "text": [
      "\n",
      "Classification Report (Test Set - Flight Data):\n",
      "              precision    recall  f1-score   support\n",
      "\n",
      "           0       0.83      0.40      0.54     18140\n",
      "           1       0.34      0.78      0.47      7053\n",
      "\n",
      "    accuracy                           0.51     25193\n",
      "   macro avg       0.58      0.59      0.51     25193\n",
      "weighted avg       0.69      0.51      0.52     25193\n",
      "\n"
     ]
    }
   ],
   "source": [
    "y_test_flight_pred = jan_clf_flight.predict(X_test_flight)\n",
    "print(\"\\nClassification Report (Test Set - Flight Data):\")\n",
    "print(classification_report(y_test_flight, y_test_flight_pred))"
   ]
  },
  {
   "cell_type": "code",
   "execution_count": 78,
   "id": "3e86202c",
   "metadata": {},
   "outputs": [
    {
     "data": {
      "image/png": "[encoded data removed]",
      "text/plain": [
       "<Figure size 720x432 with 1 Axes>"
      ]
     },
     "metadata": {
      "needs_background": "light"
     },
     "output_type": "display_data"
    }
   ],
   "source": [
    "feature_importance_flight = pd.DataFrame({\n",
    "    'Feature': X_train_flight_smote.columns,\n",
    "    'Importance': jan_clf_flight.feature_importances_\n",
    "}).sort_values(by='Importance', ascending=False)\n",
    "\n",
    "plt.figure(figsize=(10, 6))\n",
    "sns.barplot(x='Importance', y='Feature', data=feature_importance_flight, color='blue')\n",
    "plt.title('Feature Importance (Flight Data)')\n",
    "plt.xlabel('Importance')\n",
    "plt.ylabel('Feature')\n",
    "plt.show()"
   ]
  },
  {
   "cell_type": "markdown",
   "id": "b48fe916",
   "metadata": {},
   "source": [
    "# Summary of only flight data model\n",
    "- Training accuracy 0.6\n",
    "- Validation accuracy 0.38\n",
    "- Testing accuracy 0.51\n",
    "\n",
    "## Most important features\n",
    "- Day of Month\n",
    "- Scheduled Departure Time"
   ]
  },
  {
   "cell_type": "markdown",
   "id": "3213b710",
   "metadata": {},
   "source": [
    "## Model using only weather data"
   ]
  },
  {
   "cell_type": "code",
   "execution_count": 79,
   "id": "a80197ea",
   "metadata": {},
   "outputs": [],
   "source": [
    "weather_columns = [\n",
    "    \"Air_Temperature_Fahrenheit\", \"Dew_Point_Temperature_Fahrenheit\",\n",
    "    \"Relative_Humidity_Percent\", \"Wind_Direction_Degrees\", \"Wind_Speed_Knots\",\n",
    "    \"Hourly_Precipitation_Inches\", \"Pressure_Altimeter_Inches\",\n",
    "    \"Sea_Level_Pressure_Millibar\", \"Visibility_Miles\", \"Sky_Cover_Level_1\",\n",
    "    \"Sky_Level_1_Altitude_Feet\", \"Apparent_Temperature_Fahrenheit\"\n",
    "]\n"
   ]
  },
  {
   "cell_type": "code",
   "execution_count": 80,
   "id": "9b5ed38b",
   "metadata": {},
   "outputs": [],
   "source": [
    "X_train_weather = train_df[weather_columns]\n",
    "y_train_weather = train_df['Target']\n",
    "X_val_weather = val_df[weather_columns]\n",
    "y_val_weather = val_df['Target']\n",
    "X_test_weather = test_df[weather_columns]\n",
    "y_test_weather = test_df['Target']"
   ]
  },
  {
   "cell_type": "code",
   "execution_count": 81,
   "id": "69f25379",
   "metadata": {},
   "outputs": [
    {
     "name": "stdout",
     "output_type": "stream",
     "text": [
      "<class 'pandas.core.frame.DataFrame'>\n",
      "RangeIndex: 158523 entries, 0 to 158522\n",
      "Data columns (total 12 columns):\n",
      " #   Column                            Non-Null Count   Dtype   \n",
      "---  ------                            --------------   -----   \n",
      " 0   Air_Temperature_Fahrenheit        158523 non-null  float32 \n",
      " 1   Dew_Point_Temperature_Fahrenheit  158523 non-null  float32 \n",
      " 2   Relative_Humidity_Percent         158523 non-null  float32 \n",
      " 3   Wind_Direction_Degrees            158523 non-null  float32 \n",
      " 4   Wind_Speed_Knots                  158523 non-null  float32 \n",
      " 5   Hourly_Precipitation_Inches       158523 non-null  float32 \n",
      " 6   Pressure_Altimeter_Inches         158523 non-null  float32 \n",
      " 7   Sea_Level_Pressure_Millibar       158523 non-null  float32 \n",
      " 8   Visibility_Miles                  158523 non-null  float32 \n",
      " 9   Sky_Cover_Level_1                 158523 non-null  category\n",
      " 10  Sky_Level_1_Altitude_Feet         158523 non-null  float32 \n",
      " 11  Apparent_Temperature_Fahrenheit   158523 non-null  float32 \n",
      "dtypes: category(1), float32(11)\n",
      "memory usage: 6.8 MB\n"
     ]
    }
   ],
   "source": [
    "X_train_weather.info()"
   ]
  },
  {
   "cell_type": "code",
   "execution_count": 82,
   "id": "f717980a",
   "metadata": {},
   "outputs": [
    {
     "data": {
      "text/html": [
       "<div>\n",
       "<style scoped>\n",
       "    .dataframe tbody tr th:only-of-type {\n",
       "        vertical-align: middle;\n",
       "    }\n",
       "\n",
       "    .dataframe tbody tr th {\n",
       "        vertical-align: top;\n",
       "    }\n",
       "\n",
       "    .dataframe thead th {\n",
       "        text-align: right;\n",
       "    }\n",
       "</style>\n",
       "<table border=\"1\" class=\"dataframe\">\n",
       "  <thead>\n",
       "    <tr style=\"text-align: right;\">\n",
       "      <th></th>\n",
       "      <th>Air_Temperature_Fahrenheit</th>\n",
       "      <th>Dew_Point_Temperature_Fahrenheit</th>\n",
       "      <th>Relative_Humidity_Percent</th>\n",
       "      <th>Wind_Direction_Degrees</th>\n",
       "      <th>Wind_Speed_Knots</th>\n",
       "      <th>Hourly_Precipitation_Inches</th>\n",
       "      <th>Pressure_Altimeter_Inches</th>\n",
       "      <th>Sea_Level_Pressure_Millibar</th>\n",
       "      <th>Visibility_Miles</th>\n",
       "      <th>Sky_Cover_Level_1</th>\n",
       "      <th>Sky_Level_1_Altitude_Feet</th>\n",
       "      <th>Apparent_Temperature_Fahrenheit</th>\n",
       "    </tr>\n",
       "  </thead>\n",
       "  <tbody>\n",
       "    <tr>\n",
       "      <th>0</th>\n",
       "      <td>21.00</td>\n",
       "      <td>15.00</td>\n",
       "      <td>77.449997</td>\n",
       "      <td>60.0</td>\n",
       "      <td>14.0</td>\n",
       "      <td>0.020000</td>\n",
       "      <td>30.0</td>\n",
       "      <td>1025.099976</td>\n",
       "      <td>0.625</td>\n",
       "      <td>VV</td>\n",
       "      <td>1200.0</td>\n",
       "      <td>7.26</td>\n",
       "    </tr>\n",
       "    <tr>\n",
       "      <th>1</th>\n",
       "      <td>14.25</td>\n",
       "      <td>9.25</td>\n",
       "      <td>79.980003</td>\n",
       "      <td>350.0</td>\n",
       "      <td>7.0</td>\n",
       "      <td>0.000000</td>\n",
       "      <td>30.0</td>\n",
       "      <td>1025.099976</td>\n",
       "      <td>7.750</td>\n",
       "      <td>OVC</td>\n",
       "      <td>1300.0</td>\n",
       "      <td>3.17</td>\n",
       "    </tr>\n",
       "    <tr>\n",
       "      <th>2</th>\n",
       "      <td>21.00</td>\n",
       "      <td>15.00</td>\n",
       "      <td>77.449997</td>\n",
       "      <td>70.0</td>\n",
       "      <td>12.0</td>\n",
       "      <td>0.026667</td>\n",
       "      <td>30.0</td>\n",
       "      <td>1025.699951</td>\n",
       "      <td>0.750</td>\n",
       "      <td>BKN</td>\n",
       "      <td>1300.0</td>\n",
       "      <td>8.03</td>\n",
       "    </tr>\n",
       "    <tr>\n",
       "      <th>3</th>\n",
       "      <td>21.00</td>\n",
       "      <td>15.00</td>\n",
       "      <td>77.449997</td>\n",
       "      <td>50.0</td>\n",
       "      <td>11.0</td>\n",
       "      <td>0.027500</td>\n",
       "      <td>30.0</td>\n",
       "      <td>1024.099976</td>\n",
       "      <td>0.750</td>\n",
       "      <td>VV</td>\n",
       "      <td>1400.0</td>\n",
       "      <td>8.45</td>\n",
       "    </tr>\n",
       "    <tr>\n",
       "      <th>4</th>\n",
       "      <td>12.50</td>\n",
       "      <td>7.50</td>\n",
       "      <td>79.830002</td>\n",
       "      <td>270.0</td>\n",
       "      <td>8.0</td>\n",
       "      <td>0.001250</td>\n",
       "      <td>30.0</td>\n",
       "      <td>1025.500000</td>\n",
       "      <td>6.000</td>\n",
       "      <td>OVC</td>\n",
       "      <td>1200.0</td>\n",
       "      <td>0.34</td>\n",
       "    </tr>\n",
       "  </tbody>\n",
       "</table>\n",
       "</div>"
      ],
      "text/plain": [
       "   Air_Temperature_Fahrenheit  Dew_Point_Temperature_Fahrenheit  \\\n",
       "0                       21.00                             15.00   \n",
       "1                       14.25                              9.25   \n",
       "2                       21.00                             15.00   \n",
       "3                       21.00                             15.00   \n",
       "4                       12.50                              7.50   \n",
       "\n",
       "   Relative_Humidity_Percent  Wind_Direction_Degrees  Wind_Speed_Knots  \\\n",
       "0                  77.449997                    60.0              14.0   \n",
       "1                  79.980003                   350.0               7.0   \n",
       "2                  77.449997                    70.0              12.0   \n",
       "3                  77.449997                    50.0              11.0   \n",
       "4                  79.830002                   270.0               8.0   \n",
       "\n",
       "   Hourly_Precipitation_Inches  Pressure_Altimeter_Inches  \\\n",
       "0                     0.020000                       30.0   \n",
       "1                     0.000000                       30.0   \n",
       "2                     0.026667                       30.0   \n",
       "3                     0.027500                       30.0   \n",
       "4                     0.001250                       30.0   \n",
       "\n",
       "   Sea_Level_Pressure_Millibar  Visibility_Miles Sky_Cover_Level_1  \\\n",
       "0                  1025.099976             0.625               VV    \n",
       "1                  1025.099976             7.750               OVC   \n",
       "2                  1025.699951             0.750               BKN   \n",
       "3                  1024.099976             0.750               VV    \n",
       "4                  1025.500000             6.000               OVC   \n",
       "\n",
       "   Sky_Level_1_Altitude_Feet  Apparent_Temperature_Fahrenheit  \n",
       "0                     1200.0                             7.26  \n",
       "1                     1300.0                             3.17  \n",
       "2                     1300.0                             8.03  \n",
       "3                     1400.0                             8.45  \n",
       "4                     1200.0                             0.34  "
      ]
     },
     "execution_count": 82,
     "metadata": {},
     "output_type": "execute_result"
    }
   ],
   "source": [
    "X_train_weather.head()"
   ]
  },
  {
   "cell_type": "code",
   "execution_count": 83,
   "id": "f9dff468",
   "metadata": {},
   "outputs": [
    {
     "name": "stderr",
     "output_type": "stream",
     "text": [
      "C:\\Users\\rezan\\AppData\\Local\\Temp\\ipykernel_3232\\1109398252.py:2: SettingWithCopyWarning: \n",
      "A value is trying to be set on a copy of a slice from a DataFrame.\n",
      "Try using .loc[row_indexer,col_indexer] = value instead\n",
      "\n",
      "See the caveats in the documentation: https://pandas.pydata.org/pandas-docs/stable/user_guide/indexing.html#returning-a-view-versus-a-copy\n",
      "  X_train_weather[col] = pd.Categorical(X_train_weather[col])\n",
      "C:\\Users\\rezan\\AppData\\Local\\Temp\\ipykernel_3232\\1109398252.py:3: SettingWithCopyWarning: \n",
      "A value is trying to be set on a copy of a slice from a DataFrame.\n",
      "Try using .loc[row_indexer,col_indexer] = value instead\n",
      "\n",
      "See the caveats in the documentation: https://pandas.pydata.org/pandas-docs/stable/user_guide/indexing.html#returning-a-view-versus-a-copy\n",
      "  X_val_weather[col] = pd.Categorical(X_val_weather[col], categories=X_train_weather[col].cat.categories)\n",
      "C:\\Users\\rezan\\AppData\\Local\\Temp\\ipykernel_3232\\1109398252.py:4: SettingWithCopyWarning: \n",
      "A value is trying to be set on a copy of a slice from a DataFrame.\n",
      "Try using .loc[row_indexer,col_indexer] = value instead\n",
      "\n",
      "See the caveats in the documentation: https://pandas.pydata.org/pandas-docs/stable/user_guide/indexing.html#returning-a-view-versus-a-copy\n",
      "  X_test_weather[col] = pd.Categorical(X_test_weather[col], categories=X_train_weather[col].cat.categories)\n"
     ]
    }
   ],
   "source": [
    "\n",
    "for col in X_train_weather.select_dtypes(include=['category']).columns:\n",
    "    X_train_weather[col] = pd.Categorical(X_train_weather[col])\n",
    "    X_val_weather[col] = pd.Categorical(X_val_weather[col], categories=X_train_weather[col].cat.categories)\n",
    "    X_test_weather[col] = pd.Categorical(X_test_weather[col], categories=X_train_weather[col].cat.categories)\n",
    "\n",
    "X_train_weather = X_train_weather.apply(lambda x: x.cat.codes if x.dtype.name == 'category' else x)\n",
    "X_val_weather = X_val_weather.apply(lambda x: x.cat.codes if x.dtype.name == 'category' else x)\n",
    "X_test_weather = X_test_weather.apply(lambda x: x.cat.codes if x.dtype.name == 'category' else x)\n"
   ]
  },
  {
   "cell_type": "code",
   "execution_count": 84,
   "id": "3790e72e",
   "metadata": {},
   "outputs": [],
   "source": [
    "smote = SMOTE(random_state=42)\n",
    "\n",
    "X_train_weather_smote, y_train_weather_smote = smote.fit_resample(X_train_weather, y_train_weather)"
   ]
  },
  {
   "cell_type": "code",
   "execution_count": 85,
   "id": "73b9d5b3",
   "metadata": {},
   "outputs": [
    {
     "data": {
      "text/plain": [
       "DecisionTreeClassifier(max_depth=5, max_leaf_nodes=6,\n",
       "                       min_impurity_decrease=0.01, random_state=42)"
      ]
     },
     "execution_count": 85,
     "metadata": {},
     "output_type": "execute_result"
    }
   ],
   "source": [
    "jan_clf_weather = DecisionTreeClassifier(\n",
    "    max_depth=5,\n",
    "    max_leaf_nodes=6,\n",
    "    min_impurity_decrease=0.01,\n",
    "    random_state=42\n",
    ")\n",
    "\n",
    "\n",
    "jan_clf_weather.fit(X_train_weather_smote, y_train_weather_smote)\n"
   ]
  },
  {
   "cell_type": "code",
   "execution_count": 86,
   "id": "7dddf8ca",
   "metadata": {},
   "outputs": [
    {
     "name": "stdout",
     "output_type": "stream",
     "text": [
      "The accuracy for the weather-specific training set is: 0.62\n"
     ]
    }
   ],
   "source": [
    "y_train_weather_pred = jan_clf_weather.predict(X_train_weather_smote)\n",
    "\n",
    "accuracy_training_weather = round(accuracy_score(y_train_weather_smote, y_train_weather_pred), 2)\n",
    "\n",
    "\n",
    "print(\"The accuracy for the weather-specific training set is:\", accuracy_training_weather)"
   ]
  },
  {
   "cell_type": "code",
   "execution_count": 87,
   "id": "98b9368b",
   "metadata": {},
   "outputs": [
    {
     "data": {
      "image/png": "[encoded data removed]",
      "text/plain": [
       "<Figure size 576x432 with 2 Axes>"
      ]
     },
     "metadata": {
      "needs_background": "light"
     },
     "output_type": "display_data"
    }
   ],
   "source": [
    "cm_training_weather = confusion_matrix(y_train_weather_smote, y_train_weather_pred)\n",
    "\n",
    "\n",
    "plt.figure(figsize=(8, 6))\n",
    "sns.heatmap(cm_training_weather, annot=True, fmt='d', cmap='Blues',\n",
    "            xticklabels=jan_clf_weather.classes_, \n",
    "            yticklabels=jan_clf_weather.classes_)\n",
    "plt.title('Confusion Matrix (Training Set - Weather Data)')\n",
    "plt.xlabel('Predicted Labels')\n",
    "plt.ylabel('True Labels')\n",
    "plt.show()"
   ]
  },
  {
   "cell_type": "code",
   "execution_count": 88,
   "id": "b79ee651",
   "metadata": {},
   "outputs": [
    {
     "name": "stdout",
     "output_type": "stream",
     "text": [
      "The accuracy for the weather-specific validation set is: 0.57\n"
     ]
    }
   ],
   "source": [
    "y_val_weather_pred = jan_clf_weather.predict(X_val_weather)\n",
    "accuracy_validation_weather = round(accuracy_score(y_val_weather, y_val_weather_pred), 2)\n",
    "print(\"The accuracy for the weather-specific validation set is:\", accuracy_validation_weather)"
   ]
  },
  {
   "cell_type": "code",
   "execution_count": 89,
   "id": "7f5c988d",
   "metadata": {},
   "outputs": [
    {
     "data": {
      "image/png": "[encoded data removed]",
      "text/plain": [
       "<Figure size 576x432 with 2 Axes>"
      ]
     },
     "metadata": {
      "needs_background": "light"
     },
     "output_type": "display_data"
    }
   ],
   "source": [
    "cm_validation_weather = confusion_matrix(y_val_weather, y_val_weather_pred)\n",
    "\n",
    "# Plot the confusion matrix\n",
    "plt.figure(figsize=(8, 6))\n",
    "sns.heatmap(cm_validation_weather, annot=True, fmt='d', cmap='Blues',\n",
    "            xticklabels=jan_clf_weather.classes_, \n",
    "            yticklabels=jan_clf_weather.classes_)\n",
    "plt.title('Confusion Matrix (Validation Set - Weather Data)')\n",
    "plt.xlabel('Predicted Labels')\n",
    "plt.ylabel('True Labels')\n",
    "plt.show()"
   ]
  },
  {
   "cell_type": "code",
   "execution_count": 90,
   "id": "7a692a6a",
   "metadata": {},
   "outputs": [
    {
     "name": "stdout",
     "output_type": "stream",
     "text": [
      "The accuracy for the weather-specific test set is: 0.56\n"
     ]
    }
   ],
   "source": [
    "y_test_weather_pred = jan_clf_weather.predict(X_test_weather)\n",
    "accuracy_test_weather = round(accuracy_score(y_test_weather, y_test_weather_pred), 2)\n",
    "print(\"The accuracy for the weather-specific test set is:\", accuracy_test_weather)"
   ]
  },
  {
   "cell_type": "code",
   "execution_count": 91,
   "id": "13a028c0",
   "metadata": {},
   "outputs": [
    {
     "data": {
      "image/png": "[encoded data removed]",
      "text/plain": [
       "<Figure size 576x432 with 2 Axes>"
      ]
     },
     "metadata": {
      "needs_background": "light"
     },
     "output_type": "display_data"
    }
   ],
   "source": [
    "cm_test_weather = confusion_matrix(y_test_weather, y_test_weather_pred)\n",
    "\n",
    "plt.figure(figsize=(8, 6))\n",
    "sns.heatmap(cm_test_weather, annot=True, fmt='d', cmap='Blues',\n",
    "            xticklabels=jan_clf_weather.classes_, \n",
    "            yticklabels=jan_clf_weather.classes_)\n",
    "plt.title('Confusion Matrix (Test Set - Weather Data)')\n",
    "plt.xlabel('Predicted Labels')\n",
    "plt.ylabel('True Labels')\n",
    "plt.show()"
   ]
  },
  {
   "cell_type": "code",
   "execution_count": 92,
   "id": "f011efd8",
   "metadata": {},
   "outputs": [
    {
     "name": "stdout",
     "output_type": "stream",
     "text": [
      "Classification Report (Training Set - Weather Data):\n",
      "              precision    recall  f1-score   support\n",
      "\n",
      "           0       0.65      0.51      0.57    115230\n",
      "           1       0.60      0.73      0.66    115230\n",
      "\n",
      "    accuracy                           0.62    230460\n",
      "   macro avg       0.63      0.62      0.62    230460\n",
      "weighted avg       0.63      0.62      0.62    230460\n",
      "\n"
     ]
    }
   ],
   "source": [
    "y_train_weather_pred = jan_clf_weather.predict(X_train_weather_smote)\n",
    "print(\"Classification Report (Training Set - Weather Data):\")\n",
    "print(classification_report(y_train_weather_smote, y_train_weather_pred))"
   ]
  },
  {
   "cell_type": "code",
   "execution_count": 93,
   "id": "3150775a",
   "metadata": {},
   "outputs": [
    {
     "name": "stdout",
     "output_type": "stream",
     "text": [
      "\n",
      "Classification Report (Validation Set - Weather Data):\n",
      "              precision    recall  f1-score   support\n",
      "\n",
      "           0       0.87      0.56      0.68     47010\n",
      "           1       0.23      0.61      0.34     10370\n",
      "\n",
      "    accuracy                           0.57     57380\n",
      "   macro avg       0.55      0.58      0.51     57380\n",
      "weighted avg       0.75      0.57      0.62     57380\n",
      "\n"
     ]
    }
   ],
   "source": [
    "y_val_weather_pred = jan_clf_weather.predict(X_val_weather)\n",
    "print(\"\\nClassification Report (Validation Set - Weather Data):\")\n",
    "print(classification_report(y_val_weather, y_val_weather_pred))"
   ]
  },
  {
   "cell_type": "code",
   "execution_count": 94,
   "id": "6a8294c9",
   "metadata": {},
   "outputs": [
    {
     "name": "stdout",
     "output_type": "stream",
     "text": [
      "\n",
      "Classification Report (Test Set - Weather Data):\n",
      "              precision    recall  f1-score   support\n",
      "\n",
      "           0       0.81      0.51      0.63     18140\n",
      "           1       0.36      0.70      0.47      7053\n",
      "\n",
      "    accuracy                           0.56     25193\n",
      "   macro avg       0.59      0.61      0.55     25193\n",
      "weighted avg       0.69      0.56      0.58     25193\n",
      "\n"
     ]
    }
   ],
   "source": [
    "y_test_weather_pred = jan_clf_weather.predict(X_test_weather)\n",
    "print(\"\\nClassification Report (Test Set - Weather Data):\")\n",
    "print(classification_report(y_test_weather, y_test_weather_pred))"
   ]
  },
  {
   "cell_type": "code",
   "execution_count": 95,
   "id": "d2f7573c",
   "metadata": {},
   "outputs": [
    {
     "data": {
      "image/png": "[encoded data removed]",
      "text/plain": [
       "<Figure size 720x432 with 1 Axes>"
      ]
     },
     "metadata": {
      "needs_background": "light"
     },
     "output_type": "display_data"
    }
   ],
   "source": [
    "feature_importance_weather = pd.DataFrame({\n",
    "    'Feature': X_train_weather_smote.columns,\n",
    "    'Importance': jan_clf_weather.feature_importances_\n",
    "}).sort_values(by='Importance', ascending=False)\n",
    "\n",
    "# Plot feature importance\n",
    "plt.figure(figsize=(10, 6))\n",
    "sns.barplot(x='Importance', y='Feature', data=feature_importance_weather, color='blue')\n",
    "plt.title('Feature Importance (Weather Data)')\n",
    "plt.xlabel('Importance')\n",
    "plt.ylabel('Feature')\n",
    "plt.show()"
   ]
  },
  {
   "cell_type": "markdown",
   "id": "46de8c15",
   "metadata": {},
   "source": [
    "## Summary of the weather only data model\n",
    "- Training Accuracy 0.62\n",
    "- Validation Accuracy 0.57\n",
    "- Testing Accuracy 0.56\n",
    "\n",
    "## Most important features\n",
    "- Apparent Temperature Fahrenheit\n",
    "- Hourly Precipitation Inches\n"
   ]
  }
 ],
 "metadata": {
  "kernelspec": {
   "display_name": "Python 3 (ipykernel)",
   "language": "python",
   "name": "python3"
  },
  "language_info": {
   "codemirror_mode": {
    "name": "ipython",
    "version": 3
   },
   "file_extension": ".py",
   "mimetype": "text/x-python",
   "name": "python",
   "nbconvert_exporter": "python",
   "pygments_lexer": "ipython3",
   "version": "3.9.12"
  }
 },
 "nbformat": 4,
 "nbformat_minor": 5
}
